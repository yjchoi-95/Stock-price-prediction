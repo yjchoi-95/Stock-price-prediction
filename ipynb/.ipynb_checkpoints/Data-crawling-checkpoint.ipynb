{
 "cells": [
  {
   "cell_type": "markdown",
   "id": "1b0e539c-c802-4396-a1c5-faf502a1feec",
   "metadata": {},
   "source": [
    "## Import"
   ]
  },
  {
   "cell_type": "code",
   "execution_count": 1,
   "id": "94556c6e-df9a-4c88-af24-eaf46e1aaa75",
   "metadata": {},
   "outputs": [],
   "source": [
    "from bs4 import BeautifulSoup\n",
    "from selenium import webdriver\n",
    "from selenium.common.exceptions import NoSuchElementException\n",
    "from selenium.webdriver.common.keys import Keys\n",
    "from tqdm import tqdm\n",
    "\n",
    "import numpy as np\n",
    "import pandas as pd\n",
    "import re, time\n",
    "import requests\n",
    "import pickle"
   ]
  },
  {
   "cell_type": "code",
   "execution_count": null,
   "id": "7c4b1376-aa2e-4326-888b-31dc9406ead7",
   "metadata": {},
   "outputs": [],
   "source": []
  },
  {
   "cell_type": "markdown",
   "id": "0651d7a0-8f11-43b4-9467-9fcc234d6e7f",
   "metadata": {},
   "source": [
    "* crawling"
   ]
  },
  {
   "cell_type": "code",
   "execution_count": 2,
   "id": "34aefcca-30e6-44c0-bf58-45437d66f633",
   "metadata": {},
   "outputs": [
    {
     "name": "stderr",
     "output_type": "stream",
     "text": [
      "<ipython-input-2-b38ee1fd7cba>:6: DeprecationWarning: executable_path has been deprecated, please pass in a Service object\n",
      "  driver = webdriver.Chrome(\"C:\\\\Users\\\\PC0\\\\Desktop\\\\chromedriver.exe\", options=options)\n"
     ]
    }
   ],
   "source": [
    "options = webdriver.ChromeOptions()\n",
    "\n",
    "options.add_argument(\"--disable-blink-features=AutomationControlled\")\n",
    "options.add_argument(\"user-agent=Mozilla/5.0 (Windows NT 10.0; Win64; x64) AppleWebKit/537.36 (KHTML, like Gecko) Chrome/98.0.4758.82 Safari/537.36\")\n",
    "\n",
    "driver = webdriver.Chrome(\"C:\\\\Users\\\\PC0\\\\Desktop\\\\chromedriver.exe\", options=options)"
   ]
  },
  {
   "cell_type": "code",
   "execution_count": null,
   "id": "379acdb9-a331-4dc2-87a1-a74f795ca205",
   "metadata": {},
   "outputs": [],
   "source": []
  },
  {
   "cell_type": "markdown",
   "id": "2c8b26f8-1950-43fb-8319-6e3cad5ea919",
   "metadata": {},
   "source": [
    "* index"
   ]
  },
  {
   "cell_type": "code",
   "execution_count": 37,
   "id": "5c302a63-9429-4cd9-815e-7910cbb26cbf",
   "metadata": {},
   "outputs": [],
   "source": [
    "start_day = \"2012/01/01\""
   ]
  },
  {
   "cell_type": "code",
   "execution_count": 25,
   "id": "62558a22-5e4c-4f07-873b-bfab6c6ae3c2",
   "metadata": {},
   "outputs": [],
   "source": [
    "index = \"https://kr.investing.com/indices/major-indices\""
   ]
  },
  {
   "cell_type": "code",
   "execution_count": 26,
   "id": "ac52b420-33da-40d1-864b-0f998b52a2cf",
   "metadata": {},
   "outputs": [],
   "source": [
    "url = index"
   ]
  },
  {
   "cell_type": "code",
   "execution_count": 27,
   "id": "ad507114-664b-4b55-a217-0f5690915ae7",
   "metadata": {},
   "outputs": [],
   "source": [
    "driver.get(url)\n",
    "time.sleep(3)"
   ]
  },
  {
   "cell_type": "code",
   "execution_count": 28,
   "id": "6230efb3-ed21-48ab-98a2-aa6222606536",
   "metadata": {},
   "outputs": [
    {
     "name": "stderr",
     "output_type": "stream",
     "text": [
      "<ipython-input-28-feaf0f49e9b2>:1: DeprecationWarning: find_elements_by_* commands are deprecated. Please use find_elements() instead\n",
      "  temp_names = driver.find_elements_by_css_selector(\".table-browser_table-browser-wrapper__2ynbE table tbody a.inv-link.bold.datatable_cell--name__link__1XAxP\")\n"
     ]
    }
   ],
   "source": [
    "temp_names = driver.find_elements_by_css_selector(\".table-browser_table-browser-wrapper__2ynbE table tbody a.inv-link.bold.datatable_cell--name__link__1XAxP\")"
   ]
  },
  {
   "cell_type": "code",
   "execution_count": 29,
   "id": "f52cd481-6fe6-40f8-b710-6ee32833bd0c",
   "metadata": {},
   "outputs": [],
   "source": [
    "index_url = [x.get_attribute(\"href\") + \"-historical-data\" for x in temp_names]\n",
    "index_names = [x.split(\"-historical-data\")[0].split(\"/\")[-1] for x in index_url]"
   ]
  },
  {
   "cell_type": "code",
   "execution_count": 58,
   "id": "695dff6c-edbf-4f73-b19f-3b11948b7a80",
   "metadata": {},
   "outputs": [],
   "source": [
    "url = index_url[2]"
   ]
  },
  {
   "cell_type": "code",
   "execution_count": 110,
   "id": "393751a9-acc9-460b-80b2-8c994c463639",
   "metadata": {},
   "outputs": [
    {
     "data": {
      "text/plain": [
       "'https://kr.investing.com/indices/kosdaq-historical-data'"
      ]
     },
     "execution_count": 110,
     "metadata": {},
     "output_type": "execute_result"
    }
   ],
   "source": [
    "index_url[2]"
   ]
  },
  {
   "cell_type": "code",
   "execution_count": 68,
   "id": "2f499b18-038a-4b3c-9589-6cede958ce75",
   "metadata": {
    "tags": []
   },
   "outputs": [
    {
     "name": "stderr",
     "output_type": "stream",
     "text": [
      "<ipython-input-68-548ce213e27b>:5: DeprecationWarning: find_element_by_* commands are deprecated. Please use find_element() instead\n",
      "  tmp_date = driver.find_element_by_css_selector(\"div#widgetFieldDateRange\")\n",
      "<ipython-input-68-548ce213e27b>:9: DeprecationWarning: find_element_by_* commands are deprecated. Please use find_element() instead\n",
      "  tmp_input = driver.find_element_by_css_selector(\"input#startDate\")\n",
      "<ipython-input-68-548ce213e27b>:15: DeprecationWarning: find_element_by_* commands are deprecated. Please use find_element() instead\n",
      "  tmp_input = driver.find_element_by_css_selector(\"input#startDate\")\n"
     ]
    }
   ],
   "source": [
    "driver.get(url)\n",
    "time.sleep(5)\n",
    "\n",
    "# 날짜 입력란\n",
    "tmp_date = driver.find_element_by_css_selector(\"div#widgetFieldDateRange\")\n",
    "tmp_date.click()\n",
    "driver.implicitly_wait(3)\n",
    "\n",
    "tmp_input = driver.find_element_by_css_selector(\"input#startDate\")\n",
    "time.sleep(0.5)\n",
    "\n",
    "# 기존 날짜 지우기\n",
    "for _ in range(11) :\n",
    "    tmp_input.send_keys(Keys.BACKSPACE)\n",
    "    tmp_input = driver.find_element_by_css_selector(\"input#startDate\")\n",
    "    time.sleep(0.5)"
   ]
  },
  {
   "cell_type": "code",
   "execution_count": 70,
   "id": "084ff8fe-76da-438b-ab8f-1dd759c2f8df",
   "metadata": {},
   "outputs": [
    {
     "name": "stderr",
     "output_type": "stream",
     "text": [
      "<ipython-input-70-2cdbb8c2f49d>:4: DeprecationWarning: find_element_by_* commands are deprecated. Please use find_element() instead\n",
      "  request_btn = driver.find_element_by_css_selector(\"a#applyBtn\")\n"
     ]
    }
   ],
   "source": [
    "tmp_input.send_keys(start_day)\n",
    "\n",
    "# 요청 버튼\n",
    "request_btn = driver.find_element_by_css_selector(\"a#applyBtn\")\n",
    "request_btn.click()\n",
    "time.sleep(5)"
   ]
  },
  {
   "cell_type": "code",
   "execution_count": 39,
   "id": "bddad7e7-c019-4523-a590-304d668f1802",
   "metadata": {
    "collapsed": true,
    "jupyter": {
     "outputs_hidden": true
    },
    "tags": []
   },
   "outputs": [
    {
     "name": "stderr",
     "output_type": "stream",
     "text": [
      "<ipython-input-39-dfbaac5269ed>:2: DeprecationWarning: find_element_by_* commands are deprecated. Please use find_element() instead\n",
      "  download_btn = driver.find_element_by_css_selector(\"a.newBtn.LightGray.downloadBlueIcon.js-download-data\")\n"
     ]
    },
    {
     "ename": "ElementClickInterceptedException",
     "evalue": "Message: element click intercepted: Element <a data-action-hash=\"\" href=\"javascript:void(0);\" data-table-id=\"curr_table\" data-filename-selector=\"h2\" title=\"...\" class=\"newBtn LightGray downloadBlueIcon js-download-data\">데이터 다운로드</a> is not clickable at point (579, 12). Other element would receive the click: <input autocomplete=\"off\" type=\"text\" class=\"searchText arial_12 lightgrayFont js-main-search-bar\" value=\"\" placeholder=\"웹사이트 검색\">\n  (Session info: chrome=98.0.4758.102)\nStacktrace:\nBacktrace:\n\tOrdinal0 [0x0109A0A3+2597027]\n\tOrdinal0 [0x0102BA61+2144865]\n\tOrdinal0 [0x00F23C58+1064024]\n\tOrdinal0 [0x00F5663F+1271359]\n\tOrdinal0 [0x00F54887+1263751]\n\tOrdinal0 [0x00F524DB+1254619]\n\tOrdinal0 [0x00F512C9+1249993]\n\tOrdinal0 [0x00F46EA3+1207971]\n\tOrdinal0 [0x00F687AC+1345452]\n\tOrdinal0 [0x00F46874+1206388]\n\tOrdinal0 [0x00F68904+1345796]\n\tOrdinal0 [0x00F78B1A+1411866]\n\tOrdinal0 [0x00F685C6+1344966]\n\tOrdinal0 [0x00F454C6+1201350]\n\tOrdinal0 [0x00F463B6+1205174]\n\tGetHandleVerifier [0x012410A2+1681842]\n\tGetHandleVerifier [0x012F3B0C+2413596]\n\tGetHandleVerifier [0x01131221+568113]\n\tGetHandleVerifier [0x0112FFA3+563379]\n\tOrdinal0 [0x0103174E+2168654]\n\tOrdinal0 [0x01036538+2188600]\n\tOrdinal0 [0x01036680+2188928]\n\tOrdinal0 [0x0104030C+2229004]\n\tBaseThreadInitThunk [0x75BCFA29+25]\n\tRtlGetAppContainerNamedObjectPath [0x77D57A9E+286]\n\tRtlGetAppContainerNamedObjectPath [0x77D57A6E+238]\n",
     "output_type": "error",
     "traceback": [
      "\u001b[1;31m---------------------------------------------------------------------------\u001b[0m",
      "\u001b[1;31mElementClickInterceptedException\u001b[0m          Traceback (most recent call last)",
      "\u001b[1;32m<ipython-input-39-dfbaac5269ed>\u001b[0m in \u001b[0;36m<module>\u001b[1;34m\u001b[0m\n\u001b[0;32m      1\u001b[0m \u001b[1;31m# 다운로드 버튼\u001b[0m\u001b[1;33m\u001b[0m\u001b[1;33m\u001b[0m\u001b[1;33m\u001b[0m\u001b[0m\n\u001b[0;32m      2\u001b[0m \u001b[0mdownload_btn\u001b[0m \u001b[1;33m=\u001b[0m \u001b[0mdriver\u001b[0m\u001b[1;33m.\u001b[0m\u001b[0mfind_element_by_css_selector\u001b[0m\u001b[1;33m(\u001b[0m\u001b[1;34m\"a.newBtn.LightGray.downloadBlueIcon.js-download-data\"\u001b[0m\u001b[1;33m)\u001b[0m\u001b[1;33m\u001b[0m\u001b[1;33m\u001b[0m\u001b[0m\n\u001b[1;32m----> 3\u001b[1;33m \u001b[0mdownload_btn\u001b[0m\u001b[1;33m.\u001b[0m\u001b[0mclick\u001b[0m\u001b[1;33m(\u001b[0m\u001b[1;33m)\u001b[0m\u001b[1;33m\u001b[0m\u001b[1;33m\u001b[0m\u001b[0m\n\u001b[0m",
      "\u001b[1;32m~\\anaconda3\\lib\\site-packages\\selenium\\webdriver\\remote\\webelement.py\u001b[0m in \u001b[0;36mclick\u001b[1;34m(self)\u001b[0m\n\u001b[0;32m     79\u001b[0m     \u001b[1;32mdef\u001b[0m \u001b[0mclick\u001b[0m\u001b[1;33m(\u001b[0m\u001b[0mself\u001b[0m\u001b[1;33m)\u001b[0m \u001b[1;33m->\u001b[0m \u001b[1;32mNone\u001b[0m\u001b[1;33m:\u001b[0m\u001b[1;33m\u001b[0m\u001b[1;33m\u001b[0m\u001b[0m\n\u001b[0;32m     80\u001b[0m         \u001b[1;34m\"\"\"Clicks the element.\"\"\"\u001b[0m\u001b[1;33m\u001b[0m\u001b[1;33m\u001b[0m\u001b[0m\n\u001b[1;32m---> 81\u001b[1;33m         \u001b[0mself\u001b[0m\u001b[1;33m.\u001b[0m\u001b[0m_execute\u001b[0m\u001b[1;33m(\u001b[0m\u001b[0mCommand\u001b[0m\u001b[1;33m.\u001b[0m\u001b[0mCLICK_ELEMENT\u001b[0m\u001b[1;33m)\u001b[0m\u001b[1;33m\u001b[0m\u001b[1;33m\u001b[0m\u001b[0m\n\u001b[0m\u001b[0;32m     82\u001b[0m \u001b[1;33m\u001b[0m\u001b[0m\n\u001b[0;32m     83\u001b[0m     \u001b[1;32mdef\u001b[0m \u001b[0msubmit\u001b[0m\u001b[1;33m(\u001b[0m\u001b[0mself\u001b[0m\u001b[1;33m)\u001b[0m\u001b[1;33m:\u001b[0m\u001b[1;33m\u001b[0m\u001b[1;33m\u001b[0m\u001b[0m\n",
      "\u001b[1;32m~\\anaconda3\\lib\\site-packages\\selenium\\webdriver\\remote\\webelement.py\u001b[0m in \u001b[0;36m_execute\u001b[1;34m(self, command, params)\u001b[0m\n\u001b[0;32m    708\u001b[0m             \u001b[0mparams\u001b[0m \u001b[1;33m=\u001b[0m \u001b[1;33m{\u001b[0m\u001b[1;33m}\u001b[0m\u001b[1;33m\u001b[0m\u001b[1;33m\u001b[0m\u001b[0m\n\u001b[0;32m    709\u001b[0m         \u001b[0mparams\u001b[0m\u001b[1;33m[\u001b[0m\u001b[1;34m'id'\u001b[0m\u001b[1;33m]\u001b[0m \u001b[1;33m=\u001b[0m \u001b[0mself\u001b[0m\u001b[1;33m.\u001b[0m\u001b[0m_id\u001b[0m\u001b[1;33m\u001b[0m\u001b[1;33m\u001b[0m\u001b[0m\n\u001b[1;32m--> 710\u001b[1;33m         \u001b[1;32mreturn\u001b[0m \u001b[0mself\u001b[0m\u001b[1;33m.\u001b[0m\u001b[0m_parent\u001b[0m\u001b[1;33m.\u001b[0m\u001b[0mexecute\u001b[0m\u001b[1;33m(\u001b[0m\u001b[0mcommand\u001b[0m\u001b[1;33m,\u001b[0m \u001b[0mparams\u001b[0m\u001b[1;33m)\u001b[0m\u001b[1;33m\u001b[0m\u001b[1;33m\u001b[0m\u001b[0m\n\u001b[0m\u001b[0;32m    711\u001b[0m \u001b[1;33m\u001b[0m\u001b[0m\n\u001b[0;32m    712\u001b[0m     \u001b[1;32mdef\u001b[0m \u001b[0mfind_element\u001b[0m\u001b[1;33m(\u001b[0m\u001b[0mself\u001b[0m\u001b[1;33m,\u001b[0m \u001b[0mby\u001b[0m\u001b[1;33m=\u001b[0m\u001b[0mBy\u001b[0m\u001b[1;33m.\u001b[0m\u001b[0mID\u001b[0m\u001b[1;33m,\u001b[0m \u001b[0mvalue\u001b[0m\u001b[1;33m=\u001b[0m\u001b[1;32mNone\u001b[0m\u001b[1;33m)\u001b[0m\u001b[1;33m:\u001b[0m\u001b[1;33m\u001b[0m\u001b[1;33m\u001b[0m\u001b[0m\n",
      "\u001b[1;32m~\\anaconda3\\lib\\site-packages\\selenium\\webdriver\\remote\\webdriver.py\u001b[0m in \u001b[0;36mexecute\u001b[1;34m(self, driver_command, params)\u001b[0m\n\u001b[0;32m    422\u001b[0m         \u001b[0mresponse\u001b[0m \u001b[1;33m=\u001b[0m \u001b[0mself\u001b[0m\u001b[1;33m.\u001b[0m\u001b[0mcommand_executor\u001b[0m\u001b[1;33m.\u001b[0m\u001b[0mexecute\u001b[0m\u001b[1;33m(\u001b[0m\u001b[0mdriver_command\u001b[0m\u001b[1;33m,\u001b[0m \u001b[0mparams\u001b[0m\u001b[1;33m)\u001b[0m\u001b[1;33m\u001b[0m\u001b[1;33m\u001b[0m\u001b[0m\n\u001b[0;32m    423\u001b[0m         \u001b[1;32mif\u001b[0m \u001b[0mresponse\u001b[0m\u001b[1;33m:\u001b[0m\u001b[1;33m\u001b[0m\u001b[1;33m\u001b[0m\u001b[0m\n\u001b[1;32m--> 424\u001b[1;33m             \u001b[0mself\u001b[0m\u001b[1;33m.\u001b[0m\u001b[0merror_handler\u001b[0m\u001b[1;33m.\u001b[0m\u001b[0mcheck_response\u001b[0m\u001b[1;33m(\u001b[0m\u001b[0mresponse\u001b[0m\u001b[1;33m)\u001b[0m\u001b[1;33m\u001b[0m\u001b[1;33m\u001b[0m\u001b[0m\n\u001b[0m\u001b[0;32m    425\u001b[0m             response['value'] = self._unwrap_value(\n\u001b[0;32m    426\u001b[0m                 response.get('value', None))\n",
      "\u001b[1;32m~\\anaconda3\\lib\\site-packages\\selenium\\webdriver\\remote\\errorhandler.py\u001b[0m in \u001b[0;36mcheck_response\u001b[1;34m(self, response)\u001b[0m\n\u001b[0;32m    245\u001b[0m                 \u001b[0malert_text\u001b[0m \u001b[1;33m=\u001b[0m \u001b[0mvalue\u001b[0m\u001b[1;33m[\u001b[0m\u001b[1;34m'alert'\u001b[0m\u001b[1;33m]\u001b[0m\u001b[1;33m.\u001b[0m\u001b[0mget\u001b[0m\u001b[1;33m(\u001b[0m\u001b[1;34m'text'\u001b[0m\u001b[1;33m)\u001b[0m\u001b[1;33m\u001b[0m\u001b[1;33m\u001b[0m\u001b[0m\n\u001b[0;32m    246\u001b[0m             \u001b[1;32mraise\u001b[0m \u001b[0mexception_class\u001b[0m\u001b[1;33m(\u001b[0m\u001b[0mmessage\u001b[0m\u001b[1;33m,\u001b[0m \u001b[0mscreen\u001b[0m\u001b[1;33m,\u001b[0m \u001b[0mstacktrace\u001b[0m\u001b[1;33m,\u001b[0m \u001b[0malert_text\u001b[0m\u001b[1;33m)\u001b[0m  \u001b[1;31m# type: ignore[call-arg]  # mypy is not smart enough here\u001b[0m\u001b[1;33m\u001b[0m\u001b[1;33m\u001b[0m\u001b[0m\n\u001b[1;32m--> 247\u001b[1;33m         \u001b[1;32mraise\u001b[0m \u001b[0mexception_class\u001b[0m\u001b[1;33m(\u001b[0m\u001b[0mmessage\u001b[0m\u001b[1;33m,\u001b[0m \u001b[0mscreen\u001b[0m\u001b[1;33m,\u001b[0m \u001b[0mstacktrace\u001b[0m\u001b[1;33m)\u001b[0m\u001b[1;33m\u001b[0m\u001b[1;33m\u001b[0m\u001b[0m\n\u001b[0m\u001b[0;32m    248\u001b[0m \u001b[1;33m\u001b[0m\u001b[0m\n\u001b[0;32m    249\u001b[0m     \u001b[1;32mdef\u001b[0m \u001b[0m_value_or_default\u001b[0m\u001b[1;33m(\u001b[0m\u001b[0mself\u001b[0m\u001b[1;33m,\u001b[0m \u001b[0mobj\u001b[0m\u001b[1;33m:\u001b[0m \u001b[0mMapping\u001b[0m\u001b[1;33m[\u001b[0m\u001b[0m_KT\u001b[0m\u001b[1;33m,\u001b[0m \u001b[0m_VT\u001b[0m\u001b[1;33m]\u001b[0m\u001b[1;33m,\u001b[0m \u001b[0mkey\u001b[0m\u001b[1;33m:\u001b[0m \u001b[0m_KT\u001b[0m\u001b[1;33m,\u001b[0m \u001b[0mdefault\u001b[0m\u001b[1;33m:\u001b[0m \u001b[0m_VT\u001b[0m\u001b[1;33m)\u001b[0m \u001b[1;33m->\u001b[0m \u001b[0m_VT\u001b[0m\u001b[1;33m:\u001b[0m\u001b[1;33m\u001b[0m\u001b[1;33m\u001b[0m\u001b[0m\n",
      "\u001b[1;31mElementClickInterceptedException\u001b[0m: Message: element click intercepted: Element <a data-action-hash=\"\" href=\"javascript:void(0);\" data-table-id=\"curr_table\" data-filename-selector=\"h2\" title=\"...\" class=\"newBtn LightGray downloadBlueIcon js-download-data\">데이터 다운로드</a> is not clickable at point (579, 12). Other element would receive the click: <input autocomplete=\"off\" type=\"text\" class=\"searchText arial_12 lightgrayFont js-main-search-bar\" value=\"\" placeholder=\"웹사이트 검색\">\n  (Session info: chrome=98.0.4758.102)\nStacktrace:\nBacktrace:\n\tOrdinal0 [0x0109A0A3+2597027]\n\tOrdinal0 [0x0102BA61+2144865]\n\tOrdinal0 [0x00F23C58+1064024]\n\tOrdinal0 [0x00F5663F+1271359]\n\tOrdinal0 [0x00F54887+1263751]\n\tOrdinal0 [0x00F524DB+1254619]\n\tOrdinal0 [0x00F512C9+1249993]\n\tOrdinal0 [0x00F46EA3+1207971]\n\tOrdinal0 [0x00F687AC+1345452]\n\tOrdinal0 [0x00F46874+1206388]\n\tOrdinal0 [0x00F68904+1345796]\n\tOrdinal0 [0x00F78B1A+1411866]\n\tOrdinal0 [0x00F685C6+1344966]\n\tOrdinal0 [0x00F454C6+1201350]\n\tOrdinal0 [0x00F463B6+1205174]\n\tGetHandleVerifier [0x012410A2+1681842]\n\tGetHandleVerifier [0x012F3B0C+2413596]\n\tGetHandleVerifier [0x01131221+568113]\n\tGetHandleVerifier [0x0112FFA3+563379]\n\tOrdinal0 [0x0103174E+2168654]\n\tOrdinal0 [0x01036538+2188600]\n\tOrdinal0 [0x01036680+2188928]\n\tOrdinal0 [0x0104030C+2229004]\n\tBaseThreadInitThunk [0x75BCFA29+25]\n\tRtlGetAppContainerNamedObjectPath [0x77D57A9E+286]\n\tRtlGetAppContainerNamedObjectPath [0x77D57A6E+238]\n"
     ]
    }
   ],
   "source": [
    "# 다운로드 버튼\n",
    "download_btn = driver.find_element_by_css_selector(\"a.newBtn.LightGray.downloadBlueIcon.js-download-data\")\n",
    "download_btn.click()"
   ]
  },
  {
   "cell_type": "code",
   "execution_count": 71,
   "id": "6af2383b-378f-4424-aee9-529b2c752355",
   "metadata": {},
   "outputs": [
    {
     "name": "stderr",
     "output_type": "stream",
     "text": [
      "<ipython-input-71-dae80b55c302>:1: DeprecationWarning: find_elements_by_* commands are deprecated. Please use find_elements() instead\n",
      "  tables = driver.find_elements_by_css_selector(\"table#curr_table\")\n"
     ]
    }
   ],
   "source": [
    "tables = driver.find_elements_by_css_selector(\"table#curr_table\")"
   ]
  },
  {
   "cell_type": "code",
   "execution_count": 45,
   "id": "7624b02f-ec56-4f77-86c1-b822b4509343",
   "metadata": {},
   "outputs": [
    {
     "name": "stderr",
     "output_type": "stream",
     "text": [
      "<ipython-input-45-39dc1e208f4f>:1: DeprecationWarning: find_elements_by_* commands are deprecated. Please use find_elements() instead\n",
      "  values = driver.find_elements_by_css_selector(\"table#curr_table tbody tr td\")\n"
     ]
    }
   ],
   "source": [
    "values = driver.find_elements_by_css_selector(\"table#curr_table tbody tr td\")"
   ]
  },
  {
   "cell_type": "code",
   "execution_count": 54,
   "id": "9523944d-f685-4535-be68-0433035be1e9",
   "metadata": {},
   "outputs": [
    {
     "data": {
      "text/plain": [
       "'0.84%'"
      ]
     },
     "execution_count": 54,
     "metadata": {},
     "output_type": "execute_result"
    }
   ],
   "source": [
    "values[6].text"
   ]
  },
  {
   "cell_type": "code",
   "execution_count": 74,
   "id": "e8d173ae-d44b-473c-bcff-850239691fbf",
   "metadata": {},
   "outputs": [],
   "source": [
    "values = tables[0].text.split(\"\\n\")[1:]"
   ]
  },
  {
   "cell_type": "code",
   "execution_count": 92,
   "id": "4fb08c08-96b1-4cf4-8f90-691945bed0b6",
   "metadata": {},
   "outputs": [],
   "source": [
    "values = [re.sub(\"[^0-9a-zA-Z.\\\\- ]\",\"\",x) for x in values]"
   ]
  },
  {
   "cell_type": "code",
   "execution_count": 93,
   "id": "acd820db-c88a-4557-9b17-91fd1b0c8ff8",
   "metadata": {},
   "outputs": [],
   "source": [
    "year, month, day, close, _, _, _, volume, variation= values[0].split(\" \")"
   ]
  },
  {
   "cell_type": "code",
   "execution_count": 101,
   "id": "dec884fd-fae5-49ff-87d1-00f7d7e5455f",
   "metadata": {
    "tags": []
   },
   "outputs": [
    {
     "data": {
      "text/plain": [
       "['2022 02 28 881.07 870.27 881.07 868.91 1.06M 0.93',\n",
       " '2022 02 25 872.98 864.72 872.98 863.47 1.37B 2.92']"
      ]
     },
     "execution_count": 101,
     "metadata": {},
     "output_type": "execute_result"
    }
   ],
   "source": [
    "values[:2]"
   ]
  },
  {
   "cell_type": "code",
   "execution_count": 102,
   "id": "29239668-b1d5-463a-8ed9-dc03a6c4f053",
   "metadata": {},
   "outputs": [
    {
     "data": {
      "text/plain": [
       "'2022-02-28'"
      ]
     },
     "execution_count": 102,
     "metadata": {},
     "output_type": "execute_result"
    }
   ],
   "source": [
    "\"-\".join([year, month, day])"
   ]
  },
  {
   "cell_type": "code",
   "execution_count": 103,
   "id": "cf1cf9a7-1217-4209-885d-e426c59472a1",
   "metadata": {},
   "outputs": [],
   "source": [
    "index_dict = {\"date\":[],\n",
    "             \"close\":[],\n",
    "             \"volume\":[],\n",
    "             \"variation\":[]}"
   ]
  },
  {
   "cell_type": "code",
   "execution_count": null,
   "id": "67dd8b34-4d3e-4457-af3b-2ea1a522e746",
   "metadata": {},
   "outputs": [],
   "source": [
    "for val in values:\n",
    "    "
   ]
  },
  {
   "cell_type": "code",
   "execution_count": null,
   "id": "4feaf3cc-1417-4c14-b95b-4581e5853608",
   "metadata": {},
   "outputs": [],
   "source": []
  },
  {
   "cell_type": "code",
   "execution_count": null,
   "id": "26dfe082-65d8-4653-bccf-f531dc6b9f44",
   "metadata": {},
   "outputs": [],
   "source": []
  }
 ],
 "metadata": {
  "kernelspec": {
   "display_name": "Python 3",
   "language": "python",
   "name": "python3"
  },
  "language_info": {
   "codemirror_mode": {
    "name": "ipython",
    "version": 3
   },
   "file_extension": ".py",
   "mimetype": "text/x-python",
   "name": "python",
   "nbconvert_exporter": "python",
   "pygments_lexer": "ipython3",
   "version": "3.8.8"
  }
 },
 "nbformat": 4,
 "nbformat_minor": 5
}
