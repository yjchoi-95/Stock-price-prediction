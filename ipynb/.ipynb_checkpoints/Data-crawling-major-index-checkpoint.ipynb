{
 "cells": [
  {
   "cell_type": "markdown",
   "id": "1b0e539c-c802-4396-a1c5-faf502a1feec",
   "metadata": {},
   "source": [
    "## Import"
   ]
  },
  {
   "cell_type": "code",
   "execution_count": 166,
   "id": "94556c6e-df9a-4c88-af24-eaf46e1aaa75",
   "metadata": {},
   "outputs": [],
   "source": [
    "from bs4 import BeautifulSoup\n",
    "from selenium import webdriver\n",
    "from selenium.common.exceptions import NoSuchElementException\n",
    "from selenium.webdriver.common.keys import Keys\n",
    "from tqdm import tqdm\n",
    "from functools import reduce\n",
    "\n",
    "import numpy as np\n",
    "import pandas as pd\n",
    "import re, time\n",
    "import requests\n",
    "import pickle\n",
    "import warnings\n",
    "\n",
    "warnings.filterwarnings(action='ignore')"
   ]
  },
  {
   "cell_type": "code",
   "execution_count": 141,
   "id": "7c4b1376-aa2e-4326-888b-31dc9406ead7",
   "metadata": {},
   "outputs": [
    {
     "data": {
      "text/plain": [
       "'C:\\\\Users\\\\PC0\\\\Documents\\\\GitHub\\\\Stock-price-prediction\\\\ipynb'"
      ]
     },
     "execution_count": 141,
     "metadata": {},
     "output_type": "execute_result"
    }
   ],
   "source": [
    "import os\n",
    "os.getcwd()"
   ]
  },
  {
   "cell_type": "code",
   "execution_count": 144,
   "id": "1cd7fd75-cc35-4f4a-bf0e-a1dbcf590b00",
   "metadata": {},
   "outputs": [],
   "source": [
    "out_data_path = 'C:\\\\Users\\\\PC0\\\\Documents\\\\datasets\\\\stock_price\\\\'\n",
    "data_path = 'C:\\\\Users\\\\PC0\\\\Documents\\\\GitHub\\\\Stock-price-prediction\\\\datasets\\\\'"
   ]
  },
  {
   "cell_type": "code",
   "execution_count": null,
   "id": "8b65d2bc-92fe-4864-9495-ef1834a64ec8",
   "metadata": {},
   "outputs": [],
   "source": []
  },
  {
   "cell_type": "markdown",
   "id": "0651d7a0-8f11-43b4-9467-9fcc234d6e7f",
   "metadata": {},
   "source": [
    "* crawling"
   ]
  },
  {
   "cell_type": "code",
   "execution_count": 2,
   "id": "34aefcca-30e6-44c0-bf58-45437d66f633",
   "metadata": {},
   "outputs": [
    {
     "name": "stderr",
     "output_type": "stream",
     "text": [
      "<ipython-input-2-b38ee1fd7cba>:6: DeprecationWarning: executable_path has been deprecated, please pass in a Service object\n",
      "  driver = webdriver.Chrome(\"C:\\\\Users\\\\PC0\\\\Desktop\\\\chromedriver.exe\", options=options)\n"
     ]
    }
   ],
   "source": [
    "options = webdriver.ChromeOptions()\n",
    "\n",
    "options.add_argument(\"--disable-blink-features=AutomationControlled\")\n",
    "options.add_argument(\"user-agent=Mozilla/5.0 (Windows NT 10.0; Win64; x64) AppleWebKit/537.36 (KHTML, like Gecko) Chrome/98.0.4758.82 Safari/537.36\")\n",
    "\n",
    "driver = webdriver.Chrome(\"C:\\\\Users\\\\PC0\\\\Desktop\\\\chromedriver.exe\", options=options)"
   ]
  },
  {
   "cell_type": "code",
   "execution_count": null,
   "id": "379acdb9-a331-4dc2-87a1-a74f795ca205",
   "metadata": {},
   "outputs": [],
   "source": []
  },
  {
   "cell_type": "markdown",
   "id": "2c8b26f8-1950-43fb-8319-6e3cad5ea919",
   "metadata": {},
   "source": [
    "* index - major"
   ]
  },
  {
   "cell_type": "code",
   "execution_count": 131,
   "id": "5c302a63-9429-4cd9-815e-7910cbb26cbf",
   "metadata": {},
   "outputs": [],
   "source": [
    "start_day = \"2012/01/01\""
   ]
  },
  {
   "cell_type": "code",
   "execution_count": 132,
   "id": "62558a22-5e4c-4f07-873b-bfab6c6ae3c2",
   "metadata": {},
   "outputs": [],
   "source": [
    "index = \"https://kr.investing.com/indices/major-indices\""
   ]
  },
  {
   "cell_type": "code",
   "execution_count": 133,
   "id": "ac52b420-33da-40d1-864b-0f998b52a2cf",
   "metadata": {},
   "outputs": [],
   "source": [
    "url = index"
   ]
  },
  {
   "cell_type": "code",
   "execution_count": 134,
   "id": "ad507114-664b-4b55-a217-0f5690915ae7",
   "metadata": {},
   "outputs": [],
   "source": [
    "driver.get(url)\n",
    "time.sleep(3)"
   ]
  },
  {
   "cell_type": "code",
   "execution_count": 135,
   "id": "6230efb3-ed21-48ab-98a2-aa6222606536",
   "metadata": {},
   "outputs": [
    {
     "name": "stderr",
     "output_type": "stream",
     "text": [
      "<ipython-input-135-feaf0f49e9b2>:1: DeprecationWarning: find_elements_by_* commands are deprecated. Please use find_elements() instead\n",
      "  temp_names = driver.find_elements_by_css_selector(\".table-browser_table-browser-wrapper__2ynbE table tbody a.inv-link.bold.datatable_cell--name__link__1XAxP\")\n"
     ]
    }
   ],
   "source": [
    "temp_names = driver.find_elements_by_css_selector(\".table-browser_table-browser-wrapper__2ynbE table tbody a.inv-link.bold.datatable_cell--name__link__1XAxP\")"
   ]
  },
  {
   "cell_type": "code",
   "execution_count": 136,
   "id": "f52cd481-6fe6-40f8-b710-6ee32833bd0c",
   "metadata": {},
   "outputs": [],
   "source": [
    "kor_names = [x.text for x in temp_names]\n",
    "index_url = [x.get_attribute(\"href\") + \"-historical-data\" for x in temp_names]\n",
    "index_names = [x.split(\"-historical-data\")[0].split(\"/\")[-1] for x in index_url]"
   ]
  },
  {
   "cell_type": "code",
   "execution_count": 138,
   "id": "4039065f-1784-4f64-933b-805a0941d4ee",
   "metadata": {},
   "outputs": [],
   "source": [
    "major_df = pd.DataFrame({\"symbol\":index_names,\n",
    "                         \"name\":kor_names,\n",
    "                         \"url\":index_url})"
   ]
  },
  {
   "cell_type": "code",
   "execution_count": 145,
   "id": "d8c6dce8-64db-478f-9850-d0c08e8eee24",
   "metadata": {},
   "outputs": [],
   "source": [
    "# major_df.to_csv(data_path + \"index_symbol_df.csv\", index = False)"
   ]
  },
  {
   "cell_type": "code",
   "execution_count": null,
   "id": "ff999fc2-ba22-4c8a-8dfc-d2ae7943878c",
   "metadata": {},
   "outputs": [],
   "source": []
  },
  {
   "cell_type": "markdown",
   "id": "463cb7b3-5000-4e73-bd57-9a795e5ccabd",
   "metadata": {},
   "source": [
    "* loop crawling"
   ]
  },
  {
   "cell_type": "code",
   "execution_count": 198,
   "id": "6c28ffa1-a833-4c5c-8f72-6d0236983407",
   "metadata": {},
   "outputs": [],
   "source": [
    "index_list = []"
   ]
  },
  {
   "cell_type": "code",
   "execution_count": null,
   "id": "458661e9-6927-465b-bb01-57c7e39e0e98",
   "metadata": {},
   "outputs": [],
   "source": [
    "start_idx = 0"
   ]
  },
  {
   "cell_type": "code",
   "execution_count": 199,
   "id": "700dfb2b-73d9-475d-9015-aa99c4a22d74",
   "metadata": {
    "tags": []
   },
   "outputs": [
    {
     "name": "stderr",
     "output_type": "stream",
     "text": [
      "43it [16:30, 23.04s/it]\n"
     ]
    }
   ],
   "source": [
    "for idx, url in tqdm(enumerate(index_url[start_idx:])):\n",
    "    driver.get(url)\n",
    "    time.sleep(5)\n",
    "\n",
    "    # 날짜 입력란\n",
    "    tmp_date = driver.find_element_by_css_selector(\"div#widgetFieldDateRange\")\n",
    "    tmp_date.click()\n",
    "    driver.implicitly_wait(3)\n",
    "\n",
    "    tmp_input = driver.find_element_by_css_selector(\"input#startDate\")\n",
    "    time.sleep(0.5)\n",
    "\n",
    "    # 기존 날짜 지우기\n",
    "    for _ in range(11) :\n",
    "        tmp_input.send_keys(Keys.BACKSPACE)\n",
    "        tmp_input = driver.find_element_by_css_selector(\"input#startDate\")\n",
    "        time.sleep(0.5)\n",
    "        \n",
    "    tmp_input.send_keys(start_day)\n",
    "\n",
    "    # 요청 버튼\n",
    "    request_btn = driver.find_element_by_css_selector(\"a#applyBtn\")\n",
    "    request_btn.click()\n",
    "    time.sleep(5)\n",
    "    \n",
    "    tables = driver.find_elements_by_css_selector(\"table#curr_table\")\n",
    "\n",
    "    values = tables[0].text.split(\"\\n\")[1:]\n",
    "\n",
    "    values = [re.sub(\"[^0-9a-zA-Z.\\\\- ]\",\"\",x) for x in values]\n",
    "\n",
    "    name = index_names[idx]\n",
    "    \n",
    "    index_dict = {\"date\":[],\n",
    "                 \"{}_close\".format(name):[],\n",
    "                 \"{}_vol\".format(name):[],\n",
    "                 \"{}_var\".format(name):[]}\n",
    "\n",
    "    for val in values:\n",
    "        year, month, day, close, _, _, _, volume, variation= val.split(\" \")\n",
    "        date = \"-\".join([year, month, day])\n",
    "        index_dict['date'].append(date)\n",
    "        index_dict['{}_close'.format(name)].append(close)\n",
    "        index_dict['{}_vol'.format(name)].append(volume)\n",
    "        index_dict['{}_var'.format(name)].append(variation)\n",
    "        \n",
    "    index_list.append(pd.DataFrame.from_dict(index_dict, orient = \"index\").T)\n",
    "    start_idx += 1"
   ]
  },
  {
   "cell_type": "code",
   "execution_count": 200,
   "id": "81678f87-3c9f-49f6-985e-8f0aa62a8a18",
   "metadata": {},
   "outputs": [],
   "source": [
    "index_df = reduce(lambda  left,right: pd.merge(left,right,on=['date'], how='inner'), index_list)"
   ]
  },
  {
   "cell_type": "code",
   "execution_count": 203,
   "id": "34ed1aae-420d-41a9-b080-39bb69f72fd1",
   "metadata": {},
   "outputs": [
    {
     "data": {
      "text/html": [
       "<div>\n",
       "<style scoped>\n",
       "    .dataframe tbody tr th:only-of-type {\n",
       "        vertical-align: middle;\n",
       "    }\n",
       "\n",
       "    .dataframe tbody tr th {\n",
       "        vertical-align: top;\n",
       "    }\n",
       "\n",
       "    .dataframe thead th {\n",
       "        text-align: right;\n",
       "    }\n",
       "</style>\n",
       "<table border=\"1\" class=\"dataframe\">\n",
       "  <thead>\n",
       "    <tr style=\"text-align: right;\">\n",
       "      <th></th>\n",
       "      <th>date</th>\n",
       "      <th>kospi_close</th>\n",
       "      <th>kospi_vol</th>\n",
       "      <th>kospi_var</th>\n",
       "      <th>kospi-50_close</th>\n",
       "      <th>kospi-50_vol</th>\n",
       "      <th>kospi-50_var</th>\n",
       "      <th>kosdaq_close</th>\n",
       "      <th>kosdaq_vol</th>\n",
       "      <th>kosdaq_var</th>\n",
       "      <th>...</th>\n",
       "      <th>idx-composite_var</th>\n",
       "      <th>s-p-cnx-nifty_close</th>\n",
       "      <th>s-p-cnx-nifty_vol</th>\n",
       "      <th>s-p-cnx-nifty_var</th>\n",
       "      <th>sensex_close</th>\n",
       "      <th>sensex_vol</th>\n",
       "      <th>sensex_var</th>\n",
       "      <th>vn-30_close</th>\n",
       "      <th>vn-30_vol</th>\n",
       "      <th>vn-30_var</th>\n",
       "    </tr>\n",
       "  </thead>\n",
       "  <tbody>\n",
       "    <tr>\n",
       "      <th>768</th>\n",
       "      <td>2015-03-30</td>\n",
       "      <td>2030.04</td>\n",
       "      <td>439.56M</td>\n",
       "      <td>0.51</td>\n",
       "      <td>1629.91</td>\n",
       "      <td>25.57K</td>\n",
       "      <td>-0.03</td>\n",
       "      <td>646.74</td>\n",
       "      <td>467.26K</td>\n",
       "      <td>1.03</td>\n",
       "      <td>...</td>\n",
       "      <td>0.77</td>\n",
       "      <td>8492.30</td>\n",
       "      <td>138.88B</td>\n",
       "      <td>1.81</td>\n",
       "      <td>27975.86</td>\n",
       "      <td>11.37K</td>\n",
       "      <td>1.88</td>\n",
       "      <td>576.60</td>\n",
       "      <td>36.17K</td>\n",
       "      <td>-1.10</td>\n",
       "    </tr>\n",
       "    <tr>\n",
       "      <th>769</th>\n",
       "      <td>2015-03-26</td>\n",
       "      <td>2022.56</td>\n",
       "      <td>342.26M</td>\n",
       "      <td>-0.99</td>\n",
       "      <td>1634.41</td>\n",
       "      <td>29.76K</td>\n",
       "      <td>-1.37</td>\n",
       "      <td>642.53</td>\n",
       "      <td>551.81K</td>\n",
       "      <td>-1.31</td>\n",
       "      <td>...</td>\n",
       "      <td>-0.68</td>\n",
       "      <td>8342.15</td>\n",
       "      <td>288.76B</td>\n",
       "      <td>-2.21</td>\n",
       "      <td>27457.58</td>\n",
       "      <td>13.10K</td>\n",
       "      <td>-2.33</td>\n",
       "      <td>586.70</td>\n",
       "      <td>30.03K</td>\n",
       "      <td>-0.59</td>\n",
       "    </tr>\n",
       "    <tr>\n",
       "      <th>770</th>\n",
       "      <td>2015-03-25</td>\n",
       "      <td>2042.81</td>\n",
       "      <td>423.41M</td>\n",
       "      <td>0.07</td>\n",
       "      <td>1657.16</td>\n",
       "      <td>31.43K</td>\n",
       "      <td>-0.23</td>\n",
       "      <td>651.05</td>\n",
       "      <td>534.69K</td>\n",
       "      <td>1.43</td>\n",
       "      <td>...</td>\n",
       "      <td>-0.77</td>\n",
       "      <td>8530.80</td>\n",
       "      <td>165.95B</td>\n",
       "      <td>-0.14</td>\n",
       "      <td>28111.83</td>\n",
       "      <td>17.88K</td>\n",
       "      <td>-0.18</td>\n",
       "      <td>590.17</td>\n",
       "      <td>38.16K</td>\n",
       "      <td>-0.61</td>\n",
       "    </tr>\n",
       "    <tr>\n",
       "      <th>771</th>\n",
       "      <td>2015-03-24</td>\n",
       "      <td>2041.37</td>\n",
       "      <td>328.83M</td>\n",
       "      <td>0.23</td>\n",
       "      <td>1660.91</td>\n",
       "      <td>28.63K</td>\n",
       "      <td>-0.05</td>\n",
       "      <td>641.87</td>\n",
       "      <td>525.79K</td>\n",
       "      <td>0.25</td>\n",
       "      <td>...</td>\n",
       "      <td>0.19</td>\n",
       "      <td>8542.95</td>\n",
       "      <td>161.47B</td>\n",
       "      <td>-0.09</td>\n",
       "      <td>28161.72</td>\n",
       "      <td>10.00K</td>\n",
       "      <td>-0.11</td>\n",
       "      <td>593.80</td>\n",
       "      <td>35.14K</td>\n",
       "      <td>-0.71</td>\n",
       "    </tr>\n",
       "    <tr>\n",
       "      <th>772</th>\n",
       "      <td>2015-03-23</td>\n",
       "      <td>2036.59</td>\n",
       "      <td>314.90M</td>\n",
       "      <td>-0.03</td>\n",
       "      <td>1661.76</td>\n",
       "      <td>28.00K</td>\n",
       "      <td>0.05</td>\n",
       "      <td>640.29</td>\n",
       "      <td>530.15K</td>\n",
       "      <td>0.03</td>\n",
       "      <td>...</td>\n",
       "      <td>-0.11</td>\n",
       "      <td>8550.90</td>\n",
       "      <td>155.43B</td>\n",
       "      <td>-0.23</td>\n",
       "      <td>28192.02</td>\n",
       "      <td>10.32K</td>\n",
       "      <td>-0.24</td>\n",
       "      <td>598.07</td>\n",
       "      <td>46.21K</td>\n",
       "      <td>-0.94</td>\n",
       "    </tr>\n",
       "  </tbody>\n",
       "</table>\n",
       "<p>5 rows × 130 columns</p>\n",
       "</div>"
      ],
      "text/plain": [
       "           date kospi_close kospi_vol kospi_var kospi-50_close kospi-50_vol  \\\n",
       "768  2015-03-30     2030.04   439.56M      0.51        1629.91       25.57K   \n",
       "769  2015-03-26     2022.56   342.26M     -0.99        1634.41       29.76K   \n",
       "770  2015-03-25     2042.81   423.41M      0.07        1657.16       31.43K   \n",
       "771  2015-03-24     2041.37   328.83M      0.23        1660.91       28.63K   \n",
       "772  2015-03-23     2036.59   314.90M     -0.03        1661.76       28.00K   \n",
       "\n",
       "    kospi-50_var kosdaq_close kosdaq_vol kosdaq_var  ... idx-composite_var  \\\n",
       "768        -0.03       646.74    467.26K       1.03  ...              0.77   \n",
       "769        -1.37       642.53    551.81K      -1.31  ...             -0.68   \n",
       "770        -0.23       651.05    534.69K       1.43  ...             -0.77   \n",
       "771        -0.05       641.87    525.79K       0.25  ...              0.19   \n",
       "772         0.05       640.29    530.15K       0.03  ...             -0.11   \n",
       "\n",
       "    s-p-cnx-nifty_close s-p-cnx-nifty_vol s-p-cnx-nifty_var sensex_close  \\\n",
       "768             8492.30           138.88B              1.81     27975.86   \n",
       "769             8342.15           288.76B             -2.21     27457.58   \n",
       "770             8530.80           165.95B             -0.14     28111.83   \n",
       "771             8542.95           161.47B             -0.09     28161.72   \n",
       "772             8550.90           155.43B             -0.23     28192.02   \n",
       "\n",
       "    sensex_vol sensex_var vn-30_close vn-30_vol vn-30_var  \n",
       "768     11.37K       1.88      576.60    36.17K     -1.10  \n",
       "769     13.10K      -2.33      586.70    30.03K     -0.59  \n",
       "770     17.88K      -0.18      590.17    38.16K     -0.61  \n",
       "771     10.00K      -0.11      593.80    35.14K     -0.71  \n",
       "772     10.32K      -0.24      598.07    46.21K     -0.94  \n",
       "\n",
       "[5 rows x 130 columns]"
      ]
     },
     "execution_count": 203,
     "metadata": {},
     "output_type": "execute_result"
    }
   ],
   "source": [
    "index_df.tail()"
   ]
  },
  {
   "cell_type": "code",
   "execution_count": 204,
   "id": "f44e11ad-d2f5-4fca-bce7-89fc799ced97",
   "metadata": {},
   "outputs": [],
   "source": [
    "index_df.to_csv(data_path + \"index_df.csv\", index = False)"
   ]
  },
  {
   "cell_type": "code",
   "execution_count": null,
   "id": "07423de7-5e23-4c85-966a-5f834aaaecaa",
   "metadata": {},
   "outputs": [],
   "source": []
  }
 ],
 "metadata": {
  "kernelspec": {
   "display_name": "Python 3",
   "language": "python",
   "name": "python3"
  },
  "language_info": {
   "codemirror_mode": {
    "name": "ipython",
    "version": 3
   },
   "file_extension": ".py",
   "mimetype": "text/x-python",
   "name": "python",
   "nbconvert_exporter": "python",
   "pygments_lexer": "ipython3",
   "version": "3.8.8"
  }
 },
 "nbformat": 4,
 "nbformat_minor": 5
}
