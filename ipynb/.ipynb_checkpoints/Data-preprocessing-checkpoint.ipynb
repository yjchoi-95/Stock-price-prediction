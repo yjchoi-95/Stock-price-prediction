{
 "cells": [
  {
   "cell_type": "markdown",
   "id": "59009fe1-1a37-492a-acd2-1ef06eee3fab",
   "metadata": {},
   "source": [
    "## Import"
   ]
  },
  {
   "cell_type": "code",
   "execution_count": 1,
   "id": "731a9bd0-d3b1-4c71-b682-03fca01c246e",
   "metadata": {},
   "outputs": [],
   "source": [
    "from functools import reduce\n",
    "from glob import glob\n",
    "\n",
    "import pandas as pd\n",
    "import numpy as np\n",
    "import os"
   ]
  },
  {
   "cell_type": "code",
   "execution_count": null,
   "id": "fb8aba32-9c1a-4f93-a3ba-a6db587993c7",
   "metadata": {},
   "outputs": [],
   "source": []
  },
  {
   "cell_type": "markdown",
   "id": "1db1dd67-cf3e-445c-baac-87db5d08e564",
   "metadata": {},
   "source": [
    "## Load"
   ]
  },
  {
   "cell_type": "code",
   "execution_count": 2,
   "id": "ada45752-63e7-4719-9b11-2606009f5e25",
   "metadata": {},
   "outputs": [],
   "source": [
    "out_data_path = 'C:\\\\Users\\\\PC0\\\\Documents\\\\datasets\\\\stock_price\\\\'\n",
    "data_path = 'C:\\\\Users\\\\PC0\\\\Documents\\\\GitHub\\\\Stock-price-prediction\\\\datasets\\\\'"
   ]
  },
  {
   "cell_type": "code",
   "execution_count": 3,
   "id": "56ab1be5-474b-4e6f-b021-cf1a9db3d712",
   "metadata": {},
   "outputs": [],
   "source": [
    "all_files = glob(data_path + \"*.csv\")"
   ]
  },
  {
   "cell_type": "code",
   "execution_count": 4,
   "id": "9acbbe30-1dac-4fd3-906f-1fdd7a8012e8",
   "metadata": {},
   "outputs": [],
   "source": [
    "files = [x for x in all_files if \"symbol\" not in x]"
   ]
  },
  {
   "cell_type": "code",
   "execution_count": 5,
   "id": "2a11d2cd-7bbe-405e-af46-4b594408311d",
   "metadata": {},
   "outputs": [
    {
     "name": "stdout",
     "output_type": "stream",
     "text": [
      "bond_df\n",
      "exchange_df\n",
      "index_df\n",
      "materials_df\n",
      "metal_df\n"
     ]
    }
   ],
   "source": [
    "for file in files:\n",
    "    file_name = file.split(os.path.sep)[-1].split(\".csv\")[0]\n",
    "    globals()[file_name] = pd.read_csv(file)\n",
    "    print(file_name)"
   ]
  },
  {
   "cell_type": "code",
   "execution_count": 6,
   "id": "a689552f-c2fb-4927-a65b-db1863bbdf16",
   "metadata": {},
   "outputs": [],
   "source": [
    "data_list = [index_df, bond_df, exchange_df, materials_df, metal_df]"
   ]
  },
  {
   "cell_type": "code",
   "execution_count": 7,
   "id": "1348cb63-2138-4ef8-bc80-52c4e0db5926",
   "metadata": {},
   "outputs": [],
   "source": [
    "stock_df = reduce(lambda  left,right: pd.merge(left,right,on=['date'], how='inner'), data_list)"
   ]
  },
  {
   "cell_type": "code",
   "execution_count": 8,
   "id": "b3149e4d-8d52-42b1-8fa8-e1868cf97e3b",
   "metadata": {},
   "outputs": [
    {
     "data": {
      "text/plain": [
       "(3000, 401)"
      ]
     },
     "execution_count": 8,
     "metadata": {},
     "output_type": "execute_result"
    }
   ],
   "source": [
    "stock_df.shape"
   ]
  },
  {
   "cell_type": "code",
   "execution_count": null,
   "id": "b026fe8b-4acd-4cee-ad8a-b5c7875ffd7e",
   "metadata": {},
   "outputs": [],
   "source": []
  },
  {
   "cell_type": "markdown",
   "id": "08f88a62-da5c-4e8a-83f8-e628f23a0540",
   "metadata": {},
   "source": [
    "### Missing data processing"
   ]
  },
  {
   "cell_type": "markdown",
   "id": "e4b59aa1-e4a7-4411-a652-c7dacd680c1a",
   "metadata": {},
   "source": [
    "* target value NaN - 제거"
   ]
  },
  {
   "cell_type": "code",
   "execution_count": 13,
   "id": "8825a03d-0d55-44a0-a52f-a0931abd9aed",
   "metadata": {},
   "outputs": [],
   "source": [
    "target_col = 'kospi-200_close'"
   ]
  },
  {
   "cell_type": "code",
   "execution_count": 21,
   "id": "d610add1-e693-4d22-97c9-3cc8b77d3e84",
   "metadata": {},
   "outputs": [],
   "source": [
    "not_nan = stock_df.loc[:, target_col].isnull()\n",
    "stock_df = stock_df.loc[~not_nan, :]"
   ]
  },
  {
   "cell_type": "code",
   "execution_count": 22,
   "id": "1d862c61-a12a-4986-b3df-b5e18e6c03d3",
   "metadata": {},
   "outputs": [
    {
     "data": {
      "text/plain": [
       "(2501, 401)"
      ]
     },
     "execution_count": 22,
     "metadata": {},
     "output_type": "execute_result"
    }
   ],
   "source": [
    "stock_df.shape"
   ]
  },
  {
   "cell_type": "code",
   "execution_count": null,
   "id": "ec99bdd0-8f39-452d-915d-a73cbf76a29e",
   "metadata": {},
   "outputs": [],
   "source": []
  },
  {
   "cell_type": "markdown",
   "id": "0980a77b-792d-42e6-8db3-c279b1c587bf",
   "metadata": {},
   "source": [
    "* column별 NaN 비율 확인"
   ]
  },
  {
   "cell_type": "code",
   "execution_count": 25,
   "id": "36e6acef-aaca-41d3-973a-bbbdcab89e97",
   "metadata": {},
   "outputs": [],
   "source": [
    "total_nums = stock_df.shape[0]"
   ]
  },
  {
   "cell_type": "code",
   "execution_count": 34,
   "id": "a5d7513b-0c99-4bae-b949-5f302a8b3e95",
   "metadata": {},
   "outputs": [
    {
     "data": {
      "text/plain": [
       "이더리움/달러_var           0.595362\n",
       "이더리움/달러_close         0.595362\n",
       "atx_vol               0.335466\n",
       "atx_var               0.335466\n",
       "atx_close             0.335466\n",
       "tasi_vol              0.258697\n",
       "tasi_var              0.258697\n",
       "tasi_close            0.258697\n",
       "영국_알루미늄_close         0.257897\n",
       "영국_알루미늄_vol           0.257897\n",
       "영국_알루미늄_var           0.257897\n",
       "ta25_close            0.239904\n",
       "ta25_vol              0.239904\n",
       "ta25_var              0.239904\n",
       "비트코인/유로_close         0.168733\n",
       "비트코인/유로_var           0.168733\n",
       "dj-shanghai_var       0.136345\n",
       "dj-shanghai_vol       0.136345\n",
       "dj-shanghai_close     0.136345\n",
       "thailand-set_close    0.055978\n",
       "dtype: float64"
      ]
     },
     "execution_count": 34,
     "metadata": {},
     "output_type": "execute_result"
    }
   ],
   "source": [
    "(stock_df.isnull().sum(axis = 0) / total_nums).sort_values(ascending = False).head(20)"
   ]
  },
  {
   "cell_type": "code",
   "execution_count": null,
   "id": "aa3b54ee-be1d-48f3-b3ab-6f75576c3081",
   "metadata": {},
   "outputs": [],
   "source": []
  },
  {
   "cell_type": "markdown",
   "id": "ae72c2bd-72d6-4b6f-83b2-18c469c61038",
   "metadata": {},
   "source": [
    "* row별 NaN 비율 확인"
   ]
  },
  {
   "cell_type": "code",
   "execution_count": 36,
   "id": "030fbc67-e212-47cf-b735-435c88b2eecc",
   "metadata": {},
   "outputs": [],
   "source": [
    "total_nums2 = stock_df.shape[1]"
   ]
  },
  {
   "cell_type": "code",
   "execution_count": 42,
   "id": "0d840386-991a-4ff5-bbc0-17765cb432ba",
   "metadata": {},
   "outputs": [
    {
     "data": {
      "text/plain": [
       "1845    0.608479\n",
       "590     0.588529\n",
       "893     0.568579\n",
       "2137    0.441397\n",
       "2999    0.426434\n",
       "1610    0.396509\n",
       "63      0.361596\n",
       "0       0.356608\n",
       "1605    0.309227\n",
       "2964    0.281796\n",
       "2699    0.274314\n",
       "2396    0.269327\n",
       "2823    0.266833\n",
       "284     0.264339\n",
       "2210    0.261845\n",
       "2670    0.259352\n",
       "2762    0.254364\n",
       "2136    0.254364\n",
       "2989    0.251870\n",
       "2719    0.251870\n",
       "2867    0.246883\n",
       "2930    0.244389\n",
       "2738    0.239401\n",
       "2477    0.239401\n",
       "2630    0.236908\n",
       "1843    0.231920\n",
       "1220    0.229426\n",
       "680     0.229426\n",
       "1301    0.229426\n",
       "991     0.214464\n",
       "dtype: float64"
      ]
     },
     "execution_count": 42,
     "metadata": {},
     "output_type": "execute_result"
    }
   ],
   "source": [
    "(stock_df.isnull().sum(axis = 1) / total_nums2).sort_values(ascending = False).head(30)"
   ]
  },
  {
   "cell_type": "code",
   "execution_count": null,
   "id": "6a7d30bf-939c-469a-981d-62d88f5b9c0d",
   "metadata": {},
   "outputs": [],
   "source": []
  },
  {
   "cell_type": "markdown",
   "id": "77559a07-dd9c-4587-b49f-0429e5eed0fa",
   "metadata": {},
   "source": [
    "* rolling mean imputation"
   ]
  },
  {
   "cell_type": "code",
   "execution_count": null,
   "id": "4e6c35df-1b16-4b01-81a9-68d00a9dc998",
   "metadata": {},
   "outputs": [],
   "source": []
  },
  {
   "cell_type": "markdown",
   "id": "37faf709-c488-4c55-a5fa-54d723ab0c16",
   "metadata": {},
   "source": [
    "* target value leading"
   ]
  },
  {
   "cell_type": "code",
   "execution_count": null,
   "id": "7f48bdbb-5f0e-4fd2-bb3b-aa7a588c9e7c",
   "metadata": {},
   "outputs": [],
   "source": []
  }
 ],
 "metadata": {
  "kernelspec": {
   "display_name": "Python 3",
   "language": "python",
   "name": "python3"
  },
  "language_info": {
   "codemirror_mode": {
    "name": "ipython",
    "version": 3
   },
   "file_extension": ".py",
   "mimetype": "text/x-python",
   "name": "python",
   "nbconvert_exporter": "python",
   "pygments_lexer": "ipython3",
   "version": "3.8.8"
  }
 },
 "nbformat": 4,
 "nbformat_minor": 5
}
