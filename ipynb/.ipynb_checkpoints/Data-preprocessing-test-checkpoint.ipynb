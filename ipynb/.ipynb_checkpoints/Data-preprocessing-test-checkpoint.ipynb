{
 "cells": [
  {
   "cell_type": "markdown",
   "id": "59009fe1-1a37-492a-acd2-1ef06eee3fab",
   "metadata": {},
   "source": [
    "## Import"
   ]
  },
  {
   "cell_type": "code",
   "execution_count": 71,
   "id": "731a9bd0-d3b1-4c71-b682-03fca01c246e",
   "metadata": {},
   "outputs": [],
   "source": [
    "from sklearn.metrics import accuracy_score, f1_score, precision_score, recall_score, cohen_kappa_score\n",
    "from catboost import CatBoostClassifier\n",
    "from xgboost import XGBClassifier\n",
    "from lightgbm import LGBMClassifier\n",
    "from ngboost import NGBClassifier\n",
    "from functools import reduce\n",
    "from glob import glob\n",
    "from tqdm import tqdm\n",
    "\n",
    "import pandas as pd\n",
    "import numpy as np\n",
    "import os\n",
    "import re"
   ]
  },
  {
   "cell_type": "code",
   "execution_count": null,
   "id": "fb8aba32-9c1a-4f93-a3ba-a6db587993c7",
   "metadata": {},
   "outputs": [],
   "source": []
  },
  {
   "cell_type": "markdown",
   "id": "1db1dd67-cf3e-445c-baac-87db5d08e564",
   "metadata": {},
   "source": [
    "## Load"
   ]
  },
  {
   "cell_type": "code",
   "execution_count": 72,
   "id": "ada45752-63e7-4719-9b11-2606009f5e25",
   "metadata": {},
   "outputs": [],
   "source": [
    "out_data_path = 'C:\\\\Users\\\\PC0\\\\Documents\\\\datasets\\\\stock_price\\\\'\n",
    "data_path = 'C:\\\\Users\\\\PC0\\\\Documents\\\\GitHub\\\\Stock-price-prediction\\\\datasets\\\\'"
   ]
  },
  {
   "cell_type": "code",
   "execution_count": 73,
   "id": "5a9e638e-3d7c-41dd-b8d2-794991d08f67",
   "metadata": {},
   "outputs": [],
   "source": [
    "all_files = glob(data_path + \"*.csv\")\n",
    "\n",
    "files = [x for x in all_files if \"symbol\" not in x]"
   ]
  },
  {
   "cell_type": "code",
   "execution_count": 74,
   "id": "2a11d2cd-7bbe-405e-af46-4b594408311d",
   "metadata": {},
   "outputs": [
    {
     "name": "stdout",
     "output_type": "stream",
     "text": [
      "before_nan\n",
      "before_nan2\n",
      "bond_df\n",
      "exchange_df\n",
      "index_df\n",
      "materials_df\n",
      "metal_df\n",
      "predict_lgbm_adj_999\n",
      "stock_df_01\n",
      "temp_stock_df\n"
     ]
    }
   ],
   "source": [
    "for file in files:\n",
    "    file_name = file.split(os.path.sep)[-1].split(\".csv\")[0]\n",
    "    globals()[file_name] = pd.read_csv(file)\n",
    "    print(file_name)"
   ]
  },
  {
   "cell_type": "code",
   "execution_count": 75,
   "id": "a689552f-c2fb-4927-a65b-db1863bbdf16",
   "metadata": {},
   "outputs": [],
   "source": [
    "data_list = [index_df, bond_df, exchange_df, materials_df, metal_df]"
   ]
  },
  {
   "cell_type": "code",
   "execution_count": 76,
   "id": "1348cb63-2138-4ef8-bc80-52c4e0db5926",
   "metadata": {},
   "outputs": [],
   "source": [
    "stock_df = reduce(lambda  left,right: pd.merge(left,right,on=['date'], how='inner'), data_list)\n",
    "stock_df.replace(\"-\",np.NaN, inplace = True)"
   ]
  },
  {
   "cell_type": "code",
   "execution_count": 77,
   "id": "b3149e4d-8d52-42b1-8fa8-e1868cf97e3b",
   "metadata": {},
   "outputs": [
    {
     "data": {
      "text/plain": [
       "(3000, 401)"
      ]
     },
     "execution_count": 77,
     "metadata": {},
     "output_type": "execute_result"
    }
   ],
   "source": [
    "stock_df.shape"
   ]
  },
  {
   "cell_type": "code",
   "execution_count": 78,
   "id": "a67ebc66-8d2c-43d6-9ad3-a3d97209e6c2",
   "metadata": {},
   "outputs": [
    {
     "name": "stdout",
     "output_type": "stream",
     "text": [
      "(3717, 49) (3711, 83) (3282, 127) (3010, 112) (3176, 34)\n"
     ]
    }
   ],
   "source": [
    "print(bond_df.shape, exchange_df.shape, index_df.shape, materials_df.shape, metal_df.shape)"
   ]
  },
  {
   "cell_type": "code",
   "execution_count": 79,
   "id": "8a2fb45b-1f55-4d62-a247-c76d272850c3",
   "metadata": {},
   "outputs": [
    {
     "data": {
      "text/html": [
       "<div>\n",
       "<style scoped>\n",
       "    .dataframe tbody tr th:only-of-type {\n",
       "        vertical-align: middle;\n",
       "    }\n",
       "\n",
       "    .dataframe tbody tr th {\n",
       "        vertical-align: top;\n",
       "    }\n",
       "\n",
       "    .dataframe thead th {\n",
       "        text-align: right;\n",
       "    }\n",
       "</style>\n",
       "<table border=\"1\" class=\"dataframe\">\n",
       "  <thead>\n",
       "    <tr style=\"text-align: right;\">\n",
       "      <th></th>\n",
       "      <th>date</th>\n",
       "      <th>kosdaq_close</th>\n",
       "      <th>kosdaq_vol</th>\n",
       "      <th>kosdaq_var</th>\n",
       "      <th>us-30_close</th>\n",
       "      <th>us-30_vol</th>\n",
       "      <th>us-30_var</th>\n",
       "      <th>us-spx-500_close</th>\n",
       "      <th>us-spx-500_vol</th>\n",
       "      <th>us-spx-500_var</th>\n",
       "      <th>...</th>\n",
       "      <th>s-p-cnx-nifty_var</th>\n",
       "      <th>sensex_close</th>\n",
       "      <th>sensex_vol</th>\n",
       "      <th>sensex_var</th>\n",
       "      <th>vn-30_close</th>\n",
       "      <th>vn-30_vol</th>\n",
       "      <th>vn-30_var</th>\n",
       "      <th>kospi-200_close</th>\n",
       "      <th>kospi-200_vol</th>\n",
       "      <th>kospi-200_var</th>\n",
       "    </tr>\n",
       "  </thead>\n",
       "  <tbody>\n",
       "    <tr>\n",
       "      <th>0</th>\n",
       "      <td>2022-03-08</td>\n",
       "      <td>870.14</td>\n",
       "      <td>964.55K</td>\n",
       "      <td>-1.29</td>\n",
       "      <td>NaN</td>\n",
       "      <td>NaN</td>\n",
       "      <td>NaN</td>\n",
       "      <td>NaN</td>\n",
       "      <td>NaN</td>\n",
       "      <td>NaN</td>\n",
       "      <td>...</td>\n",
       "      <td>-0.99</td>\n",
       "      <td>52455.42</td>\n",
       "      <td>10.12K</td>\n",
       "      <td>-0.73</td>\n",
       "      <td>1495.79</td>\n",
       "      <td>171.73K</td>\n",
       "      <td>-0.88</td>\n",
       "      <td>349.38</td>\n",
       "      <td>182.46K</td>\n",
       "      <td>-1.03</td>\n",
       "    </tr>\n",
       "    <tr>\n",
       "      <th>1</th>\n",
       "      <td>2022-03-07</td>\n",
       "      <td>881.54</td>\n",
       "      <td>850.68K</td>\n",
       "      <td>-2.16</td>\n",
       "      <td>32813.56</td>\n",
       "      <td>473.57M</td>\n",
       "      <td>-2.38</td>\n",
       "      <td>4201.09</td>\n",
       "      <td>-</td>\n",
       "      <td>-2.95</td>\n",
       "      <td>...</td>\n",
       "      <td>-2.35</td>\n",
       "      <td>52842.75</td>\n",
       "      <td>17.11M</td>\n",
       "      <td>-2.74</td>\n",
       "      <td>1509.12</td>\n",
       "      <td>222.54K</td>\n",
       "      <td>-1.06</td>\n",
       "      <td>353.03</td>\n",
       "      <td>187.66K</td>\n",
       "      <td>-2.39</td>\n",
       "    </tr>\n",
       "    <tr>\n",
       "      <th>2</th>\n",
       "      <td>2022-03-06</td>\n",
       "      <td>NaN</td>\n",
       "      <td>NaN</td>\n",
       "      <td>NaN</td>\n",
       "      <td>NaN</td>\n",
       "      <td>NaN</td>\n",
       "      <td>NaN</td>\n",
       "      <td>NaN</td>\n",
       "      <td>NaN</td>\n",
       "      <td>NaN</td>\n",
       "      <td>...</td>\n",
       "      <td>NaN</td>\n",
       "      <td>NaN</td>\n",
       "      <td>NaN</td>\n",
       "      <td>NaN</td>\n",
       "      <td>NaN</td>\n",
       "      <td>NaN</td>\n",
       "      <td>NaN</td>\n",
       "      <td>NaN</td>\n",
       "      <td>NaN</td>\n",
       "      <td>NaN</td>\n",
       "    </tr>\n",
       "    <tr>\n",
       "      <th>3</th>\n",
       "      <td>2022-03-04</td>\n",
       "      <td>900.96</td>\n",
       "      <td>1.00B</td>\n",
       "      <td>-1.25</td>\n",
       "      <td>33614.67</td>\n",
       "      <td>395.92M</td>\n",
       "      <td>-0.53</td>\n",
       "      <td>4328.87</td>\n",
       "      <td>-</td>\n",
       "      <td>-0.79</td>\n",
       "      <td>...</td>\n",
       "      <td>-1.53</td>\n",
       "      <td>54333.81</td>\n",
       "      <td>10.99M</td>\n",
       "      <td>-1.40</td>\n",
       "      <td>1525.34</td>\n",
       "      <td>220.07K</td>\n",
       "      <td>0.19</td>\n",
       "      <td>361.69</td>\n",
       "      <td>237.19M</td>\n",
       "      <td>-1.46</td>\n",
       "    </tr>\n",
       "    <tr>\n",
       "      <th>4</th>\n",
       "      <td>2022-03-03</td>\n",
       "      <td>912.32</td>\n",
       "      <td>1.06B</td>\n",
       "      <td>1.88</td>\n",
       "      <td>33794.96</td>\n",
       "      <td>355.10M</td>\n",
       "      <td>-0.28</td>\n",
       "      <td>4363.49</td>\n",
       "      <td>-</td>\n",
       "      <td>-0.53</td>\n",
       "      <td>...</td>\n",
       "      <td>-0.65</td>\n",
       "      <td>55102.68</td>\n",
       "      <td>9.91K</td>\n",
       "      <td>-0.66</td>\n",
       "      <td>1522.49</td>\n",
       "      <td>244.08K</td>\n",
       "      <td>1.59</td>\n",
       "      <td>367.06</td>\n",
       "      <td>167.18M</td>\n",
       "      <td>1.79</td>\n",
       "    </tr>\n",
       "  </tbody>\n",
       "</table>\n",
       "<p>5 rows × 127 columns</p>\n",
       "</div>"
      ],
      "text/plain": [
       "         date  kosdaq_close kosdaq_vol  kosdaq_var  us-30_close us-30_vol  \\\n",
       "0  2022-03-08        870.14    964.55K       -1.29          NaN       NaN   \n",
       "1  2022-03-07        881.54    850.68K       -2.16     32813.56   473.57M   \n",
       "2  2022-03-06           NaN        NaN         NaN          NaN       NaN   \n",
       "3  2022-03-04        900.96      1.00B       -1.25     33614.67   395.92M   \n",
       "4  2022-03-03        912.32      1.06B        1.88     33794.96   355.10M   \n",
       "\n",
       "   us-30_var  us-spx-500_close us-spx-500_vol  us-spx-500_var  ...  \\\n",
       "0        NaN               NaN            NaN             NaN  ...   \n",
       "1      -2.38           4201.09              -           -2.95  ...   \n",
       "2        NaN               NaN            NaN             NaN  ...   \n",
       "3      -0.53           4328.87              -           -0.79  ...   \n",
       "4      -0.28           4363.49              -           -0.53  ...   \n",
       "\n",
       "   s-p-cnx-nifty_var sensex_close  sensex_vol  sensex_var vn-30_close  \\\n",
       "0              -0.99     52455.42      10.12K       -0.73     1495.79   \n",
       "1              -2.35     52842.75      17.11M       -2.74     1509.12   \n",
       "2                NaN          NaN         NaN         NaN         NaN   \n",
       "3              -1.53     54333.81      10.99M       -1.40     1525.34   \n",
       "4              -0.65     55102.68       9.91K       -0.66     1522.49   \n",
       "\n",
       "   vn-30_vol  vn-30_var kospi-200_close  kospi-200_vol  kospi-200_var  \n",
       "0    171.73K      -0.88          349.38        182.46K          -1.03  \n",
       "1    222.54K      -1.06          353.03        187.66K          -2.39  \n",
       "2        NaN        NaN             NaN            NaN            NaN  \n",
       "3    220.07K       0.19          361.69        237.19M          -1.46  \n",
       "4    244.08K       1.59          367.06        167.18M           1.79  \n",
       "\n",
       "[5 rows x 127 columns]"
      ]
     },
     "execution_count": 79,
     "metadata": {},
     "output_type": "execute_result"
    }
   ],
   "source": [
    "index_df.head()"
   ]
  },
  {
   "cell_type": "code",
   "execution_count": null,
   "id": "eca36683-9d23-45ab-9f3b-e8687c97040a",
   "metadata": {},
   "outputs": [],
   "source": []
  },
  {
   "cell_type": "markdown",
   "id": "08f88a62-da5c-4e8a-83f8-e628f23a0540",
   "metadata": {},
   "source": [
    "### Missing data processing"
   ]
  },
  {
   "cell_type": "markdown",
   "id": "e4b59aa1-e4a7-4411-a652-c7dacd680c1a",
   "metadata": {},
   "source": [
    "* target value NaN - 제거"
   ]
  },
  {
   "cell_type": "code",
   "execution_count": 80,
   "id": "8825a03d-0d55-44a0-a52f-a0931abd9aed",
   "metadata": {},
   "outputs": [],
   "source": [
    "target_col = 'kospi-200_close'"
   ]
  },
  {
   "cell_type": "code",
   "execution_count": 81,
   "id": "6fb7d967-76f6-436d-a71d-2bad671196b9",
   "metadata": {},
   "outputs": [],
   "source": [
    "def text2num(x):\n",
    "    if type(x) == float:\n",
    "        return x\n",
    "    else:\n",
    "        text = re.findall('[KMB]',x)[0]\n",
    "        if len(text) == 0:\n",
    "            output = np.float(x)\n",
    "        elif text == \"K\" :\n",
    "            num = np.float(re.sub('[KBM]',\"\",x))\n",
    "            output = num * 1000\n",
    "        elif text == \"M\" :\n",
    "            num = np.float(re.sub('[KBM]',\"\",x))\n",
    "            output = num * 1000000\n",
    "        elif text == \"B\" :\n",
    "            num = np.float(re.sub('[KBM]',\"\",x))\n",
    "            output = num * 1000000000\n",
    "        return output\n",
    "\n",
    "def apply_txt(x):\n",
    "    return [text2num(z) for z in x]"
   ]
  },
  {
   "cell_type": "code",
   "execution_count": 82,
   "id": "ec99bdd0-8f39-452d-915d-a73cbf76a29e",
   "metadata": {},
   "outputs": [],
   "source": [
    "def basic_preproc(data, target_col = 'kospi-200_close'):\n",
    "    stock_df = data\n",
    "    \n",
    "    # target null 삭제\n",
    "    not_nan = stock_df.loc[:, target_col].isnull()\n",
    "    stock_df = stock_df.loc[~not_nan, :]\n",
    "    stock_df.index = [x for x in range(stock_df.shape[0])]\n",
    "\n",
    "    vol_columns = [x for x in stock_df.columns if \"vol\" in x]\n",
    "\n",
    "    temp_df = stock_df.loc[:, vol_columns]\n",
    "    temp_df = temp_df.apply(apply_txt, axis = 0)\n",
    "    stock_df.loc[:, vol_columns] = temp_df\n",
    "\n",
    "    total_nums = stock_df.shape[0]\n",
    "\n",
    "    # 0.2 기준으로 제거\n",
    "    del_cols = (stock_df.isnull().sum(axis = 0) / total_nums).sort_values(ascending = False) > 0.2\n",
    "\n",
    "    max_idx = np.max(np.where(del_cols)[0])\n",
    "    del_cols = del_cols.index[:max_idx+1]\n",
    "\n",
    "    stock_df = stock_df.loc[:, ~stock_df.columns.isin(del_cols)]\n",
    "\n",
    "    total_nums2 = stock_df.shape[1]\n",
    "\n",
    "    del_rows = (stock_df.isnull().sum(axis = 1) / total_nums2).sort_values(ascending = False) > 0.1\n",
    "    max_idx = np.max(np.where(del_rows)[0])\n",
    "\n",
    "    del_rows = del_rows.index[:max_idx+1]\n",
    "    del_rows = [x for x in range(stock_df.shape[0]) if x not in del_rows]\n",
    "\n",
    "    stock_df = stock_df.iloc[del_rows,:]\n",
    "    stock_df.index = [x for x in range(stock_df.shape[0])]\n",
    "\n",
    "    del_cols = [x for x in stock_df.columns if (\"x.\" in x) or (\"_y\" in x) or (\"_x\" in x)]\n",
    "    stock_df = stock_df.loc[:, ~stock_df.columns.isin(del_cols)]\n",
    "    \n",
    "    stock_df.sort_values(\"date\", inplace = True)\n",
    "    stock_df.index = [x for x in range(stock_df.shape[0])]\n",
    "    \n",
    "    return stock_df"
   ]
  },
  {
   "cell_type": "code",
   "execution_count": 83,
   "id": "d35647da-79a0-473b-8b52-0d788d60ae0b",
   "metadata": {},
   "outputs": [],
   "source": [
    "def make_var(x):\n",
    "    now = x[1:]\n",
    "    past = x.shift(1)[1:]\n",
    "    \n",
    "    return ((now - past) / (past+0.0001)) * 100\n",
    "\n",
    "def basic_preproc2(data, target_col = 'kospi-200_close'):\n",
    "    stock_df = data\n",
    "    t_value = stock_df[target_col].shift(-1)\n",
    "    stock_df['target'] = t_value\n",
    "\n",
    "    vol_cols = [x for x in stock_df.columns if \"_vol\" in x]\n",
    "    vol_df = stock_df.loc[:, stock_df.columns.isin(vol_cols)]\n",
    "\n",
    "    var_cols = [x for x in stock_df.columns if \"_close\" in x]\n",
    "    var_df = stock_df.loc[:, stock_df.columns.isin(var_cols)]\n",
    "\n",
    "    stock_df = stock_df.iloc[1:, :]\n",
    "\n",
    "    stock_df.loc[:, stock_df.columns.isin(vol_cols)] = vol_df.apply(make_var)\n",
    "\n",
    "    var_cols = [x for x in stock_df.columns if \"_var\" in x]\n",
    "    stock_df.loc[:, stock_df.columns.isin(var_cols)] = var_df.apply(make_var).values\n",
    "    \n",
    "    stock_df = stock_df.iloc[:-1,:]\n",
    "    stock_df.index = [x for x in range(stock_df.shape[0])]\n",
    "\n",
    "    t_diff = stock_df['target'] - stock_df[target_col]\n",
    "    c_target = [\"Up\" if x >= 0 else \"Down\" for x in t_diff]\n",
    "    stock_df['c_target'] = c_target\n",
    "    \n",
    "    return stock_df"
   ]
  },
  {
   "cell_type": "code",
   "execution_count": null,
   "id": "17dbb091-1e8a-4562-9281-01d766a13b54",
   "metadata": {},
   "outputs": [],
   "source": [
    "stock_df = basic_preproc(stock_df)\n",
    "stock_df = basic_preproc2(stock_df)"
   ]
  },
  {
   "cell_type": "code",
   "execution_count": 85,
   "id": "a215cfdf-1a1d-4425-9cde-a6b1136da2a7",
   "metadata": {},
   "outputs": [
    {
     "data": {
      "text/html": [
       "<div>\n",
       "<style scoped>\n",
       "    .dataframe tbody tr th:only-of-type {\n",
       "        vertical-align: middle;\n",
       "    }\n",
       "\n",
       "    .dataframe tbody tr th {\n",
       "        vertical-align: top;\n",
       "    }\n",
       "\n",
       "    .dataframe thead th {\n",
       "        text-align: right;\n",
       "    }\n",
       "</style>\n",
       "<table border=\"1\" class=\"dataframe\">\n",
       "  <thead>\n",
       "    <tr style=\"text-align: right;\">\n",
       "      <th></th>\n",
       "      <th>date</th>\n",
       "      <th>kosdaq_close</th>\n",
       "      <th>kosdaq_vol</th>\n",
       "      <th>kosdaq_var</th>\n",
       "      <th>us-30_close</th>\n",
       "      <th>us-30_vol</th>\n",
       "      <th>us-30_var</th>\n",
       "      <th>us-spx-500_close</th>\n",
       "      <th>us-spx-500_var</th>\n",
       "      <th>nasdaq-composite_close</th>\n",
       "      <th>...</th>\n",
       "      <th>영국_아연_var</th>\n",
       "      <th>은_close</th>\n",
       "      <th>은_vol</th>\n",
       "      <th>은_var</th>\n",
       "      <th>영국_주석_close</th>\n",
       "      <th>영국_주석_var</th>\n",
       "      <th>미국_팔라듐_close</th>\n",
       "      <th>미국_팔라듐_var</th>\n",
       "      <th>target</th>\n",
       "      <th>c_target</th>\n",
       "    </tr>\n",
       "  </thead>\n",
       "  <tbody>\n",
       "    <tr>\n",
       "      <th>0</th>\n",
       "      <td>2012-01-04</td>\n",
       "      <td>516.30</td>\n",
       "      <td>10.338584</td>\n",
       "      <td>0.480704</td>\n",
       "      <td>12418.42</td>\n",
       "      <td>-4.870215</td>\n",
       "      <td>0.169713</td>\n",
       "      <td>1277.30</td>\n",
       "      <td>0.018793</td>\n",
       "      <td>2648.36</td>\n",
       "      <td>...</td>\n",
       "      <td>-0.415717</td>\n",
       "      <td>29.063</td>\n",
       "      <td>-49.999964</td>\n",
       "      <td>-1.591435</td>\n",
       "      <td>19555.0</td>\n",
       "      <td>-1.975036</td>\n",
       "      <td>649.9</td>\n",
       "      <td>-2.241275</td>\n",
       "      <td>243.56</td>\n",
       "      <td>Down</td>\n",
       "    </tr>\n",
       "    <tr>\n",
       "      <th>1</th>\n",
       "      <td>2012-01-05</td>\n",
       "      <td>521.96</td>\n",
       "      <td>0.338910</td>\n",
       "      <td>1.096262</td>\n",
       "      <td>12415.70</td>\n",
       "      <td>9.171088</td>\n",
       "      <td>-0.021903</td>\n",
       "      <td>1281.06</td>\n",
       "      <td>0.294371</td>\n",
       "      <td>2669.86</td>\n",
       "      <td>...</td>\n",
       "      <td>-1.898734</td>\n",
       "      <td>29.265</td>\n",
       "      <td>-57.142776</td>\n",
       "      <td>0.695039</td>\n",
       "      <td>19814.0</td>\n",
       "      <td>1.324469</td>\n",
       "      <td>640.4</td>\n",
       "      <td>-1.461763</td>\n",
       "      <td>240.57</td>\n",
       "      <td>Down</td>\n",
       "    </tr>\n",
       "    <tr>\n",
       "      <th>2</th>\n",
       "      <td>2012-01-06</td>\n",
       "      <td>518.94</td>\n",
       "      <td>-4.322176</td>\n",
       "      <td>-0.578588</td>\n",
       "      <td>12359.92</td>\n",
       "      <td>-17.243120</td>\n",
       "      <td>-0.449270</td>\n",
       "      <td>1277.81</td>\n",
       "      <td>-0.253696</td>\n",
       "      <td>2674.22</td>\n",
       "      <td>...</td>\n",
       "      <td>1.070693</td>\n",
       "      <td>28.653</td>\n",
       "      <td>166.666111</td>\n",
       "      <td>-2.091228</td>\n",
       "      <td>19807.0</td>\n",
       "      <td>-0.035329</td>\n",
       "      <td>616.1</td>\n",
       "      <td>-3.794503</td>\n",
       "      <td>238.02</td>\n",
       "      <td>Down</td>\n",
       "    </tr>\n",
       "    <tr>\n",
       "      <th>3</th>\n",
       "      <td>2012-01-09</td>\n",
       "      <td>520.28</td>\n",
       "      <td>-1.381745</td>\n",
       "      <td>0.258219</td>\n",
       "      <td>12392.69</td>\n",
       "      <td>-6.802929</td>\n",
       "      <td>0.265131</td>\n",
       "      <td>1280.70</td>\n",
       "      <td>0.226168</td>\n",
       "      <td>2676.56</td>\n",
       "      <td>...</td>\n",
       "      <td>1.602608</td>\n",
       "      <td>28.749</td>\n",
       "      <td>-24.999969</td>\n",
       "      <td>0.335042</td>\n",
       "      <td>19746.0</td>\n",
       "      <td>-0.307972</td>\n",
       "      <td>620.0</td>\n",
       "      <td>0.633014</td>\n",
       "      <td>241.69</td>\n",
       "      <td>Up</td>\n",
       "    </tr>\n",
       "    <tr>\n",
       "      <th>4</th>\n",
       "      <td>2012-01-10</td>\n",
       "      <td>525.74</td>\n",
       "      <td>-7.664772</td>\n",
       "      <td>1.049435</td>\n",
       "      <td>12462.47</td>\n",
       "      <td>15.572831</td>\n",
       "      <td>0.563074</td>\n",
       "      <td>1292.08</td>\n",
       "      <td>0.888576</td>\n",
       "      <td>2702.50</td>\n",
       "      <td>...</td>\n",
       "      <td>2.807111</td>\n",
       "      <td>29.783</td>\n",
       "      <td>66.666556</td>\n",
       "      <td>3.596634</td>\n",
       "      <td>20219.0</td>\n",
       "      <td>2.395422</td>\n",
       "      <td>636.9</td>\n",
       "      <td>2.725806</td>\n",
       "      <td>240.83</td>\n",
       "      <td>Down</td>\n",
       "    </tr>\n",
       "  </tbody>\n",
       "</table>\n",
       "<p>5 rows × 302 columns</p>\n",
       "</div>"
      ],
      "text/plain": [
       "         date  kosdaq_close  kosdaq_vol  kosdaq_var  us-30_close  us-30_vol  \\\n",
       "0  2012-01-04        516.30   10.338584    0.480704     12418.42  -4.870215   \n",
       "1  2012-01-05        521.96    0.338910    1.096262     12415.70   9.171088   \n",
       "2  2012-01-06        518.94   -4.322176   -0.578588     12359.92 -17.243120   \n",
       "3  2012-01-09        520.28   -1.381745    0.258219     12392.69  -6.802929   \n",
       "4  2012-01-10        525.74   -7.664772    1.049435     12462.47  15.572831   \n",
       "\n",
       "   us-30_var  us-spx-500_close  us-spx-500_var  nasdaq-composite_close  ...  \\\n",
       "0   0.169713           1277.30        0.018793                 2648.36  ...   \n",
       "1  -0.021903           1281.06        0.294371                 2669.86  ...   \n",
       "2  -0.449270           1277.81       -0.253696                 2674.22  ...   \n",
       "3   0.265131           1280.70        0.226168                 2676.56  ...   \n",
       "4   0.563074           1292.08        0.888576                 2702.50  ...   \n",
       "\n",
       "   영국_아연_var  은_close       은_vol     은_var  영국_주석_close  영국_주석_var  \\\n",
       "0  -0.415717   29.063  -49.999964 -1.591435      19555.0  -1.975036   \n",
       "1  -1.898734   29.265  -57.142776  0.695039      19814.0   1.324469   \n",
       "2   1.070693   28.653  166.666111 -2.091228      19807.0  -0.035329   \n",
       "3   1.602608   28.749  -24.999969  0.335042      19746.0  -0.307972   \n",
       "4   2.807111   29.783   66.666556  3.596634      20219.0   2.395422   \n",
       "\n",
       "   미국_팔라듐_close  미국_팔라듐_var  target  c_target  \n",
       "0         649.9   -2.241275  243.56      Down  \n",
       "1         640.4   -1.461763  240.57      Down  \n",
       "2         616.1   -3.794503  238.02      Down  \n",
       "3         620.0    0.633014  241.69        Up  \n",
       "4         636.9    2.725806  240.83      Down  \n",
       "\n",
       "[5 rows x 302 columns]"
      ]
     },
     "execution_count": 85,
     "metadata": {},
     "output_type": "execute_result"
    }
   ],
   "source": [
    "stock_df.head()"
   ]
  },
  {
   "cell_type": "code",
   "execution_count": 86,
   "id": "4536ab94-7af0-4151-bdf2-c5f04cbb512b",
   "metadata": {},
   "outputs": [
    {
     "data": {
      "text/html": [
       "<div>\n",
       "<style scoped>\n",
       "    .dataframe tbody tr th:only-of-type {\n",
       "        vertical-align: middle;\n",
       "    }\n",
       "\n",
       "    .dataframe tbody tr th {\n",
       "        vertical-align: top;\n",
       "    }\n",
       "\n",
       "    .dataframe thead th {\n",
       "        text-align: right;\n",
       "    }\n",
       "</style>\n",
       "<table border=\"1\" class=\"dataframe\">\n",
       "  <thead>\n",
       "    <tr style=\"text-align: right;\">\n",
       "      <th></th>\n",
       "      <th>date</th>\n",
       "      <th>kosdaq_close</th>\n",
       "      <th>kosdaq_vol</th>\n",
       "      <th>kosdaq_var</th>\n",
       "      <th>us-30_close</th>\n",
       "      <th>us-30_vol</th>\n",
       "      <th>us-30_var</th>\n",
       "      <th>us-spx-500_close</th>\n",
       "      <th>us-spx-500_var</th>\n",
       "      <th>nasdaq-composite_close</th>\n",
       "      <th>...</th>\n",
       "      <th>영국_아연_var</th>\n",
       "      <th>은_close</th>\n",
       "      <th>은_vol</th>\n",
       "      <th>은_var</th>\n",
       "      <th>영국_주석_close</th>\n",
       "      <th>영국_주석_var</th>\n",
       "      <th>미국_팔라듐_close</th>\n",
       "      <th>미국_팔라듐_var</th>\n",
       "      <th>target</th>\n",
       "      <th>c_target</th>\n",
       "    </tr>\n",
       "  </thead>\n",
       "  <tbody>\n",
       "    <tr>\n",
       "      <th>2403</th>\n",
       "      <td>2022-02-25</td>\n",
       "      <td>872.98</td>\n",
       "      <td>-18.452381</td>\n",
       "      <td>2.920267</td>\n",
       "      <td>34058.55</td>\n",
       "      <td>-29.465638</td>\n",
       "      <td>2.515345</td>\n",
       "      <td>4384.62</td>\n",
       "      <td>2.236575</td>\n",
       "      <td>13694.62</td>\n",
       "      <td>...</td>\n",
       "      <td>-0.535567</td>\n",
       "      <td>24.017</td>\n",
       "      <td>-25.916144</td>\n",
       "      <td>-2.804521</td>\n",
       "      <td>44470.0</td>\n",
       "      <td>-1.591095</td>\n",
       "      <td>2372.50</td>\n",
       "      <td>-2.004114</td>\n",
       "      <td>361.54</td>\n",
       "      <td>Up</td>\n",
       "    </tr>\n",
       "    <tr>\n",
       "      <th>2404</th>\n",
       "      <td>2022-02-28</td>\n",
       "      <td>881.07</td>\n",
       "      <td>-21.897810</td>\n",
       "      <td>0.926711</td>\n",
       "      <td>33879.55</td>\n",
       "      <td>1.915576</td>\n",
       "      <td>-0.525566</td>\n",
       "      <td>4373.79</td>\n",
       "      <td>-0.247000</td>\n",
       "      <td>13751.40</td>\n",
       "      <td>...</td>\n",
       "      <td>1.228773</td>\n",
       "      <td>24.366</td>\n",
       "      <td>-17.884730</td>\n",
       "      <td>1.453131</td>\n",
       "      <td>45224.0</td>\n",
       "      <td>1.695525</td>\n",
       "      <td>2487.52</td>\n",
       "      <td>4.848050</td>\n",
       "      <td>360.59</td>\n",
       "      <td>Down</td>\n",
       "    </tr>\n",
       "    <tr>\n",
       "      <th>2405</th>\n",
       "      <td>2022-03-02</td>\n",
       "      <td>895.45</td>\n",
       "      <td>-2.803738</td>\n",
       "      <td>1.632106</td>\n",
       "      <td>33889.96</td>\n",
       "      <td>-6.031100</td>\n",
       "      <td>0.030727</td>\n",
       "      <td>4386.54</td>\n",
       "      <td>0.291509</td>\n",
       "      <td>13752.02</td>\n",
       "      <td>...</td>\n",
       "      <td>5.319149</td>\n",
       "      <td>25.190</td>\n",
       "      <td>25.669320</td>\n",
       "      <td>3.381748</td>\n",
       "      <td>45628.0</td>\n",
       "      <td>0.893331</td>\n",
       "      <td>2656.02</td>\n",
       "      <td>6.773815</td>\n",
       "      <td>367.06</td>\n",
       "      <td>Up</td>\n",
       "    </tr>\n",
       "    <tr>\n",
       "      <th>2406</th>\n",
       "      <td>2022-03-03</td>\n",
       "      <td>912.32</td>\n",
       "      <td>1.923077</td>\n",
       "      <td>1.883969</td>\n",
       "      <td>33794.96</td>\n",
       "      <td>-8.469945</td>\n",
       "      <td>-0.280319</td>\n",
       "      <td>4363.49</td>\n",
       "      <td>-0.525471</td>\n",
       "      <td>13537.94</td>\n",
       "      <td>...</td>\n",
       "      <td>1.541052</td>\n",
       "      <td>25.212</td>\n",
       "      <td>-17.273643</td>\n",
       "      <td>0.087336</td>\n",
       "      <td>46412.0</td>\n",
       "      <td>1.718243</td>\n",
       "      <td>2762.52</td>\n",
       "      <td>4.009759</td>\n",
       "      <td>361.69</td>\n",
       "      <td>Down</td>\n",
       "    </tr>\n",
       "    <tr>\n",
       "      <th>2407</th>\n",
       "      <td>2022-03-04</td>\n",
       "      <td>900.96</td>\n",
       "      <td>-5.660377</td>\n",
       "      <td>-1.245177</td>\n",
       "      <td>33614.67</td>\n",
       "      <td>11.495353</td>\n",
       "      <td>-0.533482</td>\n",
       "      <td>4328.87</td>\n",
       "      <td>-0.793402</td>\n",
       "      <td>13313.44</td>\n",
       "      <td>...</td>\n",
       "      <td>3.328657</td>\n",
       "      <td>25.789</td>\n",
       "      <td>23.299113</td>\n",
       "      <td>2.288584</td>\n",
       "      <td>47540.0</td>\n",
       "      <td>2.430406</td>\n",
       "      <td>2990.00</td>\n",
       "      <td>8.234510</td>\n",
       "      <td>353.03</td>\n",
       "      <td>Down</td>\n",
       "    </tr>\n",
       "  </tbody>\n",
       "</table>\n",
       "<p>5 rows × 302 columns</p>\n",
       "</div>"
      ],
      "text/plain": [
       "            date  kosdaq_close  kosdaq_vol  kosdaq_var  us-30_close  \\\n",
       "2403  2022-02-25        872.98  -18.452381    2.920267     34058.55   \n",
       "2404  2022-02-28        881.07  -21.897810    0.926711     33879.55   \n",
       "2405  2022-03-02        895.45   -2.803738    1.632106     33889.96   \n",
       "2406  2022-03-03        912.32    1.923077    1.883969     33794.96   \n",
       "2407  2022-03-04        900.96   -5.660377   -1.245177     33614.67   \n",
       "\n",
       "      us-30_vol  us-30_var  us-spx-500_close  us-spx-500_var  \\\n",
       "2403 -29.465638   2.515345           4384.62        2.236575   \n",
       "2404   1.915576  -0.525566           4373.79       -0.247000   \n",
       "2405  -6.031100   0.030727           4386.54        0.291509   \n",
       "2406  -8.469945  -0.280319           4363.49       -0.525471   \n",
       "2407  11.495353  -0.533482           4328.87       -0.793402   \n",
       "\n",
       "      nasdaq-composite_close  ...  영국_아연_var  은_close      은_vol     은_var  \\\n",
       "2403                13694.62  ...  -0.535567   24.017 -25.916144 -2.804521   \n",
       "2404                13751.40  ...   1.228773   24.366 -17.884730  1.453131   \n",
       "2405                13752.02  ...   5.319149   25.190  25.669320  3.381748   \n",
       "2406                13537.94  ...   1.541052   25.212 -17.273643  0.087336   \n",
       "2407                13313.44  ...   3.328657   25.789  23.299113  2.288584   \n",
       "\n",
       "      영국_주석_close  영국_주석_var  미국_팔라듐_close  미국_팔라듐_var  target  c_target  \n",
       "2403      44470.0  -1.591095       2372.50   -2.004114  361.54        Up  \n",
       "2404      45224.0   1.695525       2487.52    4.848050  360.59      Down  \n",
       "2405      45628.0   0.893331       2656.02    6.773815  367.06        Up  \n",
       "2406      46412.0   1.718243       2762.52    4.009759  361.69      Down  \n",
       "2407      47540.0   2.430406       2990.00    8.234510  353.03      Down  \n",
       "\n",
       "[5 rows x 302 columns]"
      ]
     },
     "execution_count": 86,
     "metadata": {},
     "output_type": "execute_result"
    }
   ],
   "source": [
    "stock_df.tail()"
   ]
  },
  {
   "cell_type": "code",
   "execution_count": null,
   "id": "74d25b6b-6995-423a-b162-2a6351de33b4",
   "metadata": {},
   "outputs": [],
   "source": []
  },
  {
   "cell_type": "markdown",
   "id": "b31a9aa7-238a-42b8-b2ee-731e7a8053c9",
   "metadata": {},
   "source": [
    "## Missing value imputation"
   ]
  },
  {
   "cell_type": "markdown",
   "id": "bb482923-cae5-4d8f-8ee4-29545219d615",
   "metadata": {},
   "source": [
    "* interpolation 3,5,7,9 --> NaN 값만 평균으로 대체"
   ]
  },
  {
   "cell_type": "code",
   "execution_count": 87,
   "id": "1ad66c3e-d774-4193-a87c-7ffbe41a1311",
   "metadata": {},
   "outputs": [],
   "source": [
    "from missingpy import MissForest\n",
    "import copy"
   ]
  },
  {
   "cell_type": "code",
   "execution_count": 88,
   "id": "3b7f025a-b246-4277-8d07-5f37892853ba",
   "metadata": {},
   "outputs": [],
   "source": [
    "stock_df.to_csv(data_path + \"before_nan2.csv\", index = False)"
   ]
  },
  {
   "cell_type": "code",
   "execution_count": 57,
   "id": "6a6c7b57-3e9f-45a3-9026-c2995b90636e",
   "metadata": {},
   "outputs": [],
   "source": [
    "c_target = stock_df['c_target']\n",
    "del stock_df['c_target']"
   ]
  },
  {
   "cell_type": "code",
   "execution_count": 58,
   "id": "c46f8172-b00b-4050-a2bc-a9aad403fe73",
   "metadata": {},
   "outputs": [],
   "source": [
    "inter_list = [3,5,7,9]"
   ]
  },
  {
   "cell_type": "code",
   "execution_count": 65,
   "id": "165c4594-e2e2-467b-82b3-676dabb3c034",
   "metadata": {
    "tags": []
   },
   "outputs": [
    {
     "name": "stdout",
     "output_type": "stream",
     "text": [
      "Iteration: 0\n",
      "Iteration: 1\n",
      "Iteration: 2\n",
      "Iteration: 3\n"
     ]
    },
    {
     "name": "stderr",
     "output_type": "stream",
     "text": [
      "  0%|                                                                                         | 0/2307 [00:00<?, ?it/s]C:\\Users\\PC0\\anaconda3\\lib\\site-packages\\sklearn\\utils\\validation.py:72: DataConversionWarning: A column-vector y was passed when a 1d array was expected. Please change the shape of y to (n_samples, ), for example using ravel().\n",
      "  return f(**kwargs)\n",
      "  0%|                                                                                 | 3/2307 [00:00<01:22, 27.78it/s]"
     ]
    },
    {
     "name": "stdout",
     "output_type": "stream",
     "text": [
      "Iteration: 4\n",
      "Start Fitting..\n"
     ]
    },
    {
     "name": "stderr",
     "output_type": "stream",
     "text": [
      "100%|██████████████████████████████████████████████████████████████████████████████| 2307/2307 [19:17<00:00,  1.99it/s]\n"
     ]
    },
    {
     "name": "stdout",
     "output_type": "stream",
     "text": [
      "Finish\n",
      "###### roll_nums: 5 #####\n",
      "acc:  0.552665799739922\n",
      "precision:  0.5691367456073338\n",
      "recall:  0.6141797197032152\n",
      "f1:  0.5908009516256939\n",
      "kappa:  0.09906683518629245\n",
      "0.5833333333333333\n",
      "0.5817490494296578\n",
      "Iteration: 0\n",
      "Iteration: 1\n",
      "Iteration: 2\n",
      "Iteration: 3\n"
     ]
    },
    {
     "name": "stderr",
     "output_type": "stream",
     "text": [
      "  0%|                                                                                         | 0/2307 [00:00<?, ?it/s]C:\\Users\\PC0\\anaconda3\\lib\\site-packages\\sklearn\\utils\\validation.py:72: DataConversionWarning: A column-vector y was passed when a 1d array was expected. Please change the shape of y to (n_samples, ), for example using ravel().\n",
      "  return f(**kwargs)\n",
      "  0%|                                                                                 | 3/2307 [00:00<01:21, 28.30it/s]"
     ]
    },
    {
     "name": "stdout",
     "output_type": "stream",
     "text": [
      "Iteration: 4\n",
      "Start Fitting..\n"
     ]
    },
    {
     "name": "stderr",
     "output_type": "stream",
     "text": [
      "100%|██████████████████████████████████████████████████████████████████████████████| 2307/2307 [18:44<00:00,  2.05it/s]\n"
     ]
    },
    {
     "name": "stdout",
     "output_type": "stream",
     "text": [
      "Finish\n",
      "###### roll_nums: 7 #####\n",
      "acc:  0.5422626788036411\n",
      "precision:  0.560899922420481\n",
      "recall:  0.596042868920033\n",
      "f1:  0.577937649880096\n",
      "kappa:  0.07894442344045371\n",
      "0.5408805031446541\n",
      "0.578544061302682\n",
      "Iteration: 0\n",
      "Iteration: 1\n",
      "Iteration: 2\n"
     ]
    },
    {
     "name": "stderr",
     "output_type": "stream",
     "text": [
      "  0%|                                                                                         | 0/2307 [00:00<?, ?it/s]C:\\Users\\PC0\\anaconda3\\lib\\site-packages\\sklearn\\utils\\validation.py:72: DataConversionWarning: A column-vector y was passed when a 1d array was expected. Please change the shape of y to (n_samples, ), for example using ravel().\n",
      "  return f(**kwargs)\n",
      "  0%|                                                                                 | 3/2307 [00:00<01:20, 28.57it/s]"
     ]
    },
    {
     "name": "stdout",
     "output_type": "stream",
     "text": [
      "Iteration: 3\n",
      "Start Fitting..\n"
     ]
    },
    {
     "name": "stderr",
     "output_type": "stream",
     "text": [
      "100%|██████████████████████████████████████████████████████████████████████████████| 2307/2307 [18:17<00:00,  2.10it/s]"
     ]
    },
    {
     "name": "stdout",
     "output_type": "stream",
     "text": [
      "Finish\n",
      "###### roll_nums: 9 #####\n",
      "acc:  0.5379280450801908\n",
      "precision:  0.555978674790556\n",
      "recall:  0.6018136850783182\n",
      "f1:  0.5779889152810768\n",
      "kappa:  0.06921727203362127\n",
      "0.5974025974025974\n",
      "0.5567765567765568\n"
     ]
    },
    {
     "name": "stderr",
     "output_type": "stream",
     "text": [
      "\n"
     ]
    }
   ],
   "source": [
    "for roll_nums in inter_list[1:]:\n",
    "    roll_df = copy.deepcopy(stock_df)\n",
    "    del roll_df['target']\n",
    "    \n",
    "    # interpolation\n",
    "    for col in roll_df.columns[1:]:\n",
    "        roll_df[col] = roll_df[col].rolling(roll_nums, min_periods = 1).mean()\n",
    "\n",
    "    # 나머지 nan 대치 using missforest\n",
    "    imputer = MissForest()\n",
    "    imputed_x = imputer.fit_transform(roll_df.iloc[:, 1:])\n",
    "    roll_df.iloc[:, 1:] = imputed_x\n",
    "    \n",
    "    # modeling\n",
    "    temp_x = roll_df.iloc[:, 1:]\n",
    "\n",
    "    train_volum = 100\n",
    "    train_start_idx = 0\n",
    "    data = temp_x\n",
    "    model_lgbm = LGBMClassifier()\n",
    "    model = model_lgbm\n",
    "\n",
    "    c_target_num = np.where(np.array(c_target) == \"Up\", 1, 0)\n",
    "    c_target_num = pd.DataFrame(c_target_num)\n",
    "    \n",
    "    pred_dict = {}\n",
    "    beta = 0.999\n",
    "    train_end_idx = train_start_idx + train_volum\n",
    "    test_start_idx = train_end_idx + 1\n",
    "\n",
    "    whole_predict = []\n",
    "    whole_proba = []\n",
    "    whole_truth = []\n",
    "    whole_acc = []\n",
    "\n",
    "    print(\"Start Fitting..\")\n",
    "    for _ in tqdm(range(data.shape[0] - (train_volum + 1))) :\n",
    "        temp_train_x = data.loc[:train_end_idx,:]\n",
    "        temp_train_y = c_target_num.loc[:train_end_idx]\n",
    "        temp_test_x = data.loc[test_start_idx:test_start_idx,:]\n",
    "        temp_test_y = c_target_num.loc[test_start_idx]\n",
    "\n",
    "        sample_w = [beta ** x for x in range((temp_train_x.shape[0]), 0, -1)]\n",
    "        sample_w = np.array(sample_w) + 1-np.mean(sample_w)\n",
    "\n",
    "        # fitting\n",
    "        model.fit(temp_train_x,temp_train_y, sample_weight=sample_w)\n",
    "\n",
    "        # predict\n",
    "        predict_value = model.predict(temp_test_x)\n",
    "        whole_proba.append(model.predict_proba(temp_test_x)[0])\n",
    "\n",
    "        # save acc\n",
    "        pred_dict[stock_df.date[test_start_idx]] = predict_value[0]\n",
    "        whole_predict.append(predict_value[0])\n",
    "        whole_truth.append(temp_test_y.iloc[0])\n",
    "\n",
    "        train_start_idx += 1\n",
    "        train_end_idx = train_start_idx + train_volum\n",
    "        test_start_idx = train_end_idx + 1\n",
    "\n",
    "    print(\"Finish\")\n",
    "    \n",
    "    print(\"###### roll_nums: {} #####\".format(roll_nums))\n",
    "    print(\"acc: \",accuracy_score(whole_truth, whole_predict))\n",
    "    print(\"precision: \",precision_score(whole_truth, whole_predict))\n",
    "    print(\"recall: \",recall_score(whole_truth, whole_predict))\n",
    "    print(\"f1: \",f1_score(whole_truth, whole_predict))\n",
    "    print(\"kappa: \",cohen_kappa_score(whole_truth, whole_predict))\n",
    "\n",
    "    # proba check\n",
    "\n",
    "    zero_prob = [x[0] for x in whole_proba]\n",
    "    one_prob = [x[1] for x in whole_proba]\n",
    "\n",
    "    tr = 0.9\n",
    "\n",
    "    zero_idx = np.where(np.array(zero_prob) > tr)[0]\n",
    "    one_idx = np.where(np.array(one_prob) > tr)[0]\n",
    "\n",
    "    print(1 - np.mean(np.array(whole_truth)[zero_idx]))\n",
    "    print(np.mean(np.array(whole_truth)[one_idx]))"
   ]
  },
  {
   "cell_type": "code",
   "execution_count": 64,
   "id": "3ad15925-87c4-40f2-ae4d-05dd69268be4",
   "metadata": {},
   "outputs": [
    {
     "name": "stderr",
     "output_type": "stream",
     "text": [
      "  0%|                                                                                         | 0/2307 [00:00<?, ?it/s]C:\\Users\\PC0\\anaconda3\\lib\\site-packages\\sklearn\\utils\\validation.py:72: DataConversionWarning: A column-vector y was passed when a 1d array was expected. Please change the shape of y to (n_samples, ), for example using ravel().\n",
      "  return f(**kwargs)\n",
      "  0%|                                                                                 | 3/2307 [00:00<01:38, 23.43it/s]"
     ]
    },
    {
     "name": "stdout",
     "output_type": "stream",
     "text": [
      "Start Fitting..\n"
     ]
    },
    {
     "name": "stderr",
     "output_type": "stream",
     "text": [
      "100%|██████████████████████████████████████████████████████████████████████████████| 2307/2307 [22:56<00:00,  1.68it/s]"
     ]
    },
    {
     "name": "stdout",
     "output_type": "stream",
     "text": [
      "Finish\n",
      "###### roll_nums: 3 #####\n",
      "acc:  0.5504984828781968\n",
      "precision:  0.5654761904761905\n",
      "recall:  0.6265457543281121\n",
      "f1:  0.5944466171294486\n",
      "kappa:  0.09327276758557568\n",
      "0.6054421768707483\n",
      "0.6023166023166023\n"
     ]
    },
    {
     "name": "stderr",
     "output_type": "stream",
     "text": [
      "\n"
     ]
    }
   ],
   "source": [
    "# modeling\n",
    "temp_x = roll_df.iloc[:, 1:]\n",
    "\n",
    "train_volum = 100\n",
    "train_start_idx = 0\n",
    "data = temp_x\n",
    "model_lgbm = LGBMClassifier()\n",
    "model = model_lgbm\n",
    "\n",
    "c_target_num = np.where(np.array(c_target) == \"Up\", 1, 0)\n",
    "c_target_num = pd.DataFrame(c_target_num)\n",
    "\n",
    "pred_dict = {}\n",
    "beta = 0.999\n",
    "train_end_idx = train_start_idx + train_volum\n",
    "test_start_idx = train_end_idx + 1\n",
    "\n",
    "whole_predict = []\n",
    "whole_proba = []\n",
    "whole_truth = []\n",
    "whole_acc = []\n",
    "\n",
    "print(\"Start Fitting..\")\n",
    "for _ in tqdm(range(data.shape[0] - (train_volum + 1))) :\n",
    "    temp_train_x = data.loc[:train_end_idx,:]\n",
    "    temp_train_y = c_target_num.loc[:train_end_idx]\n",
    "    temp_test_x = data.loc[test_start_idx:test_start_idx,:]\n",
    "    temp_test_y = c_target_num.loc[test_start_idx]\n",
    "\n",
    "    sample_w = [beta ** x for x in range((temp_train_x.shape[0]), 0, -1)]\n",
    "    sample_w = np.array(sample_w) + 1-np.mean(sample_w)\n",
    "\n",
    "    # fitting\n",
    "    model.fit(temp_train_x,temp_train_y, sample_weight=sample_w)\n",
    "\n",
    "    # predict\n",
    "    predict_value = model.predict(temp_test_x)\n",
    "    whole_proba.append(model.predict_proba(temp_test_x)[0])\n",
    "\n",
    "    # save acc\n",
    "    pred_dict[stock_df.date[test_start_idx]] = predict_value[0]\n",
    "    whole_predict.append(predict_value[0])\n",
    "    whole_truth.append(temp_test_y.iloc[0])\n",
    "\n",
    "    train_start_idx += 1\n",
    "    train_end_idx = train_start_idx + train_volum\n",
    "    test_start_idx = train_end_idx + 1\n",
    "\n",
    "print(\"Finish\")\n",
    "\n",
    "print(\"###### roll_nums: {} #####\".format(roll_nums))\n",
    "print(\"acc: \",accuracy_score(whole_truth, whole_predict))\n",
    "print(\"precision: \",precision_score(whole_truth, whole_predict))\n",
    "print(\"recall: \",recall_score(whole_truth, whole_predict))\n",
    "print(\"f1: \",f1_score(whole_truth, whole_predict))\n",
    "print(\"kappa: \",cohen_kappa_score(whole_truth, whole_predict))\n",
    "\n",
    "# proba check\n",
    "\n",
    "zero_prob = [x[0] for x in whole_proba]\n",
    "one_prob = [x[1] for x in whole_proba]\n",
    "\n",
    "tr = 0.9\n",
    "\n",
    "zero_idx = np.where(np.array(zero_prob) > tr)[0]\n",
    "one_idx = np.where(np.array(one_prob) > tr)[0]\n",
    "\n",
    "print(1 - np.mean(np.array(whole_truth)[zero_idx]))\n",
    "print(np.mean(np.array(whole_truth)[one_idx]))"
   ]
  },
  {
   "cell_type": "code",
   "execution_count": null,
   "id": "73e301af-3d2e-4e3f-a333-66478293f089",
   "metadata": {},
   "outputs": [],
   "source": []
  },
  {
   "cell_type": "markdown",
   "id": "815330ea-da65-47e9-b57c-9f424caa90e5",
   "metadata": {},
   "source": [
    "* KNN Imputation"
   ]
  },
  {
   "cell_type": "code",
   "execution_count": 91,
   "id": "2f4d8955-1b79-4b6e-a3ed-fdea9575e237",
   "metadata": {},
   "outputs": [],
   "source": [
    "from sklearn.impute import KNNImputer"
   ]
  },
  {
   "cell_type": "code",
   "execution_count": 96,
   "id": "bc0ba089-f39c-45ba-b573-f848845ca82c",
   "metadata": {},
   "outputs": [],
   "source": [
    "imputer = KNNImputer()\n",
    "\n",
    "knn_df = copy.deepcopy(stock_df)\n",
    "del knn_df['c_target']\n",
    "imputed_x = imputer.fit_transform(knn_df.iloc[:, 1:])\n",
    "knn_df.iloc[:, 1:] = imputed_x\n",
    "\n",
    "del knn_df['target']"
   ]
  },
  {
   "cell_type": "code",
   "execution_count": 97,
   "id": "83b9a902-13d5-4679-a029-51d98a03a135",
   "metadata": {},
   "outputs": [],
   "source": [
    "temp_x = knn_df.iloc[:, 1:]\n",
    "\n",
    "train_volum = 100\n",
    "train_start_idx = 0\n",
    "data = temp_x\n",
    "model_lgbm = LGBMClassifier()\n",
    "model = model_lgbm\n",
    "sample_days = 5\n",
    "\n",
    "c_target_num = np.where(np.array(c_target) == \"Up\", 1, 0)\n",
    "c_target_num = pd.DataFrame(c_target_num)\n",
    "\n",
    "pred_dict = {}\n",
    "\n",
    "beta = 0.999"
   ]
  },
  {
   "cell_type": "code",
   "execution_count": 98,
   "id": "19e8645f-31b8-414c-85b5-456fb59075f8",
   "metadata": {},
   "outputs": [
    {
     "name": "stderr",
     "output_type": "stream",
     "text": [
      "  0%|                                                                                         | 0/2307 [00:00<?, ?it/s]C:\\Users\\PC0\\anaconda3\\lib\\site-packages\\sklearn\\utils\\validation.py:72: DataConversionWarning: A column-vector y was passed when a 1d array was expected. Please change the shape of y to (n_samples, ), for example using ravel().\n",
      "  return f(**kwargs)\n",
      "  0%|                                                                                 | 3/2307 [00:00<01:37, 23.61it/s]"
     ]
    },
    {
     "name": "stdout",
     "output_type": "stream",
     "text": [
      "Start Fitting..\n"
     ]
    },
    {
     "name": "stderr",
     "output_type": "stream",
     "text": [
      "100%|██████████████████████████████████████████████████████████████████████████████| 2307/2307 [21:13<00:00,  1.81it/s]"
     ]
    },
    {
     "name": "stdout",
     "output_type": "stream",
     "text": [
      "Finish\n"
     ]
    },
    {
     "name": "stderr",
     "output_type": "stream",
     "text": [
      "\n"
     ]
    }
   ],
   "source": [
    "train_end_idx = train_start_idx + train_volum\n",
    "test_start_idx = train_end_idx + 1\n",
    "\n",
    "whole_predict = []\n",
    "whole_proba = []\n",
    "whole_truth = []\n",
    "whole_acc = []\n",
    "\n",
    "print(\"Start Fitting..\")\n",
    "for _ in tqdm(range(data.shape[0] - (train_volum + 1))) :\n",
    "    temp_train_x = data.loc[:train_end_idx,:]\n",
    "    temp_train_y = c_target_num.loc[:train_end_idx]\n",
    "    temp_test_x = data.loc[test_start_idx:test_start_idx,:]\n",
    "    temp_test_y = c_target_num.loc[test_start_idx]\n",
    "\n",
    "    sample_w = [beta ** x for x in range((temp_train_x.shape[0]), 0, -1)]\n",
    "    sample_w = np.array(sample_w) + 1-np.mean(sample_w)\n",
    "    \n",
    "    # fitting\n",
    "    model.fit(temp_train_x,temp_train_y, sample_weight=sample_w)\n",
    "    \n",
    "    # predict\n",
    "    predict_value = model.predict(temp_test_x)\n",
    "    whole_proba.append(model.predict_proba(temp_test_x)[0])\n",
    "\n",
    "    # save acc\n",
    "    pred_dict[stock_df.date[test_start_idx]] = predict_value[0]\n",
    "    whole_predict.append(predict_value[0])\n",
    "    whole_truth.append(temp_test_y.iloc[0])\n",
    "\n",
    "    train_start_idx += 1\n",
    "    train_end_idx = train_start_idx + train_volum\n",
    "    test_start_idx = train_end_idx + 1\n",
    "\n",
    "print(\"Finish\")"
   ]
  },
  {
   "cell_type": "code",
   "execution_count": 99,
   "id": "879fd6da-08b7-4105-9783-36b011ca1e52",
   "metadata": {},
   "outputs": [
    {
     "name": "stdout",
     "output_type": "stream",
     "text": [
      "0.5899436497615952\n",
      "0.6027713625866051\n",
      "0.6455070074196207\n",
      "0.623407643312102\n",
      "0.1745163230338035\n",
      "0.7318007662835249\n",
      "0.7115987460815048\n"
     ]
    }
   ],
   "source": [
    "print(accuracy_score(whole_truth, whole_predict))\n",
    "print(precision_score(whole_truth, whole_predict))\n",
    "print(recall_score(whole_truth, whole_predict))\n",
    "print(f1_score(whole_truth, whole_predict))\n",
    "print(cohen_kappa_score(whole_truth, whole_predict))\n",
    "\n",
    "# proba check\n",
    "\n",
    "zero_prob = [x[0] for x in whole_proba]\n",
    "one_prob = [x[1] for x in whole_proba]\n",
    "\n",
    "tr = 0.9\n",
    "\n",
    "zero_idx = np.where(np.array(zero_prob) > tr)[0]\n",
    "one_idx = np.where(np.array(one_prob) > tr)[0]\n",
    "\n",
    "print(1 - np.mean(np.array(whole_truth)[zero_idx]))\n",
    "print(np.mean(np.array(whole_truth)[one_idx]))"
   ]
  },
  {
   "cell_type": "code",
   "execution_count": null,
   "id": "9b2ee566-d8e7-41ea-a647-5e56a2be7ceb",
   "metadata": {},
   "outputs": [],
   "source": []
  },
  {
   "cell_type": "markdown",
   "id": "31872e2e-c9f5-4ca0-8b0e-ad3295aa56a9",
   "metadata": {},
   "source": [
    "* MissForest"
   ]
  },
  {
   "cell_type": "code",
   "execution_count": null,
   "id": "34e800d5-0b10-42ec-bd83-8318b09f7795",
   "metadata": {},
   "outputs": [],
   "source": [
    "imputer = MissForest()"
   ]
  },
  {
   "cell_type": "code",
   "execution_count": null,
   "id": "724bc996-2a82-4646-8466-a6d8300f79ae",
   "metadata": {},
   "outputs": [],
   "source": [
    "imputed_x = imputer.fit_transform(stock_df.iloc[:, 1:])"
   ]
  },
  {
   "cell_type": "code",
   "execution_count": null,
   "id": "4bcb11ab-611e-484a-83a5-13dcdb549781",
   "metadata": {},
   "outputs": [],
   "source": [
    "mf_df = copy.deepcopy(stock_df)"
   ]
  },
  {
   "cell_type": "code",
   "execution_count": null,
   "id": "19b3f596-a57a-45d1-8b5b-f89e2c26d824",
   "metadata": {},
   "outputs": [],
   "source": [
    "mf_df.iloc[:, 1:] = imputed_x"
   ]
  },
  {
   "cell_type": "code",
   "execution_count": null,
   "id": "3933ad5a-3312-4750-acd4-a4e53a0e469d",
   "metadata": {},
   "outputs": [],
   "source": [
    "mf_df.head()"
   ]
  },
  {
   "cell_type": "code",
   "execution_count": 100,
   "id": "b3c90562-fb2f-495a-ab5b-098980e7b0ee",
   "metadata": {},
   "outputs": [],
   "source": [
    "mf_df = pd.read_csv(data_path + \"stock_df_01.csv\")"
   ]
  },
  {
   "cell_type": "code",
   "execution_count": 105,
   "id": "74b93b46-7080-4750-9994-defa955b1401",
   "metadata": {},
   "outputs": [],
   "source": [
    "del mf_df['target']\n",
    "del mf_df['c_target']"
   ]
  },
  {
   "cell_type": "code",
   "execution_count": 106,
   "id": "d87ccf75-51da-49ff-9f82-57fe93cb9941",
   "metadata": {},
   "outputs": [],
   "source": [
    "temp_x = mf_df.iloc[:, 1:]\n",
    "\n",
    "train_volum = 100\n",
    "train_start_idx = 0\n",
    "data = temp_x\n",
    "model_lgbm = LGBMClassifier()\n",
    "model = model_lgbm\n",
    "sample_days = 5\n",
    "\n",
    "c_target_num = np.where(np.array(c_target) == \"Up\", 1, 0)\n",
    "c_target_num = pd.DataFrame(c_target_num)\n",
    "\n",
    "pred_dict = {}\n",
    "\n",
    "beta = 0.999"
   ]
  },
  {
   "cell_type": "code",
   "execution_count": 107,
   "id": "fe500fc8-c8ac-4968-9e65-41a61e8799ec",
   "metadata": {
    "tags": []
   },
   "outputs": [
    {
     "name": "stderr",
     "output_type": "stream",
     "text": [
      "  0%|                                                                                 | 3/2307 [00:00<01:31, 25.19it/s]"
     ]
    },
    {
     "name": "stdout",
     "output_type": "stream",
     "text": [
      "Start Fitting..\n"
     ]
    },
    {
     "name": "stderr",
     "output_type": "stream",
     "text": [
      "100%|██████████████████████████████████████████████████████████████████████████████| 2307/2307 [19:44<00:00,  1.95it/s]"
     ]
    },
    {
     "name": "stdout",
     "output_type": "stream",
     "text": [
      "Finish\n"
     ]
    },
    {
     "name": "stderr",
     "output_type": "stream",
     "text": [
      "\n"
     ]
    }
   ],
   "source": [
    "train_end_idx = train_start_idx + train_volum\n",
    "test_start_idx = train_end_idx + 1\n",
    "\n",
    "whole_predict = []\n",
    "whole_proba = []\n",
    "whole_truth = []\n",
    "whole_acc = []\n",
    "\n",
    "print(\"Start Fitting..\")\n",
    "for _ in tqdm(range(data.shape[0] - (train_volum + 1))) :\n",
    "    temp_train_x = data.loc[:train_end_idx,:]\n",
    "    temp_train_y = c_target_num.loc[:train_end_idx]\n",
    "    temp_test_x = data.loc[test_start_idx:test_start_idx,:]\n",
    "    temp_test_y = c_target_num.loc[test_start_idx]\n",
    "\n",
    "    sample_w = [beta ** x for x in range((temp_train_x.shape[0]), 0, -1)]\n",
    "    sample_w = np.array(sample_w) + 1-np.mean(sample_w)\n",
    "    \n",
    "    # fitting\n",
    "    model.fit(temp_train_x,temp_train_y, sample_weight=sample_w)\n",
    "    \n",
    "    # predict\n",
    "    predict_value = model.predict(temp_test_x)\n",
    "    whole_proba.append(model.predict_proba(temp_test_x)[0])\n",
    "\n",
    "    # save acc\n",
    "    pred_dict[stock_df.date[test_start_idx]] = predict_value[0]\n",
    "    whole_predict.append(predict_value[0])\n",
    "    whole_truth.append(temp_test_y.iloc[0])\n",
    "\n",
    "    train_start_idx += 1\n",
    "    train_end_idx = train_start_idx + train_volum\n",
    "    test_start_idx = train_end_idx + 1\n",
    "\n",
    "print(\"Finish\")"
   ]
  },
  {
   "cell_type": "code",
   "execution_count": 108,
   "id": "2c1c8bbe-7b25-41ca-b7cb-41d5e2f2f70e",
   "metadata": {},
   "outputs": [
    {
     "name": "stdout",
     "output_type": "stream",
     "text": [
      "0.5977459904638058\n",
      "0.6088617265087853\n",
      "0.6570486397361912\n",
      "0.6320380650277557\n",
      "0.18985854946984437\n",
      "0.7\n",
      "0.6697819314641744\n"
     ]
    }
   ],
   "source": [
    "print(accuracy_score(whole_truth, whole_predict))\n",
    "print(precision_score(whole_truth, whole_predict))\n",
    "print(recall_score(whole_truth, whole_predict))\n",
    "print(f1_score(whole_truth, whole_predict))\n",
    "print(cohen_kappa_score(whole_truth, whole_predict))\n",
    "\n",
    "# proba check\n",
    "\n",
    "zero_prob = [x[0] for x in whole_proba]\n",
    "one_prob = [x[1] for x in whole_proba]\n",
    "\n",
    "tr = 0.9\n",
    "\n",
    "zero_idx = np.where(np.array(zero_prob) > tr)[0]\n",
    "one_idx = np.where(np.array(one_prob) > tr)[0]\n",
    "\n",
    "print(1 - np.mean(np.array(whole_truth)[zero_idx]))\n",
    "print(np.mean(np.array(whole_truth)[one_idx]))"
   ]
  },
  {
   "cell_type": "code",
   "execution_count": null,
   "id": "7a2f4f9e-7095-41d5-8037-a4525820cb1a",
   "metadata": {},
   "outputs": [],
   "source": []
  },
  {
   "cell_type": "markdown",
   "id": "fea9813d-39c1-4539-8b56-78daef071864",
   "metadata": {},
   "source": [
    "* Amelia"
   ]
  },
  {
   "cell_type": "code",
   "execution_count": null,
   "id": "0d6e1022-9341-49f6-9b03-58fb4c2d00ce",
   "metadata": {},
   "outputs": [],
   "source": [
    "# amelia code"
   ]
  },
  {
   "cell_type": "code",
   "execution_count": null,
   "id": "e8a1739f-321d-4323-b970-003cbbfb198b",
   "metadata": {},
   "outputs": [],
   "source": [
    "imputed_x = pd.read_csv(data_path + \"\")"
   ]
  },
  {
   "cell_type": "code",
   "execution_count": 151,
   "id": "0c6c6200-92c6-498c-b464-5e107438eb15",
   "metadata": {},
   "outputs": [],
   "source": [
    "amelia_df = copy.deepcopy(stock_df)\n",
    "amelia_df.iloc[:, 1:] = imputed_x\n",
    "\n",
    "del amelia_df['target']"
   ]
  },
  {
   "cell_type": "code",
   "execution_count": 160,
   "id": "f374d970-52a1-4659-b997-ae63c621aeae",
   "metadata": {},
   "outputs": [],
   "source": [
    "temp_x = amelia_df.iloc[:, 1:]\n",
    "\n",
    "train_volum = 100\n",
    "train_start_idx = 0\n",
    "data = temp_x\n",
    "model_lgbm = LGBMClassifier()\n",
    "model = model_lgbm\n",
    "sample_days = 5\n",
    "\n",
    "c_target_num = np.where(np.array(c_target) == \"Up\", 1, 0)\n",
    "c_target_num = pd.DataFrame(c_target_num)\n",
    "\n",
    "pred_dict = {}\n",
    "\n",
    "beta = 0.999"
   ]
  },
  {
   "cell_type": "code",
   "execution_count": null,
   "id": "1938fb18-65e5-4e9d-bd27-244cc11534c6",
   "metadata": {
    "tags": []
   },
   "outputs": [],
   "source": [
    "train_end_idx = train_start_idx + train_volum\n",
    "test_start_idx = train_end_idx + 1\n",
    "\n",
    "whole_predict = []\n",
    "whole_proba = []\n",
    "whole_truth = []\n",
    "whole_acc = []\n",
    "\n",
    "print(\"Start Fitting..\")\n",
    "for _ in tqdm(range(data.shape[0] - (train_volum + 1))) :\n",
    "    temp_train_x = data.loc[:train_end_idx,:]\n",
    "    temp_train_y = c_target_num.loc[:train_end_idx]\n",
    "    temp_test_x = data.loc[test_start_idx:test_start_idx,:]\n",
    "    temp_test_y = c_target_num.loc[test_start_idx]\n",
    "\n",
    "    sample_w = [beta ** x for x in range((temp_train_x.shape[0]), 0, -1)]\n",
    "    sample_w = np.array(sample_w) + 1-np.mean(sample_w)\n",
    "    \n",
    "    # fitting\n",
    "    model.fit(temp_train_x,temp_train_y, sample_weight=sample_w)\n",
    "    \n",
    "    # predict\n",
    "    predict_value = model.predict(temp_test_x)\n",
    "    whole_proba.append(model.predict_proba(temp_test_x)[0])\n",
    "\n",
    "    # save acc\n",
    "    pred_dict[stock_df.date[test_start_idx]] = predict_value[0]\n",
    "    whole_predict.append(predict_value[0])\n",
    "    whole_truth.append(temp_test_y.iloc[0])\n",
    "\n",
    "    train_start_idx += 1\n",
    "    train_end_idx = train_start_idx + train_volum\n",
    "    test_start_idx = train_end_idx + 1\n",
    "\n",
    "print(\"Finish\")"
   ]
  },
  {
   "cell_type": "code",
   "execution_count": null,
   "id": "75a1d734-8696-44f6-bd4b-7705949151f1",
   "metadata": {},
   "outputs": [],
   "source": [
    "print(accuracy_score(whole_truth, whole_predict))\n",
    "print(precision_score(whole_truth, whole_predict))\n",
    "print(recall_score(whole_truth, whole_predict))\n",
    "print(f1_score(whole_truth, whole_predict))\n",
    "print(cohen_kappa_score(whole_truth, whole_predict))\n",
    "\n",
    "zero_prob = [x[0] for x in whole_proba]\n",
    "one_prob = [x[1] for x in whole_proba]\n",
    "\n",
    "tr = 0.9\n",
    "\n",
    "zero_idx = np.where(np.array(zero_prob) > tr)[0]\n",
    "one_idx = np.where(np.array(one_prob) > tr)[0]\n",
    "\n",
    "print(1 - np.mean(np.array(whole_truth)[zero_idx]))\n",
    "print(np.mean(np.array(whole_truth)[one_idx]))"
   ]
  },
  {
   "cell_type": "code",
   "execution_count": null,
   "id": "b4b66184-a910-4693-af09-91f258c9c0ad",
   "metadata": {},
   "outputs": [],
   "source": []
  },
  {
   "cell_type": "markdown",
   "id": "8a50818d-b292-4e2c-a68b-77490fe2ba7a",
   "metadata": {},
   "source": [
    "* Mice"
   ]
  },
  {
   "cell_type": "code",
   "execution_count": null,
   "id": "00a735c8-a9cb-40e5-8738-78c40fe8c65b",
   "metadata": {},
   "outputs": [],
   "source": [
    "# mice. code"
   ]
  },
  {
   "cell_type": "code",
   "execution_count": 124,
   "id": "5538d94c-2a13-4e68-b6fb-717fa54014d3",
   "metadata": {},
   "outputs": [],
   "source": [
    "imputed_x = pd.read_csv(data_path + \"mice_df.csv\")"
   ]
  },
  {
   "cell_type": "code",
   "execution_count": 125,
   "id": "b6c33a28-90c0-4d19-a43d-fbec3e24148f",
   "metadata": {},
   "outputs": [],
   "source": [
    "mice_df = copy.deepcopy(imputed_x)\n",
    "mice_df.columns = stock_df.columns\n",
    "\n",
    "del mice_df['target']\n",
    "del mice_df['c_target']"
   ]
  },
  {
   "cell_type": "code",
   "execution_count": 126,
   "id": "35833956-af5b-4c2c-8240-0b4bd56b0eac",
   "metadata": {},
   "outputs": [
    {
     "data": {
      "text/html": [
       "<div>\n",
       "<style scoped>\n",
       "    .dataframe tbody tr th:only-of-type {\n",
       "        vertical-align: middle;\n",
       "    }\n",
       "\n",
       "    .dataframe tbody tr th {\n",
       "        vertical-align: top;\n",
       "    }\n",
       "\n",
       "    .dataframe thead th {\n",
       "        text-align: right;\n",
       "    }\n",
       "</style>\n",
       "<table border=\"1\" class=\"dataframe\">\n",
       "  <thead>\n",
       "    <tr style=\"text-align: right;\">\n",
       "      <th></th>\n",
       "      <th>date</th>\n",
       "      <th>kosdaq_close</th>\n",
       "      <th>kosdaq_vol</th>\n",
       "      <th>kosdaq_var</th>\n",
       "      <th>us-30_close</th>\n",
       "      <th>us-30_vol</th>\n",
       "      <th>us-30_var</th>\n",
       "      <th>us-spx-500_close</th>\n",
       "      <th>us-spx-500_var</th>\n",
       "      <th>nasdaq-composite_close</th>\n",
       "      <th>...</th>\n",
       "      <th>영국_아연_close</th>\n",
       "      <th>영국_아연_vol</th>\n",
       "      <th>영국_아연_var</th>\n",
       "      <th>은_close</th>\n",
       "      <th>은_vol</th>\n",
       "      <th>은_var</th>\n",
       "      <th>영국_주석_close</th>\n",
       "      <th>영국_주석_var</th>\n",
       "      <th>미국_팔라듐_close</th>\n",
       "      <th>미국_팔라듐_var</th>\n",
       "    </tr>\n",
       "  </thead>\n",
       "  <tbody>\n",
       "    <tr>\n",
       "      <th>0</th>\n",
       "      <td>2012-01-04</td>\n",
       "      <td>516.30</td>\n",
       "      <td>10.338584</td>\n",
       "      <td>0.480704</td>\n",
       "      <td>12418.42</td>\n",
       "      <td>-4.870215</td>\n",
       "      <td>0.169713</td>\n",
       "      <td>1277.30</td>\n",
       "      <td>0.018793</td>\n",
       "      <td>2648.36</td>\n",
       "      <td>...</td>\n",
       "      <td>1856.50</td>\n",
       "      <td>-10.414453</td>\n",
       "      <td>-0.415717</td>\n",
       "      <td>29.063</td>\n",
       "      <td>-49.999964</td>\n",
       "      <td>-1.591435</td>\n",
       "      <td>19555.0</td>\n",
       "      <td>-1.975036</td>\n",
       "      <td>649.9</td>\n",
       "      <td>-2.241275</td>\n",
       "    </tr>\n",
       "    <tr>\n",
       "      <th>1</th>\n",
       "      <td>2012-01-05</td>\n",
       "      <td>521.96</td>\n",
       "      <td>0.338910</td>\n",
       "      <td>1.096262</td>\n",
       "      <td>12415.70</td>\n",
       "      <td>9.171088</td>\n",
       "      <td>-0.021903</td>\n",
       "      <td>1281.06</td>\n",
       "      <td>0.294371</td>\n",
       "      <td>2669.86</td>\n",
       "      <td>...</td>\n",
       "      <td>1821.25</td>\n",
       "      <td>-8.422301</td>\n",
       "      <td>-1.898734</td>\n",
       "      <td>29.265</td>\n",
       "      <td>-57.142776</td>\n",
       "      <td>0.695039</td>\n",
       "      <td>19814.0</td>\n",
       "      <td>1.324469</td>\n",
       "      <td>640.4</td>\n",
       "      <td>-1.461763</td>\n",
       "    </tr>\n",
       "    <tr>\n",
       "      <th>2</th>\n",
       "      <td>2012-01-06</td>\n",
       "      <td>518.94</td>\n",
       "      <td>-4.322176</td>\n",
       "      <td>-0.578588</td>\n",
       "      <td>12359.92</td>\n",
       "      <td>-17.243120</td>\n",
       "      <td>-0.449270</td>\n",
       "      <td>1277.81</td>\n",
       "      <td>-0.253696</td>\n",
       "      <td>2674.22</td>\n",
       "      <td>...</td>\n",
       "      <td>1840.75</td>\n",
       "      <td>-7.772021</td>\n",
       "      <td>1.070693</td>\n",
       "      <td>28.653</td>\n",
       "      <td>166.666111</td>\n",
       "      <td>-2.091228</td>\n",
       "      <td>19807.0</td>\n",
       "      <td>-0.035329</td>\n",
       "      <td>616.1</td>\n",
       "      <td>-3.794503</td>\n",
       "    </tr>\n",
       "    <tr>\n",
       "      <th>3</th>\n",
       "      <td>2012-01-09</td>\n",
       "      <td>520.28</td>\n",
       "      <td>-1.381745</td>\n",
       "      <td>0.258219</td>\n",
       "      <td>12392.69</td>\n",
       "      <td>-6.802929</td>\n",
       "      <td>0.265131</td>\n",
       "      <td>1280.70</td>\n",
       "      <td>0.226168</td>\n",
       "      <td>2676.56</td>\n",
       "      <td>...</td>\n",
       "      <td>1870.25</td>\n",
       "      <td>35.112359</td>\n",
       "      <td>1.602608</td>\n",
       "      <td>28.749</td>\n",
       "      <td>-24.999969</td>\n",
       "      <td>0.335042</td>\n",
       "      <td>19746.0</td>\n",
       "      <td>-0.307972</td>\n",
       "      <td>620.0</td>\n",
       "      <td>0.633014</td>\n",
       "    </tr>\n",
       "    <tr>\n",
       "      <th>4</th>\n",
       "      <td>2012-01-10</td>\n",
       "      <td>525.74</td>\n",
       "      <td>-7.664772</td>\n",
       "      <td>1.049435</td>\n",
       "      <td>12462.47</td>\n",
       "      <td>15.572831</td>\n",
       "      <td>0.563074</td>\n",
       "      <td>1292.08</td>\n",
       "      <td>0.888576</td>\n",
       "      <td>2702.50</td>\n",
       "      <td>...</td>\n",
       "      <td>1922.75</td>\n",
       "      <td>-61.642411</td>\n",
       "      <td>2.807111</td>\n",
       "      <td>29.783</td>\n",
       "      <td>66.666556</td>\n",
       "      <td>3.596634</td>\n",
       "      <td>20219.0</td>\n",
       "      <td>2.395422</td>\n",
       "      <td>636.9</td>\n",
       "      <td>2.725806</td>\n",
       "    </tr>\n",
       "  </tbody>\n",
       "</table>\n",
       "<p>5 rows × 300 columns</p>\n",
       "</div>"
      ],
      "text/plain": [
       "         date  kosdaq_close  kosdaq_vol  kosdaq_var  us-30_close  us-30_vol  \\\n",
       "0  2012-01-04        516.30   10.338584    0.480704     12418.42  -4.870215   \n",
       "1  2012-01-05        521.96    0.338910    1.096262     12415.70   9.171088   \n",
       "2  2012-01-06        518.94   -4.322176   -0.578588     12359.92 -17.243120   \n",
       "3  2012-01-09        520.28   -1.381745    0.258219     12392.69  -6.802929   \n",
       "4  2012-01-10        525.74   -7.664772    1.049435     12462.47  15.572831   \n",
       "\n",
       "   us-30_var  us-spx-500_close  us-spx-500_var  nasdaq-composite_close  ...  \\\n",
       "0   0.169713           1277.30        0.018793                 2648.36  ...   \n",
       "1  -0.021903           1281.06        0.294371                 2669.86  ...   \n",
       "2  -0.449270           1277.81       -0.253696                 2674.22  ...   \n",
       "3   0.265131           1280.70        0.226168                 2676.56  ...   \n",
       "4   0.563074           1292.08        0.888576                 2702.50  ...   \n",
       "\n",
       "   영국_아연_close  영국_아연_vol  영국_아연_var  은_close       은_vol     은_var  \\\n",
       "0      1856.50 -10.414453  -0.415717   29.063  -49.999964 -1.591435   \n",
       "1      1821.25  -8.422301  -1.898734   29.265  -57.142776  0.695039   \n",
       "2      1840.75  -7.772021   1.070693   28.653  166.666111 -2.091228   \n",
       "3      1870.25  35.112359   1.602608   28.749  -24.999969  0.335042   \n",
       "4      1922.75 -61.642411   2.807111   29.783   66.666556  3.596634   \n",
       "\n",
       "   영국_주석_close  영국_주석_var  미국_팔라듐_close  미국_팔라듐_var  \n",
       "0      19555.0  -1.975036         649.9   -2.241275  \n",
       "1      19814.0   1.324469         640.4   -1.461763  \n",
       "2      19807.0  -0.035329         616.1   -3.794503  \n",
       "3      19746.0  -0.307972         620.0    0.633014  \n",
       "4      20219.0   2.395422         636.9    2.725806  \n",
       "\n",
       "[5 rows x 300 columns]"
      ]
     },
     "execution_count": 126,
     "metadata": {},
     "output_type": "execute_result"
    }
   ],
   "source": [
    "mice_df.head()"
   ]
  },
  {
   "cell_type": "code",
   "execution_count": 127,
   "id": "5e814469-d7b4-45aa-917e-2616cadb88ba",
   "metadata": {},
   "outputs": [],
   "source": [
    "temp_x = mice_df.iloc[:, 1:]\n",
    "\n",
    "train_volum = 100\n",
    "train_start_idx = 0\n",
    "data = temp_x\n",
    "model_lgbm = LGBMClassifier()\n",
    "model = model_lgbm\n",
    "sample_days = 5\n",
    "\n",
    "c_target_num = np.where(np.array(c_target) == \"Up\", 1, 0)\n",
    "c_target_num = pd.DataFrame(c_target_num)\n",
    "\n",
    "pred_dict = {}\n",
    "\n",
    "beta = 0.999"
   ]
  },
  {
   "cell_type": "code",
   "execution_count": 128,
   "id": "9a571b00-0acb-497b-9456-a09bef1b8b21",
   "metadata": {
    "tags": []
   },
   "outputs": [
    {
     "name": "stderr",
     "output_type": "stream",
     "text": [
      "  0%|                                                                                         | 0/2307 [00:00<?, ?it/s]C:\\Users\\PC0\\anaconda3\\lib\\site-packages\\sklearn\\utils\\validation.py:72: DataConversionWarning: A column-vector y was passed when a 1d array was expected. Please change the shape of y to (n_samples, ), for example using ravel().\n",
      "  return f(**kwargs)\n",
      "  0%|                                                                                 | 3/2307 [00:00<01:23, 27.52it/s]"
     ]
    },
    {
     "name": "stdout",
     "output_type": "stream",
     "text": [
      "Start Fitting..\n"
     ]
    },
    {
     "name": "stderr",
     "output_type": "stream",
     "text": [
      "100%|██████████████████████████████████████████████████████████████████████████████| 2307/2307 [19:30<00:00,  1.97it/s]"
     ]
    },
    {
     "name": "stdout",
     "output_type": "stream",
     "text": [
      "Finish\n"
     ]
    },
    {
     "name": "stderr",
     "output_type": "stream",
     "text": [
      "\n"
     ]
    }
   ],
   "source": [
    "train_end_idx = train_start_idx + train_volum\n",
    "test_start_idx = train_end_idx + 1\n",
    "\n",
    "whole_predict = []\n",
    "whole_proba = []\n",
    "whole_truth = []\n",
    "whole_acc = []\n",
    "\n",
    "print(\"Start Fitting..\")\n",
    "for _ in tqdm(range(data.shape[0] - (train_volum + 1))) :\n",
    "    temp_train_x = data.loc[:train_end_idx,:]\n",
    "    temp_train_y = c_target_num.loc[:train_end_idx]\n",
    "    temp_test_x = data.loc[test_start_idx:test_start_idx,:]\n",
    "    temp_test_y = c_target_num.loc[test_start_idx]\n",
    "\n",
    "    sample_w = [beta ** x for x in range((temp_train_x.shape[0]), 0, -1)]\n",
    "    sample_w = np.array(sample_w) + 1-np.mean(sample_w)\n",
    "    \n",
    "    # fitting\n",
    "    model.fit(temp_train_x,temp_train_y, sample_weight=sample_w)\n",
    "    \n",
    "    # predict\n",
    "    predict_value = model.predict(temp_test_x)\n",
    "    whole_proba.append(model.predict_proba(temp_test_x)[0])\n",
    "\n",
    "    # save acc\n",
    "    pred_dict[stock_df.date[test_start_idx]] = predict_value[0]\n",
    "    whole_predict.append(predict_value[0])\n",
    "    whole_truth.append(temp_test_y.iloc[0])\n",
    "\n",
    "    train_start_idx += 1\n",
    "    train_end_idx = train_start_idx + train_volum\n",
    "    test_start_idx = train_end_idx + 1\n",
    "\n",
    "print(\"Finish\")"
   ]
  },
  {
   "cell_type": "code",
   "execution_count": 129,
   "id": "37343e15-3492-41cd-9397-b37bc2fcaee9",
   "metadata": {},
   "outputs": [
    {
     "name": "stdout",
     "output_type": "stream",
     "text": [
      "0.58777633289987\n",
      "0.6021840873634945\n",
      "0.6364385820280297\n",
      "0.6188376753507013\n",
      "0.1707878010441325\n",
      "0.7224489795918367\n",
      "0.6796116504854369\n"
     ]
    }
   ],
   "source": [
    "print(accuracy_score(whole_truth, whole_predict))\n",
    "print(precision_score(whole_truth, whole_predict))\n",
    "print(recall_score(whole_truth, whole_predict))\n",
    "print(f1_score(whole_truth, whole_predict))\n",
    "print(cohen_kappa_score(whole_truth, whole_predict))\n",
    "\n",
    "zero_prob = [x[0] for x in whole_proba]\n",
    "one_prob = [x[1] for x in whole_proba]\n",
    "\n",
    "tr = 0.9\n",
    "\n",
    "zero_idx = np.where(np.array(zero_prob) > tr)[0]\n",
    "one_idx = np.where(np.array(one_prob) > tr)[0]\n",
    "\n",
    "print(1 - np.mean(np.array(whole_truth)[zero_idx]))\n",
    "print(np.mean(np.array(whole_truth)[one_idx]))"
   ]
  },
  {
   "cell_type": "code",
   "execution_count": null,
   "id": "a47c5178-c34f-4430-8d7f-b6bc37f90063",
   "metadata": {},
   "outputs": [],
   "source": []
  }
 ],
 "metadata": {
  "kernelspec": {
   "display_name": "Python 3",
   "language": "python",
   "name": "python3"
  },
  "language_info": {
   "codemirror_mode": {
    "name": "ipython",
    "version": 3
   },
   "file_extension": ".py",
   "mimetype": "text/x-python",
   "name": "python",
   "nbconvert_exporter": "python",
   "pygments_lexer": "ipython3",
   "version": "3.8.8"
  }
 },
 "nbformat": 4,
 "nbformat_minor": 5
}
