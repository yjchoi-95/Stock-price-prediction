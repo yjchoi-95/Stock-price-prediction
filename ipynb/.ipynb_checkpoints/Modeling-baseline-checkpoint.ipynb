{
 "cells": [
  {
   "cell_type": "markdown",
   "id": "e3cd4ed4-b082-4a42-80e0-479f8ed18fc7",
   "metadata": {},
   "source": [
    "## Import"
   ]
  },
  {
   "cell_type": "code",
   "execution_count": 3,
   "id": "002fafeb-2134-4832-9a91-80c75abaedc5",
   "metadata": {},
   "outputs": [],
   "source": [
    "from catboost import CatBoostClassifier\n",
    "from xgboost import XGBClassifier\n",
    "from lightgbm import LGBMClassifier\n",
    "from ngboost import NGBClassifier\n",
    "from collections import Counter\n",
    "from tqdm import tqdm\n",
    "from sklearn.metrics import accuracy_score, f1_score, precision_score, recall_score, cohen_kappa_score"
   ]
  },
  {
   "cell_type": "code",
   "execution_count": 18,
   "id": "313122bf-3ca9-4921-8955-0e7194c043b3",
   "metadata": {},
   "outputs": [],
   "source": [
    "import pandas as pd\n",
    "import numpy as np\n",
    "import warnings\n",
    "\n",
    "warnings.filterwarnings(action='default')"
   ]
  },
  {
   "cell_type": "code",
   "execution_count": null,
   "id": "74c0fd15-2570-4c15-aa4c-1b0831a7ae38",
   "metadata": {},
   "outputs": [],
   "source": []
  },
  {
   "cell_type": "markdown",
   "id": "56baa1ab-aa3f-46b9-a50b-a32e92265ae2",
   "metadata": {},
   "source": [
    "## Load"
   ]
  },
  {
   "cell_type": "code",
   "execution_count": 5,
   "id": "11b296da-ac3f-492d-8e99-db74e9b06a10",
   "metadata": {},
   "outputs": [],
   "source": [
    "out_data_path = 'C:\\\\Users\\\\PC0\\\\Documents\\\\datasets\\\\stock_price\\\\'\n",
    "data_path = 'C:\\\\Users\\\\PC0\\\\Documents\\\\GitHub\\\\Stock-price-prediction\\\\datasets\\\\'"
   ]
  },
  {
   "cell_type": "code",
   "execution_count": 6,
   "id": "2b97d7e1-8ba9-4366-81fe-b6937f2bd721",
   "metadata": {},
   "outputs": [],
   "source": [
    "stock_df = pd.read_csv(data_path + \"stock_df_01.csv\")"
   ]
  },
  {
   "cell_type": "code",
   "execution_count": 7,
   "id": "d2750b18-3ebd-46dc-a45c-1cb62aa5ae65",
   "metadata": {},
   "outputs": [],
   "source": [
    "n_target = np.array(list(stock_df.target))\n",
    "c_target = np.array(list(stock_df.c_target))"
   ]
  },
  {
   "cell_type": "code",
   "execution_count": 8,
   "id": "bc0c38f4-ace7-488b-b0b8-83db09ae206a",
   "metadata": {},
   "outputs": [],
   "source": [
    "del stock_df['target']\n",
    "del stock_df['c_target']"
   ]
  },
  {
   "cell_type": "code",
   "execution_count": 9,
   "id": "14e0ccf2-bed0-490f-af25-9d162e9a4558",
   "metadata": {},
   "outputs": [
    {
     "data": {
      "text/plain": [
       "(2410, 372)"
      ]
     },
     "execution_count": 9,
     "metadata": {},
     "output_type": "execute_result"
    }
   ],
   "source": [
    "stock_df.shape"
   ]
  },
  {
   "cell_type": "code",
   "execution_count": 10,
   "id": "868f8d96-323c-46c0-8abb-8136d64a30db",
   "metadata": {},
   "outputs": [],
   "source": [
    "var_cols = [x for x in stock_df.columns if \"var\" in x]"
   ]
  },
  {
   "cell_type": "code",
   "execution_count": 11,
   "id": "380b076f-8051-4bd2-b8f8-9d1987180958",
   "metadata": {},
   "outputs": [
    {
     "data": {
      "text/html": [
       "<div>\n",
       "<style scoped>\n",
       "    .dataframe tbody tr th:only-of-type {\n",
       "        vertical-align: middle;\n",
       "    }\n",
       "\n",
       "    .dataframe tbody tr th {\n",
       "        vertical-align: top;\n",
       "    }\n",
       "\n",
       "    .dataframe thead th {\n",
       "        text-align: right;\n",
       "    }\n",
       "</style>\n",
       "<table border=\"1\" class=\"dataframe\">\n",
       "  <thead>\n",
       "    <tr style=\"text-align: right;\">\n",
       "      <th></th>\n",
       "      <th>date</th>\n",
       "      <th>kosdaq_close</th>\n",
       "      <th>kosdaq_vol</th>\n",
       "      <th>kosdaq_var</th>\n",
       "      <th>us-30_close</th>\n",
       "      <th>us-30_vol</th>\n",
       "      <th>us-30_var</th>\n",
       "      <th>us-spx-500_close</th>\n",
       "      <th>us-spx-500_var</th>\n",
       "      <th>nasdaq-composite_close</th>\n",
       "      <th>...</th>\n",
       "      <th>영국_아연_close</th>\n",
       "      <th>영국_아연_vol</th>\n",
       "      <th>영국_아연_var</th>\n",
       "      <th>은_close</th>\n",
       "      <th>은_vol</th>\n",
       "      <th>은_var</th>\n",
       "      <th>영국_주석_close</th>\n",
       "      <th>영국_주석_var</th>\n",
       "      <th>미국_팔라듐_close</th>\n",
       "      <th>미국_팔라듐_var</th>\n",
       "    </tr>\n",
       "  </thead>\n",
       "  <tbody>\n",
       "    <tr>\n",
       "      <th>0</th>\n",
       "      <td>2012-01-03</td>\n",
       "      <td>513.83</td>\n",
       "      <td>590990.0</td>\n",
       "      <td>1.39</td>\n",
       "      <td>12397.38</td>\n",
       "      <td>152560000.0</td>\n",
       "      <td>1.47</td>\n",
       "      <td>1277.06</td>\n",
       "      <td>1.55</td>\n",
       "      <td>2648.72</td>\n",
       "      <td>...</td>\n",
       "      <td>1864.25</td>\n",
       "      <td>9410.0</td>\n",
       "      <td>1.83</td>\n",
       "      <td>29.533</td>\n",
       "      <td>140.0</td>\n",
       "      <td>4.88</td>\n",
       "      <td>19949.0</td>\n",
       "      <td>4.13</td>\n",
       "      <td>664.8</td>\n",
       "      <td>1.42</td>\n",
       "    </tr>\n",
       "    <tr>\n",
       "      <th>1</th>\n",
       "      <td>2012-01-04</td>\n",
       "      <td>516.30</td>\n",
       "      <td>652090.0</td>\n",
       "      <td>0.48</td>\n",
       "      <td>12418.42</td>\n",
       "      <td>145130000.0</td>\n",
       "      <td>0.17</td>\n",
       "      <td>1277.30</td>\n",
       "      <td>0.02</td>\n",
       "      <td>2648.36</td>\n",
       "      <td>...</td>\n",
       "      <td>1856.50</td>\n",
       "      <td>8430.0</td>\n",
       "      <td>-0.42</td>\n",
       "      <td>29.063</td>\n",
       "      <td>70.0</td>\n",
       "      <td>-1.59</td>\n",
       "      <td>19555.0</td>\n",
       "      <td>-1.98</td>\n",
       "      <td>649.9</td>\n",
       "      <td>-2.24</td>\n",
       "    </tr>\n",
       "    <tr>\n",
       "      <th>2</th>\n",
       "      <td>2012-01-05</td>\n",
       "      <td>521.96</td>\n",
       "      <td>654300.0</td>\n",
       "      <td>1.10</td>\n",
       "      <td>12415.70</td>\n",
       "      <td>158440000.0</td>\n",
       "      <td>-0.02</td>\n",
       "      <td>1281.06</td>\n",
       "      <td>0.29</td>\n",
       "      <td>2669.86</td>\n",
       "      <td>...</td>\n",
       "      <td>1821.25</td>\n",
       "      <td>7720.0</td>\n",
       "      <td>-1.90</td>\n",
       "      <td>29.265</td>\n",
       "      <td>30.0</td>\n",
       "      <td>0.70</td>\n",
       "      <td>19814.0</td>\n",
       "      <td>1.32</td>\n",
       "      <td>640.4</td>\n",
       "      <td>-1.46</td>\n",
       "    </tr>\n",
       "    <tr>\n",
       "      <th>3</th>\n",
       "      <td>2012-01-06</td>\n",
       "      <td>518.94</td>\n",
       "      <td>626020.0</td>\n",
       "      <td>-0.58</td>\n",
       "      <td>12359.92</td>\n",
       "      <td>131120000.0</td>\n",
       "      <td>-0.45</td>\n",
       "      <td>1277.81</td>\n",
       "      <td>-0.25</td>\n",
       "      <td>2674.22</td>\n",
       "      <td>...</td>\n",
       "      <td>1840.75</td>\n",
       "      <td>7120.0</td>\n",
       "      <td>1.07</td>\n",
       "      <td>28.653</td>\n",
       "      <td>80.0</td>\n",
       "      <td>-2.09</td>\n",
       "      <td>19807.0</td>\n",
       "      <td>-0.04</td>\n",
       "      <td>616.1</td>\n",
       "      <td>-3.79</td>\n",
       "    </tr>\n",
       "    <tr>\n",
       "      <th>4</th>\n",
       "      <td>2012-01-09</td>\n",
       "      <td>520.28</td>\n",
       "      <td>617370.0</td>\n",
       "      <td>0.26</td>\n",
       "      <td>12392.69</td>\n",
       "      <td>122200000.0</td>\n",
       "      <td>0.27</td>\n",
       "      <td>1280.70</td>\n",
       "      <td>0.23</td>\n",
       "      <td>2676.56</td>\n",
       "      <td>...</td>\n",
       "      <td>1870.25</td>\n",
       "      <td>9620.0</td>\n",
       "      <td>1.60</td>\n",
       "      <td>28.749</td>\n",
       "      <td>60.0</td>\n",
       "      <td>-0.34</td>\n",
       "      <td>19746.0</td>\n",
       "      <td>-0.31</td>\n",
       "      <td>620.0</td>\n",
       "      <td>0.63</td>\n",
       "    </tr>\n",
       "  </tbody>\n",
       "</table>\n",
       "<p>5 rows × 372 columns</p>\n",
       "</div>"
      ],
      "text/plain": [
       "         date  kosdaq_close  kosdaq_vol  kosdaq_var  us-30_close    us-30_vol  \\\n",
       "0  2012-01-03        513.83    590990.0        1.39     12397.38  152560000.0   \n",
       "1  2012-01-04        516.30    652090.0        0.48     12418.42  145130000.0   \n",
       "2  2012-01-05        521.96    654300.0        1.10     12415.70  158440000.0   \n",
       "3  2012-01-06        518.94    626020.0       -0.58     12359.92  131120000.0   \n",
       "4  2012-01-09        520.28    617370.0        0.26     12392.69  122200000.0   \n",
       "\n",
       "   us-30_var  us-spx-500_close  us-spx-500_var  nasdaq-composite_close  ...  \\\n",
       "0       1.47           1277.06            1.55                 2648.72  ...   \n",
       "1       0.17           1277.30            0.02                 2648.36  ...   \n",
       "2      -0.02           1281.06            0.29                 2669.86  ...   \n",
       "3      -0.45           1277.81           -0.25                 2674.22  ...   \n",
       "4       0.27           1280.70            0.23                 2676.56  ...   \n",
       "\n",
       "   영국_아연_close  영국_아연_vol  영국_아연_var  은_close  은_vol  은_var  영국_주석_close  \\\n",
       "0      1864.25     9410.0       1.83   29.533  140.0   4.88      19949.0   \n",
       "1      1856.50     8430.0      -0.42   29.063   70.0  -1.59      19555.0   \n",
       "2      1821.25     7720.0      -1.90   29.265   30.0   0.70      19814.0   \n",
       "3      1840.75     7120.0       1.07   28.653   80.0  -2.09      19807.0   \n",
       "4      1870.25     9620.0       1.60   28.749   60.0  -0.34      19746.0   \n",
       "\n",
       "   영국_주석_var  미국_팔라듐_close  미국_팔라듐_var  \n",
       "0       4.13         664.8        1.42  \n",
       "1      -1.98         649.9       -2.24  \n",
       "2       1.32         640.4       -1.46  \n",
       "3      -0.04         616.1       -3.79  \n",
       "4      -0.31         620.0        0.63  \n",
       "\n",
       "[5 rows x 372 columns]"
      ]
     },
     "execution_count": 11,
     "metadata": {},
     "output_type": "execute_result"
    }
   ],
   "source": [
    "stock_df.head()"
   ]
  },
  {
   "cell_type": "code",
   "execution_count": null,
   "id": "31930fea-1368-4c6a-b0b3-76db8592f652",
   "metadata": {},
   "outputs": [],
   "source": []
  },
  {
   "cell_type": "markdown",
   "id": "62d7d0bd-c11b-4dfc-adf0-a892b57c0f28",
   "metadata": {},
   "source": [
    "## Modeling"
   ]
  },
  {
   "cell_type": "markdown",
   "id": "e94a5436-4a24-4f56-b468-18ac1de27712",
   "metadata": {
    "tags": []
   },
   "source": [
    "* label portion 탐색"
   ]
  },
  {
   "cell_type": "code",
   "execution_count": 99,
   "id": "64304947-89bf-44cf-ad68-dec4e43b160e",
   "metadata": {},
   "outputs": [
    {
     "data": {
      "text/plain": [
       "Counter({0: 1088, 1: 1221})"
      ]
     },
     "execution_count": 99,
     "metadata": {},
     "output_type": "execute_result"
    }
   ],
   "source": [
    "Counter(whole_truth)"
   ]
  },
  {
   "cell_type": "code",
   "execution_count": 101,
   "id": "05746b30-7fbc-42c4-b72b-e396e15ee49a",
   "metadata": {},
   "outputs": [
    {
     "data": {
      "text/plain": [
       "0.5288003464703335"
      ]
     },
     "execution_count": 101,
     "metadata": {},
     "output_type": "execute_result"
    }
   ],
   "source": [
    "1221/(1088+1221)"
   ]
  },
  {
   "cell_type": "code",
   "execution_count": null,
   "id": "c82239f6-742e-4151-8d06-72147e02ec9b",
   "metadata": {},
   "outputs": [],
   "source": []
  },
  {
   "cell_type": "markdown",
   "id": "693946ce-0951-402f-9b34-fd0aa9b108df",
   "metadata": {},
   "source": [
    "* baseline modeling - moving window"
   ]
  },
  {
   "cell_type": "code",
   "execution_count": 12,
   "id": "a4fd0ac9-0250-4060-beb0-df67a56bf3fc",
   "metadata": {},
   "outputs": [],
   "source": [
    "# temp_x = stock_df.loc[:, var_cols]\n",
    "temp_x = stock_df.iloc[:, 1:]"
   ]
  },
  {
   "cell_type": "code",
   "execution_count": 13,
   "id": "d02f1706-66bb-4085-a6de-02c236cc2da3",
   "metadata": {},
   "outputs": [
    {
     "data": {
      "text/html": [
       "<div>\n",
       "<style scoped>\n",
       "    .dataframe tbody tr th:only-of-type {\n",
       "        vertical-align: middle;\n",
       "    }\n",
       "\n",
       "    .dataframe tbody tr th {\n",
       "        vertical-align: top;\n",
       "    }\n",
       "\n",
       "    .dataframe thead th {\n",
       "        text-align: right;\n",
       "    }\n",
       "</style>\n",
       "<table border=\"1\" class=\"dataframe\">\n",
       "  <thead>\n",
       "    <tr style=\"text-align: right;\">\n",
       "      <th></th>\n",
       "      <th>kosdaq_close</th>\n",
       "      <th>kosdaq_vol</th>\n",
       "      <th>kosdaq_var</th>\n",
       "      <th>us-30_close</th>\n",
       "      <th>us-30_vol</th>\n",
       "      <th>us-30_var</th>\n",
       "      <th>us-spx-500_close</th>\n",
       "      <th>us-spx-500_var</th>\n",
       "      <th>nasdaq-composite_close</th>\n",
       "      <th>nasdaq-composite_vol</th>\n",
       "      <th>...</th>\n",
       "      <th>영국_아연_close</th>\n",
       "      <th>영국_아연_vol</th>\n",
       "      <th>영국_아연_var</th>\n",
       "      <th>은_close</th>\n",
       "      <th>은_vol</th>\n",
       "      <th>은_var</th>\n",
       "      <th>영국_주석_close</th>\n",
       "      <th>영국_주석_var</th>\n",
       "      <th>미국_팔라듐_close</th>\n",
       "      <th>미국_팔라듐_var</th>\n",
       "    </tr>\n",
       "  </thead>\n",
       "  <tbody>\n",
       "    <tr>\n",
       "      <th>0</th>\n",
       "      <td>513.83</td>\n",
       "      <td>590990.0</td>\n",
       "      <td>1.39</td>\n",
       "      <td>12397.38</td>\n",
       "      <td>152560000.0</td>\n",
       "      <td>1.47</td>\n",
       "      <td>1277.06</td>\n",
       "      <td>1.55</td>\n",
       "      <td>2648.72</td>\n",
       "      <td>411790000.0</td>\n",
       "      <td>...</td>\n",
       "      <td>1864.25</td>\n",
       "      <td>9410.0</td>\n",
       "      <td>1.83</td>\n",
       "      <td>29.533</td>\n",
       "      <td>140.0</td>\n",
       "      <td>4.88</td>\n",
       "      <td>19949.0</td>\n",
       "      <td>4.13</td>\n",
       "      <td>664.8</td>\n",
       "      <td>1.42</td>\n",
       "    </tr>\n",
       "    <tr>\n",
       "      <th>1</th>\n",
       "      <td>516.30</td>\n",
       "      <td>652090.0</td>\n",
       "      <td>0.48</td>\n",
       "      <td>12418.42</td>\n",
       "      <td>145130000.0</td>\n",
       "      <td>0.17</td>\n",
       "      <td>1277.30</td>\n",
       "      <td>0.02</td>\n",
       "      <td>2648.36</td>\n",
       "      <td>411090000.0</td>\n",
       "      <td>...</td>\n",
       "      <td>1856.50</td>\n",
       "      <td>8430.0</td>\n",
       "      <td>-0.42</td>\n",
       "      <td>29.063</td>\n",
       "      <td>70.0</td>\n",
       "      <td>-1.59</td>\n",
       "      <td>19555.0</td>\n",
       "      <td>-1.98</td>\n",
       "      <td>649.9</td>\n",
       "      <td>-2.24</td>\n",
       "    </tr>\n",
       "    <tr>\n",
       "      <th>2</th>\n",
       "      <td>521.96</td>\n",
       "      <td>654300.0</td>\n",
       "      <td>1.10</td>\n",
       "      <td>12415.70</td>\n",
       "      <td>158440000.0</td>\n",
       "      <td>-0.02</td>\n",
       "      <td>1281.06</td>\n",
       "      <td>0.29</td>\n",
       "      <td>2669.86</td>\n",
       "      <td>442080000.0</td>\n",
       "      <td>...</td>\n",
       "      <td>1821.25</td>\n",
       "      <td>7720.0</td>\n",
       "      <td>-1.90</td>\n",
       "      <td>29.265</td>\n",
       "      <td>30.0</td>\n",
       "      <td>0.70</td>\n",
       "      <td>19814.0</td>\n",
       "      <td>1.32</td>\n",
       "      <td>640.4</td>\n",
       "      <td>-1.46</td>\n",
       "    </tr>\n",
       "    <tr>\n",
       "      <th>3</th>\n",
       "      <td>518.94</td>\n",
       "      <td>626020.0</td>\n",
       "      <td>-0.58</td>\n",
       "      <td>12359.92</td>\n",
       "      <td>131120000.0</td>\n",
       "      <td>-0.45</td>\n",
       "      <td>1277.81</td>\n",
       "      <td>-0.25</td>\n",
       "      <td>2674.22</td>\n",
       "      <td>412310000.0</td>\n",
       "      <td>...</td>\n",
       "      <td>1840.75</td>\n",
       "      <td>7120.0</td>\n",
       "      <td>1.07</td>\n",
       "      <td>28.653</td>\n",
       "      <td>80.0</td>\n",
       "      <td>-2.09</td>\n",
       "      <td>19807.0</td>\n",
       "      <td>-0.04</td>\n",
       "      <td>616.1</td>\n",
       "      <td>-3.79</td>\n",
       "    </tr>\n",
       "    <tr>\n",
       "      <th>4</th>\n",
       "      <td>520.28</td>\n",
       "      <td>617370.0</td>\n",
       "      <td>0.26</td>\n",
       "      <td>12392.69</td>\n",
       "      <td>122200000.0</td>\n",
       "      <td>0.27</td>\n",
       "      <td>1280.70</td>\n",
       "      <td>0.23</td>\n",
       "      <td>2676.56</td>\n",
       "      <td>447700000.0</td>\n",
       "      <td>...</td>\n",
       "      <td>1870.25</td>\n",
       "      <td>9620.0</td>\n",
       "      <td>1.60</td>\n",
       "      <td>28.749</td>\n",
       "      <td>60.0</td>\n",
       "      <td>-0.34</td>\n",
       "      <td>19746.0</td>\n",
       "      <td>-0.31</td>\n",
       "      <td>620.0</td>\n",
       "      <td>0.63</td>\n",
       "    </tr>\n",
       "  </tbody>\n",
       "</table>\n",
       "<p>5 rows × 371 columns</p>\n",
       "</div>"
      ],
      "text/plain": [
       "   kosdaq_close  kosdaq_vol  kosdaq_var  us-30_close    us-30_vol  us-30_var  \\\n",
       "0        513.83    590990.0        1.39     12397.38  152560000.0       1.47   \n",
       "1        516.30    652090.0        0.48     12418.42  145130000.0       0.17   \n",
       "2        521.96    654300.0        1.10     12415.70  158440000.0      -0.02   \n",
       "3        518.94    626020.0       -0.58     12359.92  131120000.0      -0.45   \n",
       "4        520.28    617370.0        0.26     12392.69  122200000.0       0.27   \n",
       "\n",
       "   us-spx-500_close  us-spx-500_var  nasdaq-composite_close  \\\n",
       "0           1277.06            1.55                 2648.72   \n",
       "1           1277.30            0.02                 2648.36   \n",
       "2           1281.06            0.29                 2669.86   \n",
       "3           1277.81           -0.25                 2674.22   \n",
       "4           1280.70            0.23                 2676.56   \n",
       "\n",
       "   nasdaq-composite_vol  ...  영국_아연_close  영국_아연_vol  영국_아연_var  은_close  \\\n",
       "0           411790000.0  ...      1864.25     9410.0       1.83   29.533   \n",
       "1           411090000.0  ...      1856.50     8430.0      -0.42   29.063   \n",
       "2           442080000.0  ...      1821.25     7720.0      -1.90   29.265   \n",
       "3           412310000.0  ...      1840.75     7120.0       1.07   28.653   \n",
       "4           447700000.0  ...      1870.25     9620.0       1.60   28.749   \n",
       "\n",
       "   은_vol  은_var  영국_주석_close  영국_주석_var  미국_팔라듐_close  미국_팔라듐_var  \n",
       "0  140.0   4.88      19949.0       4.13         664.8        1.42  \n",
       "1   70.0  -1.59      19555.0      -1.98         649.9       -2.24  \n",
       "2   30.0   0.70      19814.0       1.32         640.4       -1.46  \n",
       "3   80.0  -2.09      19807.0      -0.04         616.1       -3.79  \n",
       "4   60.0  -0.34      19746.0      -0.31         620.0        0.63  \n",
       "\n",
       "[5 rows x 371 columns]"
      ]
     },
     "execution_count": 13,
     "metadata": {},
     "output_type": "execute_result"
    }
   ],
   "source": [
    "temp_x.head()"
   ]
  },
  {
   "cell_type": "code",
   "execution_count": 34,
   "id": "f24d888d-ed9f-4fc2-a2c2-4181e1bbfcea",
   "metadata": {},
   "outputs": [],
   "source": [
    "train_volum = 100\n",
    "train_start_idx = 0\n",
    "sample_days = 5\n",
    "\n",
    "data = temp_x\n",
    "\n",
    "model_xgb = XGBClassifier()\n",
    "model_lgbm = LGBMClassifier()\n",
    "model_ngb = NGBClassifier()\n",
    "model_cat = CatBoostClassifier(verbose = False)\n",
    "\n",
    "model = model_cat"
   ]
  },
  {
   "cell_type": "code",
   "execution_count": 35,
   "id": "91e11368-d446-494d-b1ef-ddd5fa16893d",
   "metadata": {},
   "outputs": [],
   "source": [
    "c_target_num = np.where(c_target == \"Up\", 1, 0)\n",
    "c_target_num = pd.DataFrame(c_target_num)"
   ]
  },
  {
   "cell_type": "code",
   "execution_count": 36,
   "id": "99e7895a-6aeb-4eba-a400-f87716255c55",
   "metadata": {},
   "outputs": [],
   "source": [
    "pred_dict = {}"
   ]
  },
  {
   "cell_type": "code",
   "execution_count": 37,
   "id": "2ae276fb-df1d-4050-8959-589408c3957e",
   "metadata": {
    "tags": []
   },
   "outputs": [
    {
     "name": "stderr",
     "output_type": "stream",
     "text": [
      "  0%|                                                                                         | 0/2309 [00:00<?, ?it/s]"
     ]
    },
    {
     "name": "stdout",
     "output_type": "stream",
     "text": [
      "Start Fitting..\n"
     ]
    },
    {
     "name": "stderr",
     "output_type": "stream",
     "text": [
      "100%|████████████████████████████████████████████████████████████████████████████| 2309/2309 [6:26:34<00:00, 10.05s/it]"
     ]
    },
    {
     "name": "stdout",
     "output_type": "stream",
     "text": [
      "Finish\n"
     ]
    },
    {
     "name": "stderr",
     "output_type": "stream",
     "text": [
      "\n"
     ]
    }
   ],
   "source": [
    "train_end_idx = train_start_idx + train_volum\n",
    "test_start_idx = train_end_idx + 1\n",
    "\n",
    "whole_predict = []\n",
    "whole_proba = []\n",
    "whole_truth = []\n",
    "whole_acc = []\n",
    "\n",
    "print(\"Start Fitting..\")\n",
    "for _ in tqdm(range(data.shape[0] - (train_volum + 1))) :\n",
    "    temp_train_x = data.loc[train_start_idx:train_end_idx,:]\n",
    "    temp_train_y = c_target_num.loc[train_start_idx:train_end_idx]\n",
    "    temp_test_x = data.loc[test_start_idx:test_start_idx,:]\n",
    "    temp_test_y = c_target_num.loc[test_start_idx]\n",
    "\n",
    "    # append sample\n",
    "    temp_train_x = temp_train_x.append(temp_train_x.loc[(train_end_idx - sample_days):])\n",
    "    temp_train_y = temp_train_y.append(temp_train_y.loc[(train_end_idx - sample_days):])\n",
    "\n",
    "    # fitting\n",
    "    model.fit(temp_train_x,temp_train_y)\n",
    "    # predict\n",
    "    predict_value = model.predict(temp_test_x)\n",
    "    whole_proba.append(model.predict_proba(temp_test_x)[0])\n",
    "\n",
    "    # save acc\n",
    "    pred_dict[stock_df.date[test_start_idx]] = predict_value[0]\n",
    "    whole_predict.append(predict_value[0])\n",
    "    whole_truth.append(temp_test_y.iloc[0])\n",
    "\n",
    "    train_start_idx += 1\n",
    "    train_end_idx = train_start_idx + train_volum\n",
    "    test_start_idx = train_end_idx + 1\n",
    "\n",
    "print(\"Finish\")"
   ]
  },
  {
   "cell_type": "code",
   "execution_count": null,
   "id": "bf4e43c4-1b48-4658-9f08-f56db3f1f316",
   "metadata": {},
   "outputs": [],
   "source": []
  },
  {
   "cell_type": "markdown",
   "id": "0bf35da2-9ccc-4556-8e56-f7c486370c92",
   "metadata": {},
   "source": [
    "* catboost performance"
   ]
  },
  {
   "cell_type": "code",
   "execution_count": 38,
   "id": "fbd6a069-bdd6-42e6-af5b-83319449e50e",
   "metadata": {},
   "outputs": [
    {
     "data": {
      "text/plain": [
       "0.5747076656561282"
      ]
     },
     "execution_count": 38,
     "metadata": {},
     "output_type": "execute_result"
    }
   ],
   "source": [
    "accuracy_score(whole_truth, whole_predict)"
   ]
  },
  {
   "cell_type": "code",
   "execution_count": 39,
   "id": "f395a07d-94fe-4bdf-bd1b-7d03a17e94db",
   "metadata": {},
   "outputs": [
    {
     "data": {
      "text/plain": [
       "0.5897821187077386"
      ]
     },
     "execution_count": 39,
     "metadata": {},
     "output_type": "execute_result"
    }
   ],
   "source": [
    "precision_score(whole_truth, whole_predict)"
   ]
  },
  {
   "cell_type": "code",
   "execution_count": 40,
   "id": "b165f2ba-fa65-4b83-b36e-6976605b87f7",
   "metadata": {},
   "outputs": [
    {
     "data": {
      "text/plain": [
       "0.642915642915643"
      ]
     },
     "execution_count": 40,
     "metadata": {},
     "output_type": "execute_result"
    }
   ],
   "source": [
    "recall_score(whole_truth, whole_predict)"
   ]
  },
  {
   "cell_type": "code",
   "execution_count": 41,
   "id": "303d3f3d-3ca1-4241-b33a-f2f1d8b98407",
   "metadata": {},
   "outputs": [
    {
     "data": {
      "text/plain": [
       "0.6152037617554859"
      ]
     },
     "execution_count": 41,
     "metadata": {},
     "output_type": "execute_result"
    }
   ],
   "source": [
    "f1_score(whole_truth, whole_predict)"
   ]
  },
  {
   "cell_type": "code",
   "execution_count": 42,
   "id": "871cd9b2-214f-4405-aede-9025c3da3af8",
   "metadata": {},
   "outputs": [
    {
     "data": {
      "text/plain": [
       "0.14185854111584528"
      ]
     },
     "execution_count": 42,
     "metadata": {},
     "output_type": "execute_result"
    }
   ],
   "source": [
    "cohen_kappa_score(whole_truth, whole_predict)"
   ]
  },
  {
   "cell_type": "code",
   "execution_count": 43,
   "id": "fc5e4e74-9493-4d0f-9b4e-14f636214d9e",
   "metadata": {},
   "outputs": [],
   "source": [
    "# proba check\n",
    "\n",
    "zero_prob = [x[0] for x in whole_proba]\n",
    "one_prob = [x[1] for x in whole_proba]\n",
    "\n",
    "tr = 0.9\n",
    "\n",
    "zero_idx = np.where(np.array(zero_prob) > tr)[0]\n",
    "one_idx = np.where(np.array(one_prob) > tr)[0]"
   ]
  },
  {
   "cell_type": "code",
   "execution_count": 44,
   "id": "7d755e7b-6786-4b20-971d-1f9c5ee03965",
   "metadata": {},
   "outputs": [
    {
     "data": {
      "text/plain": [
       "1.0"
      ]
     },
     "execution_count": 44,
     "metadata": {},
     "output_type": "execute_result"
    }
   ],
   "source": [
    "1 - np.mean(np.array(whole_truth)[zero_idx])"
   ]
  },
  {
   "cell_type": "code",
   "execution_count": 45,
   "id": "22e30620-5982-4f79-b18a-5ee7a67a3640",
   "metadata": {},
   "outputs": [
    {
     "data": {
      "text/plain": [
       "0.6923076923076923"
      ]
     },
     "execution_count": 45,
     "metadata": {},
     "output_type": "execute_result"
    }
   ],
   "source": [
    "np.mean(np.array(whole_truth)[one_idx])"
   ]
  },
  {
   "cell_type": "code",
   "execution_count": null,
   "id": "6b98c128-7818-4fff-b3fa-86b4809d9a53",
   "metadata": {},
   "outputs": [],
   "source": []
  },
  {
   "cell_type": "markdown",
   "id": "7c3a00aa-d7fa-454e-a53d-94c63ce18fb7",
   "metadata": {},
   "source": [
    "* xgboost performance"
   ]
  },
  {
   "cell_type": "code",
   "execution_count": 20,
   "id": "51a41b4d-fb8a-4feb-846e-bf34d722668e",
   "metadata": {},
   "outputs": [
    {
     "data": {
      "text/plain": [
       "0.5574738755111313"
      ]
     },
     "execution_count": 20,
     "metadata": {},
     "output_type": "execute_result"
    }
   ],
   "source": [
    "accuracy_score(whole_truth, whole_predict)"
   ]
  },
  {
   "cell_type": "code",
   "execution_count": 21,
   "id": "d22d5b92-3dd4-4c22-8a12-a052b8bce508",
   "metadata": {},
   "outputs": [
    {
     "data": {
      "text/plain": [
       "0.5817427385892117"
      ]
     },
     "execution_count": 21,
     "metadata": {},
     "output_type": "execute_result"
    }
   ],
   "source": [
    "precision_score(whole_truth, whole_predict)"
   ]
  },
  {
   "cell_type": "code",
   "execution_count": 22,
   "id": "db745f9b-3e0c-4a22-8b9c-95ef339aa366",
   "metadata": {},
   "outputs": [
    {
     "data": {
      "text/plain": [
       "0.5986336464560205"
      ]
     },
     "execution_count": 22,
     "metadata": {},
     "output_type": "execute_result"
    }
   ],
   "source": [
    "recall_score(whole_truth, whole_predict)"
   ]
  },
  {
   "cell_type": "code",
   "execution_count": 23,
   "id": "db382680-2464-4ab6-948f-a044d65117d4",
   "metadata": {},
   "outputs": [
    {
     "data": {
      "text/plain": [
       "0.5900673400673402"
      ]
     },
     "execution_count": 23,
     "metadata": {},
     "output_type": "execute_result"
    }
   ],
   "source": [
    "f1_score(whole_truth, whole_predict)"
   ]
  },
  {
   "cell_type": "code",
   "execution_count": 24,
   "id": "bcd11b37-0564-464e-bfc3-afb84371e5bb",
   "metadata": {},
   "outputs": [
    {
     "name": "stderr",
     "output_type": "stream",
     "text": [
      "C:\\Users\\PC0\\anaconda3\\lib\\site-packages\\sklearn\\metrics\\_classification.py:608: DeprecationWarning: `np.int` is a deprecated alias for the builtin `int`. To silence this warning, use `int` by itself. Doing this will not modify any behavior and is safe. When replacing `np.int`, you may wish to use e.g. `np.int64` or `np.int32` to specify the precision. If you wish to review your current use, check the release note link for additional information.\n",
      "Deprecated in NumPy 1.20; for more details and guidance: https://numpy.org/devdocs/release/1.20.0-notes.html#deprecations\n",
      "  w_mat = np.ones([n_classes, n_classes], dtype=np.int)\n"
     ]
    },
    {
     "data": {
      "text/plain": [
       "0.10953093418557103"
      ]
     },
     "execution_count": 24,
     "metadata": {},
     "output_type": "execute_result"
    }
   ],
   "source": [
    "cohen_kappa_score(whole_truth, whole_predict)"
   ]
  },
  {
   "cell_type": "code",
   "execution_count": 27,
   "id": "a9e8808f-ba05-4a56-9dae-febf8cdaf181",
   "metadata": {},
   "outputs": [],
   "source": [
    "# proba check\n",
    "\n",
    "zero_prob = [x[0] for x in whole_proba]\n",
    "one_prob = [x[1] for x in whole_proba]\n",
    "\n",
    "tr = 0.9\n",
    "\n",
    "zero_idx = np.where(np.array(zero_prob) > tr)[0]\n",
    "one_idx = np.where(np.array(one_prob) > tr)[0]"
   ]
  },
  {
   "cell_type": "code",
   "execution_count": 28,
   "id": "f5c00340-ddec-42df-b61d-78f75b3474c3",
   "metadata": {},
   "outputs": [
    {
     "data": {
      "text/plain": [
       "0.6126984126984127"
      ]
     },
     "execution_count": 28,
     "metadata": {},
     "output_type": "execute_result"
    }
   ],
   "source": [
    "1 - np.mean(np.array(whole_truth)[zero_idx])"
   ]
  },
  {
   "cell_type": "code",
   "execution_count": 29,
   "id": "5e2de083-ade5-4d60-a8bf-1e79ae28c446",
   "metadata": {},
   "outputs": [
    {
     "data": {
      "text/plain": [
       "0.6202290076335878"
      ]
     },
     "execution_count": 29,
     "metadata": {},
     "output_type": "execute_result"
    }
   ],
   "source": [
    "np.mean(np.array(whole_truth)[one_idx])"
   ]
  },
  {
   "cell_type": "code",
   "execution_count": null,
   "id": "149c3ba1-d7f7-4b40-9f26-30ad914340a7",
   "metadata": {},
   "outputs": [],
   "source": []
  },
  {
   "cell_type": "markdown",
   "id": "019f6530-9ad2-4844-848c-f36d5eb0ce7e",
   "metadata": {},
   "source": [
    "* ligtgbm performance"
   ]
  },
  {
   "cell_type": "code",
   "execution_count": 93,
   "id": "9fcd8957-9683-4563-829f-3275557a1197",
   "metadata": {},
   "outputs": [
    {
     "data": {
      "text/plain": [
       "0.5712429623213512"
      ]
     },
     "execution_count": 93,
     "metadata": {},
     "output_type": "execute_result"
    }
   ],
   "source": [
    "accuracy_score(whole_truth, whole_predict)"
   ]
  },
  {
   "cell_type": "code",
   "execution_count": 94,
   "id": "29942d88-317a-45e8-94eb-ef7facaa17e4",
   "metadata": {},
   "outputs": [
    {
     "data": {
      "text/plain": [
       "0.5900233826968043"
      ]
     },
     "execution_count": 94,
     "metadata": {},
     "output_type": "execute_result"
    }
   ],
   "source": [
    "precision_score(whole_truth, whole_predict)"
   ]
  },
  {
   "cell_type": "code",
   "execution_count": 95,
   "id": "ff5fdc63-8ae9-4eed-96f0-117b1ba131f9",
   "metadata": {},
   "outputs": [
    {
     "data": {
      "text/plain": [
       "0.61998361998362"
      ]
     },
     "execution_count": 95,
     "metadata": {},
     "output_type": "execute_result"
    }
   ],
   "source": [
    "recall_score(whole_truth, whole_predict)"
   ]
  },
  {
   "cell_type": "code",
   "execution_count": 96,
   "id": "7636e6e6-0670-4036-8049-538c4f0c4a72",
   "metadata": {},
   "outputs": [
    {
     "data": {
      "text/plain": [
       "0.6046325878594249"
      ]
     },
     "execution_count": 96,
     "metadata": {},
     "output_type": "execute_result"
    }
   ],
   "source": [
    "f1_score(whole_truth, whole_predict)"
   ]
  },
  {
   "cell_type": "code",
   "execution_count": 97,
   "id": "d33700a9-c0cb-4908-b7e5-8d52113bf5e7",
   "metadata": {},
   "outputs": [
    {
     "data": {
      "text/plain": [
       "0.13695278726898608"
      ]
     },
     "execution_count": 97,
     "metadata": {},
     "output_type": "execute_result"
    }
   ],
   "source": [
    "cohen_kappa_score(whole_truth, whole_predict)"
   ]
  },
  {
   "cell_type": "code",
   "execution_count": 149,
   "id": "b3a8a5b5-e90f-462c-984b-3ce9520a4c60",
   "metadata": {},
   "outputs": [],
   "source": [
    "# proba check\n",
    "\n",
    "zero_prob = [x[0] for x in whole_proba]\n",
    "one_prob = [x[1] for x in whole_proba]\n",
    "\n",
    "tr = 0.9\n",
    "\n",
    "zero_idx = np.where(np.array(zero_prob) > tr)[0]\n",
    "one_idx = np.where(np.array(one_prob) > tr)[0]"
   ]
  },
  {
   "cell_type": "code",
   "execution_count": 150,
   "id": "db02df2c-18d8-43af-b324-d899ba3a9163",
   "metadata": {},
   "outputs": [
    {
     "data": {
      "text/plain": [
       "0.6079136690647482"
      ]
     },
     "execution_count": 150,
     "metadata": {},
     "output_type": "execute_result"
    }
   ],
   "source": [
    "1 - np.mean(np.array(whole_truth)[zero_idx])"
   ]
  },
  {
   "cell_type": "code",
   "execution_count": 151,
   "id": "f865c4cc-5b53-4596-a2b6-0bd813fc3511",
   "metadata": {},
   "outputs": [
    {
     "data": {
      "text/plain": [
       "0.6206896551724138"
      ]
     },
     "execution_count": 151,
     "metadata": {},
     "output_type": "execute_result"
    }
   ],
   "source": [
    "np.mean(np.array(whole_truth)[one_idx])"
   ]
  },
  {
   "cell_type": "code",
   "execution_count": null,
   "id": "8af75b7f-2a3c-4f8f-b05e-f0a15ee2a531",
   "metadata": {},
   "outputs": [],
   "source": []
  },
  {
   "cell_type": "code",
   "execution_count": 82,
   "id": "feae36bd-1dec-4faa-b322-0b448e084ae8",
   "metadata": {},
   "outputs": [
    {
     "name": "stderr",
     "output_type": "stream",
     "text": [
      "C:\\Users\\PC0\\anaconda3\\lib\\site-packages\\ipykernel\\ipkernel.py:287: DeprecationWarning: `should_run_async` will not call `transform_cell` automatically in the future. Please pass the result to `transformed_cell` argument and any exception that happen during thetransform in `preprocessing_exc_tuple` in IPython 7.17 and above.\n",
      "  and should_run_async(code)\n"
     ]
    }
   ],
   "source": [
    "beta1 = 0.99\n",
    "beta2 = 0.995\n",
    "beta3 = 0.9975\n",
    "beta4 = 0.999"
   ]
  },
  {
   "cell_type": "code",
   "execution_count": 83,
   "id": "ea9fc780-abf9-472e-b5b7-5c1ae90617ba",
   "metadata": {},
   "outputs": [],
   "source": [
    "x1 = [beta1**x for x in range(1000)]\n",
    "x2 = [beta2**x for x in range(1000)]\n",
    "x3 = [beta3**x for x in range(1000)]\n",
    "x4 = [beta4**x for x in range(1000)]"
   ]
  },
  {
   "cell_type": "code",
   "execution_count": 84,
   "id": "9a8e5749-490a-422f-a0b0-0cbaabdc04d4",
   "metadata": {},
   "outputs": [
    {
     "data": {
      "text/plain": [
       "<AxesSubplot:>"
      ]
     },
     "execution_count": 84,
     "metadata": {},
     "output_type": "execute_result"
    },
    {
     "data": {
      "image/png": "[encoded data removed]",
      "text/plain": [
       "<Figure size 432x288 with 1 Axes>"
      ]
     },
     "metadata": {
      "needs_background": "light"
     },
     "output_type": "display_data"
    }
   ],
   "source": [
    "pd.DataFrame({\"x1\": x1, \"x2\": x2, \"x3\":x3,\"x4\":x4}).plot()"
   ]
  },
  {
   "cell_type": "code",
   "execution_count": null,
   "id": "1d028428-560d-4298-bf65-de2745d5709b",
   "metadata": {},
   "outputs": [],
   "source": []
  },
  {
   "cell_type": "markdown",
   "id": "ce6d1fd4-34d8-459c-9b97-fe18acfd1758",
   "metadata": {},
   "source": [
    "* baseline modeling - stacked sample"
   ]
  },
  {
   "cell_type": "code",
   "execution_count": 184,
   "id": "8bd07a2c-1ee8-4263-9cb3-be8e6c134663",
   "metadata": {},
   "outputs": [],
   "source": [
    "from sklearn.metrics.pairwise import cosine_similarity"
   ]
  },
  {
   "cell_type": "code",
   "execution_count": 198,
   "id": "1562e4f2-0e5e-493c-b624-d751099142b3",
   "metadata": {},
   "outputs": [],
   "source": [
    "train_volum = 100\n",
    "train_start_idx = 0\n",
    "sample_days = 5\n",
    "\n",
    "data = temp_x\n",
    "\n",
    "model_xgb = XGBClassifier()\n",
    "model_lgbm = LGBMClassifier()\n",
    "model_ngb = NGBClassifier()\n",
    "model_cat = CatBoostClassifier(verbose = False)\n",
    "\n",
    "model = model_lgbm"
   ]
  },
  {
   "cell_type": "code",
   "execution_count": 199,
   "id": "57d7708b-faf7-4c0a-b369-ac40885ea68a",
   "metadata": {},
   "outputs": [],
   "source": [
    "c_target_num = np.where(c_target == \"Up\", 1, 0)\n",
    "c_target_num = pd.DataFrame(c_target_num)"
   ]
  },
  {
   "cell_type": "code",
   "execution_count": 200,
   "id": "bef70b18-195f-4946-a533-0542732ceb34",
   "metadata": {},
   "outputs": [],
   "source": [
    "pred_dict = {}"
   ]
  },
  {
   "cell_type": "code",
   "execution_count": 201,
   "id": "e76a0e9e-b3be-4543-9fba-e9126f0c7830",
   "metadata": {},
   "outputs": [],
   "source": [
    "beta = 0.999"
   ]
  },
  {
   "cell_type": "code",
   "execution_count": null,
   "id": "231c0ee1-25ae-4a34-a3be-318e51644c7d",
   "metadata": {
    "tags": []
   },
   "outputs": [],
   "source": [
    "train_end_idx = train_start_idx + train_volum\n",
    "test_start_idx = train_end_idx + 1\n",
    "\n",
    "whole_predict = []\n",
    "whole_proba = []\n",
    "whole_truth = []\n",
    "whole_acc = []\n",
    "\n",
    "print(\"Start Fitting..\")\n",
    "for _ in tqdm(range(data.shape[0] - (train_volum + 1))) :\n",
    "    temp_train_x = data.loc[:train_end_idx,:]\n",
    "    temp_train_y = c_target_num.loc[:train_end_idx]\n",
    "    temp_test_x = data.loc[test_start_idx:test_start_idx,:]\n",
    "    temp_test_y = c_target_num.loc[test_start_idx]\n",
    "\n",
    "    # append sample\n",
    "    temp_train_x = temp_train_x.append(temp_train_x.loc[(train_end_idx - sample_days):])\n",
    "    temp_train_y = temp_train_y.append(temp_train_y.loc[(train_end_idx - sample_days):])\n",
    "    \n",
    "    sim_mat = cosine_similarity(np.array(temp_train_x))\n",
    "    \n",
    "    #sample_w = [beta ** x for x in range((temp_train_x.shape[0]), 0, -1)]\n",
    "    #sample_w = np.array(sample_w) + 1-np.mean(sample_w)\n",
    "    \n",
    "    # fitting\n",
    "    #model.fit(temp_train_x,temp_train_y, sample_weight=sample_w)\n",
    "    model.fit(temp_train_x,temp_train_y, sample_weight=sim_mat[-1])\n",
    "    #model.fit(temp_train_x,temp_train_y)\n",
    "    \n",
    "    # predict\n",
    "    predict_value = model.predict(temp_test_x)\n",
    "    whole_proba.append(model.predict_proba(temp_test_x)[0])\n",
    "\n",
    "    # save acc\n",
    "    pred_dict[stock_df.date[test_start_idx]] = predict_value[0]\n",
    "    whole_predict.append(predict_value[0])\n",
    "    whole_truth.append(temp_test_y.iloc[0])\n",
    "\n",
    "    train_start_idx += 1\n",
    "    train_end_idx = train_start_idx + train_volum\n",
    "    test_start_idx = train_end_idx + 1\n",
    "\n",
    "print(\"Finish\")"
   ]
  },
  {
   "cell_type": "code",
   "execution_count": null,
   "id": "af45ace4-140b-4e83-bd32-514e7eab6399",
   "metadata": {},
   "outputs": [],
   "source": []
  },
  {
   "cell_type": "markdown",
   "id": "ec276c52-8491-4dd7-879e-2d179e8bbbda",
   "metadata": {},
   "source": [
    "* lightgbm performance - with sample weights using cosine sim"
   ]
  },
  {
   "cell_type": "code",
   "execution_count": 203,
   "id": "a6248115-bcc8-43ac-b19d-6bafc579dbd0",
   "metadata": {},
   "outputs": [
    {
     "name": "stderr",
     "output_type": "stream",
     "text": [
      "C:\\Users\\PC0\\anaconda3\\lib\\site-packages\\ipykernel\\ipkernel.py:287: DeprecationWarning: `should_run_async` will not call `transform_cell` automatically in the future. Please pass the result to `transformed_cell` argument and any exception that happen during thetransform in `preprocessing_exc_tuple` in IPython 7.17 and above.\n",
      "  and should_run_async(code)\n"
     ]
    },
    {
     "data": {
      "text/plain": [
       "0.6011260285838025"
      ]
     },
     "execution_count": 203,
     "metadata": {},
     "output_type": "execute_result"
    }
   ],
   "source": [
    "accuracy_score(whole_truth, whole_predict)"
   ]
  },
  {
   "cell_type": "code",
   "execution_count": 204,
   "id": "555fbe94-5671-43f7-8fd6-92bedfdb469e",
   "metadata": {},
   "outputs": [
    {
     "data": {
      "text/plain": [
       "0.6141552511415526"
      ]
     },
     "execution_count": 204,
     "metadata": {},
     "output_type": "execute_result"
    }
   ],
   "source": [
    "precision_score(whole_truth, whole_predict)"
   ]
  },
  {
   "cell_type": "code",
   "execution_count": 205,
   "id": "d87d0092-7041-4c2c-9be1-f107f1439176",
   "metadata": {},
   "outputs": [
    {
     "data": {
      "text/plain": [
       "0.6609336609336609"
      ]
     },
     "execution_count": 205,
     "metadata": {},
     "output_type": "execute_result"
    }
   ],
   "source": [
    "recall_score(whole_truth, whole_predict)"
   ]
  },
  {
   "cell_type": "code",
   "execution_count": 206,
   "id": "c73eb08e-aa05-4518-a7b1-4ba400a87c5a",
   "metadata": {},
   "outputs": [
    {
     "data": {
      "text/plain": [
       "0.6366863905325445"
      ]
     },
     "execution_count": 206,
     "metadata": {},
     "output_type": "execute_result"
    }
   ],
   "source": [
    "f1_score(whole_truth, whole_predict)"
   ]
  },
  {
   "cell_type": "code",
   "execution_count": 207,
   "id": "e8179db5-1aef-4353-881a-e136a3bc3bbc",
   "metadata": {},
   "outputs": [
    {
     "name": "stderr",
     "output_type": "stream",
     "text": [
      "C:\\Users\\PC0\\anaconda3\\lib\\site-packages\\sklearn\\metrics\\_classification.py:608: DeprecationWarning: `np.int` is a deprecated alias for the builtin `int`. To silence this warning, use `int` by itself. Doing this will not modify any behavior and is safe. When replacing `np.int`, you may wish to use e.g. `np.int64` or `np.int32` to specify the precision. If you wish to review your current use, check the release note link for additional information.\n",
      "Deprecated in NumPy 1.20; for more details and guidance: https://numpy.org/devdocs/release/1.20.0-notes.html#deprecations\n",
      "  w_mat = np.ones([n_classes, n_classes], dtype=np.int)\n"
     ]
    },
    {
     "data": {
      "text/plain": [
       "0.19585279333506522"
      ]
     },
     "execution_count": 207,
     "metadata": {},
     "output_type": "execute_result"
    }
   ],
   "source": [
    "cohen_kappa_score(whole_truth, whole_predict)"
   ]
  },
  {
   "cell_type": "code",
   "execution_count": 208,
   "id": "598aba13-5ffa-4860-9554-18065c24b307",
   "metadata": {},
   "outputs": [],
   "source": [
    "# proba check\n",
    "\n",
    "zero_prob = [x[0] for x in whole_proba]\n",
    "one_prob = [x[1] for x in whole_proba]\n",
    "\n",
    "tr = 0.9\n",
    "\n",
    "zero_idx = np.where(np.array(zero_prob) > tr)[0]\n",
    "one_idx = np.where(np.array(one_prob) > tr)[0]"
   ]
  },
  {
   "cell_type": "code",
   "execution_count": 209,
   "id": "47af7f5a-19b5-4e0b-9fd7-797ec475997b",
   "metadata": {},
   "outputs": [
    {
     "data": {
      "text/plain": [
       "0.7035714285714285"
      ]
     },
     "execution_count": 209,
     "metadata": {},
     "output_type": "execute_result"
    }
   ],
   "source": [
    "1 - np.mean(np.array(whole_truth)[zero_idx])"
   ]
  },
  {
   "cell_type": "code",
   "execution_count": 210,
   "id": "7d9adcc4-1238-470e-9a0d-1efda1df95f6",
   "metadata": {},
   "outputs": [
    {
     "data": {
      "text/plain": [
       "0.6814988290398126"
      ]
     },
     "execution_count": 210,
     "metadata": {},
     "output_type": "execute_result"
    }
   ],
   "source": [
    "np.mean(np.array(whole_truth)[one_idx])"
   ]
  },
  {
   "cell_type": "code",
   "execution_count": null,
   "id": "1f7335f4-f9ce-4308-ac95-62410a01ac6e",
   "metadata": {},
   "outputs": [],
   "source": []
  },
  {
   "cell_type": "markdown",
   "id": "74ea3b58-c11a-45a9-9841-5aa4f345a816",
   "metadata": {},
   "source": [
    "* lightgbm performance - with sample weights 0.999 beta adjust"
   ]
  },
  {
   "cell_type": "code",
   "execution_count": 165,
   "id": "443b2399-ffa8-4bf7-a1e8-5c5074321c34",
   "metadata": {},
   "outputs": [
    {
     "data": {
      "text/plain": [
       "0.6145517540060632"
      ]
     },
     "execution_count": 165,
     "metadata": {},
     "output_type": "execute_result"
    }
   ],
   "source": [
    "accuracy_score(whole_truth, whole_predict)"
   ]
  },
  {
   "cell_type": "code",
   "execution_count": 166,
   "id": "6d4ecce5-3f8f-41ca-820d-6f47ccb31d55",
   "metadata": {},
   "outputs": [
    {
     "data": {
      "text/plain": [
       "0.6258555133079848"
      ]
     },
     "execution_count": 166,
     "metadata": {},
     "output_type": "execute_result"
    }
   ],
   "source": [
    "precision_score(whole_truth, whole_predict)"
   ]
  },
  {
   "cell_type": "code",
   "execution_count": 167,
   "id": "1396ee6e-3384-4131-aa18-019818fd8b2b",
   "metadata": {},
   "outputs": [
    {
     "data": {
      "text/plain": [
       "0.674037674037674"
      ]
     },
     "execution_count": 167,
     "metadata": {},
     "output_type": "execute_result"
    }
   ],
   "source": [
    "recall_score(whole_truth, whole_predict)"
   ]
  },
  {
   "cell_type": "code",
   "execution_count": 168,
   "id": "84e579b7-edab-49ec-9fd5-35760b8a9c71",
   "metadata": {},
   "outputs": [
    {
     "data": {
      "text/plain": [
       "0.6490536277602523"
      ]
     },
     "execution_count": 168,
     "metadata": {},
     "output_type": "execute_result"
    }
   ],
   "source": [
    "f1_score(whole_truth, whole_predict)"
   ]
  },
  {
   "cell_type": "code",
   "execution_count": 169,
   "id": "4edfbbb9-d9c5-4e08-a139-9c53d747b690",
   "metadata": {},
   "outputs": [
    {
     "data": {
      "text/plain": [
       "0.22288055410804897"
      ]
     },
     "execution_count": 169,
     "metadata": {},
     "output_type": "execute_result"
    }
   ],
   "source": [
    "cohen_kappa_score(whole_truth, whole_predict)"
   ]
  },
  {
   "cell_type": "code",
   "execution_count": 170,
   "id": "7c3a4020-f39d-4dc2-876f-4aec7e41bf85",
   "metadata": {},
   "outputs": [],
   "source": [
    "# proba check\n",
    "\n",
    "zero_prob = [x[0] for x in whole_proba]\n",
    "one_prob = [x[1] for x in whole_proba]\n",
    "\n",
    "tr = 0.9\n",
    "\n",
    "zero_idx = np.where(np.array(zero_prob) > tr)[0]\n",
    "one_idx = np.where(np.array(one_prob) > tr)[0]"
   ]
  },
  {
   "cell_type": "code",
   "execution_count": 171,
   "id": "7fe0ef40-e263-4b2c-a096-de9dbeaf2084",
   "metadata": {},
   "outputs": [
    {
     "data": {
      "text/plain": [
       "0.7320754716981133"
      ]
     },
     "execution_count": 171,
     "metadata": {},
     "output_type": "execute_result"
    }
   ],
   "source": [
    "1 - np.mean(np.array(whole_truth)[zero_idx])"
   ]
  },
  {
   "cell_type": "code",
   "execution_count": 172,
   "id": "9f87fdd3-b212-4804-b33a-fa46d9c9588f",
   "metadata": {},
   "outputs": [
    {
     "data": {
      "text/plain": [
       "0.6857142857142857"
      ]
     },
     "execution_count": 172,
     "metadata": {},
     "output_type": "execute_result"
    }
   ],
   "source": [
    "np.mean(np.array(whole_truth)[one_idx])"
   ]
  },
  {
   "cell_type": "code",
   "execution_count": null,
   "id": "f0a7d11a-bb87-4abb-9789-465ee30857f8",
   "metadata": {},
   "outputs": [],
   "source": []
  },
  {
   "cell_type": "markdown",
   "id": "a4949dcb-d3d1-4f90-94a9-6de0291f7902",
   "metadata": {},
   "source": [
    "* lightgbm performance - with sample weights 0.9975 beta"
   ]
  },
  {
   "cell_type": "code",
   "execution_count": 107,
   "id": "5d51a606-e110-4bd0-90fe-77d7c025e05b",
   "metadata": {},
   "outputs": [
    {
     "data": {
      "text/plain": [
       "0.6007020623080298"
      ]
     },
     "execution_count": 107,
     "metadata": {},
     "output_type": "execute_result"
    }
   ],
   "source": [
    "accuracy_score(whole_truth, whole_predict)"
   ]
  },
  {
   "cell_type": "code",
   "execution_count": 108,
   "id": "83cc073f-c6cc-4bab-bbb5-f9ef61a5cbf7",
   "metadata": {},
   "outputs": [
    {
     "data": {
      "text/plain": [
       "0.6188951160928743"
      ]
     },
     "execution_count": 108,
     "metadata": {},
     "output_type": "execute_result"
    }
   ],
   "source": [
    "precision_score(whole_truth, whole_predict)"
   ]
  },
  {
   "cell_type": "code",
   "execution_count": 109,
   "id": "2a3858be-9c5e-4450-a358-146dcba32c4b",
   "metadata": {},
   "outputs": [
    {
     "data": {
      "text/plain": [
       "0.6404308202154101"
      ]
     },
     "execution_count": 109,
     "metadata": {},
     "output_type": "execute_result"
    }
   ],
   "source": [
    "recall_score(whole_truth, whole_predict)"
   ]
  },
  {
   "cell_type": "code",
   "execution_count": 110,
   "id": "5a612438-13b6-4f2a-b7a6-2dad000679a0",
   "metadata": {},
   "outputs": [
    {
     "data": {
      "text/plain": [
       "0.6294788273615636"
      ]
     },
     "execution_count": 110,
     "metadata": {},
     "output_type": "execute_result"
    }
   ],
   "source": [
    "f1_score(whole_truth, whole_predict)"
   ]
  },
  {
   "cell_type": "code",
   "execution_count": 111,
   "id": "16e558e1-4824-4834-ab50-f5b92704e412",
   "metadata": {},
   "outputs": [
    {
     "name": "stderr",
     "output_type": "stream",
     "text": [
      "C:\\Users\\PC0\\anaconda3\\lib\\site-packages\\sklearn\\metrics\\_classification.py:608: DeprecationWarning: `np.int` is a deprecated alias for the builtin `int`. To silence this warning, use `int` by itself. Doing this will not modify any behavior and is safe. When replacing `np.int`, you may wish to use e.g. `np.int64` or `np.int32` to specify the precision. If you wish to review your current use, check the release note link for additional information.\n",
      "Deprecated in NumPy 1.20; for more details and guidance: https://numpy.org/devdocs/release/1.20.0-notes.html#deprecations\n",
      "  w_mat = np.ones([n_classes, n_classes], dtype=np.int)\n"
     ]
    },
    {
     "data": {
      "text/plain": [
       "0.19683223747142864"
      ]
     },
     "execution_count": 111,
     "metadata": {},
     "output_type": "execute_result"
    }
   ],
   "source": [
    "cohen_kappa_score(whole_truth, whole_predict)"
   ]
  },
  {
   "cell_type": "code",
   "execution_count": 115,
   "id": "d0c3b11a-c43b-4a79-be20-b22a2d3512e7",
   "metadata": {},
   "outputs": [],
   "source": [
    "# proba check\n",
    "\n",
    "zero_prob = [x[0] for x in whole_proba]\n",
    "one_prob = [x[1] for x in whole_proba]\n",
    "\n",
    "tr = 0.9\n",
    "\n",
    "zero_idx = np.where(np.array(zero_prob) > tr)[0]\n",
    "one_idx = np.where(np.array(one_prob) > tr)[0]"
   ]
  },
  {
   "cell_type": "code",
   "execution_count": 116,
   "id": "b94081df-4c9b-4f9a-ad07-963f62ec7e96",
   "metadata": {},
   "outputs": [
    {
     "data": {
      "text/plain": [
       "0.7239263803680982"
      ]
     },
     "execution_count": 116,
     "metadata": {},
     "output_type": "execute_result"
    }
   ],
   "source": [
    "1 - np.mean(np.array(whole_truth)[zero_idx])"
   ]
  },
  {
   "cell_type": "code",
   "execution_count": 117,
   "id": "5fec8df4-9955-446e-8d38-d0f0cb23aa4a",
   "metadata": {},
   "outputs": [
    {
     "data": {
      "text/plain": [
       "0.6784968684759917"
      ]
     },
     "execution_count": 117,
     "metadata": {},
     "output_type": "execute_result"
    }
   ],
   "source": [
    "np.mean(np.array(whole_truth)[one_idx])"
   ]
  },
  {
   "cell_type": "code",
   "execution_count": null,
   "id": "9d27711d-d9d0-4f50-a1d7-fa5f673e0ec7",
   "metadata": {},
   "outputs": [],
   "source": []
  },
  {
   "cell_type": "markdown",
   "id": "5d81347a-c725-4527-9a0a-d42783c5a5a5",
   "metadata": {},
   "source": [
    "* lightgbm performance - W/O sample weights"
   ]
  },
  {
   "cell_type": "code",
   "execution_count": 128,
   "id": "ff739afe-7774-49ab-95cc-504afe554f7c",
   "metadata": {},
   "outputs": [
    {
     "data": {
      "text/plain": [
       "0.6071892594196622"
      ]
     },
     "execution_count": 128,
     "metadata": {},
     "output_type": "execute_result"
    }
   ],
   "source": [
    "accuracy_score(whole_truth, whole_predict)"
   ]
  },
  {
   "cell_type": "code",
   "execution_count": 129,
   "id": "ec6fd67f-4aaa-464f-8e58-54c59c03af9f",
   "metadata": {},
   "outputs": [
    {
     "data": {
      "text/plain": [
       "0.6218944099378882"
      ]
     },
     "execution_count": 129,
     "metadata": {},
     "output_type": "execute_result"
    }
   ],
   "source": [
    "precision_score(whole_truth, whole_predict)"
   ]
  },
  {
   "cell_type": "code",
   "execution_count": 130,
   "id": "494baa60-c05f-4fc0-9e31-66703e3f173e",
   "metadata": {},
   "outputs": [
    {
     "data": {
      "text/plain": [
       "0.6560196560196561"
      ]
     },
     "execution_count": 130,
     "metadata": {},
     "output_type": "execute_result"
    }
   ],
   "source": [
    "recall_score(whole_truth, whole_predict)"
   ]
  },
  {
   "cell_type": "code",
   "execution_count": 131,
   "id": "efcf3388-6040-49bf-bab3-038454f46154",
   "metadata": {},
   "outputs": [
    {
     "data": {
      "text/plain": [
       "0.638501394978079"
      ]
     },
     "execution_count": 131,
     "metadata": {},
     "output_type": "execute_result"
    }
   ],
   "source": [
    "f1_score(whole_truth, whole_predict)"
   ]
  },
  {
   "cell_type": "code",
   "execution_count": 132,
   "id": "8e7add65-c44d-4362-813c-5d49c61a2dc9",
   "metadata": {},
   "outputs": [
    {
     "name": "stderr",
     "output_type": "stream",
     "text": [
      "C:\\Users\\PC0\\anaconda3\\lib\\site-packages\\sklearn\\metrics\\_classification.py:608: DeprecationWarning: `np.int` is a deprecated alias for the builtin `int`. To silence this warning, use `int` by itself. Doing this will not modify any behavior and is safe. When replacing `np.int`, you may wish to use e.g. `np.int64` or `np.int32` to specify the precision. If you wish to review your current use, check the release note link for additional information.\n",
      "Deprecated in NumPy 1.20; for more details and guidance: https://numpy.org/devdocs/release/1.20.0-notes.html#deprecations\n",
      "  w_mat = np.ones([n_classes, n_classes], dtype=np.int)\n"
     ]
    },
    {
     "data": {
      "text/plain": [
       "0.20911070115578445"
      ]
     },
     "execution_count": 132,
     "metadata": {},
     "output_type": "execute_result"
    }
   ],
   "source": [
    "cohen_kappa_score(whole_truth, whole_predict)"
   ]
  },
  {
   "cell_type": "code",
   "execution_count": 133,
   "id": "c8623cad-76da-46af-991e-daa8143b6683",
   "metadata": {},
   "outputs": [],
   "source": [
    "# proba check\n",
    "\n",
    "zero_prob = [x[0] for x in whole_proba]\n",
    "one_prob = [x[1] for x in whole_proba]\n",
    "\n",
    "tr = 0.9\n",
    "\n",
    "zero_idx = np.where(np.array(zero_prob) > tr)[0]\n",
    "one_idx = np.where(np.array(one_prob) > tr)[0]"
   ]
  },
  {
   "cell_type": "code",
   "execution_count": 134,
   "id": "ae0748f1-a48d-469b-be87-b0ef180652f3",
   "metadata": {},
   "outputs": [
    {
     "data": {
      "text/plain": [
       "0.7175572519083969"
      ]
     },
     "execution_count": 134,
     "metadata": {},
     "output_type": "execute_result"
    }
   ],
   "source": [
    "1 - np.mean(np.array(whole_truth)[zero_idx])"
   ]
  },
  {
   "cell_type": "code",
   "execution_count": 135,
   "id": "f3e1135d-8e93-4da8-9815-079137d79b7e",
   "metadata": {},
   "outputs": [
    {
     "data": {
      "text/plain": [
       "0.676056338028169"
      ]
     },
     "execution_count": 135,
     "metadata": {},
     "output_type": "execute_result"
    }
   ],
   "source": [
    "np.mean(np.array(whole_truth)[one_idx])"
   ]
  },
  {
   "cell_type": "code",
   "execution_count": null,
   "id": "dda0ea55-141a-4fb2-b7f4-831d1dfa1d08",
   "metadata": {},
   "outputs": [],
   "source": []
  },
  {
   "cell_type": "markdown",
   "id": "6bdab5da-b5db-46bd-995a-bf6e32da434b",
   "metadata": {},
   "source": [
    "* catboost performance"
   ]
  },
  {
   "cell_type": "code",
   "execution_count": 38,
   "id": "95ee57ac-6abb-4cdf-bdee-23905ef63a0e",
   "metadata": {},
   "outputs": [
    {
     "data": {
      "text/plain": [
       "0.5747076656561282"
      ]
     },
     "execution_count": 38,
     "metadata": {},
     "output_type": "execute_result"
    }
   ],
   "source": [
    "accuracy_score(whole_truth, whole_predict)"
   ]
  },
  {
   "cell_type": "code",
   "execution_count": 39,
   "id": "efb7e6ae-bc9b-42b3-b9a0-eb22d99d0c81",
   "metadata": {},
   "outputs": [
    {
     "data": {
      "text/plain": [
       "0.5897821187077386"
      ]
     },
     "execution_count": 39,
     "metadata": {},
     "output_type": "execute_result"
    }
   ],
   "source": [
    "precision_score(whole_truth, whole_predict)"
   ]
  },
  {
   "cell_type": "code",
   "execution_count": 40,
   "id": "bced1459-b17b-4482-8ff7-8807162d0c06",
   "metadata": {},
   "outputs": [
    {
     "data": {
      "text/plain": [
       "0.642915642915643"
      ]
     },
     "execution_count": 40,
     "metadata": {},
     "output_type": "execute_result"
    }
   ],
   "source": [
    "recall_score(whole_truth, whole_predict)"
   ]
  },
  {
   "cell_type": "code",
   "execution_count": 41,
   "id": "45fb9b25-4455-45cb-8524-b52b383b24fc",
   "metadata": {},
   "outputs": [
    {
     "data": {
      "text/plain": [
       "0.6152037617554859"
      ]
     },
     "execution_count": 41,
     "metadata": {},
     "output_type": "execute_result"
    }
   ],
   "source": [
    "f1_score(whole_truth, whole_predict)"
   ]
  },
  {
   "cell_type": "code",
   "execution_count": 42,
   "id": "bb6f4df3-8ef2-47d7-b0f5-9b43d69e7d69",
   "metadata": {},
   "outputs": [
    {
     "data": {
      "text/plain": [
       "0.14185854111584528"
      ]
     },
     "execution_count": 42,
     "metadata": {},
     "output_type": "execute_result"
    }
   ],
   "source": [
    "cohen_kappa_score(whole_truth, whole_predict)"
   ]
  },
  {
   "cell_type": "code",
   "execution_count": 43,
   "id": "347ef9ab-bb5f-4e20-9d66-23679cbd6d05",
   "metadata": {},
   "outputs": [],
   "source": [
    "# proba check\n",
    "\n",
    "zero_prob = [x[0] for x in whole_proba]\n",
    "one_prob = [x[1] for x in whole_proba]\n",
    "\n",
    "tr = 0.9\n",
    "\n",
    "zero_idx = np.where(np.array(zero_prob) > tr)[0]\n",
    "one_idx = np.where(np.array(one_prob) > tr)[0]"
   ]
  },
  {
   "cell_type": "code",
   "execution_count": 44,
   "id": "c248f7ef-9f1c-430b-aed2-7c5ed3dc110f",
   "metadata": {},
   "outputs": [
    {
     "data": {
      "text/plain": [
       "1.0"
      ]
     },
     "execution_count": 44,
     "metadata": {},
     "output_type": "execute_result"
    }
   ],
   "source": [
    "1 - np.mean(np.array(whole_truth)[zero_idx])"
   ]
  },
  {
   "cell_type": "code",
   "execution_count": 45,
   "id": "be894dca-b7b0-442f-a8f6-0b630b577374",
   "metadata": {},
   "outputs": [
    {
     "data": {
      "text/plain": [
       "0.6923076923076923"
      ]
     },
     "execution_count": 45,
     "metadata": {},
     "output_type": "execute_result"
    }
   ],
   "source": [
    "np.mean(np.array(whole_truth)[one_idx])"
   ]
  },
  {
   "cell_type": "code",
   "execution_count": null,
   "id": "518bbce1-1a29-4e3f-b152-8d5687dbb0b2",
   "metadata": {},
   "outputs": [],
   "source": []
  },
  {
   "cell_type": "markdown",
   "id": "f4337ae4-63c9-43e0-b8bf-ee420f8695c3",
   "metadata": {},
   "source": [
    "* xgboost performance"
   ]
  },
  {
   "cell_type": "code",
   "execution_count": 20,
   "id": "3645da87-0542-4b92-b626-ac0f0e276b1b",
   "metadata": {},
   "outputs": [
    {
     "data": {
      "text/plain": [
       "0.5574738755111313"
      ]
     },
     "execution_count": 20,
     "metadata": {},
     "output_type": "execute_result"
    }
   ],
   "source": [
    "accuracy_score(whole_truth, whole_predict)"
   ]
  },
  {
   "cell_type": "code",
   "execution_count": 21,
   "id": "eb3d147e-ed60-48a9-9d83-7adddc3b5cb9",
   "metadata": {},
   "outputs": [
    {
     "data": {
      "text/plain": [
       "0.5817427385892117"
      ]
     },
     "execution_count": 21,
     "metadata": {},
     "output_type": "execute_result"
    }
   ],
   "source": [
    "precision_score(whole_truth, whole_predict)"
   ]
  },
  {
   "cell_type": "code",
   "execution_count": 22,
   "id": "5ca1e7d5-923f-4ae3-802a-788e4c200941",
   "metadata": {},
   "outputs": [
    {
     "data": {
      "text/plain": [
       "0.5986336464560205"
      ]
     },
     "execution_count": 22,
     "metadata": {},
     "output_type": "execute_result"
    }
   ],
   "source": [
    "recall_score(whole_truth, whole_predict)"
   ]
  },
  {
   "cell_type": "code",
   "execution_count": 23,
   "id": "935ca3e1-39aa-4de8-9682-cba59cbe7792",
   "metadata": {},
   "outputs": [
    {
     "data": {
      "text/plain": [
       "0.5900673400673402"
      ]
     },
     "execution_count": 23,
     "metadata": {},
     "output_type": "execute_result"
    }
   ],
   "source": [
    "f1_score(whole_truth, whole_predict)"
   ]
  },
  {
   "cell_type": "code",
   "execution_count": 24,
   "id": "b03d5c98-eaf1-4dcf-8904-5ec2c1c92833",
   "metadata": {},
   "outputs": [
    {
     "name": "stderr",
     "output_type": "stream",
     "text": [
      "C:\\Users\\PC0\\anaconda3\\lib\\site-packages\\sklearn\\metrics\\_classification.py:608: DeprecationWarning: `np.int` is a deprecated alias for the builtin `int`. To silence this warning, use `int` by itself. Doing this will not modify any behavior and is safe. When replacing `np.int`, you may wish to use e.g. `np.int64` or `np.int32` to specify the precision. If you wish to review your current use, check the release note link for additional information.\n",
      "Deprecated in NumPy 1.20; for more details and guidance: https://numpy.org/devdocs/release/1.20.0-notes.html#deprecations\n",
      "  w_mat = np.ones([n_classes, n_classes], dtype=np.int)\n"
     ]
    },
    {
     "data": {
      "text/plain": [
       "0.10953093418557103"
      ]
     },
     "execution_count": 24,
     "metadata": {},
     "output_type": "execute_result"
    }
   ],
   "source": [
    "cohen_kappa_score(whole_truth, whole_predict)"
   ]
  },
  {
   "cell_type": "code",
   "execution_count": 27,
   "id": "6855ebdf-d50d-46ba-8488-a10a1dbccd0b",
   "metadata": {},
   "outputs": [],
   "source": [
    "# proba check\n",
    "\n",
    "zero_prob = [x[0] for x in whole_proba]\n",
    "one_prob = [x[1] for x in whole_proba]\n",
    "\n",
    "tr = 0.9\n",
    "\n",
    "zero_idx = np.where(np.array(zero_prob) > tr)[0]\n",
    "one_idx = np.where(np.array(one_prob) > tr)[0]"
   ]
  },
  {
   "cell_type": "code",
   "execution_count": 28,
   "id": "0636c56f-559e-41dd-8154-593ab33e8a44",
   "metadata": {},
   "outputs": [
    {
     "data": {
      "text/plain": [
       "0.6126984126984127"
      ]
     },
     "execution_count": 28,
     "metadata": {},
     "output_type": "execute_result"
    }
   ],
   "source": [
    "1 - np.mean(np.array(whole_truth)[zero_idx])"
   ]
  },
  {
   "cell_type": "code",
   "execution_count": 29,
   "id": "c24e4dbb-115d-47ba-a2f1-9a33ff0934b2",
   "metadata": {},
   "outputs": [
    {
     "data": {
      "text/plain": [
       "0.6202290076335878"
      ]
     },
     "execution_count": 29,
     "metadata": {},
     "output_type": "execute_result"
    }
   ],
   "source": [
    "np.mean(np.array(whole_truth)[one_idx])"
   ]
  },
  {
   "cell_type": "code",
   "execution_count": null,
   "id": "c84b2762-5eff-4436-91e4-0719daaf9c57",
   "metadata": {},
   "outputs": [],
   "source": []
  },
  {
   "cell_type": "code",
   "execution_count": null,
   "id": "25d6107b-0ad4-4d3d-8e0e-4aac3ee5aff9",
   "metadata": {},
   "outputs": [],
   "source": []
  },
  {
   "cell_type": "code",
   "execution_count": null,
   "id": "4a2f8737-9675-4937-85de-a06b53493a60",
   "metadata": {},
   "outputs": [],
   "source": []
  },
  {
   "cell_type": "code",
   "execution_count": null,
   "id": "e0508faf-88aa-4a15-ba2a-956cc41a3697",
   "metadata": {},
   "outputs": [],
   "source": []
  }
 ],
 "metadata": {
  "kernelspec": {
   "display_name": "Python 3",
   "language": "python",
   "name": "python3"
  },
  "language_info": {
   "codemirror_mode": {
    "name": "ipython",
    "version": 3
   },
   "file_extension": ".py",
   "mimetype": "text/x-python",
   "name": "python",
   "nbconvert_exporter": "python",
   "pygments_lexer": "ipython3",
   "version": "3.8.8"
  }
 },
 "nbformat": 4,
 "nbformat_minor": 5
}
