{
 "cells": [
  {
   "cell_type": "markdown",
   "id": "1b0e539c-c802-4396-a1c5-faf502a1feec",
   "metadata": {},
   "source": [
    "## Import"
   ]
  },
  {
   "cell_type": "code",
   "execution_count": 1,
   "id": "94556c6e-df9a-4c88-af24-eaf46e1aaa75",
   "metadata": {},
   "outputs": [],
   "source": [
    "from bs4 import BeautifulSoup\n",
    "from selenium import webdriver\n",
    "from selenium.common.exceptions import NoSuchElementException\n",
    "from selenium.webdriver.common.keys import Keys\n",
    "from tqdm import tqdm\n",
    "from functools import reduce\n",
    "\n",
    "import numpy as np\n",
    "import pandas as pd\n",
    "import re, time\n",
    "import requests\n",
    "import pickle\n",
    "import warnings\n",
    "\n",
    "warnings.filterwarnings(action='ignore')"
   ]
  },
  {
   "cell_type": "code",
   "execution_count": 2,
   "id": "7c4b1376-aa2e-4326-888b-31dc9406ead7",
   "metadata": {},
   "outputs": [
    {
     "data": {
      "text/plain": [
       "'C:\\\\Users\\\\PC0\\\\Documents\\\\GitHub\\\\Stock-price-prediction\\\\ipynb'"
      ]
     },
     "execution_count": 2,
     "metadata": {},
     "output_type": "execute_result"
    }
   ],
   "source": [
    "import os\n",
    "os.getcwd()"
   ]
  },
  {
   "cell_type": "code",
   "execution_count": 3,
   "id": "1cd7fd75-cc35-4f4a-bf0e-a1dbcf590b00",
   "metadata": {},
   "outputs": [],
   "source": [
    "out_data_path = 'C:\\\\Users\\\\PC0\\\\Documents\\\\datasets\\\\stock_price\\\\'\n",
    "data_path = 'C:\\\\Users\\\\PC0\\\\Documents\\\\GitHub\\\\Stock-price-prediction\\\\datasets\\\\'"
   ]
  },
  {
   "cell_type": "code",
   "execution_count": null,
   "id": "8b65d2bc-92fe-4864-9495-ef1834a64ec8",
   "metadata": {},
   "outputs": [],
   "source": []
  },
  {
   "cell_type": "markdown",
   "id": "0651d7a0-8f11-43b4-9467-9fcc234d6e7f",
   "metadata": {},
   "source": [
    "* crawling"
   ]
  },
  {
   "cell_type": "code",
   "execution_count": 4,
   "id": "34aefcca-30e6-44c0-bf58-45437d66f633",
   "metadata": {},
   "outputs": [],
   "source": [
    "options = webdriver.ChromeOptions()\n",
    "\n",
    "options.add_argument(\"--disable-blink-features=AutomationControlled\")\n",
    "options.add_argument(\"user-agent=Mozilla/5.0 (Windows NT 10.0; Win64; x64) AppleWebKit/537.36 (KHTML, like Gecko) Chrome/98.0.4758.82 Safari/537.36\")\n",
    "\n",
    "driver = webdriver.Chrome(\"C:\\\\Users\\\\PC0\\\\Desktop\\\\chromedriver.exe\", options=options)"
   ]
  },
  {
   "cell_type": "code",
   "execution_count": null,
   "id": "379acdb9-a331-4dc2-87a1-a74f795ca205",
   "metadata": {},
   "outputs": [],
   "source": []
  },
  {
   "cell_type": "markdown",
   "id": "2c8b26f8-1950-43fb-8319-6e3cad5ea919",
   "metadata": {},
   "source": [
    "* agricultural "
   ]
  },
  {
   "cell_type": "code",
   "execution_count": 24,
   "id": "5c302a63-9429-4cd9-815e-7910cbb26cbf",
   "metadata": {},
   "outputs": [],
   "source": [
    "start_day = \"2012/01/01\""
   ]
  },
  {
   "cell_type": "code",
   "execution_count": 25,
   "id": "ca24207f-e475-40c2-ab33-49c81ca4cecb",
   "metadata": {},
   "outputs": [],
   "source": [
    "cont = ['germany', 'u.s.', 'brazil', 'switzerland', 'uk', 'italy', 'japan',\n",
    "       'china', 'canada', 'france', 'south-korea', 'australia']"
   ]
  },
  {
   "cell_type": "code",
   "execution_count": 26,
   "id": "6eacd386-3a60-4196-838f-e31f387af29a",
   "metadata": {},
   "outputs": [],
   "source": [
    "urls = ['https://kr.investing.com/rates-bonds/{}-1-year-bond-yield-historical-data'.format(x) for x in cont]\n",
    "urls.extend(['https://kr.investing.com/rates-bonds/{}-10-year-bond-yield-historical-data'.format(x) for x in cont])"
   ]
  },
  {
   "cell_type": "code",
   "execution_count": 27,
   "id": "f03998c8-2f31-49ec-81d6-e72ef69e70a8",
   "metadata": {},
   "outputs": [],
   "source": [
    "names = [(x.split(\"/\")[-1]).split(\"-\")[0] + \"_bond\" for x in urls]"
   ]
  },
  {
   "cell_type": "code",
   "execution_count": 28,
   "id": "7341237e-9ad1-4720-8011-d8e547f588e2",
   "metadata": {},
   "outputs": [],
   "source": [
    "start_idx = 0"
   ]
  },
  {
   "cell_type": "code",
   "execution_count": 29,
   "id": "8fa855ad-8915-48a1-a119-ba3f68a757f4",
   "metadata": {},
   "outputs": [
    {
     "name": "stderr",
     "output_type": "stream",
     "text": [
      "24it [09:22, 23.43s/it]\n"
     ]
    }
   ],
   "source": [
    "# inner loop\n",
    "index_list = []\n",
    "\n",
    "for idx, url in tqdm(enumerate(urls[start_idx:])):\n",
    "    driver.get(url)\n",
    "    time.sleep(5)\n",
    "\n",
    "    # 날짜 입력란\n",
    "    tmp_date = driver.find_element_by_css_selector(\"div#widgetFieldDateRange\")\n",
    "    tmp_date.click()\n",
    "    driver.implicitly_wait(3)\n",
    "\n",
    "    tmp_input = driver.find_element_by_css_selector(\"input#startDate\")\n",
    "    time.sleep(0.5)\n",
    "\n",
    "    # 기존 날짜 지우기\n",
    "    for _ in range(11) :\n",
    "        tmp_input.send_keys(Keys.BACKSPACE)\n",
    "        tmp_input = driver.find_element_by_css_selector(\"input#startDate\")\n",
    "        time.sleep(0.5)\n",
    "\n",
    "    tmp_input.send_keys(start_day)\n",
    "\n",
    "    # 요청 버튼\n",
    "    request_btn = driver.find_element_by_css_selector(\"a#applyBtn\")\n",
    "    request_btn.click()\n",
    "    time.sleep(5)\n",
    "\n",
    "    tables = driver.find_elements_by_css_selector(\"table#curr_table\")\n",
    "\n",
    "    values = tables[0].text.split(\"\\n\")[1:]\n",
    "\n",
    "    values = [re.sub(\"[^0-9a-zA-Z.\\\\- ]\",\"\",x) for x in values]\n",
    "\n",
    "    name = names[idx]\n",
    "\n",
    "    index_dict = {\"date\":[],\n",
    "                 \"{}_close\".format(name):[],\n",
    "                 \"{}_var\".format(name):[]}\n",
    "\n",
    "    for val in values:\n",
    "        try :\n",
    "            year, month, day, close, _, _, _, variation= val.split(\" \")\n",
    "        except ValueError:\n",
    "            year, month, day, close, _, _, _, vol, variation= val.split(\" \")\n",
    "\n",
    "        date = \"-\".join([year, month, day])\n",
    "        index_dict['date'].append(date)\n",
    "        index_dict['{}_close'.format(name)].append(close)\n",
    "        index_dict['{}_var'.format(name)].append(variation)\n",
    "\n",
    "    index_list.append(pd.DataFrame.from_dict(index_dict, orient = \"index\").T)\n",
    "    start_idx += 1\n",
    "\n",
    "index_df = reduce(lambda  left,right: pd.merge(left,right,on=['date'], how='inner'), index_list)"
   ]
  },
  {
   "cell_type": "code",
   "execution_count": 32,
   "id": "eb723fe7-efb1-48bf-b7dc-54dbd4e30075",
   "metadata": {},
   "outputs": [
    {
     "data": {
      "text/html": [
       "<div>\n",
       "<style scoped>\n",
       "    .dataframe tbody tr th:only-of-type {\n",
       "        vertical-align: middle;\n",
       "    }\n",
       "\n",
       "    .dataframe tbody tr th {\n",
       "        vertical-align: top;\n",
       "    }\n",
       "\n",
       "    .dataframe thead th {\n",
       "        text-align: right;\n",
       "    }\n",
       "</style>\n",
       "<table border=\"1\" class=\"dataframe\">\n",
       "  <thead>\n",
       "    <tr style=\"text-align: right;\">\n",
       "      <th></th>\n",
       "      <th>date</th>\n",
       "      <th>germany_bond_close_x</th>\n",
       "      <th>germany_bond_var_x</th>\n",
       "      <th>u.s._bond_close_x</th>\n",
       "      <th>u.s._bond_var_x</th>\n",
       "      <th>brazil_bond_close_x</th>\n",
       "      <th>brazil_bond_var_x</th>\n",
       "      <th>switzerland_bond_close_x</th>\n",
       "      <th>switzerland_bond_var_x</th>\n",
       "      <th>uk_bond_close_x</th>\n",
       "      <th>...</th>\n",
       "      <th>china_bond_close_y</th>\n",
       "      <th>china_bond_var_y</th>\n",
       "      <th>canada_bond_close_y</th>\n",
       "      <th>canada_bond_var_y</th>\n",
       "      <th>france_bond_close_y</th>\n",
       "      <th>france_bond_var_y</th>\n",
       "      <th>south_bond_close_y</th>\n",
       "      <th>south_bond_var_y</th>\n",
       "      <th>australia_bond_close_y</th>\n",
       "      <th>australia_bond_var_y</th>\n",
       "    </tr>\n",
       "  </thead>\n",
       "  <tbody>\n",
       "    <tr>\n",
       "      <th>2144</th>\n",
       "      <td>2012-01-11</td>\n",
       "      <td>-0.014</td>\n",
       "      <td>-1500.00</td>\n",
       "      <td>0.1030</td>\n",
       "      <td>10.75</td>\n",
       "      <td>10.089</td>\n",
       "      <td>0.30</td>\n",
       "      <td>0.250</td>\n",
       "      <td>0.00</td>\n",
       "      <td>0.4280</td>\n",
       "      <td>...</td>\n",
       "      <td>3.450</td>\n",
       "      <td>1.47</td>\n",
       "      <td>1.940</td>\n",
       "      <td>-2.07</td>\n",
       "      <td>3.173</td>\n",
       "      <td>-3.00</td>\n",
       "      <td>3.790</td>\n",
       "      <td>0.00</td>\n",
       "      <td>3.920</td>\n",
       "      <td>0.26</td>\n",
       "    </tr>\n",
       "    <tr>\n",
       "      <th>2145</th>\n",
       "      <td>2012-01-10</td>\n",
       "      <td>0.001</td>\n",
       "      <td>-101.28</td>\n",
       "      <td>0.0930</td>\n",
       "      <td>-3.12</td>\n",
       "      <td>10.059</td>\n",
       "      <td>-0.49</td>\n",
       "      <td>0.250</td>\n",
       "      <td>0.00</td>\n",
       "      <td>0.4310</td>\n",
       "      <td>...</td>\n",
       "      <td>3.400</td>\n",
       "      <td>-0.58</td>\n",
       "      <td>1.981</td>\n",
       "      <td>1.33</td>\n",
       "      <td>3.271</td>\n",
       "      <td>-1.18</td>\n",
       "      <td>3.790</td>\n",
       "      <td>0.00</td>\n",
       "      <td>3.910</td>\n",
       "      <td>0.98</td>\n",
       "    </tr>\n",
       "    <tr>\n",
       "      <th>2146</th>\n",
       "      <td>2012-01-06</td>\n",
       "      <td>-0.112</td>\n",
       "      <td>64.71</td>\n",
       "      <td>0.0960</td>\n",
       "      <td>-4.95</td>\n",
       "      <td>10.129</td>\n",
       "      <td>-0.72</td>\n",
       "      <td>0.250</td>\n",
       "      <td>0.00</td>\n",
       "      <td>0.4210</td>\n",
       "      <td>...</td>\n",
       "      <td>3.514</td>\n",
       "      <td>1.86</td>\n",
       "      <td>1.938</td>\n",
       "      <td>-1.72</td>\n",
       "      <td>3.393</td>\n",
       "      <td>0.27</td>\n",
       "      <td>3.780</td>\n",
       "      <td>0.00</td>\n",
       "      <td>3.932</td>\n",
       "      <td>0.77</td>\n",
       "    </tr>\n",
       "    <tr>\n",
       "      <th>2147</th>\n",
       "      <td>2012-01-05</td>\n",
       "      <td>-0.068</td>\n",
       "      <td>21.43</td>\n",
       "      <td>0.1010</td>\n",
       "      <td>-1.94</td>\n",
       "      <td>10.202</td>\n",
       "      <td>0.13</td>\n",
       "      <td>0.250</td>\n",
       "      <td>25.00</td>\n",
       "      <td>0.4030</td>\n",
       "      <td>...</td>\n",
       "      <td>3.450</td>\n",
       "      <td>-1.43</td>\n",
       "      <td>1.972</td>\n",
       "      <td>-1.15</td>\n",
       "      <td>3.384</td>\n",
       "      <td>2.05</td>\n",
       "      <td>3.780</td>\n",
       "      <td>-0.26</td>\n",
       "      <td>3.902</td>\n",
       "      <td>-0.20</td>\n",
       "    </tr>\n",
       "    <tr>\n",
       "      <th>2148</th>\n",
       "      <td>2012-01-04</td>\n",
       "      <td>-0.056</td>\n",
       "      <td>229.41</td>\n",
       "      <td>0.1030</td>\n",
       "      <td>-2.83</td>\n",
       "      <td>10.189</td>\n",
       "      <td>0.69</td>\n",
       "      <td>0.200</td>\n",
       "      <td>-83.05</td>\n",
       "      <td>0.3730</td>\n",
       "      <td>...</td>\n",
       "      <td>3.500</td>\n",
       "      <td>-1.41</td>\n",
       "      <td>1.995</td>\n",
       "      <td>0.10</td>\n",
       "      <td>3.316</td>\n",
       "      <td>1.47</td>\n",
       "      <td>3.790</td>\n",
       "      <td>0.00</td>\n",
       "      <td>3.910</td>\n",
       "      <td>-1.09</td>\n",
       "    </tr>\n",
       "  </tbody>\n",
       "</table>\n",
       "<p>5 rows × 49 columns</p>\n",
       "</div>"
      ],
      "text/plain": [
       "            date germany_bond_close_x germany_bond_var_x u.s._bond_close_x  \\\n",
       "2144  2012-01-11               -0.014           -1500.00            0.1030   \n",
       "2145  2012-01-10                0.001            -101.28            0.0930   \n",
       "2146  2012-01-06               -0.112              64.71            0.0960   \n",
       "2147  2012-01-05               -0.068              21.43            0.1010   \n",
       "2148  2012-01-04               -0.056             229.41            0.1030   \n",
       "\n",
       "     u.s._bond_var_x brazil_bond_close_x brazil_bond_var_x  \\\n",
       "2144           10.75              10.089              0.30   \n",
       "2145           -3.12              10.059             -0.49   \n",
       "2146           -4.95              10.129             -0.72   \n",
       "2147           -1.94              10.202              0.13   \n",
       "2148           -2.83              10.189              0.69   \n",
       "\n",
       "     switzerland_bond_close_x switzerland_bond_var_x uk_bond_close_x  ...  \\\n",
       "2144                    0.250                   0.00          0.4280  ...   \n",
       "2145                    0.250                   0.00          0.4310  ...   \n",
       "2146                    0.250                   0.00          0.4210  ...   \n",
       "2147                    0.250                  25.00          0.4030  ...   \n",
       "2148                    0.200                 -83.05          0.3730  ...   \n",
       "\n",
       "     china_bond_close_y china_bond_var_y canada_bond_close_y  \\\n",
       "2144              3.450             1.47               1.940   \n",
       "2145              3.400            -0.58               1.981   \n",
       "2146              3.514             1.86               1.938   \n",
       "2147              3.450            -1.43               1.972   \n",
       "2148              3.500            -1.41               1.995   \n",
       "\n",
       "     canada_bond_var_y france_bond_close_y france_bond_var_y  \\\n",
       "2144             -2.07               3.173             -3.00   \n",
       "2145              1.33               3.271             -1.18   \n",
       "2146             -1.72               3.393              0.27   \n",
       "2147             -1.15               3.384              2.05   \n",
       "2148              0.10               3.316              1.47   \n",
       "\n",
       "     south_bond_close_y south_bond_var_y australia_bond_close_y  \\\n",
       "2144              3.790             0.00                  3.920   \n",
       "2145              3.790             0.00                  3.910   \n",
       "2146              3.780             0.00                  3.932   \n",
       "2147              3.780            -0.26                  3.902   \n",
       "2148              3.790             0.00                  3.910   \n",
       "\n",
       "     australia_bond_var_y  \n",
       "2144                 0.26  \n",
       "2145                 0.98  \n",
       "2146                 0.77  \n",
       "2147                -0.20  \n",
       "2148                -1.09  \n",
       "\n",
       "[5 rows x 49 columns]"
      ]
     },
     "execution_count": 32,
     "metadata": {},
     "output_type": "execute_result"
    }
   ],
   "source": [
    "index_df.tail()"
   ]
  },
  {
   "cell_type": "code",
   "execution_count": 31,
   "id": "9bb16f23-b4cf-41c3-906d-488c70a778a8",
   "metadata": {},
   "outputs": [],
   "source": [
    "index_df.to_csv(data_path + \"bond_df.csv\", index = False)"
   ]
  },
  {
   "cell_type": "code",
   "execution_count": null,
   "id": "45d8a233-c349-406b-a32c-1c4d10991ec2",
   "metadata": {},
   "outputs": [],
   "source": []
  }
 ],
 "metadata": {
  "kernelspec": {
   "display_name": "Python 3",
   "language": "python",
   "name": "python3"
  },
  "language_info": {
   "codemirror_mode": {
    "name": "ipython",
    "version": 3
   },
   "file_extension": ".py",
   "mimetype": "text/x-python",
   "name": "python",
   "nbconvert_exporter": "python",
   "pygments_lexer": "ipython3",
   "version": "3.8.8"
  }
 },
 "nbformat": 4,
 "nbformat_minor": 5
}
