{
 "cells": [
  {
   "cell_type": "markdown",
   "id": "1b0e539c-c802-4396-a1c5-faf502a1feec",
   "metadata": {},
   "source": [
    "## Import"
   ]
  },
  {
   "cell_type": "code",
   "execution_count": 166,
   "id": "94556c6e-df9a-4c88-af24-eaf46e1aaa75",
   "metadata": {},
   "outputs": [],
   "source": [
    "from bs4 import BeautifulSoup\n",
    "from selenium import webdriver\n",
    "from selenium.common.exceptions import NoSuchElementException\n",
    "from selenium.webdriver.common.keys import Keys\n",
    "from tqdm import tqdm\n",
    "from functools import reduce\n",
    "\n",
    "import numpy as np\n",
    "import pandas as pd\n",
    "import re, time\n",
    "import requests\n",
    "import pickle\n",
    "import warnings\n",
    "\n",
    "warnings.filterwarnings(action='ignore')"
   ]
  },
  {
   "cell_type": "code",
   "execution_count": 141,
   "id": "7c4b1376-aa2e-4326-888b-31dc9406ead7",
   "metadata": {},
   "outputs": [
    {
     "data": {
      "text/plain": [
       "'C:\\\\Users\\\\PC0\\\\Documents\\\\GitHub\\\\Stock-price-prediction\\\\ipynb'"
      ]
     },
     "execution_count": 141,
     "metadata": {},
     "output_type": "execute_result"
    }
   ],
   "source": [
    "import os\n",
    "os.getcwd()"
   ]
  },
  {
   "cell_type": "code",
   "execution_count": 144,
   "id": "1cd7fd75-cc35-4f4a-bf0e-a1dbcf590b00",
   "metadata": {},
   "outputs": [],
   "source": [
    "out_data_path = 'C:\\\\Users\\\\PC0\\\\Documents\\\\datasets\\\\stock_price\\\\'\n",
    "data_path = 'C:\\\\Users\\\\PC0\\\\Documents\\\\GitHub\\\\Stock-price-prediction\\\\datasets\\\\'"
   ]
  },
  {
   "cell_type": "code",
   "execution_count": null,
   "id": "8b65d2bc-92fe-4864-9495-ef1834a64ec8",
   "metadata": {},
   "outputs": [],
   "source": []
  },
  {
   "cell_type": "markdown",
   "id": "0651d7a0-8f11-43b4-9467-9fcc234d6e7f",
   "metadata": {},
   "source": [
    "* crawling"
   ]
  },
  {
   "cell_type": "code",
   "execution_count": 2,
   "id": "34aefcca-30e6-44c0-bf58-45437d66f633",
   "metadata": {},
   "outputs": [
    {
     "name": "stderr",
     "output_type": "stream",
     "text": [
      "<ipython-input-2-b38ee1fd7cba>:6: DeprecationWarning: executable_path has been deprecated, please pass in a Service object\n",
      "  driver = webdriver.Chrome(\"C:\\\\Users\\\\PC0\\\\Desktop\\\\chromedriver.exe\", options=options)\n"
     ]
    }
   ],
   "source": [
    "options = webdriver.ChromeOptions()\n",
    "\n",
    "options.add_argument(\"--disable-blink-features=AutomationControlled\")\n",
    "options.add_argument(\"user-agent=Mozilla/5.0 (Windows NT 10.0; Win64; x64) AppleWebKit/537.36 (KHTML, like Gecko) Chrome/98.0.4758.82 Safari/537.36\")\n",
    "\n",
    "driver = webdriver.Chrome(\"C:\\\\Users\\\\PC0\\\\Desktop\\\\chromedriver.exe\", options=options)"
   ]
  },
  {
   "cell_type": "code",
   "execution_count": null,
   "id": "379acdb9-a331-4dc2-87a1-a74f795ca205",
   "metadata": {},
   "outputs": [],
   "source": []
  },
  {
   "cell_type": "markdown",
   "id": "2c8b26f8-1950-43fb-8319-6e3cad5ea919",
   "metadata": {},
   "source": [
    "* index - major"
   ]
  },
  {
   "cell_type": "code",
   "execution_count": 131,
   "id": "5c302a63-9429-4cd9-815e-7910cbb26cbf",
   "metadata": {},
   "outputs": [],
   "source": [
    "start_day = \"2012/01/01\""
   ]
  },
  {
   "cell_type": "code",
   "execution_count": 132,
   "id": "62558a22-5e4c-4f07-873b-bfab6c6ae3c2",
   "metadata": {},
   "outputs": [],
   "source": [
    "index = \"https://kr.investing.com/indices/major-indices\""
   ]
  },
  {
   "cell_type": "code",
   "execution_count": 133,
   "id": "ac52b420-33da-40d1-864b-0f998b52a2cf",
   "metadata": {},
   "outputs": [],
   "source": [
    "url = index"
   ]
  },
  {
   "cell_type": "code",
   "execution_count": 134,
   "id": "ad507114-664b-4b55-a217-0f5690915ae7",
   "metadata": {},
   "outputs": [],
   "source": [
    "driver.get(url)\n",
    "time.sleep(3)"
   ]
  },
  {
   "cell_type": "code",
   "execution_count": 135,
   "id": "6230efb3-ed21-48ab-98a2-aa6222606536",
   "metadata": {},
   "outputs": [
    {
     "name": "stderr",
     "output_type": "stream",
     "text": [
      "<ipython-input-135-feaf0f49e9b2>:1: DeprecationWarning: find_elements_by_* commands are deprecated. Please use find_elements() instead\n",
      "  temp_names = driver.find_elements_by_css_selector(\".table-browser_table-browser-wrapper__2ynbE table tbody a.inv-link.bold.datatable_cell--name__link__1XAxP\")\n"
     ]
    }
   ],
   "source": [
    "temp_names = driver.find_elements_by_css_selector(\".table-browser_table-browser-wrapper__2ynbE table tbody a.inv-link.bold.datatable_cell--name__link__1XAxP\")"
   ]
  },
  {
   "cell_type": "code",
   "execution_count": 136,
   "id": "f52cd481-6fe6-40f8-b710-6ee32833bd0c",
   "metadata": {},
   "outputs": [],
   "source": [
    "kor_names = [x.text for x in temp_names]\n",
    "index_url = [x.get_attribute(\"href\") + \"-historical-data\" for x in temp_names]\n",
    "index_names = [x.split(\"-historical-data\")[0].split(\"/\")[-1] for x in index_url]"
   ]
  },
  {
   "cell_type": "code",
   "execution_count": 138,
   "id": "4039065f-1784-4f64-933b-805a0941d4ee",
   "metadata": {},
   "outputs": [],
   "source": [
    "major_df = pd.DataFrame({\"symbol\":index_names,\n",
    "                         \"name\":kor_names,\n",
    "                         \"url\":index_url})"
   ]
  },
  {
   "cell_type": "code",
   "execution_count": 145,
   "id": "d8c6dce8-64db-478f-9850-d0c08e8eee24",
   "metadata": {},
   "outputs": [],
   "source": [
    "# major_df.to_csv(data_path + \"index_symbol_df.csv\", index = False)"
   ]
  },
  {
   "cell_type": "code",
   "execution_count": null,
   "id": "39960a14-129d-4a43-96e7-3263ac1022c2",
   "metadata": {},
   "outputs": [],
   "source": []
  },
  {
   "cell_type": "markdown",
   "id": "463cb7b3-5000-4e73-bd57-9a795e5ccabd",
   "metadata": {},
   "source": [
    "* loop crawling"
   ]
  },
  {
   "cell_type": "code",
   "execution_count": 198,
   "id": "6c28ffa1-a833-4c5c-8f72-6d0236983407",
   "metadata": {},
   "outputs": [],
   "source": [
    "index_list = []"
   ]
  },
  {
   "cell_type": "code",
   "execution_count": null,
   "id": "458661e9-6927-465b-bb01-57c7e39e0e98",
   "metadata": {},
   "outputs": [],
   "source": [
    "start_idx = 0"
   ]
  },
  {
   "cell_type": "code",
   "execution_count": null,
   "id": "700dfb2b-73d9-475d-9015-aa99c4a22d74",
   "metadata": {
    "tags": []
   },
   "outputs": [
    {
     "name": "stderr",
     "output_type": "stream",
     "text": [
      "5it [01:56, 23.32s/it]"
     ]
    }
   ],
   "source": [
    "for idx, url in tqdm(enumerate(index_url[start_idx:])):\n",
    "    driver.get(url)\n",
    "    time.sleep(5)\n",
    "\n",
    "    # 날짜 입력란\n",
    "    tmp_date = driver.find_element_by_css_selector(\"div#widgetFieldDateRange\")\n",
    "    tmp_date.click()\n",
    "    driver.implicitly_wait(3)\n",
    "\n",
    "    tmp_input = driver.find_element_by_css_selector(\"input#startDate\")\n",
    "    time.sleep(0.5)\n",
    "\n",
    "    # 기존 날짜 지우기\n",
    "    for _ in range(11) :\n",
    "        tmp_input.send_keys(Keys.BACKSPACE)\n",
    "        tmp_input = driver.find_element_by_css_selector(\"input#startDate\")\n",
    "        time.sleep(0.5)\n",
    "        \n",
    "    tmp_input.send_keys(start_day)\n",
    "\n",
    "    # 요청 버튼\n",
    "    request_btn = driver.find_element_by_css_selector(\"a#applyBtn\")\n",
    "    request_btn.click()\n",
    "    time.sleep(5)\n",
    "    \n",
    "    tables = driver.find_elements_by_css_selector(\"table#curr_table\")\n",
    "\n",
    "    values = tables[0].text.split(\"\\n\")[1:]\n",
    "\n",
    "    values = [re.sub(\"[^0-9a-zA-Z.\\\\- ]\",\"\",x) for x in values]\n",
    "\n",
    "    name = index_names[idx]\n",
    "    \n",
    "    index_dict = {\"date\":[],\n",
    "                 \"{}_close\".format(name):[],\n",
    "                 \"{}_vol\".format(name):[],\n",
    "                 \"{}_var\".format(name):[]}\n",
    "\n",
    "    for val in values:\n",
    "        year, month, day, close, _, _, _, volume, variation= val.split(\" \")\n",
    "        date = \"-\".join([year, month, day])\n",
    "        index_dict['date'].append(date)\n",
    "        index_dict['{}_close'.format(name)].append(close)\n",
    "        index_dict['{}_vol'.format(name)].append(volume)\n",
    "        index_dict['{}_var'.format(name)].append(variation)\n",
    "        \n",
    "    index_list.append(pd.DataFrame.from_dict(index_dict, orient = \"index\").T)\n",
    "    start_idx += 1"
   ]
  },
  {
   "cell_type": "code",
   "execution_count": null,
   "id": "81678f87-3c9f-49f6-985e-8f0aa62a8a18",
   "metadata": {},
   "outputs": [],
   "source": [
    "index_df = reduce(lambda  left,right: pd.merge(left,right,on=['date'], how='inner'), index_list)"
   ]
  },
  {
   "cell_type": "code",
   "execution_count": null,
   "id": "231bded0-36bc-4e11-b4b5-304d364d3db7",
   "metadata": {},
   "outputs": [],
   "source": [
    "index_df.head()"
   ]
  },
  {
   "cell_type": "code",
   "execution_count": null,
   "id": "f44e11ad-d2f5-4fca-bce7-89fc799ced97",
   "metadata": {},
   "outputs": [],
   "source": [
    "index_df.to_csv(data_path + \"index_df.csv\", index = False)"
   ]
  },
  {
   "cell_type": "code",
   "execution_count": null,
   "id": "07423de7-5e23-4c85-966a-5f834aaaecaa",
   "metadata": {},
   "outputs": [],
   "source": []
  }
 ],
 "metadata": {
  "kernelspec": {
   "display_name": "Python 3",
   "language": "python",
   "name": "python3"
  },
  "language_info": {
   "codemirror_mode": {
    "name": "ipython",
    "version": 3
   },
   "file_extension": ".py",
   "mimetype": "text/x-python",
   "name": "python",
   "nbconvert_exporter": "python",
   "pygments_lexer": "ipython3",
   "version": "3.8.8"
  }
 },
 "nbformat": 4,
 "nbformat_minor": 5
}
