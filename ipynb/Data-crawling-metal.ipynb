{
 "cells": [
  {
   "cell_type": "markdown",
   "id": "1b0e539c-c802-4396-a1c5-faf502a1feec",
   "metadata": {},
   "source": [
    "## Import"
   ]
  },
  {
   "cell_type": "code",
   "execution_count": 1,
   "id": "94556c6e-df9a-4c88-af24-eaf46e1aaa75",
   "metadata": {},
   "outputs": [],
   "source": [
    "from bs4 import BeautifulSoup\n",
    "from selenium import webdriver\n",
    "from selenium.common.exceptions import NoSuchElementException\n",
    "from selenium.webdriver.common.keys import Keys\n",
    "from tqdm import tqdm\n",
    "from functools import reduce\n",
    "\n",
    "import numpy as np\n",
    "import pandas as pd\n",
    "import re, time\n",
    "import requests\n",
    "import pickle\n",
    "import warnings\n",
    "\n",
    "warnings.filterwarnings(action='ignore')"
   ]
  },
  {
   "cell_type": "code",
   "execution_count": 2,
   "id": "7c4b1376-aa2e-4326-888b-31dc9406ead7",
   "metadata": {},
   "outputs": [
    {
     "data": {
      "text/plain": [
       "'C:\\\\Users\\\\PC0\\\\Documents\\\\GitHub\\\\Stock-price-prediction\\\\ipynb'"
      ]
     },
     "execution_count": 2,
     "metadata": {},
     "output_type": "execute_result"
    }
   ],
   "source": [
    "import os\n",
    "os.getcwd()"
   ]
  },
  {
   "cell_type": "code",
   "execution_count": 3,
   "id": "1cd7fd75-cc35-4f4a-bf0e-a1dbcf590b00",
   "metadata": {},
   "outputs": [],
   "source": [
    "out_data_path = 'C:\\\\Users\\\\PC0\\\\Documents\\\\datasets\\\\stock_price\\\\'\n",
    "data_path = 'C:\\\\Users\\\\PC0\\\\Documents\\\\GitHub\\\\Stock-price-prediction\\\\datasets\\\\'"
   ]
  },
  {
   "cell_type": "code",
   "execution_count": null,
   "id": "8b65d2bc-92fe-4864-9495-ef1834a64ec8",
   "metadata": {},
   "outputs": [],
   "source": []
  },
  {
   "cell_type": "markdown",
   "id": "0651d7a0-8f11-43b4-9467-9fcc234d6e7f",
   "metadata": {},
   "source": [
    "* crawling"
   ]
  },
  {
   "cell_type": "code",
   "execution_count": 4,
   "id": "34aefcca-30e6-44c0-bf58-45437d66f633",
   "metadata": {},
   "outputs": [],
   "source": [
    "options = webdriver.ChromeOptions()\n",
    "\n",
    "options.add_argument(\"--disable-blink-features=AutomationControlled\")\n",
    "options.add_argument(\"user-agent=Mozilla/5.0 (Windows NT 10.0; Win64; x64) AppleWebKit/537.36 (KHTML, like Gecko) Chrome/98.0.4758.82 Safari/537.36\")\n",
    "\n",
    "driver = webdriver.Chrome(\"C:\\\\Users\\\\PC0\\\\Desktop\\\\chromedriver.exe\", options=options)"
   ]
  },
  {
   "cell_type": "code",
   "execution_count": null,
   "id": "379acdb9-a331-4dc2-87a1-a74f795ca205",
   "metadata": {},
   "outputs": [],
   "source": []
  },
  {
   "cell_type": "markdown",
   "id": "2c8b26f8-1950-43fb-8319-6e3cad5ea919",
   "metadata": {},
   "source": [
    "* metal"
   ]
  },
  {
   "cell_type": "code",
   "execution_count": 5,
   "id": "5c302a63-9429-4cd9-815e-7910cbb26cbf",
   "metadata": {},
   "outputs": [],
   "source": [
    "start_day = \"2012/01/01\""
   ]
  },
  {
   "cell_type": "code",
   "execution_count": 65,
   "id": "afba9e54-6784-429f-9599-f42ca37fea30",
   "metadata": {},
   "outputs": [],
   "source": [
    "urls = ['https://kr.investing.com/commodities/metals']"
   ]
  },
  {
   "cell_type": "code",
   "execution_count": 66,
   "id": "ac52b420-33da-40d1-864b-0f998b52a2cf",
   "metadata": {},
   "outputs": [],
   "source": [
    "url = urls[0]"
   ]
  },
  {
   "cell_type": "code",
   "execution_count": 67,
   "id": "ad507114-664b-4b55-a217-0f5690915ae7",
   "metadata": {},
   "outputs": [],
   "source": [
    "driver.get(url)\n",
    "time.sleep(3)"
   ]
  },
  {
   "cell_type": "code",
   "execution_count": 68,
   "id": "6230efb3-ed21-48ab-98a2-aa6222606536",
   "metadata": {},
   "outputs": [],
   "source": [
    "temp_names = driver.find_elements_by_css_selector(\"table#cross_rate_1 tbody tr td.bold.left.noWrap.elp.plusIconTd a\")\n",
    "temp_flag = driver.find_elements_by_css_selector(\"table#cross_rate_1 tbody tr td.flag span\")"
   ]
  },
  {
   "cell_type": "code",
   "execution_count": 69,
   "id": "c630509a-9f4d-4430-b4f1-0738fd65bfa8",
   "metadata": {},
   "outputs": [],
   "source": [
    "flags = [x.get_attribute(\"title\") for x in temp_flag]"
   ]
  },
  {
   "cell_type": "code",
   "execution_count": 70,
   "id": "d7faa595-d762-4c2f-aa78-4200166c174d",
   "metadata": {},
   "outputs": [],
   "source": [
    "names = [x + \"_\" + y.text if len(x) != 0 else y.text for x,y in zip(flags, temp_names)]"
   ]
  },
  {
   "cell_type": "code",
   "execution_count": 72,
   "id": "47c6ee61-b9ed-44e6-bc9e-49bd219bd4da",
   "metadata": {},
   "outputs": [],
   "source": [
    "urls = [x.get_attribute(\"href\") for x in temp_names]"
   ]
  },
  {
   "cell_type": "code",
   "execution_count": 77,
   "id": "f52cd481-6fe6-40f8-b710-6ee32833bd0c",
   "metadata": {},
   "outputs": [],
   "source": [
    "index_url = [x + \"-historical-data\" if \"?\" not in x else x.split(\"?\")[0] + \"-historical-data?\" + x.split(\"?\")[1]for x in urls]\n",
    "index_names = [x.split(\"-historical-data\")[0].split(\"/\")[-1] for x in index_url]"
   ]
  },
  {
   "cell_type": "code",
   "execution_count": 79,
   "id": "4039065f-1784-4f64-933b-805a0941d4ee",
   "metadata": {},
   "outputs": [],
   "source": [
    "metal_df = pd.DataFrame({\"symbol\":index_names,\n",
    "                         \"name\":names,\n",
    "                         \"url\":index_url})"
   ]
  },
  {
   "cell_type": "code",
   "execution_count": 81,
   "id": "d8c6dce8-64db-478f-9850-d0c08e8eee24",
   "metadata": {},
   "outputs": [],
   "source": [
    "metal_df.to_csv(data_path + \"metal_symbol_df.csv\", index = False)"
   ]
  },
  {
   "cell_type": "code",
   "execution_count": null,
   "id": "a1ea35d0-323d-496e-909e-09c9f6f2a67f",
   "metadata": {},
   "outputs": [],
   "source": []
  },
  {
   "cell_type": "markdown",
   "id": "463cb7b3-5000-4e73-bd57-9a795e5ccabd",
   "metadata": {},
   "source": [
    "* loop crawling"
   ]
  },
  {
   "cell_type": "code",
   "execution_count": 88,
   "id": "6c28ffa1-a833-4c5c-8f72-6d0236983407",
   "metadata": {},
   "outputs": [],
   "source": [
    "index_list = []"
   ]
  },
  {
   "cell_type": "code",
   "execution_count": 89,
   "id": "458661e9-6927-465b-bb01-57c7e39e0e98",
   "metadata": {},
   "outputs": [],
   "source": [
    "start_idx = 0"
   ]
  },
  {
   "cell_type": "code",
   "execution_count": 90,
   "id": "700dfb2b-73d9-475d-9015-aa99c4a22d74",
   "metadata": {
    "tags": []
   },
   "outputs": [
    {
     "name": "stderr",
     "output_type": "stream",
     "text": [
      "11it [04:16, 23.30s/it]\n"
     ]
    }
   ],
   "source": [
    "for idx, url in tqdm(enumerate(index_url[start_idx:])):\n",
    "    driver.get(url)\n",
    "    time.sleep(5)\n",
    "\n",
    "    # 날짜 입력란\n",
    "    tmp_date = driver.find_element_by_css_selector(\"div#widgetFieldDateRange\")\n",
    "    tmp_date.click()\n",
    "    driver.implicitly_wait(3)\n",
    "\n",
    "    tmp_input = driver.find_element_by_css_selector(\"input#startDate\")\n",
    "    time.sleep(0.5)\n",
    "\n",
    "    # 기존 날짜 지우기\n",
    "    for _ in range(11) :\n",
    "        tmp_input.send_keys(Keys.BACKSPACE)\n",
    "        tmp_input = driver.find_element_by_css_selector(\"input#startDate\")\n",
    "        time.sleep(0.5)\n",
    "        \n",
    "    tmp_input.send_keys(start_day)\n",
    "\n",
    "    # 요청 버튼\n",
    "    request_btn = driver.find_element_by_css_selector(\"a#applyBtn\")\n",
    "    request_btn.click()\n",
    "    time.sleep(5)\n",
    "    \n",
    "    tables = driver.find_elements_by_css_selector(\"table#curr_table\")\n",
    "\n",
    "    values = tables[0].text.split(\"\\n\")[1:]\n",
    "\n",
    "    values = [re.sub(\"[^0-9a-zA-Z.\\\\- ]\",\"\",x) for x in values]\n",
    "\n",
    "    name = names[idx]\n",
    "    \n",
    "    index_dict = {\"date\":[],\n",
    "                 \"{}_close\".format(name):[],\n",
    "                 \"{}_vol\".format(name):[],\n",
    "                 \"{}_var\".format(name):[]}\n",
    "\n",
    "    for val in values:\n",
    "        year, month, day, close, _, _, _, volume, variation= val.split(\" \")\n",
    "        date = \"-\".join([year, month, day])\n",
    "        index_dict['date'].append(date)\n",
    "        index_dict['{}_close'.format(name)].append(close)\n",
    "        index_dict['{}_vol'.format(name)].append(volume)\n",
    "        index_dict['{}_var'.format(name)].append(variation)\n",
    "        \n",
    "    index_list.append(pd.DataFrame.from_dict(index_dict, orient = \"index\").T)\n",
    "    start_idx += 1"
   ]
  },
  {
   "cell_type": "code",
   "execution_count": 91,
   "id": "81678f87-3c9f-49f6-985e-8f0aa62a8a18",
   "metadata": {},
   "outputs": [],
   "source": [
    "index_df = reduce(lambda  left,right: pd.merge(left,right,on=['date'], how='inner'), index_list)"
   ]
  },
  {
   "cell_type": "code",
   "execution_count": 92,
   "id": "34ed1aae-420d-41a9-b080-39bb69f72fd1",
   "metadata": {},
   "outputs": [
    {
     "data": {
      "text/html": [
       "<div>\n",
       "<style scoped>\n",
       "    .dataframe tbody tr th:only-of-type {\n",
       "        vertical-align: middle;\n",
       "    }\n",
       "\n",
       "    .dataframe tbody tr th {\n",
       "        vertical-align: top;\n",
       "    }\n",
       "\n",
       "    .dataframe thead th {\n",
       "        text-align: right;\n",
       "    }\n",
       "</style>\n",
       "<table border=\"1\" class=\"dataframe\">\n",
       "  <thead>\n",
       "    <tr style=\"text-align: right;\">\n",
       "      <th></th>\n",
       "      <th>date</th>\n",
       "      <th>미국_구리_close</th>\n",
       "      <th>미국_구리_vol</th>\n",
       "      <th>미국_구리_var</th>\n",
       "      <th>영국_구리_close</th>\n",
       "      <th>영국_구리_vol</th>\n",
       "      <th>영국_구리_var</th>\n",
       "      <th>금_close</th>\n",
       "      <th>금_vol</th>\n",
       "      <th>금_var</th>\n",
       "      <th>...</th>\n",
       "      <th>영국_알루미늄_var</th>\n",
       "      <th>은_close</th>\n",
       "      <th>은_vol</th>\n",
       "      <th>은_var</th>\n",
       "      <th>영국_주석_close</th>\n",
       "      <th>영국_주석_vol</th>\n",
       "      <th>영국_주석_var</th>\n",
       "      <th>미국_팔라듐_close</th>\n",
       "      <th>미국_팔라듐_vol</th>\n",
       "      <th>미국_팔라듐_var</th>\n",
       "    </tr>\n",
       "  </thead>\n",
       "  <tbody>\n",
       "    <tr>\n",
       "      <th>1924</th>\n",
       "      <td>2014-06-20</td>\n",
       "      <td>3.1180</td>\n",
       "      <td>0.35K</td>\n",
       "      <td>1.40</td>\n",
       "      <td>6818.00</td>\n",
       "      <td>10.21K</td>\n",
       "      <td>1.28</td>\n",
       "      <td>1316.20</td>\n",
       "      <td>0.25K</td>\n",
       "      <td>0.19</td>\n",
       "      <td>...</td>\n",
       "      <td>-0.11</td>\n",
       "      <td>20.942</td>\n",
       "      <td>0.00K</td>\n",
       "      <td>1.48</td>\n",
       "      <td>22525.00</td>\n",
       "      <td>0.94K</td>\n",
       "      <td>0.06</td>\n",
       "      <td>822.95</td>\n",
       "      <td>0.00K</td>\n",
       "      <td>-1.95</td>\n",
       "    </tr>\n",
       "    <tr>\n",
       "      <th>1925</th>\n",
       "      <td>2014-06-19</td>\n",
       "      <td>3.0750</td>\n",
       "      <td>0.22K</td>\n",
       "      <td>0.65</td>\n",
       "      <td>6732.00</td>\n",
       "      <td>6.76K</td>\n",
       "      <td>0.22</td>\n",
       "      <td>1313.70</td>\n",
       "      <td>0.60K</td>\n",
       "      <td>3.25</td>\n",
       "      <td>...</td>\n",
       "      <td>0.85</td>\n",
       "      <td>20.637</td>\n",
       "      <td>0.00K</td>\n",
       "      <td>4.40</td>\n",
       "      <td>22512.00</td>\n",
       "      <td>2.07K</td>\n",
       "      <td>0.28</td>\n",
       "      <td>839.35</td>\n",
       "      <td>0.01K</td>\n",
       "      <td>1.91</td>\n",
       "    </tr>\n",
       "    <tr>\n",
       "      <th>1926</th>\n",
       "      <td>2014-06-18</td>\n",
       "      <td>3.0550</td>\n",
       "      <td>0.18K</td>\n",
       "      <td>-0.10</td>\n",
       "      <td>6717.00</td>\n",
       "      <td>6.70K</td>\n",
       "      <td>0.03</td>\n",
       "      <td>1272.40</td>\n",
       "      <td>0.14K</td>\n",
       "      <td>0.06</td>\n",
       "      <td>...</td>\n",
       "      <td>1.21</td>\n",
       "      <td>19.767</td>\n",
       "      <td>0.01K</td>\n",
       "      <td>0.23</td>\n",
       "      <td>22450.00</td>\n",
       "      <td>1.66K</td>\n",
       "      <td>-0.35</td>\n",
       "      <td>823.65</td>\n",
       "      <td>0.01K</td>\n",
       "      <td>0.76</td>\n",
       "    </tr>\n",
       "    <tr>\n",
       "      <th>1927</th>\n",
       "      <td>2014-06-17</td>\n",
       "      <td>3.0580</td>\n",
       "      <td>0.27K</td>\n",
       "      <td>0.36</td>\n",
       "      <td>6715.00</td>\n",
       "      <td>6.58K</td>\n",
       "      <td>0.48</td>\n",
       "      <td>1271.70</td>\n",
       "      <td>0.82K</td>\n",
       "      <td>-0.25</td>\n",
       "      <td>...</td>\n",
       "      <td>0.64</td>\n",
       "      <td>19.721</td>\n",
       "      <td>8.86K</td>\n",
       "      <td>0.10</td>\n",
       "      <td>22528.00</td>\n",
       "      <td>1.36K</td>\n",
       "      <td>0.04</td>\n",
       "      <td>817.45</td>\n",
       "      <td>0.01K</td>\n",
       "      <td>0.91</td>\n",
       "    </tr>\n",
       "    <tr>\n",
       "      <th>1928</th>\n",
       "      <td>2014-06-16</td>\n",
       "      <td>3.0470</td>\n",
       "      <td>0.21K</td>\n",
       "      <td>0.56</td>\n",
       "      <td>6683.00</td>\n",
       "      <td>7.60K</td>\n",
       "      <td>0.62</td>\n",
       "      <td>1274.90</td>\n",
       "      <td>0.33K</td>\n",
       "      <td>0.09</td>\n",
       "      <td>...</td>\n",
       "      <td>0.34</td>\n",
       "      <td>19.702</td>\n",
       "      <td>0.01K</td>\n",
       "      <td>-0.23</td>\n",
       "      <td>22519.00</td>\n",
       "      <td>1.05K</td>\n",
       "      <td>-0.27</td>\n",
       "      <td>810.10</td>\n",
       "      <td>0.00K</td>\n",
       "      <td>-0.40</td>\n",
       "    </tr>\n",
       "  </tbody>\n",
       "</table>\n",
       "<p>5 rows × 34 columns</p>\n",
       "</div>"
      ],
      "text/plain": [
       "            date 미국_구리_close 미국_구리_vol 미국_구리_var 영국_구리_close 영국_구리_vol  \\\n",
       "1924  2014-06-20      3.1180     0.35K      1.40     6818.00    10.21K   \n",
       "1925  2014-06-19      3.0750     0.22K      0.65     6732.00     6.76K   \n",
       "1926  2014-06-18      3.0550     0.18K     -0.10     6717.00     6.70K   \n",
       "1927  2014-06-17      3.0580     0.27K      0.36     6715.00     6.58K   \n",
       "1928  2014-06-16      3.0470     0.21K      0.56     6683.00     7.60K   \n",
       "\n",
       "     영국_구리_var  금_close  금_vol  금_var  ... 영국_알루미늄_var 은_close  은_vol  은_var  \\\n",
       "1924      1.28  1316.20  0.25K   0.19  ...       -0.11  20.942  0.00K   1.48   \n",
       "1925      0.22  1313.70  0.60K   3.25  ...        0.85  20.637  0.00K   4.40   \n",
       "1926      0.03  1272.40  0.14K   0.06  ...        1.21  19.767  0.01K   0.23   \n",
       "1927      0.48  1271.70  0.82K  -0.25  ...        0.64  19.721  8.86K   0.10   \n",
       "1928      0.62  1274.90  0.33K   0.09  ...        0.34  19.702  0.01K  -0.23   \n",
       "\n",
       "     영국_주석_close 영국_주석_vol 영국_주석_var 미국_팔라듐_close 미국_팔라듐_vol 미국_팔라듐_var  \n",
       "1924    22525.00     0.94K      0.06       822.95      0.00K      -1.95  \n",
       "1925    22512.00     2.07K      0.28       839.35      0.01K       1.91  \n",
       "1926    22450.00     1.66K     -0.35       823.65      0.01K       0.76  \n",
       "1927    22528.00     1.36K      0.04       817.45      0.01K       0.91  \n",
       "1928    22519.00     1.05K     -0.27       810.10      0.00K      -0.40  \n",
       "\n",
       "[5 rows x 34 columns]"
      ]
     },
     "execution_count": 92,
     "metadata": {},
     "output_type": "execute_result"
    }
   ],
   "source": [
    "index_df.tail()"
   ]
  },
  {
   "cell_type": "code",
   "execution_count": 93,
   "id": "f44e11ad-d2f5-4fca-bce7-89fc799ced97",
   "metadata": {},
   "outputs": [],
   "source": [
    "index_df.to_csv(data_path + \"metal_df.csv\", index = False)"
   ]
  },
  {
   "cell_type": "code",
   "execution_count": null,
   "id": "07423de7-5e23-4c85-966a-5f834aaaecaa",
   "metadata": {},
   "outputs": [],
   "source": []
  }
 ],
 "metadata": {
  "kernelspec": {
   "display_name": "Python 3",
   "language": "python",
   "name": "python3"
  },
  "language_info": {
   "codemirror_mode": {
    "name": "ipython",
    "version": 3
   },
   "file_extension": ".py",
   "mimetype": "text/x-python",
   "name": "python",
   "nbconvert_exporter": "python",
   "pygments_lexer": "ipython3",
   "version": "3.8.8"
  }
 },
 "nbformat": 4,
 "nbformat_minor": 5
}
