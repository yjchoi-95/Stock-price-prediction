{
 "cells": [
  {
   "cell_type": "markdown",
   "id": "59009fe1-1a37-492a-acd2-1ef06eee3fab",
   "metadata": {},
   "source": [
    "## Import"
   ]
  },
  {
   "cell_type": "code",
   "execution_count": 58,
   "id": "731a9bd0-d3b1-4c71-b682-03fca01c246e",
   "metadata": {},
   "outputs": [],
   "source": [
    "from functools import reduce\n",
    "from glob import glob\n",
    "\n",
    "import pandas as pd\n",
    "import numpy as np\n",
    "import os"
   ]
  },
  {
   "cell_type": "code",
   "execution_count": null,
   "id": "fb8aba32-9c1a-4f93-a3ba-a6db587993c7",
   "metadata": {},
   "outputs": [],
   "source": []
  },
  {
   "cell_type": "markdown",
   "id": "1db1dd67-cf3e-445c-baac-87db5d08e564",
   "metadata": {},
   "source": [
    "## Load"
   ]
  },
  {
   "cell_type": "code",
   "execution_count": 6,
   "id": "ada45752-63e7-4719-9b11-2606009f5e25",
   "metadata": {},
   "outputs": [],
   "source": [
    "out_data_path = 'C:\\\\Users\\\\PC0\\\\Documents\\\\datasets\\\\stock_price\\\\'\n",
    "data_path = 'C:\\\\Users\\\\PC0\\\\Documents\\\\GitHub\\\\Stock-price-prediction\\\\datasets\\\\'"
   ]
  },
  {
   "cell_type": "code",
   "execution_count": 43,
   "id": "56ab1be5-474b-4e6f-b021-cf1a9db3d712",
   "metadata": {},
   "outputs": [],
   "source": [
    "all_files = glob(data_path + \"*.csv\")"
   ]
  },
  {
   "cell_type": "code",
   "execution_count": 45,
   "id": "9acbbe30-1dac-4fd3-906f-1fdd7a8012e8",
   "metadata": {},
   "outputs": [],
   "source": [
    "files = [x for x in all_files if \"symbol\" not in x]"
   ]
  },
  {
   "cell_type": "code",
   "execution_count": 52,
   "id": "2a11d2cd-7bbe-405e-af46-4b594408311d",
   "metadata": {},
   "outputs": [
    {
     "name": "stdout",
     "output_type": "stream",
     "text": [
      "bond_df\n",
      "exchange_df\n",
      "index_df\n",
      "materials__df\n",
      "metal_df\n"
     ]
    }
   ],
   "source": [
    "for file in files:\n",
    "    file_name = file.split(os.path.sep)[-1].split(\".csv\")[0]\n",
    "    globals()[file_name] = pd.read_csv(file)\n",
    "    print(file_name)"
   ]
  },
  {
   "cell_type": "code",
   "execution_count": 55,
   "id": "a689552f-c2fb-4927-a65b-db1863bbdf16",
   "metadata": {},
   "outputs": [],
   "source": [
    "data_list = [index_df, bond_df, exchange_df, materials_df, metal_df]"
   ]
  },
  {
   "cell_type": "code",
   "execution_count": 59,
   "id": "1348cb63-2138-4ef8-bc80-52c4e0db5926",
   "metadata": {},
   "outputs": [],
   "source": [
    "stock_df = reduce(lambda  left,right: pd.merge(left,right,on=['date'], how='inner'), data_list)"
   ]
  },
  {
   "cell_type": "code",
   "execution_count": 61,
   "id": "b3149e4d-8d52-42b1-8fa8-e1868cf97e3b",
   "metadata": {},
   "outputs": [
    {
     "data": {
      "text/plain": [
       "(440, 404)"
      ]
     },
     "execution_count": 61,
     "metadata": {},
     "output_type": "execute_result"
    }
   ],
   "source": [
    "stock_df.shape"
   ]
  },
  {
   "cell_type": "code",
   "execution_count": 70,
   "id": "231b5f66-3202-4b3b-a76b-977d6b4be5bb",
   "metadata": {},
   "outputs": [
    {
     "data": {
      "text/html": [
       "<div>\n",
       "<style scoped>\n",
       "    .dataframe tbody tr th:only-of-type {\n",
       "        vertical-align: middle;\n",
       "    }\n",
       "\n",
       "    .dataframe tbody tr th {\n",
       "        vertical-align: top;\n",
       "    }\n",
       "\n",
       "    .dataframe thead th {\n",
       "        text-align: right;\n",
       "    }\n",
       "</style>\n",
       "<table border=\"1\" class=\"dataframe\">\n",
       "  <thead>\n",
       "    <tr style=\"text-align: right;\">\n",
       "      <th></th>\n",
       "      <th>date</th>\n",
       "      <th>kospi_close</th>\n",
       "      <th>kospi_vol</th>\n",
       "      <th>kospi_var</th>\n",
       "      <th>kospi-50_close</th>\n",
       "      <th>kospi-50_vol</th>\n",
       "      <th>kospi-50_var</th>\n",
       "      <th>kosdaq_close</th>\n",
       "      <th>kosdaq_vol</th>\n",
       "      <th>kosdaq_var</th>\n",
       "      <th>...</th>\n",
       "      <th>idx-composite_var</th>\n",
       "      <th>s-p-cnx-nifty_close</th>\n",
       "      <th>s-p-cnx-nifty_vol</th>\n",
       "      <th>s-p-cnx-nifty_var</th>\n",
       "      <th>sensex_close</th>\n",
       "      <th>sensex_vol</th>\n",
       "      <th>sensex_var</th>\n",
       "      <th>vn-30_close</th>\n",
       "      <th>vn-30_vol</th>\n",
       "      <th>vn-30_var</th>\n",
       "    </tr>\n",
       "  </thead>\n",
       "  <tbody>\n",
       "    <tr>\n",
       "      <th>768</th>\n",
       "      <td>2015-03-30</td>\n",
       "      <td>2030.04</td>\n",
       "      <td>439.56M</td>\n",
       "      <td>0.51</td>\n",
       "      <td>1629.91</td>\n",
       "      <td>25.57K</td>\n",
       "      <td>-0.03</td>\n",
       "      <td>646.74</td>\n",
       "      <td>467.26K</td>\n",
       "      <td>1.03</td>\n",
       "      <td>...</td>\n",
       "      <td>0.77</td>\n",
       "      <td>8492.30</td>\n",
       "      <td>138.88B</td>\n",
       "      <td>1.81</td>\n",
       "      <td>27975.86</td>\n",
       "      <td>11.37K</td>\n",
       "      <td>1.88</td>\n",
       "      <td>576.60</td>\n",
       "      <td>36.17K</td>\n",
       "      <td>-1.10</td>\n",
       "    </tr>\n",
       "    <tr>\n",
       "      <th>769</th>\n",
       "      <td>2015-03-26</td>\n",
       "      <td>2022.56</td>\n",
       "      <td>342.26M</td>\n",
       "      <td>-0.99</td>\n",
       "      <td>1634.41</td>\n",
       "      <td>29.76K</td>\n",
       "      <td>-1.37</td>\n",
       "      <td>642.53</td>\n",
       "      <td>551.81K</td>\n",
       "      <td>-1.31</td>\n",
       "      <td>...</td>\n",
       "      <td>-0.68</td>\n",
       "      <td>8342.15</td>\n",
       "      <td>288.76B</td>\n",
       "      <td>-2.21</td>\n",
       "      <td>27457.58</td>\n",
       "      <td>13.10K</td>\n",
       "      <td>-2.33</td>\n",
       "      <td>586.70</td>\n",
       "      <td>30.03K</td>\n",
       "      <td>-0.59</td>\n",
       "    </tr>\n",
       "    <tr>\n",
       "      <th>770</th>\n",
       "      <td>2015-03-25</td>\n",
       "      <td>2042.81</td>\n",
       "      <td>423.41M</td>\n",
       "      <td>0.07</td>\n",
       "      <td>1657.16</td>\n",
       "      <td>31.43K</td>\n",
       "      <td>-0.23</td>\n",
       "      <td>651.05</td>\n",
       "      <td>534.69K</td>\n",
       "      <td>1.43</td>\n",
       "      <td>...</td>\n",
       "      <td>-0.77</td>\n",
       "      <td>8530.80</td>\n",
       "      <td>165.95B</td>\n",
       "      <td>-0.14</td>\n",
       "      <td>28111.83</td>\n",
       "      <td>17.88K</td>\n",
       "      <td>-0.18</td>\n",
       "      <td>590.17</td>\n",
       "      <td>38.16K</td>\n",
       "      <td>-0.61</td>\n",
       "    </tr>\n",
       "    <tr>\n",
       "      <th>771</th>\n",
       "      <td>2015-03-24</td>\n",
       "      <td>2041.37</td>\n",
       "      <td>328.83M</td>\n",
       "      <td>0.23</td>\n",
       "      <td>1660.91</td>\n",
       "      <td>28.63K</td>\n",
       "      <td>-0.05</td>\n",
       "      <td>641.87</td>\n",
       "      <td>525.79K</td>\n",
       "      <td>0.25</td>\n",
       "      <td>...</td>\n",
       "      <td>0.19</td>\n",
       "      <td>8542.95</td>\n",
       "      <td>161.47B</td>\n",
       "      <td>-0.09</td>\n",
       "      <td>28161.72</td>\n",
       "      <td>10.00K</td>\n",
       "      <td>-0.11</td>\n",
       "      <td>593.80</td>\n",
       "      <td>35.14K</td>\n",
       "      <td>-0.71</td>\n",
       "    </tr>\n",
       "    <tr>\n",
       "      <th>772</th>\n",
       "      <td>2015-03-23</td>\n",
       "      <td>2036.59</td>\n",
       "      <td>314.90M</td>\n",
       "      <td>-0.03</td>\n",
       "      <td>1661.76</td>\n",
       "      <td>28.00K</td>\n",
       "      <td>0.05</td>\n",
       "      <td>640.29</td>\n",
       "      <td>530.15K</td>\n",
       "      <td>0.03</td>\n",
       "      <td>...</td>\n",
       "      <td>-0.11</td>\n",
       "      <td>8550.90</td>\n",
       "      <td>155.43B</td>\n",
       "      <td>-0.23</td>\n",
       "      <td>28192.02</td>\n",
       "      <td>10.32K</td>\n",
       "      <td>-0.24</td>\n",
       "      <td>598.07</td>\n",
       "      <td>46.21K</td>\n",
       "      <td>-0.94</td>\n",
       "    </tr>\n",
       "  </tbody>\n",
       "</table>\n",
       "<p>5 rows × 130 columns</p>\n",
       "</div>"
      ],
      "text/plain": [
       "           date  kospi_close kospi_vol  kospi_var  kospi-50_close  \\\n",
       "768  2015-03-30      2030.04   439.56M       0.51         1629.91   \n",
       "769  2015-03-26      2022.56   342.26M      -0.99         1634.41   \n",
       "770  2015-03-25      2042.81   423.41M       0.07         1657.16   \n",
       "771  2015-03-24      2041.37   328.83M       0.23         1660.91   \n",
       "772  2015-03-23      2036.59   314.90M      -0.03         1661.76   \n",
       "\n",
       "    kospi-50_vol  kospi-50_var  kosdaq_close kosdaq_vol  kosdaq_var  ...  \\\n",
       "768       25.57K         -0.03        646.74    467.26K        1.03  ...   \n",
       "769       29.76K         -1.37        642.53    551.81K       -1.31  ...   \n",
       "770       31.43K         -0.23        651.05    534.69K        1.43  ...   \n",
       "771       28.63K         -0.05        641.87    525.79K        0.25  ...   \n",
       "772       28.00K          0.05        640.29    530.15K        0.03  ...   \n",
       "\n",
       "     idx-composite_var s-p-cnx-nifty_close  s-p-cnx-nifty_vol  \\\n",
       "768               0.77             8492.30            138.88B   \n",
       "769              -0.68             8342.15            288.76B   \n",
       "770              -0.77             8530.80            165.95B   \n",
       "771               0.19             8542.95            161.47B   \n",
       "772              -0.11             8550.90            155.43B   \n",
       "\n",
       "     s-p-cnx-nifty_var sensex_close  sensex_vol  sensex_var vn-30_close  \\\n",
       "768               1.81     27975.86      11.37K        1.88      576.60   \n",
       "769              -2.21     27457.58      13.10K       -2.33      586.70   \n",
       "770              -0.14     28111.83      17.88K       -0.18      590.17   \n",
       "771              -0.09     28161.72      10.00K       -0.11      593.80   \n",
       "772              -0.23     28192.02      10.32K       -0.24      598.07   \n",
       "\n",
       "     vn-30_vol  vn-30_var  \n",
       "768     36.17K      -1.10  \n",
       "769     30.03K      -0.59  \n",
       "770     38.16K      -0.61  \n",
       "771     35.14K      -0.71  \n",
       "772     46.21K      -0.94  \n",
       "\n",
       "[5 rows x 130 columns]"
      ]
     },
     "execution_count": 70,
     "metadata": {},
     "output_type": "execute_result"
    }
   ],
   "source": [
    "index_df.tail()"
   ]
  },
  {
   "cell_type": "code",
   "execution_count": 64,
   "id": "cf4836d5-d633-4b0f-a3e9-ab8830dfc2ea",
   "metadata": {},
   "outputs": [
    {
     "data": {
      "text/plain": [
       "(2149, 49)"
      ]
     },
     "execution_count": 64,
     "metadata": {},
     "output_type": "execute_result"
    }
   ],
   "source": [
    "bond_df.shape"
   ]
  },
  {
   "cell_type": "code",
   "execution_count": 68,
   "id": "ad55ea42-e855-49c6-9cb6-6f00d31277d5",
   "metadata": {},
   "outputs": [
    {
     "data": {
      "text/plain": [
       "(2526, 112)"
      ]
     },
     "execution_count": 68,
     "metadata": {},
     "output_type": "execute_result"
    }
   ],
   "source": [
    "materials__df.shape"
   ]
  },
  {
   "cell_type": "code",
   "execution_count": 69,
   "id": "baac5c6b-24cb-4cce-b5c6-e6589996a1be",
   "metadata": {},
   "outputs": [
    {
     "data": {
      "text/plain": [
       "(1929, 34)"
      ]
     },
     "execution_count": 69,
     "metadata": {},
     "output_type": "execute_result"
    }
   ],
   "source": [
    "metal_df.shape"
   ]
  },
  {
   "cell_type": "code",
   "execution_count": null,
   "id": "c49af6a1-7998-43ba-9d0f-56fd8b95f5e7",
   "metadata": {},
   "outputs": [],
   "source": []
  },
  {
   "cell_type": "code",
   "execution_count": 62,
   "id": "4c440c03-673e-4728-86a0-e03535f1a53a",
   "metadata": {},
   "outputs": [
    {
     "data": {
      "text/html": [
       "<div>\n",
       "<style scoped>\n",
       "    .dataframe tbody tr th:only-of-type {\n",
       "        vertical-align: middle;\n",
       "    }\n",
       "\n",
       "    .dataframe tbody tr th {\n",
       "        vertical-align: top;\n",
       "    }\n",
       "\n",
       "    .dataframe thead th {\n",
       "        text-align: right;\n",
       "    }\n",
       "</style>\n",
       "<table border=\"1\" class=\"dataframe\">\n",
       "  <thead>\n",
       "    <tr style=\"text-align: right;\">\n",
       "      <th></th>\n",
       "      <th>date</th>\n",
       "      <th>kospi_close</th>\n",
       "      <th>kospi_vol</th>\n",
       "      <th>kospi_var</th>\n",
       "      <th>kospi-50_close</th>\n",
       "      <th>kospi-50_vol</th>\n",
       "      <th>kospi-50_var</th>\n",
       "      <th>kosdaq_close</th>\n",
       "      <th>kosdaq_vol</th>\n",
       "      <th>kosdaq_var</th>\n",
       "      <th>...</th>\n",
       "      <th>영국_알루미늄_var</th>\n",
       "      <th>은_close</th>\n",
       "      <th>은_vol</th>\n",
       "      <th>은_var</th>\n",
       "      <th>영국_주석_close</th>\n",
       "      <th>영국_주석_vol</th>\n",
       "      <th>영국_주석_var</th>\n",
       "      <th>미국_팔라듐_close</th>\n",
       "      <th>미국_팔라듐_vol</th>\n",
       "      <th>미국_팔라듐_var</th>\n",
       "    </tr>\n",
       "  </thead>\n",
       "  <tbody>\n",
       "    <tr>\n",
       "      <th>435</th>\n",
       "      <td>2018-01-30</td>\n",
       "      <td>2567.74</td>\n",
       "      <td>397.04M</td>\n",
       "      <td>-1.17</td>\n",
       "      <td>2218.56</td>\n",
       "      <td>30.24M</td>\n",
       "      <td>-1.59</td>\n",
       "      <td>920.96</td>\n",
       "      <td>1.24B</td>\n",
       "      <td>-0.66</td>\n",
       "      <td>...</td>\n",
       "      <td>-0.80</td>\n",
       "      <td>18.771</td>\n",
       "      <td>0.02K</td>\n",
       "      <td>-0.36</td>\n",
       "      <td>21627.5</td>\n",
       "      <td>-</td>\n",
       "      <td>-1.35</td>\n",
       "      <td>1040.70</td>\n",
       "      <td>0.00K</td>\n",
       "      <td>-2.97</td>\n",
       "    </tr>\n",
       "    <tr>\n",
       "      <th>436</th>\n",
       "      <td>2018-01-29</td>\n",
       "      <td>2598.19</td>\n",
       "      <td>437.48M</td>\n",
       "      <td>0.91</td>\n",
       "      <td>2254.32</td>\n",
       "      <td>27.73M</td>\n",
       "      <td>0.69</td>\n",
       "      <td>927.05</td>\n",
       "      <td>1.28B</td>\n",
       "      <td>1.53</td>\n",
       "      <td>...</td>\n",
       "      <td>-1.47</td>\n",
       "      <td>18.839</td>\n",
       "      <td>0.02K</td>\n",
       "      <td>8.21</td>\n",
       "      <td>21922.5</td>\n",
       "      <td>-</td>\n",
       "      <td>1.35</td>\n",
       "      <td>1072.50</td>\n",
       "      <td>0.00K</td>\n",
       "      <td>-1.26</td>\n",
       "    </tr>\n",
       "    <tr>\n",
       "      <th>437</th>\n",
       "      <td>2018-01-23</td>\n",
       "      <td>2536.60</td>\n",
       "      <td>370.01M</td>\n",
       "      <td>1.38</td>\n",
       "      <td>2210.05</td>\n",
       "      <td>35.40M</td>\n",
       "      <td>1.31</td>\n",
       "      <td>894.43</td>\n",
       "      <td>1.05B</td>\n",
       "      <td>2.44</td>\n",
       "      <td>...</td>\n",
       "      <td>-0.86</td>\n",
       "      <td>18.532</td>\n",
       "      <td>0.00K</td>\n",
       "      <td>-0.41</td>\n",
       "      <td>20737.5</td>\n",
       "      <td>-</td>\n",
       "      <td>-0.06</td>\n",
       "      <td>1072.05</td>\n",
       "      <td>0.01K</td>\n",
       "      <td>-0.70</td>\n",
       "    </tr>\n",
       "    <tr>\n",
       "      <th>438</th>\n",
       "      <td>2018-01-22</td>\n",
       "      <td>2502.11</td>\n",
       "      <td>342.99M</td>\n",
       "      <td>-0.72</td>\n",
       "      <td>2181.37</td>\n",
       "      <td>27.62M</td>\n",
       "      <td>-1.22</td>\n",
       "      <td>873.09</td>\n",
       "      <td>1.13B</td>\n",
       "      <td>-0.78</td>\n",
       "      <td>...</td>\n",
       "      <td>1.28</td>\n",
       "      <td>18.609</td>\n",
       "      <td>0.00K</td>\n",
       "      <td>8.95</td>\n",
       "      <td>20750.0</td>\n",
       "      <td>-</td>\n",
       "      <td>0.84</td>\n",
       "      <td>1079.60</td>\n",
       "      <td>0.00K</td>\n",
       "      <td>-1.75</td>\n",
       "    </tr>\n",
       "    <tr>\n",
       "      <th>439</th>\n",
       "      <td>2018-01-18</td>\n",
       "      <td>2515.81</td>\n",
       "      <td>333.11M</td>\n",
       "      <td>0.02</td>\n",
       "      <td>2208.56</td>\n",
       "      <td>30.59M</td>\n",
       "      <td>0.06</td>\n",
       "      <td>898.19</td>\n",
       "      <td>1.26B</td>\n",
       "      <td>1.31</td>\n",
       "      <td>...</td>\n",
       "      <td>2.26</td>\n",
       "      <td>18.373</td>\n",
       "      <td>0.01K</td>\n",
       "      <td>-1.14</td>\n",
       "      <td>20410.0</td>\n",
       "      <td>-</td>\n",
       "      <td>-0.28</td>\n",
       "      <td>1097.30</td>\n",
       "      <td>-</td>\n",
       "      <td>-1.03</td>\n",
       "    </tr>\n",
       "  </tbody>\n",
       "</table>\n",
       "<p>5 rows × 404 columns</p>\n",
       "</div>"
      ],
      "text/plain": [
       "           date  kospi_close kospi_vol  kospi_var  kospi-50_close  \\\n",
       "435  2018-01-30      2567.74   397.04M      -1.17         2218.56   \n",
       "436  2018-01-29      2598.19   437.48M       0.91         2254.32   \n",
       "437  2018-01-23      2536.60   370.01M       1.38         2210.05   \n",
       "438  2018-01-22      2502.11   342.99M      -0.72         2181.37   \n",
       "439  2018-01-18      2515.81   333.11M       0.02         2208.56   \n",
       "\n",
       "    kospi-50_vol  kospi-50_var  kosdaq_close kosdaq_vol  kosdaq_var  ...  \\\n",
       "435       30.24M         -1.59        920.96      1.24B       -0.66  ...   \n",
       "436       27.73M          0.69        927.05      1.28B        1.53  ...   \n",
       "437       35.40M          1.31        894.43      1.05B        2.44  ...   \n",
       "438       27.62M         -1.22        873.09      1.13B       -0.78  ...   \n",
       "439       30.59M          0.06        898.19      1.26B        1.31  ...   \n",
       "\n",
       "     영국_알루미늄_var 은_close  은_vol  은_var 영국_주석_close  영국_주석_vol  영국_주석_var  \\\n",
       "435        -0.80  18.771  0.02K  -0.36     21627.5          -      -1.35   \n",
       "436        -1.47  18.839  0.02K   8.21     21922.5          -       1.35   \n",
       "437        -0.86  18.532  0.00K  -0.41     20737.5          -      -0.06   \n",
       "438         1.28  18.609  0.00K   8.95     20750.0          -       0.84   \n",
       "439         2.26  18.373  0.01K  -1.14     20410.0          -      -0.28   \n",
       "\n",
       "    미국_팔라듐_close  미국_팔라듐_vol  미국_팔라듐_var  \n",
       "435      1040.70       0.00K       -2.97  \n",
       "436      1072.50       0.00K       -1.26  \n",
       "437      1072.05       0.01K       -0.70  \n",
       "438      1079.60       0.00K       -1.75  \n",
       "439      1097.30           -       -1.03  \n",
       "\n",
       "[5 rows x 404 columns]"
      ]
     },
     "execution_count": 62,
     "metadata": {},
     "output_type": "execute_result"
    }
   ],
   "source": [
    "stock_df.tail()"
   ]
  },
  {
   "cell_type": "code",
   "execution_count": null,
   "id": "9e2b30d6-f004-435e-8151-d93a9e3010e9",
   "metadata": {},
   "outputs": [],
   "source": []
  },
  {
   "cell_type": "code",
   "execution_count": null,
   "id": "7f48bdbb-5f0e-4fd2-bb3b-aa7a588c9e7c",
   "metadata": {},
   "outputs": [],
   "source": []
  }
 ],
 "metadata": {
  "kernelspec": {
   "display_name": "Python 3",
   "language": "python",
   "name": "python3"
  },
  "language_info": {
   "codemirror_mode": {
    "name": "ipython",
    "version": 3
   },
   "file_extension": ".py",
   "mimetype": "text/x-python",
   "name": "python",
   "nbconvert_exporter": "python",
   "pygments_lexer": "ipython3",
   "version": "3.8.8"
  }
 },
 "nbformat": 4,
 "nbformat_minor": 5
}
