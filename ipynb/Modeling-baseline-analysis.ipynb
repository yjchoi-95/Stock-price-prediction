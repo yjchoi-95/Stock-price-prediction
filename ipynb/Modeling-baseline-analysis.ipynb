{
 "cells": [
  {
   "cell_type": "markdown",
   "id": "e3cd4ed4-b082-4a42-80e0-479f8ed18fc7",
   "metadata": {},
   "source": [
    "## Import"
   ]
  },
  {
   "cell_type": "code",
   "execution_count": 1,
   "id": "002fafeb-2134-4832-9a91-80c75abaedc5",
   "metadata": {},
   "outputs": [],
   "source": [
    "from catboost import CatBoostClassifier\n",
    "from xgboost import XGBClassifier\n",
    "from lightgbm import LGBMClassifier\n",
    "from ngboost import NGBClassifier\n",
    "from collections import Counter\n",
    "from tqdm import tqdm\n",
    "from sklearn.metrics import accuracy_score, f1_score, precision_score, recall_score, cohen_kappa_score"
   ]
  },
  {
   "cell_type": "code",
   "execution_count": 2,
   "id": "313122bf-3ca9-4921-8955-0e7194c043b3",
   "metadata": {},
   "outputs": [],
   "source": [
    "import pandas as pd\n",
    "import numpy as np\n",
    "import warnings\n",
    "import pickle\n",
    "\n",
    "warnings.filterwarnings(action='default')"
   ]
  },
  {
   "cell_type": "code",
   "execution_count": null,
   "id": "74c0fd15-2570-4c15-aa4c-1b0831a7ae38",
   "metadata": {},
   "outputs": [],
   "source": []
  },
  {
   "cell_type": "markdown",
   "id": "56baa1ab-aa3f-46b9-a50b-a32e92265ae2",
   "metadata": {},
   "source": [
    "## Load"
   ]
  },
  {
   "cell_type": "code",
   "execution_count": 4,
   "id": "11b296da-ac3f-492d-8e99-db74e9b06a10",
   "metadata": {},
   "outputs": [],
   "source": [
    "out_data_path = 'C:\\\\Users\\\\PC0\\\\Documents\\\\datasets\\\\stock_price\\\\'\n",
    "data_path = 'C:\\\\Users\\\\PC0\\\\Documents\\\\GitHub\\\\Stock-price-prediction\\\\datasets\\\\'"
   ]
  },
  {
   "cell_type": "code",
   "execution_count": 5,
   "id": "2b97d7e1-8ba9-4366-81fe-b6937f2bd721",
   "metadata": {},
   "outputs": [],
   "source": [
    "stock_df = pd.read_csv(data_path + \"stock_df_01.csv\")"
   ]
  },
  {
   "cell_type": "code",
   "execution_count": 6,
   "id": "d2750b18-3ebd-46dc-a45c-1cb62aa5ae65",
   "metadata": {},
   "outputs": [],
   "source": [
    "n_target = np.array(list(stock_df.target))\n",
    "c_target = np.array(list(stock_df.c_target))"
   ]
  },
  {
   "cell_type": "code",
   "execution_count": 7,
   "id": "bc0c38f4-ace7-488b-b0b8-83db09ae206a",
   "metadata": {},
   "outputs": [],
   "source": [
    "del stock_df['target']\n",
    "del stock_df['c_target']"
   ]
  },
  {
   "cell_type": "code",
   "execution_count": 8,
   "id": "14e0ccf2-bed0-490f-af25-9d162e9a4558",
   "metadata": {},
   "outputs": [
    {
     "data": {
      "text/plain": [
       "(2410, 372)"
      ]
     },
     "execution_count": 8,
     "metadata": {},
     "output_type": "execute_result"
    }
   ],
   "source": [
    "stock_df.shape"
   ]
  },
  {
   "cell_type": "code",
   "execution_count": 8,
   "id": "868f8d96-323c-46c0-8abb-8136d64a30db",
   "metadata": {},
   "outputs": [],
   "source": [
    "var_cols = [x for x in stock_df.columns if \"var\" in x]"
   ]
  },
  {
   "cell_type": "code",
   "execution_count": 9,
   "id": "380b076f-8051-4bd2-b8f8-9d1987180958",
   "metadata": {},
   "outputs": [
    {
     "data": {
      "text/html": [
       "<div>\n",
       "<style scoped>\n",
       "    .dataframe tbody tr th:only-of-type {\n",
       "        vertical-align: middle;\n",
       "    }\n",
       "\n",
       "    .dataframe tbody tr th {\n",
       "        vertical-align: top;\n",
       "    }\n",
       "\n",
       "    .dataframe thead th {\n",
       "        text-align: right;\n",
       "    }\n",
       "</style>\n",
       "<table border=\"1\" class=\"dataframe\">\n",
       "  <thead>\n",
       "    <tr style=\"text-align: right;\">\n",
       "      <th></th>\n",
       "      <th>date</th>\n",
       "      <th>kosdaq_close</th>\n",
       "      <th>kosdaq_vol</th>\n",
       "      <th>kosdaq_var</th>\n",
       "      <th>us-30_close</th>\n",
       "      <th>us-30_vol</th>\n",
       "      <th>us-30_var</th>\n",
       "      <th>us-spx-500_close</th>\n",
       "      <th>us-spx-500_var</th>\n",
       "      <th>nasdaq-composite_close</th>\n",
       "      <th>...</th>\n",
       "      <th>영국_아연_close</th>\n",
       "      <th>영국_아연_vol</th>\n",
       "      <th>영국_아연_var</th>\n",
       "      <th>은_close</th>\n",
       "      <th>은_vol</th>\n",
       "      <th>은_var</th>\n",
       "      <th>영국_주석_close</th>\n",
       "      <th>영국_주석_var</th>\n",
       "      <th>미국_팔라듐_close</th>\n",
       "      <th>미국_팔라듐_var</th>\n",
       "    </tr>\n",
       "  </thead>\n",
       "  <tbody>\n",
       "    <tr>\n",
       "      <th>0</th>\n",
       "      <td>2012-01-03</td>\n",
       "      <td>513.83</td>\n",
       "      <td>590990.0</td>\n",
       "      <td>1.39</td>\n",
       "      <td>12397.38</td>\n",
       "      <td>152560000.0</td>\n",
       "      <td>1.47</td>\n",
       "      <td>1277.06</td>\n",
       "      <td>1.55</td>\n",
       "      <td>2648.72</td>\n",
       "      <td>...</td>\n",
       "      <td>1864.25</td>\n",
       "      <td>9410.0</td>\n",
       "      <td>1.83</td>\n",
       "      <td>29.533</td>\n",
       "      <td>140.0</td>\n",
       "      <td>4.88</td>\n",
       "      <td>19949.0</td>\n",
       "      <td>4.13</td>\n",
       "      <td>664.8</td>\n",
       "      <td>1.42</td>\n",
       "    </tr>\n",
       "    <tr>\n",
       "      <th>1</th>\n",
       "      <td>2012-01-04</td>\n",
       "      <td>516.30</td>\n",
       "      <td>652090.0</td>\n",
       "      <td>0.48</td>\n",
       "      <td>12418.42</td>\n",
       "      <td>145130000.0</td>\n",
       "      <td>0.17</td>\n",
       "      <td>1277.30</td>\n",
       "      <td>0.02</td>\n",
       "      <td>2648.36</td>\n",
       "      <td>...</td>\n",
       "      <td>1856.50</td>\n",
       "      <td>8430.0</td>\n",
       "      <td>-0.42</td>\n",
       "      <td>29.063</td>\n",
       "      <td>70.0</td>\n",
       "      <td>-1.59</td>\n",
       "      <td>19555.0</td>\n",
       "      <td>-1.98</td>\n",
       "      <td>649.9</td>\n",
       "      <td>-2.24</td>\n",
       "    </tr>\n",
       "    <tr>\n",
       "      <th>2</th>\n",
       "      <td>2012-01-05</td>\n",
       "      <td>521.96</td>\n",
       "      <td>654300.0</td>\n",
       "      <td>1.10</td>\n",
       "      <td>12415.70</td>\n",
       "      <td>158440000.0</td>\n",
       "      <td>-0.02</td>\n",
       "      <td>1281.06</td>\n",
       "      <td>0.29</td>\n",
       "      <td>2669.86</td>\n",
       "      <td>...</td>\n",
       "      <td>1821.25</td>\n",
       "      <td>7720.0</td>\n",
       "      <td>-1.90</td>\n",
       "      <td>29.265</td>\n",
       "      <td>30.0</td>\n",
       "      <td>0.70</td>\n",
       "      <td>19814.0</td>\n",
       "      <td>1.32</td>\n",
       "      <td>640.4</td>\n",
       "      <td>-1.46</td>\n",
       "    </tr>\n",
       "    <tr>\n",
       "      <th>3</th>\n",
       "      <td>2012-01-06</td>\n",
       "      <td>518.94</td>\n",
       "      <td>626020.0</td>\n",
       "      <td>-0.58</td>\n",
       "      <td>12359.92</td>\n",
       "      <td>131120000.0</td>\n",
       "      <td>-0.45</td>\n",
       "      <td>1277.81</td>\n",
       "      <td>-0.25</td>\n",
       "      <td>2674.22</td>\n",
       "      <td>...</td>\n",
       "      <td>1840.75</td>\n",
       "      <td>7120.0</td>\n",
       "      <td>1.07</td>\n",
       "      <td>28.653</td>\n",
       "      <td>80.0</td>\n",
       "      <td>-2.09</td>\n",
       "      <td>19807.0</td>\n",
       "      <td>-0.04</td>\n",
       "      <td>616.1</td>\n",
       "      <td>-3.79</td>\n",
       "    </tr>\n",
       "    <tr>\n",
       "      <th>4</th>\n",
       "      <td>2012-01-09</td>\n",
       "      <td>520.28</td>\n",
       "      <td>617370.0</td>\n",
       "      <td>0.26</td>\n",
       "      <td>12392.69</td>\n",
       "      <td>122200000.0</td>\n",
       "      <td>0.27</td>\n",
       "      <td>1280.70</td>\n",
       "      <td>0.23</td>\n",
       "      <td>2676.56</td>\n",
       "      <td>...</td>\n",
       "      <td>1870.25</td>\n",
       "      <td>9620.0</td>\n",
       "      <td>1.60</td>\n",
       "      <td>28.749</td>\n",
       "      <td>60.0</td>\n",
       "      <td>-0.34</td>\n",
       "      <td>19746.0</td>\n",
       "      <td>-0.31</td>\n",
       "      <td>620.0</td>\n",
       "      <td>0.63</td>\n",
       "    </tr>\n",
       "  </tbody>\n",
       "</table>\n",
       "<p>5 rows × 372 columns</p>\n",
       "</div>"
      ],
      "text/plain": [
       "         date  kosdaq_close  kosdaq_vol  kosdaq_var  us-30_close    us-30_vol  \\\n",
       "0  2012-01-03        513.83    590990.0        1.39     12397.38  152560000.0   \n",
       "1  2012-01-04        516.30    652090.0        0.48     12418.42  145130000.0   \n",
       "2  2012-01-05        521.96    654300.0        1.10     12415.70  158440000.0   \n",
       "3  2012-01-06        518.94    626020.0       -0.58     12359.92  131120000.0   \n",
       "4  2012-01-09        520.28    617370.0        0.26     12392.69  122200000.0   \n",
       "\n",
       "   us-30_var  us-spx-500_close  us-spx-500_var  nasdaq-composite_close  ...  \\\n",
       "0       1.47           1277.06            1.55                 2648.72  ...   \n",
       "1       0.17           1277.30            0.02                 2648.36  ...   \n",
       "2      -0.02           1281.06            0.29                 2669.86  ...   \n",
       "3      -0.45           1277.81           -0.25                 2674.22  ...   \n",
       "4       0.27           1280.70            0.23                 2676.56  ...   \n",
       "\n",
       "   영국_아연_close  영국_아연_vol  영국_아연_var  은_close  은_vol  은_var  영국_주석_close  \\\n",
       "0      1864.25     9410.0       1.83   29.533  140.0   4.88      19949.0   \n",
       "1      1856.50     8430.0      -0.42   29.063   70.0  -1.59      19555.0   \n",
       "2      1821.25     7720.0      -1.90   29.265   30.0   0.70      19814.0   \n",
       "3      1840.75     7120.0       1.07   28.653   80.0  -2.09      19807.0   \n",
       "4      1870.25     9620.0       1.60   28.749   60.0  -0.34      19746.0   \n",
       "\n",
       "   영국_주석_var  미국_팔라듐_close  미국_팔라듐_var  \n",
       "0       4.13         664.8        1.42  \n",
       "1      -1.98         649.9       -2.24  \n",
       "2       1.32         640.4       -1.46  \n",
       "3      -0.04         616.1       -3.79  \n",
       "4      -0.31         620.0        0.63  \n",
       "\n",
       "[5 rows x 372 columns]"
      ]
     },
     "execution_count": 9,
     "metadata": {},
     "output_type": "execute_result"
    }
   ],
   "source": [
    "stock_df.head()"
   ]
  },
  {
   "cell_type": "code",
   "execution_count": null,
   "id": "31930fea-1368-4c6a-b0b3-76db8592f652",
   "metadata": {},
   "outputs": [],
   "source": []
  },
  {
   "cell_type": "markdown",
   "id": "62d7d0bd-c11b-4dfc-adf0-a892b57c0f28",
   "metadata": {},
   "source": [
    "## Modeling"
   ]
  },
  {
   "cell_type": "markdown",
   "id": "e94a5436-4a24-4f56-b468-18ac1de27712",
   "metadata": {
    "tags": []
   },
   "source": [
    "* label portion 탐색"
   ]
  },
  {
   "cell_type": "code",
   "execution_count": 11,
   "id": "64304947-89bf-44cf-ad68-dec4e43b160e",
   "metadata": {},
   "outputs": [
    {
     "data": {
      "text/plain": [
       "Counter({'Down': 1136, 'Up': 1274})"
      ]
     },
     "execution_count": 11,
     "metadata": {},
     "output_type": "execute_result"
    }
   ],
   "source": [
    "Counter(c_target)"
   ]
  },
  {
   "cell_type": "code",
   "execution_count": 12,
   "id": "05746b30-7fbc-42c4-b72b-e396e15ee49a",
   "metadata": {},
   "outputs": [
    {
     "data": {
      "text/plain": [
       "0.5286307053941909"
      ]
     },
     "execution_count": 12,
     "metadata": {},
     "output_type": "execute_result"
    }
   ],
   "source": [
    "1274/(1136+1274)"
   ]
  },
  {
   "cell_type": "code",
   "execution_count": 16,
   "id": "c82239f6-742e-4151-8d06-72147e02ec9b",
   "metadata": {},
   "outputs": [],
   "source": [
    "temp_x = stock_df.iloc[:, 1:]"
   ]
  },
  {
   "cell_type": "code",
   "execution_count": null,
   "id": "0d8ba420-0007-49a9-b333-3731af3ae3e2",
   "metadata": {},
   "outputs": [],
   "source": []
  },
  {
   "cell_type": "markdown",
   "id": "ce6d1fd4-34d8-459c-9b97-fe18acfd1758",
   "metadata": {},
   "source": [
    "* baseline modeling - stacked sample"
   ]
  },
  {
   "cell_type": "code",
   "execution_count": 17,
   "id": "8bd07a2c-1ee8-4263-9cb3-be8e6c134663",
   "metadata": {},
   "outputs": [],
   "source": [
    "from sklearn.metrics.pairwise import cosine_similarity"
   ]
  },
  {
   "cell_type": "code",
   "execution_count": 18,
   "id": "1562e4f2-0e5e-493c-b624-d751099142b3",
   "metadata": {},
   "outputs": [],
   "source": [
    "train_volum = 100\n",
    "train_start_idx = 0\n",
    "sample_days = 5\n",
    "\n",
    "data = temp_x\n",
    "\n",
    "model_xgb = XGBClassifier()\n",
    "model_lgbm = LGBMClassifier()\n",
    "model_ngb = NGBClassifier()\n",
    "model_cat = CatBoostClassifier(verbose = False)\n",
    "\n",
    "model = model_lgbm"
   ]
  },
  {
   "cell_type": "code",
   "execution_count": 19,
   "id": "bef70b18-195f-4946-a533-0542732ceb34",
   "metadata": {},
   "outputs": [],
   "source": [
    "pred_dict = {}"
   ]
  },
  {
   "cell_type": "code",
   "execution_count": 20,
   "id": "e76a0e9e-b3be-4543-9fba-e9126f0c7830",
   "metadata": {},
   "outputs": [],
   "source": [
    "beta = 0.999"
   ]
  },
  {
   "cell_type": "code",
   "execution_count": null,
   "id": "93b72d50-2541-4411-912b-ee98d5152570",
   "metadata": {},
   "outputs": [],
   "source": [
    "# class imbalance 고려 해야함"
   ]
  },
  {
   "cell_type": "code",
   "execution_count": 21,
   "id": "231c0ee1-25ae-4a34-a3be-318e51644c7d",
   "metadata": {
    "collapsed": true,
    "jupyter": {
     "outputs_hidden": true
    },
    "tags": []
   },
   "outputs": [
    {
     "name": "stderr",
     "output_type": "stream",
     "text": [
      "  0%|                                                                                         | 0/2309 [00:00<?, ?it/s]C:\\Users\\PC0\\anaconda3\\lib\\site-packages\\sklearn\\utils\\validation.py:72: DataConversionWarning: A column-vector y was passed when a 1d array was expected. Please change the shape of y to (n_samples, ), for example using ravel().\n",
      "  return f(**kwargs)\n",
      "  0%|                                                                                 | 1/2309 [00:00<04:35,  8.38it/s]"
     ]
    },
    {
     "name": "stdout",
     "output_type": "stream",
     "text": [
      "Start Fitting..\n"
     ]
    },
    {
     "name": "stderr",
     "output_type": "stream",
     "text": [
      "100%|██████████████████████████████████████████████████████████████████████████████| 2309/2309 [33:09<00:00,  1.16it/s]"
     ]
    },
    {
     "name": "stdout",
     "output_type": "stream",
     "text": [
      "Finish\n"
     ]
    },
    {
     "name": "stderr",
     "output_type": "stream",
     "text": [
      "\n"
     ]
    }
   ],
   "source": [
    "train_end_idx = train_start_idx + train_volum\n",
    "test_start_idx = train_end_idx + 1\n",
    "\n",
    "whole_predict = []\n",
    "whole_proba = []\n",
    "whole_truth = []\n",
    "whole_acc = []\n",
    "\n",
    "print(\"Start Fitting..\")\n",
    "for _ in tqdm(range(data.shape[0] - (train_volum + 1))) :\n",
    "    temp_train_x = data.loc[:train_end_idx,:]\n",
    "    temp_train_y = c_target_num.loc[:train_end_idx]\n",
    "    temp_test_x = data.loc[test_start_idx:test_start_idx,:]\n",
    "    temp_test_y = c_target_num.loc[test_start_idx]\n",
    "\n",
    "    # append sample\n",
    "    temp_train_x = temp_train_x.append(temp_train_x.loc[(train_end_idx - sample_days):])\n",
    "    temp_train_y = temp_train_y.append(temp_train_y.loc[(train_end_idx - sample_days):])\n",
    "    \n",
    "    #sim_mat = cosine_similarity(np.array(temp_train_x))\n",
    "    \n",
    "    sample_w = [beta ** x for x in range((temp_train_x.shape[0]), 0, -1)]\n",
    "    sample_w = np.array(sample_w) + 1-np.mean(sample_w)\n",
    "    \n",
    "    # fitting\n",
    "    model.fit(temp_train_x,temp_train_y, sample_weight=sample_w)\n",
    "    #model.fit(temp_train_x,temp_train_y, sample_weight=sim_mat[-1])\n",
    "    #model.fit(temp_train_x,temp_train_y)\n",
    "    \n",
    "    # predict\n",
    "    predict_value = model.predict(temp_test_x)\n",
    "    whole_proba.append(model.predict_proba(temp_test_x)[0])\n",
    "\n",
    "    # save acc\n",
    "    pred_dict[stock_df.date[test_start_idx]] = predict_value[0]\n",
    "    whole_predict.append(predict_value[0])\n",
    "    whole_truth.append(temp_test_y.iloc[0])\n",
    "\n",
    "    train_start_idx += 1\n",
    "    train_end_idx = train_start_idx + train_volum\n",
    "    test_start_idx = train_end_idx + 1\n",
    "\n",
    "print(\"Finish\")"
   ]
  },
  {
   "cell_type": "code",
   "execution_count": null,
   "id": "af45ace4-140b-4e83-bd32-514e7eab6399",
   "metadata": {},
   "outputs": [],
   "source": []
  },
  {
   "cell_type": "markdown",
   "id": "74ea3b58-c11a-45a9-9841-5aa4f345a816",
   "metadata": {},
   "source": [
    "* lightgbm performance - with sample weights 0.999 beta adjust"
   ]
  },
  {
   "cell_type": "code",
   "execution_count": 22,
   "id": "443b2399-ffa8-4bf7-a1e8-5c5074321c34",
   "metadata": {},
   "outputs": [
    {
     "data": {
      "text/plain": [
       "0.6145517540060632"
      ]
     },
     "execution_count": 22,
     "metadata": {},
     "output_type": "execute_result"
    }
   ],
   "source": [
    "accuracy_score(whole_truth, whole_predict)"
   ]
  },
  {
   "cell_type": "code",
   "execution_count": 23,
   "id": "6d4ecce5-3f8f-41ca-820d-6f47ccb31d55",
   "metadata": {},
   "outputs": [
    {
     "data": {
      "text/plain": [
       "0.6258555133079848"
      ]
     },
     "execution_count": 23,
     "metadata": {},
     "output_type": "execute_result"
    }
   ],
   "source": [
    "precision_score(whole_truth, whole_predict)"
   ]
  },
  {
   "cell_type": "code",
   "execution_count": 24,
   "id": "1396ee6e-3384-4131-aa18-019818fd8b2b",
   "metadata": {},
   "outputs": [
    {
     "data": {
      "text/plain": [
       "0.674037674037674"
      ]
     },
     "execution_count": 24,
     "metadata": {},
     "output_type": "execute_result"
    }
   ],
   "source": [
    "recall_score(whole_truth, whole_predict)"
   ]
  },
  {
   "cell_type": "code",
   "execution_count": 25,
   "id": "84e579b7-edab-49ec-9fd5-35760b8a9c71",
   "metadata": {},
   "outputs": [
    {
     "data": {
      "text/plain": [
       "0.6490536277602523"
      ]
     },
     "execution_count": 25,
     "metadata": {},
     "output_type": "execute_result"
    }
   ],
   "source": [
    "f1_score(whole_truth, whole_predict)"
   ]
  },
  {
   "cell_type": "code",
   "execution_count": 26,
   "id": "4edfbbb9-d9c5-4e08-a139-9c53d747b690",
   "metadata": {},
   "outputs": [
    {
     "name": "stderr",
     "output_type": "stream",
     "text": [
      "C:\\Users\\PC0\\anaconda3\\lib\\site-packages\\sklearn\\metrics\\_classification.py:608: DeprecationWarning: `np.int` is a deprecated alias for the builtin `int`. To silence this warning, use `int` by itself. Doing this will not modify any behavior and is safe. When replacing `np.int`, you may wish to use e.g. `np.int64` or `np.int32` to specify the precision. If you wish to review your current use, check the release note link for additional information.\n",
      "Deprecated in NumPy 1.20; for more details and guidance: https://numpy.org/devdocs/release/1.20.0-notes.html#deprecations\n",
      "  w_mat = np.ones([n_classes, n_classes], dtype=np.int)\n"
     ]
    },
    {
     "data": {
      "text/plain": [
       "0.22288055410804897"
      ]
     },
     "execution_count": 26,
     "metadata": {},
     "output_type": "execute_result"
    }
   ],
   "source": [
    "cohen_kappa_score(whole_truth, whole_predict)"
   ]
  },
  {
   "cell_type": "code",
   "execution_count": 27,
   "id": "7c3a4020-f39d-4dc2-876f-4aec7e41bf85",
   "metadata": {},
   "outputs": [],
   "source": [
    "# proba check\n",
    "\n",
    "zero_prob = [x[0] for x in whole_proba]\n",
    "one_prob = [x[1] for x in whole_proba]\n",
    "\n",
    "tr = 0.9\n",
    "\n",
    "zero_idx = np.where(np.array(zero_prob) > tr)[0]\n",
    "one_idx = np.where(np.array(one_prob) > tr)[0]"
   ]
  },
  {
   "cell_type": "code",
   "execution_count": 28,
   "id": "7fe0ef40-e263-4b2c-a096-de9dbeaf2084",
   "metadata": {},
   "outputs": [
    {
     "data": {
      "text/plain": [
       "0.7320754716981133"
      ]
     },
     "execution_count": 28,
     "metadata": {},
     "output_type": "execute_result"
    }
   ],
   "source": [
    "1 - np.mean(np.array(whole_truth)[zero_idx])"
   ]
  },
  {
   "cell_type": "code",
   "execution_count": 29,
   "id": "9f87fdd3-b212-4804-b33a-fa46d9c9588f",
   "metadata": {},
   "outputs": [
    {
     "data": {
      "text/plain": [
       "0.6857142857142857"
      ]
     },
     "execution_count": 29,
     "metadata": {},
     "output_type": "execute_result"
    }
   ],
   "source": [
    "np.mean(np.array(whole_truth)[one_idx])"
   ]
  },
  {
   "cell_type": "code",
   "execution_count": null,
   "id": "f0a7d11a-bb87-4abb-9789-465ee30857f8",
   "metadata": {},
   "outputs": [],
   "source": []
  },
  {
   "cell_type": "markdown",
   "id": "8cf848a3-d958-43cb-a37c-d627cc0ed37a",
   "metadata": {},
   "source": [
    "## XAI"
   ]
  },
  {
   "cell_type": "code",
   "execution_count": 239,
   "id": "54ccc670-eb00-4edb-bc93-272a88d35bcc",
   "metadata": {},
   "outputs": [],
   "source": [
    "from lime import lime_tabular"
   ]
  },
  {
   "cell_type": "code",
   "execution_count": 242,
   "id": "253959f8-5530-43ca-bead-5ecd51a6bd8c",
   "metadata": {},
   "outputs": [],
   "source": [
    "lime_explainer = lime_tabular.LimeTabularExplainer(\n",
    "    training_data=np.array(temp_train_x),\n",
    "    feature_names=temp_train_x.columns,\n",
    "    class_names=['Down', 'Up'],\n",
    "    mode='classification'\n",
    ")"
   ]
  },
  {
   "cell_type": "code",
   "execution_count": 259,
   "id": "a0871b39-04e3-4e37-822b-01282d399a2f",
   "metadata": {},
   "outputs": [
    {
     "name": "stderr",
     "output_type": "stream",
     "text": [
      "C:\\Users\\PC0\\anaconda3\\lib\\site-packages\\sklearn\\metrics\\pairwise.py:58: DeprecationWarning: `np.float` is a deprecated alias for the builtin `float`. To silence this warning, use `float` by itself. Doing this will not modify any behavior and is safe. If you specifically wanted the numpy scalar type, use `np.float64` here.\n",
      "Deprecated in NumPy 1.20; for more details and guidance: https://numpy.org/devdocs/release/1.20.0-notes.html#deprecations\n",
      "  dtype = np.float\n"
     ]
    }
   ],
   "source": [
    "lime_exp = lime_explainer.explain_instance(\n",
    "    data_row=temp_train_x.iloc[2],\n",
    "    predict_fn=model.predict_proba\n",
    ")"
   ]
  },
  {
   "cell_type": "code",
   "execution_count": 354,
   "id": "922d0172-0a6a-431d-b6f1-2dbdf389adef",
   "metadata": {},
   "outputs": [
    {
     "data": {
      "text/plain": [
       "[('us-spx-500_var > 0.51', 0.09627362022590456),\n",
       " ('us-30_var > 0.49', 0.06143985250882359),\n",
       " ('달러/남아프리카_란드_var <= -0.60', 0.054981638687521386),\n",
       " ('spain-35_var > 0.68', 0.05430633583327941),\n",
       " ('s-p-tsx-composite_var > 0.43', 0.051271170941502194),\n",
       " ('달러/스웨덴_크로나_var > 0.37', -0.046299122260462296),\n",
       " ('-0.43 < 달러/멕시코_페소_var <= 0.00', 0.04132942702384455),\n",
       " ('france-40_var > 0.61', 0.03892185016637705),\n",
       " ('france-10_var > 2.55', -0.03769360115152981),\n",
       " ('영국_구리_var > 0.71', 0.03635580629301755)]"
      ]
     },
     "execution_count": 354,
     "metadata": {},
     "output_type": "execute_result"
    }
   ],
   "source": [
    "lime_exp.as_list()"
   ]
  },
  {
   "cell_type": "code",
   "execution_count": null,
   "id": "e44360fe-e797-4a40-864a-13aecf3ff90b",
   "metadata": {},
   "outputs": [],
   "source": []
  },
  {
   "cell_type": "markdown",
   "id": "838011b6-2015-41bf-8ebb-fe94017cd10a",
   "metadata": {},
   "source": [
    "* 확실한 sample들 lime 돌리기"
   ]
  },
  {
   "cell_type": "code",
   "execution_count": 302,
   "id": "897586fb-43cb-44f4-94e8-a5c4fe084e0d",
   "metadata": {
    "tags": []
   },
   "outputs": [],
   "source": [
    "tr = 0.8\n",
    "confidence_idx = [idx for idx, x in enumerate(whole_proba) if (x[0] > tr) or (x[1] > tr)]"
   ]
  },
  {
   "cell_type": "code",
   "execution_count": 306,
   "id": "73fde7c5-c3f4-4470-a0c3-3bdd4febf937",
   "metadata": {
    "tags": []
   },
   "outputs": [],
   "source": [
    "correct_idx = [confidence_idx[idx] for idx, x in enumerate(confidence_idx) if whole_truth[x] == whole_predict[x]]"
   ]
  },
  {
   "cell_type": "code",
   "execution_count": 319,
   "id": "54e09067-56fb-4ae9-a80b-3a6dc7733af4",
   "metadata": {
    "tags": []
   },
   "outputs": [
    {
     "name": "stderr",
     "output_type": "stream",
     "text": [
      "C:\\Users\\PC0\\anaconda3\\lib\\site-packages\\ipykernel\\ipkernel.py:287: DeprecationWarning: `should_run_async` will not call `transform_cell` automatically in the future. Please pass the result to `transformed_cell` argument and any exception that happen during thetransform in `preprocessing_exc_tuple` in IPython 7.17 and above.\n",
      "  and should_run_async(code)\n"
     ]
    }
   ],
   "source": [
    "incorrect_idx = [confidence_idx[idx] for idx, x in enumerate(confidence_idx) if whole_truth[x] != whole_predict[x]]"
   ]
  },
  {
   "cell_type": "code",
   "execution_count": 313,
   "id": "b7d7f9fb-5061-4300-a190-6176686f99c2",
   "metadata": {},
   "outputs": [],
   "source": [
    "correct_idx_d = [x + 100 for x in correct_idx]"
   ]
  },
  {
   "cell_type": "code",
   "execution_count": 314,
   "id": "44c3c483-4113-48e5-b3fb-09f5a4bd8d96",
   "metadata": {},
   "outputs": [],
   "source": [
    "correct_df = data.iloc[correct_idx_d,:]"
   ]
  },
  {
   "cell_type": "code",
   "execution_count": 321,
   "id": "55304420-fc18-4717-b4a5-f199619f463a",
   "metadata": {},
   "outputs": [],
   "source": [
    "lime_dict = {}"
   ]
  },
  {
   "cell_type": "code",
   "execution_count": null,
   "id": "84c62ffd-e65c-4d02-a6b2-614c50a52c8a",
   "metadata": {
    "tags": []
   },
   "outputs": [],
   "source": [
    "for idx in tqdm(range(len(correct_idx))):\n",
    "    lime_exp = lime_explainer.explain_instance(\n",
    "            data_row=correct_df.iloc[idx],\n",
    "            predict_fn=model.predict_proba\n",
    "        )\n",
    "    lime_dict[str(correct_idx[idx])] = lime_exp"
   ]
  },
  {
   "cell_type": "code",
   "execution_count": null,
   "id": "86ba4ac3-0623-4316-b148-9ca31a0a1c70",
   "metadata": {},
   "outputs": [],
   "source": []
  },
  {
   "cell_type": "code",
   "execution_count": 329,
   "id": "b31ed7de-4d64-43a0-8b0f-9ac26fd5ec88",
   "metadata": {},
   "outputs": [],
   "source": [
    "'''with open(data_path + 'lime_dict.pickle', 'wb') as f:\n",
    "    pickle.dump(lime_dict, f, pickle.HIGHEST_PROTOCOL)'''"
   ]
  },
  {
   "cell_type": "code",
   "execution_count": 350,
   "id": "6f87e69c-6ffc-4944-b4d7-4c4e31114689",
   "metadata": {},
   "outputs": [
    {
     "data": {
      "text/plain": [
       "0.12286694083257466"
      ]
     },
     "execution_count": 350,
     "metadata": {},
     "output_type": "execute_result"
    }
   ],
   "source": [
    "# r square of linear model\n",
    "lime_dict['6'].score"
   ]
  },
  {
   "cell_type": "code",
   "execution_count": 334,
   "id": "59e50cdf-ba52-40ef-b574-eba901b4226c",
   "metadata": {},
   "outputs": [
    {
     "data": {
      "text/plain": [
       "{1: 0.5372941817163116}"
      ]
     },
     "execution_count": 334,
     "metadata": {},
     "output_type": "execute_result"
    }
   ],
   "source": [
    "# intercept of linear model\n",
    "lime_dict['1'].intercept"
   ]
  },
  {
   "cell_type": "code",
   "execution_count": 394,
   "id": "b12603b1-97fc-4bdd-a7a2-13faa2b8a9cc",
   "metadata": {},
   "outputs": [],
   "source": [
    "exp_col_idx = [x[0] for x in list(lime_dict['1'].local_exp.values())[0]]"
   ]
  },
  {
   "cell_type": "code",
   "execution_count": 396,
   "id": "5709761b-4697-4a5b-9edd-55b1b32788a5",
   "metadata": {},
   "outputs": [
    {
     "data": {
      "text/plain": [
       "array(['s-p-tsx-composite_var', 'france-40_var', 'dj-shanghai_var',\n",
       "       'france-10_var', 'hang-sen-40_var', 'shanghai-composite_var',\n",
       "       'nasdaq-composite_var', 'kosdaq_var', '스위스_프랑/엔_var',\n",
       "       'japan-ni225_var'], dtype=object)"
      ]
     },
     "execution_count": 396,
     "metadata": {},
     "output_type": "execute_result"
    }
   ],
   "source": [
    "np.array(temp_train_x.columns)[exp_col_idx]"
   ]
  },
  {
   "cell_type": "code",
   "execution_count": 384,
   "id": "c68ae489-b7c7-4877-8e75-a22d84d9d169",
   "metadata": {},
   "outputs": [
    {
     "data": {
      "text/plain": [
       "'france-40_var'"
      ]
     },
     "execution_count": 384,
     "metadata": {},
     "output_type": "execute_result"
    }
   ],
   "source": [
    "np.array(temp_train_x.columns)[32]"
   ]
  },
  {
   "cell_type": "code",
   "execution_count": 326,
   "id": "0d111a25-5e5b-4868-8142-4b1549f5685f",
   "metadata": {},
   "outputs": [
    {
     "name": "stderr",
     "output_type": "stream",
     "text": [
      "C:\\Users\\PC0\\anaconda3\\lib\\site-packages\\ipykernel\\ipkernel.py:287: DeprecationWarning: `should_run_async` will not call `transform_cell` automatically in the future. Please pass the result to `transformed_cell` argument and any exception that happen during thetransform in `preprocessing_exc_tuple` in IPython 7.17 and above.\n",
      "  and should_run_async(code)\n"
     ]
    },
    {
     "data": {
      "text/plain": [
       "[('s-p-tsx-composite_var <= -0.33', -0.05865994956195112),\n",
       " ('0.07 < france-40_var <= 0.61', 0.04625367283653943),\n",
       " ('dj-shanghai_var <= -0.54', 0.03687377844053242),\n",
       " ('france-10_var > 2.55', -0.03517686679163335),\n",
       " ('hang-sen-40_var > 0.64', -0.03302576552274919),\n",
       " ('shanghai-composite_var <= -0.51', 0.031803976689793755),\n",
       " ('nasdaq-composite_var <= -0.39', -0.030982819132667604),\n",
       " ('kosdaq_var > 0.75', -0.030290451103731426),\n",
       " ('스위스_프랑/엔_var > 0.30', -0.02936149412475346),\n",
       " ('japan-ni225_var > 0.73', -0.028094601982210667)]"
      ]
     },
     "execution_count": 326,
     "metadata": {},
     "output_type": "execute_result"
    }
   ],
   "source": [
    "# coefficient of linear model\n",
    "lime_dict['1'].as_list()"
   ]
  },
  {
   "cell_type": "code",
   "execution_count": 336,
   "id": "5292d094-8dea-495d-95b0-6e802ed4ad2c",
   "metadata": {},
   "outputs": [
    {
     "data": {
      "text/plain": [
       "[('us-spx-500_var > 0.51', 0.09180711193459476),\n",
       " ('france-40_var <= -0.53', -0.076232737711395),\n",
       " ('us-30_var > 0.49', 0.05943905694722265),\n",
       " ('spain-35_var > 0.68', 0.0555385159558343),\n",
       " ('s-p-tsx-composite_var <= -0.33', -0.05541439799358382),\n",
       " ('ise-100_var > 0.86', 0.04446082210944168),\n",
       " ('nasdaq-composite_var > 0.67', 0.03662137235094501),\n",
       " ('kospi-200_var <= -0.48', 0.036076565074351516),\n",
       " ('달러/멕시코_페소_var <= -0.43', 0.03579302664741233),\n",
       " ('hang-sen-40_var <= -0.60', 0.033964340277893544)]"
      ]
     },
     "execution_count": 336,
     "metadata": {},
     "output_type": "execute_result"
    }
   ],
   "source": [
    "# coefficient of linear model\n",
    "lime_dict['2'].as_list()"
   ]
  },
  {
   "cell_type": "code",
   "execution_count": 337,
   "id": "5d397cf4-2333-4952-a655-f91695be05b8",
   "metadata": {},
   "outputs": [
    {
     "data": {
      "text/plain": [
       "[('달러/멕시코_페소_var > 0.44', -0.08741605929994485),\n",
       " ('us-spx-500_var <= -0.32', -0.08495713513705377),\n",
       " ('s-p-tsx-composite_var <= -0.33', -0.04758270337932049),\n",
       " ('nasdaq-composite_var <= -0.39', -0.044041933536768746),\n",
       " ('us-30_var <= -0.33', -0.04231802405897409),\n",
       " ('dj-shanghai_var > 0.66', -0.03344919907534244),\n",
       " ('kosdaq_var > 0.75', -0.03207291167936025),\n",
       " ('-0.61 < psi-20_var <= 0.02', -0.03180961068020383),\n",
       " ('volatility-s-p-500_var > 3.63', -0.030970625608865068),\n",
       " ('영국_구리_var > 0.71', 0.025858425344794447)]"
      ]
     },
     "execution_count": 337,
     "metadata": {},
     "output_type": "execute_result"
    }
   ],
   "source": [
    "# coefficient of linear model\n",
    "lime_dict['3'].as_list()"
   ]
  },
  {
   "cell_type": "code",
   "execution_count": 339,
   "id": "c95f4041-4edf-45a2-a82b-4e62f8e6c09a",
   "metadata": {},
   "outputs": [
    {
     "data": {
      "text/plain": [
       "[('us-spx-500_var > 0.51', 0.08912768529630515),\n",
       " ('us-30_var > 0.49', 0.061544333505648405),\n",
       " ('spain-35_var > 0.68', 0.0590807676954259),\n",
       " ('ipc_var > 0.56', 0.05054255621254792),\n",
       " ('hang-sen-40_var <= -0.60', 0.042739660301203575),\n",
       " ('dj-shanghai_var <= -0.54', 0.04059741786158961),\n",
       " ('달러/스웨덴_크로나_var <= -0.36', 0.034495950856139),\n",
       " ('달러/멕시코_페소_var <= -0.43', 0.03065653939387012),\n",
       " ('0.07 < france-40_var <= 0.61', 0.029342618528203832),\n",
       " ('달러/인도_루피_var > 0.22', -0.02579785619932995)]"
      ]
     },
     "execution_count": 339,
     "metadata": {},
     "output_type": "execute_result"
    }
   ],
   "source": [
    "# coefficient of linear model\n",
    "lime_dict['6'].as_list()"
   ]
  },
  {
   "cell_type": "code",
   "execution_count": 356,
   "id": "638e9304-d6e2-42a1-b12c-3748992747c7",
   "metadata": {},
   "outputs": [],
   "source": [
    "labels = [np.argmax(x) for x in np.array(whole_proba)[confidence_idx]]"
   ]
  },
  {
   "cell_type": "code",
   "execution_count": 358,
   "id": "0c1cbcab-66af-4b98-a9d9-3d7b1c37570b",
   "metadata": {},
   "outputs": [
    {
     "data": {
      "text/plain": [
       "['us-spx-500_var > 0.51',\n",
       " 'us-30_var > 0.49',\n",
       " 'spain-35_var > 0.68',\n",
       " 'ipc_var > 0.56',\n",
       " 'hang-sen-40_var <= -0.60',\n",
       " 'dj-shanghai_var <= -0.54',\n",
       " '달러/스웨덴_크로나_var <= -0.36',\n",
       " '달러/멕시코_페소_var <= -0.43',\n",
       " '0.07 < france-40_var <= 0.61',\n",
       " '달러/인도_루피_var > 0.22']"
      ]
     },
     "execution_count": 358,
     "metadata": {},
     "output_type": "execute_result"
    }
   ],
   "source": [
    "[x[0] for x in lime_dict['6'].as_list()]"
   ]
  },
  {
   "cell_type": "code",
   "execution_count": 359,
   "id": "e63997d2-4ede-478a-b7a7-f9298ffc3ee4",
   "metadata": {},
   "outputs": [
    {
     "data": {
      "text/plain": [
       "['s-p-tsx-composite_var <= -0.33',\n",
       " '0.07 < france-40_var <= 0.61',\n",
       " 'dj-shanghai_var <= -0.54',\n",
       " 'france-10_var > 2.55',\n",
       " 'hang-sen-40_var > 0.64',\n",
       " 'shanghai-composite_var <= -0.51',\n",
       " 'nasdaq-composite_var <= -0.39',\n",
       " 'kosdaq_var > 0.75',\n",
       " '스위스_프랑/엔_var > 0.30',\n",
       " 'japan-ni225_var > 0.73']"
      ]
     },
     "execution_count": 359,
     "metadata": {},
     "output_type": "execute_result"
    }
   ],
   "source": [
    "[x[0] for x in lime_dict['1'].as_list()]"
   ]
  },
  {
   "cell_type": "code",
   "execution_count": null,
   "id": "a94a6871-eabf-42c2-b00d-26350463c007",
   "metadata": {},
   "outputs": [],
   "source": []
  },
  {
   "cell_type": "code",
   "execution_count": null,
   "id": "2a324477-2693-49a8-8961-aea19c6a8007",
   "metadata": {},
   "outputs": [],
   "source": []
  },
  {
   "cell_type": "code",
   "execution_count": null,
   "id": "8c632de4-c144-4df3-82c3-3b38b1b46555",
   "metadata": {},
   "outputs": [],
   "source": []
  },
  {
   "cell_type": "markdown",
   "id": "09b83043-c0e5-4b5b-a28a-f801ad5728d2",
   "metadata": {},
   "source": [
    "* 기간별 accuracy"
   ]
  },
  {
   "cell_type": "code",
   "execution_count": 131,
   "id": "54c4e21b-9e73-41b3-a376-08e1277065ae",
   "metadata": {},
   "outputs": [
    {
     "name": "stderr",
     "output_type": "stream",
     "text": [
      "C:\\Users\\PC0\\anaconda3\\lib\\site-packages\\ipykernel\\ipkernel.py:287: DeprecationWarning: `should_run_async` will not call `transform_cell` automatically in the future. Please pass the result to `transformed_cell` argument and any exception that happen during thetransform in `preprocessing_exc_tuple` in IPython 7.17 and above.\n",
      "  and should_run_async(code)\n"
     ]
    }
   ],
   "source": [
    "predict_df = pd.DataFrame({\"date\": stock_df.tail(2309).date, \"predict\": whole_predict, \"truth\": whole_truth})"
   ]
  },
  {
   "cell_type": "code",
   "execution_count": 129,
   "id": "472fe017-3790-477f-845f-bae8ef796dc4",
   "metadata": {},
   "outputs": [],
   "source": [
    "# predict_df.to_csv(data_path + \"predict_lgbm_adj_999.csv\", index = False)"
   ]
  },
  {
   "cell_type": "code",
   "execution_count": 75,
   "id": "55761c59-5163-498b-97ad-6a87a529e929",
   "metadata": {},
   "outputs": [
    {
     "data": {
      "text/html": [
       "<div>\n",
       "<style scoped>\n",
       "    .dataframe tbody tr th:only-of-type {\n",
       "        vertical-align: middle;\n",
       "    }\n",
       "\n",
       "    .dataframe tbody tr th {\n",
       "        vertical-align: top;\n",
       "    }\n",
       "\n",
       "    .dataframe thead th {\n",
       "        text-align: right;\n",
       "    }\n",
       "</style>\n",
       "<table border=\"1\" class=\"dataframe\">\n",
       "  <thead>\n",
       "    <tr style=\"text-align: right;\">\n",
       "      <th></th>\n",
       "      <th>date</th>\n",
       "      <th>predict</th>\n",
       "      <th>truth</th>\n",
       "    </tr>\n",
       "  </thead>\n",
       "  <tbody>\n",
       "    <tr>\n",
       "      <th>101</th>\n",
       "      <td>2012-06-07</td>\n",
       "      <td>1</td>\n",
       "      <td>0</td>\n",
       "    </tr>\n",
       "    <tr>\n",
       "      <th>102</th>\n",
       "      <td>2012-06-08</td>\n",
       "      <td>1</td>\n",
       "      <td>1</td>\n",
       "    </tr>\n",
       "    <tr>\n",
       "      <th>103</th>\n",
       "      <td>2012-06-11</td>\n",
       "      <td>0</td>\n",
       "      <td>0</td>\n",
       "    </tr>\n",
       "    <tr>\n",
       "      <th>104</th>\n",
       "      <td>2012-06-12</td>\n",
       "      <td>1</td>\n",
       "      <td>1</td>\n",
       "    </tr>\n",
       "    <tr>\n",
       "      <th>105</th>\n",
       "      <td>2012-06-13</td>\n",
       "      <td>1</td>\n",
       "      <td>1</td>\n",
       "    </tr>\n",
       "  </tbody>\n",
       "</table>\n",
       "</div>"
      ],
      "text/plain": [
       "           date  predict  truth\n",
       "101  2012-06-07        1      0\n",
       "102  2012-06-08        1      1\n",
       "103  2012-06-11        0      0\n",
       "104  2012-06-12        1      1\n",
       "105  2012-06-13        1      1"
      ]
     },
     "execution_count": 75,
     "metadata": {},
     "output_type": "execute_result"
    }
   ],
   "source": [
    "predict_df.head()"
   ]
  },
  {
   "cell_type": "code",
   "execution_count": 130,
   "id": "ffcc44b7-de81-4985-bfef-4a907e87341f",
   "metadata": {},
   "outputs": [
    {
     "data": {
      "text/html": [
       "<div>\n",
       "<style scoped>\n",
       "    .dataframe tbody tr th:only-of-type {\n",
       "        vertical-align: middle;\n",
       "    }\n",
       "\n",
       "    .dataframe tbody tr th {\n",
       "        vertical-align: top;\n",
       "    }\n",
       "\n",
       "    .dataframe thead th {\n",
       "        text-align: right;\n",
       "    }\n",
       "</style>\n",
       "<table border=\"1\" class=\"dataframe\">\n",
       "  <thead>\n",
       "    <tr style=\"text-align: right;\">\n",
       "      <th></th>\n",
       "      <th>date</th>\n",
       "      <th>predict</th>\n",
       "      <th>truth</th>\n",
       "    </tr>\n",
       "  </thead>\n",
       "  <tbody>\n",
       "    <tr>\n",
       "      <th>2400</th>\n",
       "      <td>2022-02-17</td>\n",
       "      <td>0</td>\n",
       "      <td>0</td>\n",
       "    </tr>\n",
       "    <tr>\n",
       "      <th>2401</th>\n",
       "      <td>2022-02-21</td>\n",
       "      <td>0</td>\n",
       "      <td>0</td>\n",
       "    </tr>\n",
       "    <tr>\n",
       "      <th>2402</th>\n",
       "      <td>2022-02-22</td>\n",
       "      <td>1</td>\n",
       "      <td>1</td>\n",
       "    </tr>\n",
       "    <tr>\n",
       "      <th>2403</th>\n",
       "      <td>2022-02-23</td>\n",
       "      <td>0</td>\n",
       "      <td>0</td>\n",
       "    </tr>\n",
       "    <tr>\n",
       "      <th>2404</th>\n",
       "      <td>2022-02-24</td>\n",
       "      <td>1</td>\n",
       "      <td>1</td>\n",
       "    </tr>\n",
       "    <tr>\n",
       "      <th>2405</th>\n",
       "      <td>2022-02-25</td>\n",
       "      <td>1</td>\n",
       "      <td>1</td>\n",
       "    </tr>\n",
       "    <tr>\n",
       "      <th>2406</th>\n",
       "      <td>2022-02-28</td>\n",
       "      <td>0</td>\n",
       "      <td>0</td>\n",
       "    </tr>\n",
       "    <tr>\n",
       "      <th>2407</th>\n",
       "      <td>2022-03-02</td>\n",
       "      <td>1</td>\n",
       "      <td>1</td>\n",
       "    </tr>\n",
       "    <tr>\n",
       "      <th>2408</th>\n",
       "      <td>2022-03-03</td>\n",
       "      <td>0</td>\n",
       "      <td>0</td>\n",
       "    </tr>\n",
       "    <tr>\n",
       "      <th>2409</th>\n",
       "      <td>2022-03-04</td>\n",
       "      <td>0</td>\n",
       "      <td>0</td>\n",
       "    </tr>\n",
       "  </tbody>\n",
       "</table>\n",
       "</div>"
      ],
      "text/plain": [
       "            date  predict  truth\n",
       "2400  2022-02-17        0      0\n",
       "2401  2022-02-21        0      0\n",
       "2402  2022-02-22        1      1\n",
       "2403  2022-02-23        0      0\n",
       "2404  2022-02-24        1      1\n",
       "2405  2022-02-25        1      1\n",
       "2406  2022-02-28        0      0\n",
       "2407  2022-03-02        1      1\n",
       "2408  2022-03-03        0      0\n",
       "2409  2022-03-04        0      0"
      ]
     },
     "execution_count": 130,
     "metadata": {},
     "output_type": "execute_result"
    }
   ],
   "source": [
    "predict_df.tail(10)"
   ]
  },
  {
   "cell_type": "code",
   "execution_count": null,
   "id": "4516b1b4-386c-4b93-b16b-d2bb20143801",
   "metadata": {},
   "outputs": [],
   "source": []
  },
  {
   "cell_type": "markdown",
   "id": "e6de30fc-82b3-47e4-9893-873c6ab3cb60",
   "metadata": {},
   "source": [
    "* 기간별 performance"
   ]
  },
  {
   "cell_type": "code",
   "execution_count": 219,
   "id": "949c8189-68b0-447d-9e15-5c3c205e704a",
   "metadata": {},
   "outputs": [],
   "source": [
    "# 이 기간이 결측치가 가장 없었나?\n",
    "start_date = '2022-01-01'\n",
    "end_date = '2022-03-04'"
   ]
  },
  {
   "cell_type": "code",
   "execution_count": 220,
   "id": "d308b4fd-0f70-4404-92f2-58dff460903a",
   "metadata": {},
   "outputs": [],
   "source": [
    "temp_truth = predict_df.loc[(predict_df.date >= start_date) & (predict_df.date <= end_date)].truth\n",
    "temp_predict = predict_df.loc[(predict_df.date >= start_date) & (predict_df.date <= end_date)].predict"
   ]
  },
  {
   "cell_type": "code",
   "execution_count": 221,
   "id": "8d6d36a6-7ecf-453a-a98c-b8e57a3fcafe",
   "metadata": {},
   "outputs": [
    {
     "name": "stdout",
     "output_type": "stream",
     "text": [
      "              precision    recall  f1-score   support\n",
      "\n",
      "           0     0.8000    0.8696    0.8333        23\n",
      "           1     0.7857    0.6875    0.7333        16\n",
      "\n",
      "    accuracy                         0.7949        39\n",
      "   macro avg     0.7929    0.7785    0.7833        39\n",
      "weighted avg     0.7941    0.7949    0.7923        39\n",
      "\n"
     ]
    }
   ],
   "source": [
    "print(classification_report(temp_truth, temp_predict, digits = 4))"
   ]
  },
  {
   "cell_type": "code",
   "execution_count": 222,
   "id": "75e1c8d1-11ce-4a60-afcd-01eb1ac40bad",
   "metadata": {},
   "outputs": [
    {
     "name": "stdout",
     "output_type": "stream",
     "text": [
      "Counter({0: 23, 1: 16}) \n",
      " Counter({0: 25, 1: 14})\n"
     ]
    }
   ],
   "source": [
    "print(Counter(temp_truth), \"\\n\", Counter(temp_predict))"
   ]
  },
  {
   "cell_type": "code",
   "execution_count": 223,
   "id": "06dcc917-649b-4188-b8ae-b1cf1681a349",
   "metadata": {},
   "outputs": [],
   "source": [
    "start_date = '2021-10-01'\n",
    "end_date = '2022-01-01'"
   ]
  },
  {
   "cell_type": "code",
   "execution_count": 224,
   "id": "62407464-be3e-4a56-afb5-39be06150213",
   "metadata": {},
   "outputs": [],
   "source": [
    "temp_truth = predict_df.loc[(predict_df.date >= start_date) & (predict_df.date <= end_date)].truth\n",
    "temp_predict = predict_df.loc[(predict_df.date >= start_date) & (predict_df.date <= end_date)].predict"
   ]
  },
  {
   "cell_type": "code",
   "execution_count": 225,
   "id": "f1eb592b-4e5a-4c98-b422-f0e0077ebb94",
   "metadata": {},
   "outputs": [
    {
     "name": "stdout",
     "output_type": "stream",
     "text": [
      "              precision    recall  f1-score   support\n",
      "\n",
      "           0     0.5714    0.5517    0.5614        29\n",
      "           1     0.5938    0.6129    0.6032        31\n",
      "\n",
      "    accuracy                         0.5833        60\n",
      "   macro avg     0.5826    0.5823    0.5823        60\n",
      "weighted avg     0.5830    0.5833    0.5830        60\n",
      "\n"
     ]
    }
   ],
   "source": [
    "print(classification_report(temp_truth, temp_predict, digits = 4))"
   ]
  },
  {
   "cell_type": "code",
   "execution_count": 226,
   "id": "e52f72d3-76bd-4bd7-ac36-77f5c50e387a",
   "metadata": {},
   "outputs": [
    {
     "name": "stdout",
     "output_type": "stream",
     "text": [
      "Counter({1: 31, 0: 29}) \n",
      " Counter({1: 32, 0: 28})\n"
     ]
    }
   ],
   "source": [
    "print(Counter(temp_truth), \"\\n\", Counter(temp_predict))"
   ]
  },
  {
   "cell_type": "code",
   "execution_count": 227,
   "id": "2727ba6d-86ac-4858-b1fd-cfdf1f31fcae",
   "metadata": {},
   "outputs": [],
   "source": [
    "start_date = '2021-07-01'\n",
    "end_date = '2021-10-01'"
   ]
  },
  {
   "cell_type": "code",
   "execution_count": 228,
   "id": "acefaa92-dba2-4feb-806d-0f6a40a4177b",
   "metadata": {},
   "outputs": [],
   "source": [
    "temp_truth = predict_df.loc[(predict_df.date >= start_date) & (predict_df.date <= end_date)].truth\n",
    "temp_predict = predict_df.loc[(predict_df.date >= start_date) & (predict_df.date <= end_date)].predict"
   ]
  },
  {
   "cell_type": "code",
   "execution_count": 229,
   "id": "cc4152e4-c55c-48f1-98f6-c4e555ba2fba",
   "metadata": {},
   "outputs": [
    {
     "name": "stdout",
     "output_type": "stream",
     "text": [
      "              precision    recall  f1-score   support\n",
      "\n",
      "           0     0.6786    0.5758    0.6230        33\n",
      "           1     0.5758    0.6786    0.6230        28\n",
      "\n",
      "    accuracy                         0.6230        61\n",
      "   macro avg     0.6272    0.6272    0.6230        61\n",
      "weighted avg     0.6314    0.6230    0.6230        61\n",
      "\n"
     ]
    }
   ],
   "source": [
    "print(classification_report(temp_truth, temp_predict, digits = 4))"
   ]
  },
  {
   "cell_type": "code",
   "execution_count": 230,
   "id": "82d564d6-a4e7-4cc5-9b3c-0ba6804f426a",
   "metadata": {},
   "outputs": [
    {
     "name": "stdout",
     "output_type": "stream",
     "text": [
      "Counter({0: 33, 1: 28}) \n",
      " Counter({1: 33, 0: 28})\n"
     ]
    }
   ],
   "source": [
    "print(Counter(temp_truth), \"\\n\", Counter(temp_predict))"
   ]
  },
  {
   "cell_type": "code",
   "execution_count": 231,
   "id": "02f8bde6-d420-4d1c-a06d-b691a040fff9",
   "metadata": {},
   "outputs": [],
   "source": [
    "start_date = '2021-04-01'\n",
    "end_date = '2021-07-01'"
   ]
  },
  {
   "cell_type": "code",
   "execution_count": 232,
   "id": "e94c3747-8b23-4c43-8e60-3997a2bd6bb6",
   "metadata": {},
   "outputs": [],
   "source": [
    "temp_truth = predict_df.loc[(predict_df.date >= start_date) & (predict_df.date <= end_date)].truth\n",
    "temp_predict = predict_df.loc[(predict_df.date >= start_date) & (predict_df.date <= end_date)].predict"
   ]
  },
  {
   "cell_type": "code",
   "execution_count": 233,
   "id": "c3e376e5-63b3-4ca2-ad28-97db7cb5bbf3",
   "metadata": {},
   "outputs": [
    {
     "name": "stdout",
     "output_type": "stream",
     "text": [
      "              precision    recall  f1-score   support\n",
      "\n",
      "           0     0.4000    0.4000    0.4000        25\n",
      "           1     0.5588    0.5588    0.5588        34\n",
      "\n",
      "    accuracy                         0.4915        59\n",
      "   macro avg     0.4794    0.4794    0.4794        59\n",
      "weighted avg     0.4915    0.4915    0.4915        59\n",
      "\n"
     ]
    }
   ],
   "source": [
    "print(classification_report(temp_truth, temp_predict, digits = 4))"
   ]
  },
  {
   "cell_type": "code",
   "execution_count": 234,
   "id": "4e499988-478a-47c0-b74e-80f7b34590a3",
   "metadata": {},
   "outputs": [
    {
     "name": "stdout",
     "output_type": "stream",
     "text": [
      "Counter({1: 34, 0: 25}) \n",
      " Counter({1: 34, 0: 25})\n"
     ]
    }
   ],
   "source": [
    "print(Counter(temp_truth), \"\\n\", Counter(temp_predict))"
   ]
  },
  {
   "cell_type": "code",
   "execution_count": 235,
   "id": "272341f0-5630-4473-9cd5-93bea294a460",
   "metadata": {},
   "outputs": [],
   "source": [
    "start_date = '2021-01-01'\n",
    "end_date = '2021-04-01'"
   ]
  },
  {
   "cell_type": "code",
   "execution_count": 236,
   "id": "47790fc1-f870-4b5b-9114-24268a44367e",
   "metadata": {},
   "outputs": [],
   "source": [
    "temp_truth = predict_df.loc[(predict_df.date >= start_date) & (predict_df.date <= end_date)].truth\n",
    "temp_predict = predict_df.loc[(predict_df.date >= start_date) & (predict_df.date <= end_date)].predict"
   ]
  },
  {
   "cell_type": "code",
   "execution_count": 237,
   "id": "69073768-6246-4706-b21d-b124ba3ae324",
   "metadata": {},
   "outputs": [
    {
     "name": "stdout",
     "output_type": "stream",
     "text": [
      "              precision    recall  f1-score   support\n",
      "\n",
      "           0     0.6364    0.6562    0.6462        32\n",
      "           1     0.5769    0.5556    0.5660        27\n",
      "\n",
      "    accuracy                         0.6102        59\n",
      "   macro avg     0.6066    0.6059    0.6061        59\n",
      "weighted avg     0.6092    0.6102    0.6095        59\n",
      "\n"
     ]
    }
   ],
   "source": [
    "print(classification_report(temp_truth, temp_predict, digits = 4))"
   ]
  },
  {
   "cell_type": "code",
   "execution_count": 238,
   "id": "4b12873c-7fda-4df4-89c5-0bc7c091be6a",
   "metadata": {},
   "outputs": [
    {
     "name": "stdout",
     "output_type": "stream",
     "text": [
      "Counter({0: 32, 1: 27}) \n",
      " Counter({0: 33, 1: 26})\n"
     ]
    }
   ],
   "source": [
    "print(Counter(temp_truth), \"\\n\", Counter(temp_predict))"
   ]
  },
  {
   "cell_type": "code",
   "execution_count": null,
   "id": "16aececd-94ba-49a8-af39-90b05125d83d",
   "metadata": {},
   "outputs": [],
   "source": []
  },
  {
   "cell_type": "markdown",
   "id": "1d509135-2cfd-48c0-b8b0-2a1173511cd3",
   "metadata": {},
   "source": [
    "* plotting"
   ]
  },
  {
   "cell_type": "code",
   "execution_count": 79,
   "id": "959bf0e4-2f2c-46e4-b9cb-8f9485a3429c",
   "metadata": {},
   "outputs": [
    {
     "name": "stderr",
     "output_type": "stream",
     "text": [
      "C:\\Users\\PC0\\anaconda3\\lib\\site-packages\\ipykernel\\ipkernel.py:287: DeprecationWarning: `should_run_async` will not call `transform_cell` automatically in the future. Please pass the result to `transformed_cell` argument and any exception that happen during thetransform in `preprocessing_exc_tuple` in IPython 7.17 and above.\n",
      "  and should_run_async(code)\n"
     ]
    }
   ],
   "source": [
    "from copy import deepcopy"
   ]
  },
  {
   "cell_type": "code",
   "execution_count": 135,
   "id": "0d35e7ab-effc-4042-b8ee-b2be5ae8c430",
   "metadata": {},
   "outputs": [],
   "source": [
    "plot_df = deepcopy(predict_df)"
   ]
  },
  {
   "cell_type": "code",
   "execution_count": 136,
   "id": "23d78db9-de6c-406c-a2a5-830072945789",
   "metadata": {},
   "outputs": [],
   "source": [
    "plot_df.index = plot_df.date"
   ]
  },
  {
   "cell_type": "code",
   "execution_count": 137,
   "id": "416349f2-0f37-430f-950f-a9fdcf73b1f4",
   "metadata": {},
   "outputs": [],
   "source": [
    "del plot_df['date']"
   ]
  },
  {
   "cell_type": "code",
   "execution_count": 81,
   "id": "160fd0ac-4e53-47f9-92ff-87b5cb59552a",
   "metadata": {},
   "outputs": [],
   "source": [
    "def function_x(idx, vector):\n",
    "    vector = np.where(np.array(vector) == 0, -1, 1)\n",
    "    return np.sum(vector[:idx])"
   ]
  },
  {
   "cell_type": "code",
   "execution_count": 82,
   "id": "593be6cd-cd7b-4744-8921-1e02064c4f8e",
   "metadata": {
    "tags": []
   },
   "outputs": [],
   "source": [
    "predict_2 = [function_x(idx, predict_df.predict) for idx in range(len(predict_df.predict))]\n",
    "actual_2 = [function_x(idx, predict_df.truth) for idx in range(len(predict_df.predict))]"
   ]
  },
  {
   "cell_type": "code",
   "execution_count": 83,
   "id": "823305af-e1c8-44ed-ae1a-cfaa0d4eda8c",
   "metadata": {},
   "outputs": [],
   "source": [
    "plot_df['predict_2'] = predict_2\n",
    "plot_df['actual_2'] = actual_2"
   ]
  },
  {
   "cell_type": "code",
   "execution_count": 84,
   "id": "1f9e3e2b-5814-483b-89b7-e3da51b770d4",
   "metadata": {},
   "outputs": [],
   "source": [
    "del plot_df['predict'], plot_df['truth']"
   ]
  },
  {
   "cell_type": "code",
   "execution_count": 85,
   "id": "a956c1a0-6607-412b-8653-3ed47fce6e8b",
   "metadata": {},
   "outputs": [
    {
     "data": {
      "text/plain": [
       "<AxesSubplot:xlabel='date'>"
      ]
     },
     "execution_count": 85,
     "metadata": {},
     "output_type": "execute_result"
    },
    {
     "data": {
      "image/png": "[encoded data removed]",
      "text/plain": [
       "<Figure size 432x288 with 1 Axes>"
      ]
     },
     "metadata": {
      "needs_background": "light"
     },
     "output_type": "display_data"
    }
   ],
   "source": [
    "plot_df.plot()"
   ]
  },
  {
   "cell_type": "code",
   "execution_count": 86,
   "id": "6023f04c-b4ea-4d6e-9071-2b7d715fe7e6",
   "metadata": {},
   "outputs": [
    {
     "name": "stderr",
     "output_type": "stream",
     "text": [
      "C:\\Users\\PC0\\anaconda3\\lib\\site-packages\\ipykernel\\ipkernel.py:287: DeprecationWarning: `should_run_async` will not call `transform_cell` automatically in the future. Please pass the result to `transformed_cell` argument and any exception that happen during thetransform in `preprocessing_exc_tuple` in IPython 7.17 and above.\n",
      "  and should_run_async(code)\n"
     ]
    }
   ],
   "source": [
    "from sklearn.metrics import classification_report"
   ]
  },
  {
   "cell_type": "code",
   "execution_count": 88,
   "id": "91339cd7-21aa-45ee-b5f8-194091bfc278",
   "metadata": {},
   "outputs": [
    {
     "name": "stdout",
     "output_type": "stream",
     "text": [
      "              precision    recall  f1-score   support\n",
      "\n",
      "           0       0.60      0.55      0.57      1088\n",
      "           1       0.63      0.67      0.65      1221\n",
      "\n",
      "    accuracy                           0.61      2309\n",
      "   macro avg       0.61      0.61      0.61      2309\n",
      "weighted avg       0.61      0.61      0.61      2309\n",
      "\n"
     ]
    }
   ],
   "source": [
    "print(classification_report(whole_truth, whole_predict))"
   ]
  },
  {
   "cell_type": "code",
   "execution_count": 89,
   "id": "492e1e54-8693-40c5-b6cd-ee9f87328d56",
   "metadata": {},
   "outputs": [
    {
     "name": "stderr",
     "output_type": "stream",
     "text": [
      "C:\\Users\\PC0\\anaconda3\\lib\\site-packages\\ipykernel\\ipkernel.py:287: DeprecationWarning: `should_run_async` will not call `transform_cell` automatically in the future. Please pass the result to `transformed_cell` argument and any exception that happen during thetransform in `preprocessing_exc_tuple` in IPython 7.17 and above.\n",
      "  and should_run_async(code)\n"
     ]
    },
    {
     "data": {
      "text/plain": [
       "Counter({1: 1315, 0: 994})"
      ]
     },
     "execution_count": 89,
     "metadata": {},
     "output_type": "execute_result"
    }
   ],
   "source": [
    "Counter(whole_predict)"
   ]
  },
  {
   "cell_type": "code",
   "execution_count": 90,
   "id": "b868854f-7bb8-412b-8ea4-7395338ae805",
   "metadata": {},
   "outputs": [
    {
     "data": {
      "text/plain": [
       "Counter({0: 1088, 1: 1221})"
      ]
     },
     "execution_count": 90,
     "metadata": {},
     "output_type": "execute_result"
    }
   ],
   "source": [
    "Counter(whole_truth)"
   ]
  },
  {
   "cell_type": "code",
   "execution_count": null,
   "id": "c6a790c6-67c0-4065-a88b-b39fef340655",
   "metadata": {},
   "outputs": [],
   "source": []
  },
  {
   "cell_type": "markdown",
   "id": "5db736c0-16cd-4a48-9c36-4c1c0a1ee56f",
   "metadata": {},
   "source": [
    "* label별 성능"
   ]
  },
  {
   "cell_type": "code",
   "execution_count": 106,
   "id": "d60700d7-47e3-4862-ac56-f87672d466b3",
   "metadata": {},
   "outputs": [],
   "source": [
    "zero_idx = np.where(np.array(whole_truth) == 0)[0]\n",
    "one_idx = np.where(np.array(whole_truth) != 0)[0]"
   ]
  },
  {
   "cell_type": "code",
   "execution_count": 105,
   "id": "b7a84605-c818-4ddf-adc5-21230fed8e6c",
   "metadata": {},
   "outputs": [
    {
     "data": {
      "text/plain": [
       "0.5477941176470589"
      ]
     },
     "execution_count": 105,
     "metadata": {},
     "output_type": "execute_result"
    }
   ],
   "source": [
    "1 - np.mean(np.array(whole_predict)[zero_idx])"
   ]
  },
  {
   "cell_type": "code",
   "execution_count": 107,
   "id": "8014e1cf-399f-4e74-9d0a-276817342b9a",
   "metadata": {},
   "outputs": [
    {
     "data": {
      "text/plain": [
       "0.674037674037674"
      ]
     },
     "execution_count": 107,
     "metadata": {},
     "output_type": "execute_result"
    }
   ],
   "source": [
    "np.mean(np.array(whole_predict)[one_idx])"
   ]
  },
  {
   "cell_type": "code",
   "execution_count": 111,
   "id": "b76536ef-40c5-4bd2-a80e-f52238a8b74e",
   "metadata": {},
   "outputs": [
    {
     "data": {
      "text/plain": [
       "Counter({0: 1088, 1: 1221})"
      ]
     },
     "execution_count": 111,
     "metadata": {},
     "output_type": "execute_result"
    }
   ],
   "source": [
    "Counter(whole_truth)"
   ]
  },
  {
   "cell_type": "code",
   "execution_count": 208,
   "id": "d4bb0a33-02a0-4153-ab62-9770cf6fbd38",
   "metadata": {},
   "outputs": [
    {
     "data": {
      "text/plain": [
       "Counter({1: 1315, 0: 994})"
      ]
     },
     "execution_count": 208,
     "metadata": {},
     "output_type": "execute_result"
    }
   ],
   "source": [
    "Counter(whole_predict)"
   ]
  },
  {
   "cell_type": "code",
   "execution_count": 210,
   "id": "d6187d81-bda6-4928-8c2c-6b248662c4c8",
   "metadata": {},
   "outputs": [
    {
     "data": {
      "text/plain": [
       "0.43048938934603725"
      ]
     },
     "execution_count": 210,
     "metadata": {},
     "output_type": "execute_result"
    }
   ],
   "source": [
    "994/(1315+994)"
   ]
  },
  {
   "cell_type": "code",
   "execution_count": null,
   "id": "10fec4c9-2450-4210-8b68-22cd15e49803",
   "metadata": {},
   "outputs": [],
   "source": []
  }
 ],
 "metadata": {
  "kernelspec": {
   "display_name": "Python 3",
   "language": "python",
   "name": "python3"
  },
  "language_info": {
   "codemirror_mode": {
    "name": "ipython",
    "version": 3
   },
   "file_extension": ".py",
   "mimetype": "text/x-python",
   "name": "python",
   "nbconvert_exporter": "python",
   "pygments_lexer": "ipython3",
   "version": "3.8.8"
  }
 },
 "nbformat": 4,
 "nbformat_minor": 5
}
