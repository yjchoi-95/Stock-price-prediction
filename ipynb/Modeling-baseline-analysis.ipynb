{
 "cells": [
  {
   "cell_type": "markdown",
   "id": "e3cd4ed4-b082-4a42-80e0-479f8ed18fc7",
   "metadata": {},
   "source": [
    "## Import"
   ]
  },
  {
   "cell_type": "code",
   "execution_count": 1,
   "id": "002fafeb-2134-4832-9a91-80c75abaedc5",
   "metadata": {},
   "outputs": [],
   "source": [
    "from catboost import CatBoostClassifier\n",
    "from xgboost import XGBClassifier\n",
    "from lightgbm import LGBMClassifier\n",
    "from ngboost import NGBClassifier\n",
    "from collections import Counter\n",
    "from tqdm import tqdm\n",
    "from sklearn.metrics import accuracy_score, f1_score, precision_score, recall_score, cohen_kappa_score"
   ]
  },
  {
   "cell_type": "code",
   "execution_count": 2,
   "id": "313122bf-3ca9-4921-8955-0e7194c043b3",
   "metadata": {},
   "outputs": [],
   "source": [
    "import pandas as pd\n",
    "import numpy as np\n",
    "import warnings\n",
    "\n",
    "warnings.filterwarnings(action='default')"
   ]
  },
  {
   "cell_type": "code",
   "execution_count": null,
   "id": "74c0fd15-2570-4c15-aa4c-1b0831a7ae38",
   "metadata": {},
   "outputs": [],
   "source": []
  },
  {
   "cell_type": "markdown",
   "id": "56baa1ab-aa3f-46b9-a50b-a32e92265ae2",
   "metadata": {},
   "source": [
    "## Load"
   ]
  },
  {
   "cell_type": "code",
   "execution_count": 3,
   "id": "11b296da-ac3f-492d-8e99-db74e9b06a10",
   "metadata": {},
   "outputs": [
    {
     "name": "stderr",
     "output_type": "stream",
     "text": [
      "C:\\Users\\PC0\\anaconda3\\lib\\site-packages\\ipykernel\\ipkernel.py:287: DeprecationWarning: `should_run_async` will not call `transform_cell` automatically in the future. Please pass the result to `transformed_cell` argument and any exception that happen during thetransform in `preprocessing_exc_tuple` in IPython 7.17 and above.\n",
      "  and should_run_async(code)\n"
     ]
    }
   ],
   "source": [
    "out_data_path = 'C:\\\\Users\\\\PC0\\\\Documents\\\\datasets\\\\stock_price\\\\'\n",
    "data_path = 'C:\\\\Users\\\\PC0\\\\Documents\\\\GitHub\\\\Stock-price-prediction\\\\datasets\\\\'"
   ]
  },
  {
   "cell_type": "code",
   "execution_count": 4,
   "id": "2b97d7e1-8ba9-4366-81fe-b6937f2bd721",
   "metadata": {},
   "outputs": [],
   "source": [
    "stock_df = pd.read_csv(data_path + \"stock_df_01.csv\")"
   ]
  },
  {
   "cell_type": "code",
   "execution_count": 5,
   "id": "d2750b18-3ebd-46dc-a45c-1cb62aa5ae65",
   "metadata": {},
   "outputs": [],
   "source": [
    "n_target = np.array(list(stock_df.target))\n",
    "c_target = np.array(list(stock_df.c_target))"
   ]
  },
  {
   "cell_type": "code",
   "execution_count": 6,
   "id": "bc0c38f4-ace7-488b-b0b8-83db09ae206a",
   "metadata": {},
   "outputs": [],
   "source": [
    "del stock_df['target']\n",
    "del stock_df['c_target']"
   ]
  },
  {
   "cell_type": "code",
   "execution_count": 7,
   "id": "14e0ccf2-bed0-490f-af25-9d162e9a4558",
   "metadata": {},
   "outputs": [
    {
     "data": {
      "text/plain": [
       "(2410, 372)"
      ]
     },
     "execution_count": 7,
     "metadata": {},
     "output_type": "execute_result"
    }
   ],
   "source": [
    "stock_df.shape"
   ]
  },
  {
   "cell_type": "code",
   "execution_count": 8,
   "id": "868f8d96-323c-46c0-8abb-8136d64a30db",
   "metadata": {},
   "outputs": [],
   "source": [
    "var_cols = [x for x in stock_df.columns if \"var\" in x]"
   ]
  },
  {
   "cell_type": "code",
   "execution_count": 9,
   "id": "380b076f-8051-4bd2-b8f8-9d1987180958",
   "metadata": {},
   "outputs": [
    {
     "data": {
      "text/html": [
       "<div>\n",
       "<style scoped>\n",
       "    .dataframe tbody tr th:only-of-type {\n",
       "        vertical-align: middle;\n",
       "    }\n",
       "\n",
       "    .dataframe tbody tr th {\n",
       "        vertical-align: top;\n",
       "    }\n",
       "\n",
       "    .dataframe thead th {\n",
       "        text-align: right;\n",
       "    }\n",
       "</style>\n",
       "<table border=\"1\" class=\"dataframe\">\n",
       "  <thead>\n",
       "    <tr style=\"text-align: right;\">\n",
       "      <th></th>\n",
       "      <th>date</th>\n",
       "      <th>kosdaq_close</th>\n",
       "      <th>kosdaq_vol</th>\n",
       "      <th>kosdaq_var</th>\n",
       "      <th>us-30_close</th>\n",
       "      <th>us-30_vol</th>\n",
       "      <th>us-30_var</th>\n",
       "      <th>us-spx-500_close</th>\n",
       "      <th>us-spx-500_var</th>\n",
       "      <th>nasdaq-composite_close</th>\n",
       "      <th>...</th>\n",
       "      <th>영국_아연_close</th>\n",
       "      <th>영국_아연_vol</th>\n",
       "      <th>영국_아연_var</th>\n",
       "      <th>은_close</th>\n",
       "      <th>은_vol</th>\n",
       "      <th>은_var</th>\n",
       "      <th>영국_주석_close</th>\n",
       "      <th>영국_주석_var</th>\n",
       "      <th>미국_팔라듐_close</th>\n",
       "      <th>미국_팔라듐_var</th>\n",
       "    </tr>\n",
       "  </thead>\n",
       "  <tbody>\n",
       "    <tr>\n",
       "      <th>0</th>\n",
       "      <td>2012-01-03</td>\n",
       "      <td>513.83</td>\n",
       "      <td>590990.0</td>\n",
       "      <td>1.39</td>\n",
       "      <td>12397.38</td>\n",
       "      <td>152560000.0</td>\n",
       "      <td>1.47</td>\n",
       "      <td>1277.06</td>\n",
       "      <td>1.55</td>\n",
       "      <td>2648.72</td>\n",
       "      <td>...</td>\n",
       "      <td>1864.25</td>\n",
       "      <td>9410.0</td>\n",
       "      <td>1.83</td>\n",
       "      <td>29.533</td>\n",
       "      <td>140.0</td>\n",
       "      <td>4.88</td>\n",
       "      <td>19949.0</td>\n",
       "      <td>4.13</td>\n",
       "      <td>664.8</td>\n",
       "      <td>1.42</td>\n",
       "    </tr>\n",
       "    <tr>\n",
       "      <th>1</th>\n",
       "      <td>2012-01-04</td>\n",
       "      <td>516.30</td>\n",
       "      <td>652090.0</td>\n",
       "      <td>0.48</td>\n",
       "      <td>12418.42</td>\n",
       "      <td>145130000.0</td>\n",
       "      <td>0.17</td>\n",
       "      <td>1277.30</td>\n",
       "      <td>0.02</td>\n",
       "      <td>2648.36</td>\n",
       "      <td>...</td>\n",
       "      <td>1856.50</td>\n",
       "      <td>8430.0</td>\n",
       "      <td>-0.42</td>\n",
       "      <td>29.063</td>\n",
       "      <td>70.0</td>\n",
       "      <td>-1.59</td>\n",
       "      <td>19555.0</td>\n",
       "      <td>-1.98</td>\n",
       "      <td>649.9</td>\n",
       "      <td>-2.24</td>\n",
       "    </tr>\n",
       "    <tr>\n",
       "      <th>2</th>\n",
       "      <td>2012-01-05</td>\n",
       "      <td>521.96</td>\n",
       "      <td>654300.0</td>\n",
       "      <td>1.10</td>\n",
       "      <td>12415.70</td>\n",
       "      <td>158440000.0</td>\n",
       "      <td>-0.02</td>\n",
       "      <td>1281.06</td>\n",
       "      <td>0.29</td>\n",
       "      <td>2669.86</td>\n",
       "      <td>...</td>\n",
       "      <td>1821.25</td>\n",
       "      <td>7720.0</td>\n",
       "      <td>-1.90</td>\n",
       "      <td>29.265</td>\n",
       "      <td>30.0</td>\n",
       "      <td>0.70</td>\n",
       "      <td>19814.0</td>\n",
       "      <td>1.32</td>\n",
       "      <td>640.4</td>\n",
       "      <td>-1.46</td>\n",
       "    </tr>\n",
       "    <tr>\n",
       "      <th>3</th>\n",
       "      <td>2012-01-06</td>\n",
       "      <td>518.94</td>\n",
       "      <td>626020.0</td>\n",
       "      <td>-0.58</td>\n",
       "      <td>12359.92</td>\n",
       "      <td>131120000.0</td>\n",
       "      <td>-0.45</td>\n",
       "      <td>1277.81</td>\n",
       "      <td>-0.25</td>\n",
       "      <td>2674.22</td>\n",
       "      <td>...</td>\n",
       "      <td>1840.75</td>\n",
       "      <td>7120.0</td>\n",
       "      <td>1.07</td>\n",
       "      <td>28.653</td>\n",
       "      <td>80.0</td>\n",
       "      <td>-2.09</td>\n",
       "      <td>19807.0</td>\n",
       "      <td>-0.04</td>\n",
       "      <td>616.1</td>\n",
       "      <td>-3.79</td>\n",
       "    </tr>\n",
       "    <tr>\n",
       "      <th>4</th>\n",
       "      <td>2012-01-09</td>\n",
       "      <td>520.28</td>\n",
       "      <td>617370.0</td>\n",
       "      <td>0.26</td>\n",
       "      <td>12392.69</td>\n",
       "      <td>122200000.0</td>\n",
       "      <td>0.27</td>\n",
       "      <td>1280.70</td>\n",
       "      <td>0.23</td>\n",
       "      <td>2676.56</td>\n",
       "      <td>...</td>\n",
       "      <td>1870.25</td>\n",
       "      <td>9620.0</td>\n",
       "      <td>1.60</td>\n",
       "      <td>28.749</td>\n",
       "      <td>60.0</td>\n",
       "      <td>-0.34</td>\n",
       "      <td>19746.0</td>\n",
       "      <td>-0.31</td>\n",
       "      <td>620.0</td>\n",
       "      <td>0.63</td>\n",
       "    </tr>\n",
       "  </tbody>\n",
       "</table>\n",
       "<p>5 rows × 372 columns</p>\n",
       "</div>"
      ],
      "text/plain": [
       "         date  kosdaq_close  kosdaq_vol  kosdaq_var  us-30_close    us-30_vol  \\\n",
       "0  2012-01-03        513.83    590990.0        1.39     12397.38  152560000.0   \n",
       "1  2012-01-04        516.30    652090.0        0.48     12418.42  145130000.0   \n",
       "2  2012-01-05        521.96    654300.0        1.10     12415.70  158440000.0   \n",
       "3  2012-01-06        518.94    626020.0       -0.58     12359.92  131120000.0   \n",
       "4  2012-01-09        520.28    617370.0        0.26     12392.69  122200000.0   \n",
       "\n",
       "   us-30_var  us-spx-500_close  us-spx-500_var  nasdaq-composite_close  ...  \\\n",
       "0       1.47           1277.06            1.55                 2648.72  ...   \n",
       "1       0.17           1277.30            0.02                 2648.36  ...   \n",
       "2      -0.02           1281.06            0.29                 2669.86  ...   \n",
       "3      -0.45           1277.81           -0.25                 2674.22  ...   \n",
       "4       0.27           1280.70            0.23                 2676.56  ...   \n",
       "\n",
       "   영국_아연_close  영국_아연_vol  영국_아연_var  은_close  은_vol  은_var  영국_주석_close  \\\n",
       "0      1864.25     9410.0       1.83   29.533  140.0   4.88      19949.0   \n",
       "1      1856.50     8430.0      -0.42   29.063   70.0  -1.59      19555.0   \n",
       "2      1821.25     7720.0      -1.90   29.265   30.0   0.70      19814.0   \n",
       "3      1840.75     7120.0       1.07   28.653   80.0  -2.09      19807.0   \n",
       "4      1870.25     9620.0       1.60   28.749   60.0  -0.34      19746.0   \n",
       "\n",
       "   영국_주석_var  미국_팔라듐_close  미국_팔라듐_var  \n",
       "0       4.13         664.8        1.42  \n",
       "1      -1.98         649.9       -2.24  \n",
       "2       1.32         640.4       -1.46  \n",
       "3      -0.04         616.1       -3.79  \n",
       "4      -0.31         620.0        0.63  \n",
       "\n",
       "[5 rows x 372 columns]"
      ]
     },
     "execution_count": 9,
     "metadata": {},
     "output_type": "execute_result"
    }
   ],
   "source": [
    "stock_df.head()"
   ]
  },
  {
   "cell_type": "code",
   "execution_count": null,
   "id": "31930fea-1368-4c6a-b0b3-76db8592f652",
   "metadata": {},
   "outputs": [],
   "source": []
  },
  {
   "cell_type": "markdown",
   "id": "62d7d0bd-c11b-4dfc-adf0-a892b57c0f28",
   "metadata": {},
   "source": [
    "## Modeling"
   ]
  },
  {
   "cell_type": "markdown",
   "id": "e94a5436-4a24-4f56-b468-18ac1de27712",
   "metadata": {
    "tags": []
   },
   "source": [
    "* label portion 탐색"
   ]
  },
  {
   "cell_type": "code",
   "execution_count": 11,
   "id": "64304947-89bf-44cf-ad68-dec4e43b160e",
   "metadata": {},
   "outputs": [
    {
     "data": {
      "text/plain": [
       "Counter({'Down': 1136, 'Up': 1274})"
      ]
     },
     "execution_count": 11,
     "metadata": {},
     "output_type": "execute_result"
    }
   ],
   "source": [
    "Counter(c_target)"
   ]
  },
  {
   "cell_type": "code",
   "execution_count": 12,
   "id": "05746b30-7fbc-42c4-b72b-e396e15ee49a",
   "metadata": {},
   "outputs": [
    {
     "data": {
      "text/plain": [
       "0.5286307053941909"
      ]
     },
     "execution_count": 12,
     "metadata": {},
     "output_type": "execute_result"
    }
   ],
   "source": [
    "1274/(1136+1274)"
   ]
  },
  {
   "cell_type": "code",
   "execution_count": 16,
   "id": "c82239f6-742e-4151-8d06-72147e02ec9b",
   "metadata": {},
   "outputs": [],
   "source": [
    "temp_x = stock_df.iloc[:, 1:]"
   ]
  },
  {
   "cell_type": "code",
   "execution_count": null,
   "id": "0d8ba420-0007-49a9-b333-3731af3ae3e2",
   "metadata": {},
   "outputs": [],
   "source": []
  },
  {
   "cell_type": "markdown",
   "id": "ce6d1fd4-34d8-459c-9b97-fe18acfd1758",
   "metadata": {},
   "source": [
    "* baseline modeling - stacked sample"
   ]
  },
  {
   "cell_type": "code",
   "execution_count": 17,
   "id": "8bd07a2c-1ee8-4263-9cb3-be8e6c134663",
   "metadata": {},
   "outputs": [],
   "source": [
    "from sklearn.metrics.pairwise import cosine_similarity"
   ]
  },
  {
   "cell_type": "code",
   "execution_count": 18,
   "id": "1562e4f2-0e5e-493c-b624-d751099142b3",
   "metadata": {},
   "outputs": [],
   "source": [
    "train_volum = 100\n",
    "train_start_idx = 0\n",
    "sample_days = 5\n",
    "\n",
    "data = temp_x\n",
    "\n",
    "model_xgb = XGBClassifier()\n",
    "model_lgbm = LGBMClassifier()\n",
    "model_ngb = NGBClassifier()\n",
    "model_cat = CatBoostClassifier(verbose = False)\n",
    "\n",
    "model = model_lgbm"
   ]
  },
  {
   "cell_type": "code",
   "execution_count": 19,
   "id": "bef70b18-195f-4946-a533-0542732ceb34",
   "metadata": {},
   "outputs": [],
   "source": [
    "pred_dict = {}"
   ]
  },
  {
   "cell_type": "code",
   "execution_count": 20,
   "id": "e76a0e9e-b3be-4543-9fba-e9126f0c7830",
   "metadata": {},
   "outputs": [],
   "source": [
    "beta = 0.999"
   ]
  },
  {
   "cell_type": "code",
   "execution_count": 21,
   "id": "231c0ee1-25ae-4a34-a3be-318e51644c7d",
   "metadata": {
    "collapsed": true,
    "jupyter": {
     "outputs_hidden": true
    },
    "tags": []
   },
   "outputs": [
    {
     "name": "stderr",
     "output_type": "stream",
     "text": [
      "  0%|                                                                                         | 0/2309 [00:00<?, ?it/s]C:\\Users\\PC0\\anaconda3\\lib\\site-packages\\sklearn\\utils\\validation.py:72: DataConversionWarning: A column-vector y was passed when a 1d array was expected. Please change the shape of y to (n_samples, ), for example using ravel().\n",
      "  return f(**kwargs)\n",
      "  0%|                                                                                 | 1/2309 [00:00<04:35,  8.38it/s]"
     ]
    },
    {
     "name": "stdout",
     "output_type": "stream",
     "text": [
      "Start Fitting..\n"
     ]
    },
    {
     "name": "stderr",
     "output_type": "stream",
     "text": [
      "100%|██████████████████████████████████████████████████████████████████████████████| 2309/2309 [33:09<00:00,  1.16it/s]"
     ]
    },
    {
     "name": "stdout",
     "output_type": "stream",
     "text": [
      "Finish\n"
     ]
    },
    {
     "name": "stderr",
     "output_type": "stream",
     "text": [
      "\n"
     ]
    }
   ],
   "source": [
    "train_end_idx = train_start_idx + train_volum\n",
    "test_start_idx = train_end_idx + 1\n",
    "\n",
    "whole_predict = []\n",
    "whole_proba = []\n",
    "whole_truth = []\n",
    "whole_acc = []\n",
    "\n",
    "print(\"Start Fitting..\")\n",
    "for _ in tqdm(range(data.shape[0] - (train_volum + 1))) :\n",
    "    temp_train_x = data.loc[:train_end_idx,:]\n",
    "    temp_train_y = c_target_num.loc[:train_end_idx]\n",
    "    temp_test_x = data.loc[test_start_idx:test_start_idx,:]\n",
    "    temp_test_y = c_target_num.loc[test_start_idx]\n",
    "\n",
    "    # append sample\n",
    "    temp_train_x = temp_train_x.append(temp_train_x.loc[(train_end_idx - sample_days):])\n",
    "    temp_train_y = temp_train_y.append(temp_train_y.loc[(train_end_idx - sample_days):])\n",
    "    \n",
    "    #sim_mat = cosine_similarity(np.array(temp_train_x))\n",
    "    \n",
    "    sample_w = [beta ** x for x in range((temp_train_x.shape[0]), 0, -1)]\n",
    "    sample_w = np.array(sample_w) + 1-np.mean(sample_w)\n",
    "    \n",
    "    # fitting\n",
    "    model.fit(temp_train_x,temp_train_y, sample_weight=sample_w)\n",
    "    #model.fit(temp_train_x,temp_train_y, sample_weight=sim_mat[-1])\n",
    "    #model.fit(temp_train_x,temp_train_y)\n",
    "    \n",
    "    # predict\n",
    "    predict_value = model.predict(temp_test_x)\n",
    "    whole_proba.append(model.predict_proba(temp_test_x)[0])\n",
    "\n",
    "    # save acc\n",
    "    pred_dict[stock_df.date[test_start_idx]] = predict_value[0]\n",
    "    whole_predict.append(predict_value[0])\n",
    "    whole_truth.append(temp_test_y.iloc[0])\n",
    "\n",
    "    train_start_idx += 1\n",
    "    train_end_idx = train_start_idx + train_volum\n",
    "    test_start_idx = train_end_idx + 1\n",
    "\n",
    "print(\"Finish\")"
   ]
  },
  {
   "cell_type": "code",
   "execution_count": null,
   "id": "af45ace4-140b-4e83-bd32-514e7eab6399",
   "metadata": {},
   "outputs": [],
   "source": []
  },
  {
   "cell_type": "markdown",
   "id": "74ea3b58-c11a-45a9-9841-5aa4f345a816",
   "metadata": {},
   "source": [
    "* lightgbm performance - with sample weights 0.999 beta adjust"
   ]
  },
  {
   "cell_type": "code",
   "execution_count": 22,
   "id": "443b2399-ffa8-4bf7-a1e8-5c5074321c34",
   "metadata": {},
   "outputs": [
    {
     "data": {
      "text/plain": [
       "0.6145517540060632"
      ]
     },
     "execution_count": 22,
     "metadata": {},
     "output_type": "execute_result"
    }
   ],
   "source": [
    "accuracy_score(whole_truth, whole_predict)"
   ]
  },
  {
   "cell_type": "code",
   "execution_count": 23,
   "id": "6d4ecce5-3f8f-41ca-820d-6f47ccb31d55",
   "metadata": {},
   "outputs": [
    {
     "data": {
      "text/plain": [
       "0.6258555133079848"
      ]
     },
     "execution_count": 23,
     "metadata": {},
     "output_type": "execute_result"
    }
   ],
   "source": [
    "precision_score(whole_truth, whole_predict)"
   ]
  },
  {
   "cell_type": "code",
   "execution_count": 24,
   "id": "1396ee6e-3384-4131-aa18-019818fd8b2b",
   "metadata": {},
   "outputs": [
    {
     "data": {
      "text/plain": [
       "0.674037674037674"
      ]
     },
     "execution_count": 24,
     "metadata": {},
     "output_type": "execute_result"
    }
   ],
   "source": [
    "recall_score(whole_truth, whole_predict)"
   ]
  },
  {
   "cell_type": "code",
   "execution_count": 25,
   "id": "84e579b7-edab-49ec-9fd5-35760b8a9c71",
   "metadata": {},
   "outputs": [
    {
     "data": {
      "text/plain": [
       "0.6490536277602523"
      ]
     },
     "execution_count": 25,
     "metadata": {},
     "output_type": "execute_result"
    }
   ],
   "source": [
    "f1_score(whole_truth, whole_predict)"
   ]
  },
  {
   "cell_type": "code",
   "execution_count": 26,
   "id": "4edfbbb9-d9c5-4e08-a139-9c53d747b690",
   "metadata": {},
   "outputs": [
    {
     "name": "stderr",
     "output_type": "stream",
     "text": [
      "C:\\Users\\PC0\\anaconda3\\lib\\site-packages\\sklearn\\metrics\\_classification.py:608: DeprecationWarning: `np.int` is a deprecated alias for the builtin `int`. To silence this warning, use `int` by itself. Doing this will not modify any behavior and is safe. When replacing `np.int`, you may wish to use e.g. `np.int64` or `np.int32` to specify the precision. If you wish to review your current use, check the release note link for additional information.\n",
      "Deprecated in NumPy 1.20; for more details and guidance: https://numpy.org/devdocs/release/1.20.0-notes.html#deprecations\n",
      "  w_mat = np.ones([n_classes, n_classes], dtype=np.int)\n"
     ]
    },
    {
     "data": {
      "text/plain": [
       "0.22288055410804897"
      ]
     },
     "execution_count": 26,
     "metadata": {},
     "output_type": "execute_result"
    }
   ],
   "source": [
    "cohen_kappa_score(whole_truth, whole_predict)"
   ]
  },
  {
   "cell_type": "code",
   "execution_count": 27,
   "id": "7c3a4020-f39d-4dc2-876f-4aec7e41bf85",
   "metadata": {},
   "outputs": [],
   "source": [
    "# proba check\n",
    "\n",
    "zero_prob = [x[0] for x in whole_proba]\n",
    "one_prob = [x[1] for x in whole_proba]\n",
    "\n",
    "tr = 0.9\n",
    "\n",
    "zero_idx = np.where(np.array(zero_prob) > tr)[0]\n",
    "one_idx = np.where(np.array(one_prob) > tr)[0]"
   ]
  },
  {
   "cell_type": "code",
   "execution_count": 28,
   "id": "7fe0ef40-e263-4b2c-a096-de9dbeaf2084",
   "metadata": {},
   "outputs": [
    {
     "data": {
      "text/plain": [
       "0.7320754716981133"
      ]
     },
     "execution_count": 28,
     "metadata": {},
     "output_type": "execute_result"
    }
   ],
   "source": [
    "1 - np.mean(np.array(whole_truth)[zero_idx])"
   ]
  },
  {
   "cell_type": "code",
   "execution_count": 29,
   "id": "9f87fdd3-b212-4804-b33a-fa46d9c9588f",
   "metadata": {},
   "outputs": [
    {
     "data": {
      "text/plain": [
       "0.6857142857142857"
      ]
     },
     "execution_count": 29,
     "metadata": {},
     "output_type": "execute_result"
    }
   ],
   "source": [
    "np.mean(np.array(whole_truth)[one_idx])"
   ]
  },
  {
   "cell_type": "code",
   "execution_count": null,
   "id": "f0a7d11a-bb87-4abb-9789-465ee30857f8",
   "metadata": {},
   "outputs": [],
   "source": []
  },
  {
   "cell_type": "markdown",
   "id": "09b83043-c0e5-4b5b-a28a-f801ad5728d2",
   "metadata": {},
   "source": [
    "* 기간별 accuracy"
   ]
  },
  {
   "cell_type": "code",
   "execution_count": 74,
   "id": "54c4e21b-9e73-41b3-a376-08e1277065ae",
   "metadata": {},
   "outputs": [],
   "source": [
    "predict_df = pd.DataFrame({\"date\": stock_df.tail(2309).date, \"predict\": whole_predict, \"truth\": whole_truth})"
   ]
  },
  {
   "cell_type": "code",
   "execution_count": 75,
   "id": "55761c59-5163-498b-97ad-6a87a529e929",
   "metadata": {},
   "outputs": [
    {
     "data": {
      "text/html": [
       "<div>\n",
       "<style scoped>\n",
       "    .dataframe tbody tr th:only-of-type {\n",
       "        vertical-align: middle;\n",
       "    }\n",
       "\n",
       "    .dataframe tbody tr th {\n",
       "        vertical-align: top;\n",
       "    }\n",
       "\n",
       "    .dataframe thead th {\n",
       "        text-align: right;\n",
       "    }\n",
       "</style>\n",
       "<table border=\"1\" class=\"dataframe\">\n",
       "  <thead>\n",
       "    <tr style=\"text-align: right;\">\n",
       "      <th></th>\n",
       "      <th>date</th>\n",
       "      <th>predict</th>\n",
       "      <th>truth</th>\n",
       "    </tr>\n",
       "  </thead>\n",
       "  <tbody>\n",
       "    <tr>\n",
       "      <th>101</th>\n",
       "      <td>2012-06-07</td>\n",
       "      <td>1</td>\n",
       "      <td>0</td>\n",
       "    </tr>\n",
       "    <tr>\n",
       "      <th>102</th>\n",
       "      <td>2012-06-08</td>\n",
       "      <td>1</td>\n",
       "      <td>1</td>\n",
       "    </tr>\n",
       "    <tr>\n",
       "      <th>103</th>\n",
       "      <td>2012-06-11</td>\n",
       "      <td>0</td>\n",
       "      <td>0</td>\n",
       "    </tr>\n",
       "    <tr>\n",
       "      <th>104</th>\n",
       "      <td>2012-06-12</td>\n",
       "      <td>1</td>\n",
       "      <td>1</td>\n",
       "    </tr>\n",
       "    <tr>\n",
       "      <th>105</th>\n",
       "      <td>2012-06-13</td>\n",
       "      <td>1</td>\n",
       "      <td>1</td>\n",
       "    </tr>\n",
       "  </tbody>\n",
       "</table>\n",
       "</div>"
      ],
      "text/plain": [
       "           date  predict  truth\n",
       "101  2012-06-07        1      0\n",
       "102  2012-06-08        1      1\n",
       "103  2012-06-11        0      0\n",
       "104  2012-06-12        1      1\n",
       "105  2012-06-13        1      1"
      ]
     },
     "execution_count": 75,
     "metadata": {},
     "output_type": "execute_result"
    }
   ],
   "source": [
    "predict_df.head()"
   ]
  },
  {
   "cell_type": "code",
   "execution_count": 76,
   "id": "ffcc44b7-de81-4985-bfef-4a907e87341f",
   "metadata": {},
   "outputs": [
    {
     "name": "stderr",
     "output_type": "stream",
     "text": [
      "C:\\Users\\PC0\\anaconda3\\lib\\site-packages\\ipykernel\\ipkernel.py:287: DeprecationWarning: `should_run_async` will not call `transform_cell` automatically in the future. Please pass the result to `transformed_cell` argument and any exception that happen during thetransform in `preprocessing_exc_tuple` in IPython 7.17 and above.\n",
      "  and should_run_async(code)\n"
     ]
    },
    {
     "data": {
      "text/html": [
       "<div>\n",
       "<style scoped>\n",
       "    .dataframe tbody tr th:only-of-type {\n",
       "        vertical-align: middle;\n",
       "    }\n",
       "\n",
       "    .dataframe tbody tr th {\n",
       "        vertical-align: top;\n",
       "    }\n",
       "\n",
       "    .dataframe thead th {\n",
       "        text-align: right;\n",
       "    }\n",
       "</style>\n",
       "<table border=\"1\" class=\"dataframe\">\n",
       "  <thead>\n",
       "    <tr style=\"text-align: right;\">\n",
       "      <th></th>\n",
       "      <th>date</th>\n",
       "      <th>predict</th>\n",
       "      <th>truth</th>\n",
       "    </tr>\n",
       "  </thead>\n",
       "  <tbody>\n",
       "    <tr>\n",
       "      <th>2405</th>\n",
       "      <td>2022-02-25</td>\n",
       "      <td>1</td>\n",
       "      <td>1</td>\n",
       "    </tr>\n",
       "    <tr>\n",
       "      <th>2406</th>\n",
       "      <td>2022-02-28</td>\n",
       "      <td>0</td>\n",
       "      <td>0</td>\n",
       "    </tr>\n",
       "    <tr>\n",
       "      <th>2407</th>\n",
       "      <td>2022-03-02</td>\n",
       "      <td>1</td>\n",
       "      <td>1</td>\n",
       "    </tr>\n",
       "    <tr>\n",
       "      <th>2408</th>\n",
       "      <td>2022-03-03</td>\n",
       "      <td>0</td>\n",
       "      <td>0</td>\n",
       "    </tr>\n",
       "    <tr>\n",
       "      <th>2409</th>\n",
       "      <td>2022-03-04</td>\n",
       "      <td>0</td>\n",
       "      <td>0</td>\n",
       "    </tr>\n",
       "  </tbody>\n",
       "</table>\n",
       "</div>"
      ],
      "text/plain": [
       "            date  predict  truth\n",
       "2405  2022-02-25        1      1\n",
       "2406  2022-02-28        0      0\n",
       "2407  2022-03-02        1      1\n",
       "2408  2022-03-03        0      0\n",
       "2409  2022-03-04        0      0"
      ]
     },
     "execution_count": 76,
     "metadata": {},
     "output_type": "execute_result"
    }
   ],
   "source": [
    "predict_df.tail()"
   ]
  },
  {
   "cell_type": "code",
   "execution_count": 77,
   "id": "a4bfbbac-8857-4357-922f-5e7faaddc177",
   "metadata": {},
   "outputs": [
    {
     "name": "stderr",
     "output_type": "stream",
     "text": [
      "C:\\Users\\PC0\\anaconda3\\lib\\site-packages\\ipykernel\\ipkernel.py:287: DeprecationWarning: `should_run_async` will not call `transform_cell` automatically in the future. Please pass the result to `transformed_cell` argument and any exception that happen during thetransform in `preprocessing_exc_tuple` in IPython 7.17 and above.\n",
      "  and should_run_async(code)\n"
     ]
    }
   ],
   "source": [
    "predict_df.index = predict_df.date"
   ]
  },
  {
   "cell_type": "code",
   "execution_count": 78,
   "id": "99e8ecb0-3c90-424a-94e2-550aaebb8e58",
   "metadata": {},
   "outputs": [
    {
     "data": {
      "text/html": [
       "<div>\n",
       "<style scoped>\n",
       "    .dataframe tbody tr th:only-of-type {\n",
       "        vertical-align: middle;\n",
       "    }\n",
       "\n",
       "    .dataframe tbody tr th {\n",
       "        vertical-align: top;\n",
       "    }\n",
       "\n",
       "    .dataframe thead th {\n",
       "        text-align: right;\n",
       "    }\n",
       "</style>\n",
       "<table border=\"1\" class=\"dataframe\">\n",
       "  <thead>\n",
       "    <tr style=\"text-align: right;\">\n",
       "      <th></th>\n",
       "      <th>date</th>\n",
       "      <th>predict</th>\n",
       "      <th>truth</th>\n",
       "    </tr>\n",
       "    <tr>\n",
       "      <th>date</th>\n",
       "      <th></th>\n",
       "      <th></th>\n",
       "      <th></th>\n",
       "    </tr>\n",
       "  </thead>\n",
       "  <tbody>\n",
       "    <tr>\n",
       "      <th>2012-06-07</th>\n",
       "      <td>2012-06-07</td>\n",
       "      <td>1</td>\n",
       "      <td>0</td>\n",
       "    </tr>\n",
       "    <tr>\n",
       "      <th>2012-06-08</th>\n",
       "      <td>2012-06-08</td>\n",
       "      <td>1</td>\n",
       "      <td>1</td>\n",
       "    </tr>\n",
       "    <tr>\n",
       "      <th>2012-06-11</th>\n",
       "      <td>2012-06-11</td>\n",
       "      <td>0</td>\n",
       "      <td>0</td>\n",
       "    </tr>\n",
       "    <tr>\n",
       "      <th>2012-06-12</th>\n",
       "      <td>2012-06-12</td>\n",
       "      <td>1</td>\n",
       "      <td>1</td>\n",
       "    </tr>\n",
       "    <tr>\n",
       "      <th>2012-06-13</th>\n",
       "      <td>2012-06-13</td>\n",
       "      <td>1</td>\n",
       "      <td>1</td>\n",
       "    </tr>\n",
       "  </tbody>\n",
       "</table>\n",
       "</div>"
      ],
      "text/plain": [
       "                  date  predict  truth\n",
       "date                                  \n",
       "2012-06-07  2012-06-07        1      0\n",
       "2012-06-08  2012-06-08        1      1\n",
       "2012-06-11  2012-06-11        0      0\n",
       "2012-06-12  2012-06-12        1      1\n",
       "2012-06-13  2012-06-13        1      1"
      ]
     },
     "execution_count": 78,
     "metadata": {},
     "output_type": "execute_result"
    }
   ],
   "source": [
    "predict_df.head()"
   ]
  },
  {
   "cell_type": "code",
   "execution_count": 79,
   "id": "959bf0e4-2f2c-46e4-b9cb-8f9485a3429c",
   "metadata": {},
   "outputs": [
    {
     "name": "stderr",
     "output_type": "stream",
     "text": [
      "C:\\Users\\PC0\\anaconda3\\lib\\site-packages\\ipykernel\\ipkernel.py:287: DeprecationWarning: `should_run_async` will not call `transform_cell` automatically in the future. Please pass the result to `transformed_cell` argument and any exception that happen during thetransform in `preprocessing_exc_tuple` in IPython 7.17 and above.\n",
      "  and should_run_async(code)\n"
     ]
    }
   ],
   "source": [
    "from copy import deepcopy"
   ]
  },
  {
   "cell_type": "code",
   "execution_count": 80,
   "id": "0d35e7ab-effc-4042-b8ee-b2be5ae8c430",
   "metadata": {},
   "outputs": [],
   "source": [
    "plot_df = deepcopy(predict_df)"
   ]
  },
  {
   "cell_type": "code",
   "execution_count": 81,
   "id": "160fd0ac-4e53-47f9-92ff-87b5cb59552a",
   "metadata": {},
   "outputs": [],
   "source": [
    "def function_x(idx, vector):\n",
    "    vector = np.where(np.array(vector) == 0, -1, 1)\n",
    "    return np.sum(vector[:idx])"
   ]
  },
  {
   "cell_type": "code",
   "execution_count": 82,
   "id": "593be6cd-cd7b-4744-8921-1e02064c4f8e",
   "metadata": {
    "tags": []
   },
   "outputs": [],
   "source": [
    "predict_2 = [function_x(idx, predict_df.predict) for idx in range(len(predict_df.predict))]\n",
    "actual_2 = [function_x(idx, predict_df.truth) for idx in range(len(predict_df.predict))]"
   ]
  },
  {
   "cell_type": "code",
   "execution_count": 83,
   "id": "823305af-e1c8-44ed-ae1a-cfaa0d4eda8c",
   "metadata": {},
   "outputs": [],
   "source": [
    "plot_df['predict_2'] = predict_2\n",
    "plot_df['actual_2'] = actual_2"
   ]
  },
  {
   "cell_type": "code",
   "execution_count": 84,
   "id": "1f9e3e2b-5814-483b-89b7-e3da51b770d4",
   "metadata": {},
   "outputs": [],
   "source": [
    "del plot_df['predict'], plot_df['truth']"
   ]
  },
  {
   "cell_type": "code",
   "execution_count": 85,
   "id": "a956c1a0-6607-412b-8653-3ed47fce6e8b",
   "metadata": {},
   "outputs": [
    {
     "data": {
      "text/plain": [
       "<AxesSubplot:xlabel='date'>"
      ]
     },
     "execution_count": 85,
     "metadata": {},
     "output_type": "execute_result"
    },
    {
     "data": {
      "image/png": "[encoded data removed]",
      "text/plain": [
       "<Figure size 432x288 with 1 Axes>"
      ]
     },
     "metadata": {
      "needs_background": "light"
     },
     "output_type": "display_data"
    }
   ],
   "source": [
    "plot_df.plot()"
   ]
  },
  {
   "cell_type": "code",
   "execution_count": 86,
   "id": "6023f04c-b4ea-4d6e-9071-2b7d715fe7e6",
   "metadata": {},
   "outputs": [
    {
     "name": "stderr",
     "output_type": "stream",
     "text": [
      "C:\\Users\\PC0\\anaconda3\\lib\\site-packages\\ipykernel\\ipkernel.py:287: DeprecationWarning: `should_run_async` will not call `transform_cell` automatically in the future. Please pass the result to `transformed_cell` argument and any exception that happen during thetransform in `preprocessing_exc_tuple` in IPython 7.17 and above.\n",
      "  and should_run_async(code)\n"
     ]
    }
   ],
   "source": [
    "from sklearn.metrics import classification_report"
   ]
  },
  {
   "cell_type": "code",
   "execution_count": 88,
   "id": "91339cd7-21aa-45ee-b5f8-194091bfc278",
   "metadata": {},
   "outputs": [
    {
     "name": "stdout",
     "output_type": "stream",
     "text": [
      "              precision    recall  f1-score   support\n",
      "\n",
      "           0       0.60      0.55      0.57      1088\n",
      "           1       0.63      0.67      0.65      1221\n",
      "\n",
      "    accuracy                           0.61      2309\n",
      "   macro avg       0.61      0.61      0.61      2309\n",
      "weighted avg       0.61      0.61      0.61      2309\n",
      "\n"
     ]
    }
   ],
   "source": [
    "print(classification_report(whole_truth, whole_predict))"
   ]
  },
  {
   "cell_type": "code",
   "execution_count": 89,
   "id": "492e1e54-8693-40c5-b6cd-ee9f87328d56",
   "metadata": {},
   "outputs": [
    {
     "name": "stderr",
     "output_type": "stream",
     "text": [
      "C:\\Users\\PC0\\anaconda3\\lib\\site-packages\\ipykernel\\ipkernel.py:287: DeprecationWarning: `should_run_async` will not call `transform_cell` automatically in the future. Please pass the result to `transformed_cell` argument and any exception that happen during thetransform in `preprocessing_exc_tuple` in IPython 7.17 and above.\n",
      "  and should_run_async(code)\n"
     ]
    },
    {
     "data": {
      "text/plain": [
       "Counter({1: 1315, 0: 994})"
      ]
     },
     "execution_count": 89,
     "metadata": {},
     "output_type": "execute_result"
    }
   ],
   "source": [
    "Counter(whole_predict)"
   ]
  },
  {
   "cell_type": "code",
   "execution_count": 90,
   "id": "b868854f-7bb8-412b-8ea4-7395338ae805",
   "metadata": {},
   "outputs": [
    {
     "data": {
      "text/plain": [
       "Counter({0: 1088, 1: 1221})"
      ]
     },
     "execution_count": 90,
     "metadata": {},
     "output_type": "execute_result"
    }
   ],
   "source": [
    "Counter(whole_truth)"
   ]
  },
  {
   "cell_type": "code",
   "execution_count": null,
   "id": "c6a790c6-67c0-4065-a88b-b39fef340655",
   "metadata": {},
   "outputs": [],
   "source": []
  },
  {
   "cell_type": "markdown",
   "id": "5db736c0-16cd-4a48-9c36-4c1c0a1ee56f",
   "metadata": {},
   "source": [
    "* label별 성능"
   ]
  },
  {
   "cell_type": "code",
   "execution_count": 106,
   "id": "d60700d7-47e3-4862-ac56-f87672d466b3",
   "metadata": {},
   "outputs": [],
   "source": [
    "zero_idx = np.where(np.array(whole_truth) == 0)[0]\n",
    "one_idx = np.where(np.array(whole_truth) != 0)[0]"
   ]
  },
  {
   "cell_type": "code",
   "execution_count": 105,
   "id": "b7a84605-c818-4ddf-adc5-21230fed8e6c",
   "metadata": {},
   "outputs": [
    {
     "data": {
      "text/plain": [
       "0.5477941176470589"
      ]
     },
     "execution_count": 105,
     "metadata": {},
     "output_type": "execute_result"
    }
   ],
   "source": [
    "1 - np.mean(np.array(whole_predict)[zero_idx])"
   ]
  },
  {
   "cell_type": "code",
   "execution_count": 107,
   "id": "8014e1cf-399f-4e74-9d0a-276817342b9a",
   "metadata": {},
   "outputs": [
    {
     "data": {
      "text/plain": [
       "0.674037674037674"
      ]
     },
     "execution_count": 107,
     "metadata": {},
     "output_type": "execute_result"
    }
   ],
   "source": [
    "np.mean(np.array(whole_predict)[one_idx])"
   ]
  },
  {
   "cell_type": "code",
   "execution_count": 111,
   "id": "b76536ef-40c5-4bd2-a80e-f52238a8b74e",
   "metadata": {},
   "outputs": [
    {
     "data": {
      "text/plain": [
       "Counter({0: 1088, 1: 1221})"
      ]
     },
     "execution_count": 111,
     "metadata": {},
     "output_type": "execute_result"
    }
   ],
   "source": [
    "Counter(whole_truth)"
   ]
  },
  {
   "cell_type": "code",
   "execution_count": null,
   "id": "d6187d81-bda6-4928-8c2c-6b248662c4c8",
   "metadata": {},
   "outputs": [],
   "source": []
  }
 ],
 "metadata": {
  "kernelspec": {
   "display_name": "Python 3",
   "language": "python",
   "name": "python3"
  },
  "language_info": {
   "codemirror_mode": {
    "name": "ipython",
    "version": 3
   },
   "file_extension": ".py",
   "mimetype": "text/x-python",
   "name": "python",
   "nbconvert_exporter": "python",
   "pygments_lexer": "ipython3",
   "version": "3.8.8"
  }
 },
 "nbformat": 4,
 "nbformat_minor": 5
}
