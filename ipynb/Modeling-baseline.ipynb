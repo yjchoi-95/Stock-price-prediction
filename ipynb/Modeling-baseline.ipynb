{
 "cells": [
  {
   "cell_type": "markdown",
   "id": "e3cd4ed4-b082-4a42-80e0-479f8ed18fc7",
   "metadata": {},
   "source": [
    "## Import"
   ]
  },
  {
   "cell_type": "code",
   "execution_count": 1,
   "id": "313122bf-3ca9-4921-8955-0e7194c043b3",
   "metadata": {},
   "outputs": [],
   "source": [
    "import pandas as pd\n",
    "import numpy as np"
   ]
  },
  {
   "cell_type": "code",
   "execution_count": null,
   "id": "74c0fd15-2570-4c15-aa4c-1b0831a7ae38",
   "metadata": {},
   "outputs": [],
   "source": []
  },
  {
   "cell_type": "markdown",
   "id": "56baa1ab-aa3f-46b9-a50b-a32e92265ae2",
   "metadata": {},
   "source": [
    "## Load"
   ]
  },
  {
   "cell_type": "code",
   "execution_count": 2,
   "id": "11b296da-ac3f-492d-8e99-db74e9b06a10",
   "metadata": {},
   "outputs": [],
   "source": [
    "out_data_path = 'C:\\\\Users\\\\PC0\\\\Documents\\\\datasets\\\\stock_price\\\\'\n",
    "data_path = 'C:\\\\Users\\\\PC0\\\\Documents\\\\GitHub\\\\Stock-price-prediction\\\\datasets\\\\'"
   ]
  },
  {
   "cell_type": "code",
   "execution_count": 4,
   "id": "2b97d7e1-8ba9-4366-81fe-b6937f2bd721",
   "metadata": {},
   "outputs": [],
   "source": [
    "stock_df = pd.read_csv(data_path + \"stock_df_01.csv\")"
   ]
  },
  {
   "cell_type": "code",
   "execution_count": 7,
   "id": "d2750b18-3ebd-46dc-a45c-1cb62aa5ae65",
   "metadata": {},
   "outputs": [],
   "source": [
    "n_target = np.array(list(stock_df.target))\n",
    "c_target = np.array(list(stock_df.c_target))"
   ]
  },
  {
   "cell_type": "code",
   "execution_count": 11,
   "id": "bc0c38f4-ace7-488b-b0b8-83db09ae206a",
   "metadata": {},
   "outputs": [],
   "source": [
    "del stock_df['target']\n",
    "del stock_df['c_target']"
   ]
  },
  {
   "cell_type": "code",
   "execution_count": 6,
   "id": "14e0ccf2-bed0-490f-af25-9d162e9a4558",
   "metadata": {},
   "outputs": [
    {
     "data": {
      "text/plain": [
       "(2410, 374)"
      ]
     },
     "execution_count": 6,
     "metadata": {},
     "output_type": "execute_result"
    }
   ],
   "source": [
    "stock_df.shape"
   ]
  },
  {
   "cell_type": "code",
   "execution_count": null,
   "id": "7b424949-f16e-465c-b6fb-d6f619c1d297",
   "metadata": {},
   "outputs": [],
   "source": []
  },
  {
   "cell_type": "code",
   "execution_count": null,
   "id": "31930fea-1368-4c6a-b0b3-76db8592f652",
   "metadata": {},
   "outputs": [],
   "source": []
  },
  {
   "cell_type": "code",
   "execution_count": null,
   "id": "e0508faf-88aa-4a15-ba2a-956cc41a3697",
   "metadata": {},
   "outputs": [],
   "source": []
  }
 ],
 "metadata": {
  "kernelspec": {
   "display_name": "Python 3",
   "language": "python",
   "name": "python3"
  },
  "language_info": {
   "codemirror_mode": {
    "name": "ipython",
    "version": 3
   },
   "file_extension": ".py",
   "mimetype": "text/x-python",
   "name": "python",
   "nbconvert_exporter": "python",
   "pygments_lexer": "ipython3",
   "version": "3.8.8"
  }
 },
 "nbformat": 4,
 "nbformat_minor": 5
}
