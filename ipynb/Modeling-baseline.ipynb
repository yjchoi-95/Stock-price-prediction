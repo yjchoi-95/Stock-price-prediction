{
 "cells": [
  {
   "cell_type": "markdown",
   "id": "e3cd4ed4-b082-4a42-80e0-479f8ed18fc7",
   "metadata": {},
   "source": [
    "## Import"
   ]
  },
  {
   "cell_type": "code",
   "execution_count": 3,
   "id": "002fafeb-2134-4832-9a91-80c75abaedc5",
   "metadata": {},
   "outputs": [],
   "source": [
    "from catboost import CatBoostClassifier\n",
    "from xgboost import XGBClassifier\n",
    "from lightgbm import LGBMClassifier\n",
    "from ngboost import NGBClassifier\n",
    "from tqdm import tqdm\n",
    "from sklearn.metrics import accuracy_score, f1_score, precision_score, recall_score, cohen_kappa_score"
   ]
  },
  {
   "cell_type": "code",
   "execution_count": 18,
   "id": "313122bf-3ca9-4921-8955-0e7194c043b3",
   "metadata": {},
   "outputs": [],
   "source": [
    "import pandas as pd\n",
    "import numpy as np\n",
    "import warnings\n",
    "\n",
    "warnings.filterwarnings(action='default')"
   ]
  },
  {
   "cell_type": "code",
   "execution_count": null,
   "id": "74c0fd15-2570-4c15-aa4c-1b0831a7ae38",
   "metadata": {},
   "outputs": [],
   "source": []
  },
  {
   "cell_type": "markdown",
   "id": "56baa1ab-aa3f-46b9-a50b-a32e92265ae2",
   "metadata": {},
   "source": [
    "## Load"
   ]
  },
  {
   "cell_type": "code",
   "execution_count": 5,
   "id": "11b296da-ac3f-492d-8e99-db74e9b06a10",
   "metadata": {},
   "outputs": [],
   "source": [
    "out_data_path = 'C:\\\\Users\\\\PC0\\\\Documents\\\\datasets\\\\stock_price\\\\'\n",
    "data_path = 'C:\\\\Users\\\\PC0\\\\Documents\\\\GitHub\\\\Stock-price-prediction\\\\datasets\\\\'"
   ]
  },
  {
   "cell_type": "code",
   "execution_count": 6,
   "id": "2b97d7e1-8ba9-4366-81fe-b6937f2bd721",
   "metadata": {},
   "outputs": [],
   "source": [
    "stock_df = pd.read_csv(data_path + \"stock_df_01.csv\")"
   ]
  },
  {
   "cell_type": "code",
   "execution_count": 7,
   "id": "d2750b18-3ebd-46dc-a45c-1cb62aa5ae65",
   "metadata": {},
   "outputs": [],
   "source": [
    "n_target = np.array(list(stock_df.target))\n",
    "c_target = np.array(list(stock_df.c_target))"
   ]
  },
  {
   "cell_type": "code",
   "execution_count": 8,
   "id": "bc0c38f4-ace7-488b-b0b8-83db09ae206a",
   "metadata": {},
   "outputs": [],
   "source": [
    "del stock_df['target']\n",
    "del stock_df['c_target']"
   ]
  },
  {
   "cell_type": "code",
   "execution_count": 9,
   "id": "14e0ccf2-bed0-490f-af25-9d162e9a4558",
   "metadata": {},
   "outputs": [
    {
     "data": {
      "text/plain": [
       "(2410, 372)"
      ]
     },
     "execution_count": 9,
     "metadata": {},
     "output_type": "execute_result"
    }
   ],
   "source": [
    "stock_df.shape"
   ]
  },
  {
   "cell_type": "code",
   "execution_count": 10,
   "id": "868f8d96-323c-46c0-8abb-8136d64a30db",
   "metadata": {},
   "outputs": [],
   "source": [
    "var_cols = [x for x in stock_df.columns if \"var\" in x]"
   ]
  },
  {
   "cell_type": "code",
   "execution_count": 11,
   "id": "380b076f-8051-4bd2-b8f8-9d1987180958",
   "metadata": {},
   "outputs": [
    {
     "data": {
      "text/html": [
       "<div>\n",
       "<style scoped>\n",
       "    .dataframe tbody tr th:only-of-type {\n",
       "        vertical-align: middle;\n",
       "    }\n",
       "\n",
       "    .dataframe tbody tr th {\n",
       "        vertical-align: top;\n",
       "    }\n",
       "\n",
       "    .dataframe thead th {\n",
       "        text-align: right;\n",
       "    }\n",
       "</style>\n",
       "<table border=\"1\" class=\"dataframe\">\n",
       "  <thead>\n",
       "    <tr style=\"text-align: right;\">\n",
       "      <th></th>\n",
       "      <th>date</th>\n",
       "      <th>kosdaq_close</th>\n",
       "      <th>kosdaq_vol</th>\n",
       "      <th>kosdaq_var</th>\n",
       "      <th>us-30_close</th>\n",
       "      <th>us-30_vol</th>\n",
       "      <th>us-30_var</th>\n",
       "      <th>us-spx-500_close</th>\n",
       "      <th>us-spx-500_var</th>\n",
       "      <th>nasdaq-composite_close</th>\n",
       "      <th>...</th>\n",
       "      <th>영국_아연_close</th>\n",
       "      <th>영국_아연_vol</th>\n",
       "      <th>영국_아연_var</th>\n",
       "      <th>은_close</th>\n",
       "      <th>은_vol</th>\n",
       "      <th>은_var</th>\n",
       "      <th>영국_주석_close</th>\n",
       "      <th>영국_주석_var</th>\n",
       "      <th>미국_팔라듐_close</th>\n",
       "      <th>미국_팔라듐_var</th>\n",
       "    </tr>\n",
       "  </thead>\n",
       "  <tbody>\n",
       "    <tr>\n",
       "      <th>0</th>\n",
       "      <td>2012-01-03</td>\n",
       "      <td>513.83</td>\n",
       "      <td>590990.0</td>\n",
       "      <td>1.39</td>\n",
       "      <td>12397.38</td>\n",
       "      <td>152560000.0</td>\n",
       "      <td>1.47</td>\n",
       "      <td>1277.06</td>\n",
       "      <td>1.55</td>\n",
       "      <td>2648.72</td>\n",
       "      <td>...</td>\n",
       "      <td>1864.25</td>\n",
       "      <td>9410.0</td>\n",
       "      <td>1.83</td>\n",
       "      <td>29.533</td>\n",
       "      <td>140.0</td>\n",
       "      <td>4.88</td>\n",
       "      <td>19949.0</td>\n",
       "      <td>4.13</td>\n",
       "      <td>664.8</td>\n",
       "      <td>1.42</td>\n",
       "    </tr>\n",
       "    <tr>\n",
       "      <th>1</th>\n",
       "      <td>2012-01-04</td>\n",
       "      <td>516.30</td>\n",
       "      <td>652090.0</td>\n",
       "      <td>0.48</td>\n",
       "      <td>12418.42</td>\n",
       "      <td>145130000.0</td>\n",
       "      <td>0.17</td>\n",
       "      <td>1277.30</td>\n",
       "      <td>0.02</td>\n",
       "      <td>2648.36</td>\n",
       "      <td>...</td>\n",
       "      <td>1856.50</td>\n",
       "      <td>8430.0</td>\n",
       "      <td>-0.42</td>\n",
       "      <td>29.063</td>\n",
       "      <td>70.0</td>\n",
       "      <td>-1.59</td>\n",
       "      <td>19555.0</td>\n",
       "      <td>-1.98</td>\n",
       "      <td>649.9</td>\n",
       "      <td>-2.24</td>\n",
       "    </tr>\n",
       "    <tr>\n",
       "      <th>2</th>\n",
       "      <td>2012-01-05</td>\n",
       "      <td>521.96</td>\n",
       "      <td>654300.0</td>\n",
       "      <td>1.10</td>\n",
       "      <td>12415.70</td>\n",
       "      <td>158440000.0</td>\n",
       "      <td>-0.02</td>\n",
       "      <td>1281.06</td>\n",
       "      <td>0.29</td>\n",
       "      <td>2669.86</td>\n",
       "      <td>...</td>\n",
       "      <td>1821.25</td>\n",
       "      <td>7720.0</td>\n",
       "      <td>-1.90</td>\n",
       "      <td>29.265</td>\n",
       "      <td>30.0</td>\n",
       "      <td>0.70</td>\n",
       "      <td>19814.0</td>\n",
       "      <td>1.32</td>\n",
       "      <td>640.4</td>\n",
       "      <td>-1.46</td>\n",
       "    </tr>\n",
       "    <tr>\n",
       "      <th>3</th>\n",
       "      <td>2012-01-06</td>\n",
       "      <td>518.94</td>\n",
       "      <td>626020.0</td>\n",
       "      <td>-0.58</td>\n",
       "      <td>12359.92</td>\n",
       "      <td>131120000.0</td>\n",
       "      <td>-0.45</td>\n",
       "      <td>1277.81</td>\n",
       "      <td>-0.25</td>\n",
       "      <td>2674.22</td>\n",
       "      <td>...</td>\n",
       "      <td>1840.75</td>\n",
       "      <td>7120.0</td>\n",
       "      <td>1.07</td>\n",
       "      <td>28.653</td>\n",
       "      <td>80.0</td>\n",
       "      <td>-2.09</td>\n",
       "      <td>19807.0</td>\n",
       "      <td>-0.04</td>\n",
       "      <td>616.1</td>\n",
       "      <td>-3.79</td>\n",
       "    </tr>\n",
       "    <tr>\n",
       "      <th>4</th>\n",
       "      <td>2012-01-09</td>\n",
       "      <td>520.28</td>\n",
       "      <td>617370.0</td>\n",
       "      <td>0.26</td>\n",
       "      <td>12392.69</td>\n",
       "      <td>122200000.0</td>\n",
       "      <td>0.27</td>\n",
       "      <td>1280.70</td>\n",
       "      <td>0.23</td>\n",
       "      <td>2676.56</td>\n",
       "      <td>...</td>\n",
       "      <td>1870.25</td>\n",
       "      <td>9620.0</td>\n",
       "      <td>1.60</td>\n",
       "      <td>28.749</td>\n",
       "      <td>60.0</td>\n",
       "      <td>-0.34</td>\n",
       "      <td>19746.0</td>\n",
       "      <td>-0.31</td>\n",
       "      <td>620.0</td>\n",
       "      <td>0.63</td>\n",
       "    </tr>\n",
       "  </tbody>\n",
       "</table>\n",
       "<p>5 rows × 372 columns</p>\n",
       "</div>"
      ],
      "text/plain": [
       "         date  kosdaq_close  kosdaq_vol  kosdaq_var  us-30_close    us-30_vol  \\\n",
       "0  2012-01-03        513.83    590990.0        1.39     12397.38  152560000.0   \n",
       "1  2012-01-04        516.30    652090.0        0.48     12418.42  145130000.0   \n",
       "2  2012-01-05        521.96    654300.0        1.10     12415.70  158440000.0   \n",
       "3  2012-01-06        518.94    626020.0       -0.58     12359.92  131120000.0   \n",
       "4  2012-01-09        520.28    617370.0        0.26     12392.69  122200000.0   \n",
       "\n",
       "   us-30_var  us-spx-500_close  us-spx-500_var  nasdaq-composite_close  ...  \\\n",
       "0       1.47           1277.06            1.55                 2648.72  ...   \n",
       "1       0.17           1277.30            0.02                 2648.36  ...   \n",
       "2      -0.02           1281.06            0.29                 2669.86  ...   \n",
       "3      -0.45           1277.81           -0.25                 2674.22  ...   \n",
       "4       0.27           1280.70            0.23                 2676.56  ...   \n",
       "\n",
       "   영국_아연_close  영국_아연_vol  영국_아연_var  은_close  은_vol  은_var  영국_주석_close  \\\n",
       "0      1864.25     9410.0       1.83   29.533  140.0   4.88      19949.0   \n",
       "1      1856.50     8430.0      -0.42   29.063   70.0  -1.59      19555.0   \n",
       "2      1821.25     7720.0      -1.90   29.265   30.0   0.70      19814.0   \n",
       "3      1840.75     7120.0       1.07   28.653   80.0  -2.09      19807.0   \n",
       "4      1870.25     9620.0       1.60   28.749   60.0  -0.34      19746.0   \n",
       "\n",
       "   영국_주석_var  미국_팔라듐_close  미국_팔라듐_var  \n",
       "0       4.13         664.8        1.42  \n",
       "1      -1.98         649.9       -2.24  \n",
       "2       1.32         640.4       -1.46  \n",
       "3      -0.04         616.1       -3.79  \n",
       "4      -0.31         620.0        0.63  \n",
       "\n",
       "[5 rows x 372 columns]"
      ]
     },
     "execution_count": 11,
     "metadata": {},
     "output_type": "execute_result"
    }
   ],
   "source": [
    "stock_df.head()"
   ]
  },
  {
   "cell_type": "code",
   "execution_count": null,
   "id": "31930fea-1368-4c6a-b0b3-76db8592f652",
   "metadata": {},
   "outputs": [],
   "source": []
  },
  {
   "cell_type": "markdown",
   "id": "62d7d0bd-c11b-4dfc-adf0-a892b57c0f28",
   "metadata": {},
   "source": [
    "## Modeling"
   ]
  },
  {
   "cell_type": "code",
   "execution_count": 12,
   "id": "a4fd0ac9-0250-4060-beb0-df67a56bf3fc",
   "metadata": {},
   "outputs": [],
   "source": [
    "# temp_x = stock_df.loc[:, var_cols]\n",
    "temp_x = stock_df.iloc[:, 1:]"
   ]
  },
  {
   "cell_type": "code",
   "execution_count": 13,
   "id": "d02f1706-66bb-4085-a6de-02c236cc2da3",
   "metadata": {},
   "outputs": [
    {
     "data": {
      "text/html": [
       "<div>\n",
       "<style scoped>\n",
       "    .dataframe tbody tr th:only-of-type {\n",
       "        vertical-align: middle;\n",
       "    }\n",
       "\n",
       "    .dataframe tbody tr th {\n",
       "        vertical-align: top;\n",
       "    }\n",
       "\n",
       "    .dataframe thead th {\n",
       "        text-align: right;\n",
       "    }\n",
       "</style>\n",
       "<table border=\"1\" class=\"dataframe\">\n",
       "  <thead>\n",
       "    <tr style=\"text-align: right;\">\n",
       "      <th></th>\n",
       "      <th>kosdaq_close</th>\n",
       "      <th>kosdaq_vol</th>\n",
       "      <th>kosdaq_var</th>\n",
       "      <th>us-30_close</th>\n",
       "      <th>us-30_vol</th>\n",
       "      <th>us-30_var</th>\n",
       "      <th>us-spx-500_close</th>\n",
       "      <th>us-spx-500_var</th>\n",
       "      <th>nasdaq-composite_close</th>\n",
       "      <th>nasdaq-composite_vol</th>\n",
       "      <th>...</th>\n",
       "      <th>영국_아연_close</th>\n",
       "      <th>영국_아연_vol</th>\n",
       "      <th>영국_아연_var</th>\n",
       "      <th>은_close</th>\n",
       "      <th>은_vol</th>\n",
       "      <th>은_var</th>\n",
       "      <th>영국_주석_close</th>\n",
       "      <th>영국_주석_var</th>\n",
       "      <th>미국_팔라듐_close</th>\n",
       "      <th>미국_팔라듐_var</th>\n",
       "    </tr>\n",
       "  </thead>\n",
       "  <tbody>\n",
       "    <tr>\n",
       "      <th>0</th>\n",
       "      <td>513.83</td>\n",
       "      <td>590990.0</td>\n",
       "      <td>1.39</td>\n",
       "      <td>12397.38</td>\n",
       "      <td>152560000.0</td>\n",
       "      <td>1.47</td>\n",
       "      <td>1277.06</td>\n",
       "      <td>1.55</td>\n",
       "      <td>2648.72</td>\n",
       "      <td>411790000.0</td>\n",
       "      <td>...</td>\n",
       "      <td>1864.25</td>\n",
       "      <td>9410.0</td>\n",
       "      <td>1.83</td>\n",
       "      <td>29.533</td>\n",
       "      <td>140.0</td>\n",
       "      <td>4.88</td>\n",
       "      <td>19949.0</td>\n",
       "      <td>4.13</td>\n",
       "      <td>664.8</td>\n",
       "      <td>1.42</td>\n",
       "    </tr>\n",
       "    <tr>\n",
       "      <th>1</th>\n",
       "      <td>516.30</td>\n",
       "      <td>652090.0</td>\n",
       "      <td>0.48</td>\n",
       "      <td>12418.42</td>\n",
       "      <td>145130000.0</td>\n",
       "      <td>0.17</td>\n",
       "      <td>1277.30</td>\n",
       "      <td>0.02</td>\n",
       "      <td>2648.36</td>\n",
       "      <td>411090000.0</td>\n",
       "      <td>...</td>\n",
       "      <td>1856.50</td>\n",
       "      <td>8430.0</td>\n",
       "      <td>-0.42</td>\n",
       "      <td>29.063</td>\n",
       "      <td>70.0</td>\n",
       "      <td>-1.59</td>\n",
       "      <td>19555.0</td>\n",
       "      <td>-1.98</td>\n",
       "      <td>649.9</td>\n",
       "      <td>-2.24</td>\n",
       "    </tr>\n",
       "    <tr>\n",
       "      <th>2</th>\n",
       "      <td>521.96</td>\n",
       "      <td>654300.0</td>\n",
       "      <td>1.10</td>\n",
       "      <td>12415.70</td>\n",
       "      <td>158440000.0</td>\n",
       "      <td>-0.02</td>\n",
       "      <td>1281.06</td>\n",
       "      <td>0.29</td>\n",
       "      <td>2669.86</td>\n",
       "      <td>442080000.0</td>\n",
       "      <td>...</td>\n",
       "      <td>1821.25</td>\n",
       "      <td>7720.0</td>\n",
       "      <td>-1.90</td>\n",
       "      <td>29.265</td>\n",
       "      <td>30.0</td>\n",
       "      <td>0.70</td>\n",
       "      <td>19814.0</td>\n",
       "      <td>1.32</td>\n",
       "      <td>640.4</td>\n",
       "      <td>-1.46</td>\n",
       "    </tr>\n",
       "    <tr>\n",
       "      <th>3</th>\n",
       "      <td>518.94</td>\n",
       "      <td>626020.0</td>\n",
       "      <td>-0.58</td>\n",
       "      <td>12359.92</td>\n",
       "      <td>131120000.0</td>\n",
       "      <td>-0.45</td>\n",
       "      <td>1277.81</td>\n",
       "      <td>-0.25</td>\n",
       "      <td>2674.22</td>\n",
       "      <td>412310000.0</td>\n",
       "      <td>...</td>\n",
       "      <td>1840.75</td>\n",
       "      <td>7120.0</td>\n",
       "      <td>1.07</td>\n",
       "      <td>28.653</td>\n",
       "      <td>80.0</td>\n",
       "      <td>-2.09</td>\n",
       "      <td>19807.0</td>\n",
       "      <td>-0.04</td>\n",
       "      <td>616.1</td>\n",
       "      <td>-3.79</td>\n",
       "    </tr>\n",
       "    <tr>\n",
       "      <th>4</th>\n",
       "      <td>520.28</td>\n",
       "      <td>617370.0</td>\n",
       "      <td>0.26</td>\n",
       "      <td>12392.69</td>\n",
       "      <td>122200000.0</td>\n",
       "      <td>0.27</td>\n",
       "      <td>1280.70</td>\n",
       "      <td>0.23</td>\n",
       "      <td>2676.56</td>\n",
       "      <td>447700000.0</td>\n",
       "      <td>...</td>\n",
       "      <td>1870.25</td>\n",
       "      <td>9620.0</td>\n",
       "      <td>1.60</td>\n",
       "      <td>28.749</td>\n",
       "      <td>60.0</td>\n",
       "      <td>-0.34</td>\n",
       "      <td>19746.0</td>\n",
       "      <td>-0.31</td>\n",
       "      <td>620.0</td>\n",
       "      <td>0.63</td>\n",
       "    </tr>\n",
       "  </tbody>\n",
       "</table>\n",
       "<p>5 rows × 371 columns</p>\n",
       "</div>"
      ],
      "text/plain": [
       "   kosdaq_close  kosdaq_vol  kosdaq_var  us-30_close    us-30_vol  us-30_var  \\\n",
       "0        513.83    590990.0        1.39     12397.38  152560000.0       1.47   \n",
       "1        516.30    652090.0        0.48     12418.42  145130000.0       0.17   \n",
       "2        521.96    654300.0        1.10     12415.70  158440000.0      -0.02   \n",
       "3        518.94    626020.0       -0.58     12359.92  131120000.0      -0.45   \n",
       "4        520.28    617370.0        0.26     12392.69  122200000.0       0.27   \n",
       "\n",
       "   us-spx-500_close  us-spx-500_var  nasdaq-composite_close  \\\n",
       "0           1277.06            1.55                 2648.72   \n",
       "1           1277.30            0.02                 2648.36   \n",
       "2           1281.06            0.29                 2669.86   \n",
       "3           1277.81           -0.25                 2674.22   \n",
       "4           1280.70            0.23                 2676.56   \n",
       "\n",
       "   nasdaq-composite_vol  ...  영국_아연_close  영국_아연_vol  영국_아연_var  은_close  \\\n",
       "0           411790000.0  ...      1864.25     9410.0       1.83   29.533   \n",
       "1           411090000.0  ...      1856.50     8430.0      -0.42   29.063   \n",
       "2           442080000.0  ...      1821.25     7720.0      -1.90   29.265   \n",
       "3           412310000.0  ...      1840.75     7120.0       1.07   28.653   \n",
       "4           447700000.0  ...      1870.25     9620.0       1.60   28.749   \n",
       "\n",
       "   은_vol  은_var  영국_주석_close  영국_주석_var  미국_팔라듐_close  미국_팔라듐_var  \n",
       "0  140.0   4.88      19949.0       4.13         664.8        1.42  \n",
       "1   70.0  -1.59      19555.0      -1.98         649.9       -2.24  \n",
       "2   30.0   0.70      19814.0       1.32         640.4       -1.46  \n",
       "3   80.0  -2.09      19807.0      -0.04         616.1       -3.79  \n",
       "4   60.0  -0.34      19746.0      -0.31         620.0        0.63  \n",
       "\n",
       "[5 rows x 371 columns]"
      ]
     },
     "execution_count": 13,
     "metadata": {},
     "output_type": "execute_result"
    }
   ],
   "source": [
    "temp_x.head()"
   ]
  },
  {
   "cell_type": "code",
   "execution_count": 34,
   "id": "f24d888d-ed9f-4fc2-a2c2-4181e1bbfcea",
   "metadata": {},
   "outputs": [],
   "source": [
    "train_volum = 100\n",
    "train_start_idx = 0\n",
    "sample_days = 5\n",
    "\n",
    "data = temp_x\n",
    "\n",
    "model_xgb = XGBClassifier()\n",
    "model_lgbm = LGBMClassifier()\n",
    "model_ngb = NGBClassifier()\n",
    "model_cat = CatBoostClassifier(verbose = False)\n",
    "\n",
    "model = model_cat"
   ]
  },
  {
   "cell_type": "code",
   "execution_count": 35,
   "id": "91e11368-d446-494d-b1ef-ddd5fa16893d",
   "metadata": {},
   "outputs": [],
   "source": [
    "c_target_num = np.where(c_target == \"Up\", 1, 0)\n",
    "c_target_num = pd.DataFrame(c_target_num)"
   ]
  },
  {
   "cell_type": "code",
   "execution_count": 36,
   "id": "99e7895a-6aeb-4eba-a400-f87716255c55",
   "metadata": {},
   "outputs": [],
   "source": [
    "pred_dict = {}"
   ]
  },
  {
   "cell_type": "code",
   "execution_count": null,
   "id": "2ae276fb-df1d-4050-8959-589408c3957e",
   "metadata": {
    "tags": []
   },
   "outputs": [
    {
     "name": "stderr",
     "output_type": "stream",
     "text": [
      "  0%|                                                                                         | 0/2309 [00:00<?, ?it/s]"
     ]
    },
    {
     "name": "stdout",
     "output_type": "stream",
     "text": [
      "Start Fitting..\n"
     ]
    },
    {
     "name": "stderr",
     "output_type": "stream",
     "text": [
      "  1%|▊                                                                             | 24/2309 [03:05<4:56:48,  7.79s/it]"
     ]
    }
   ],
   "source": [
    "train_end_idx = train_start_idx + train_volum\n",
    "test_start_idx = train_end_idx + 1\n",
    "\n",
    "whole_predict = []\n",
    "whole_proba = []\n",
    "whole_truth = []\n",
    "whole_acc = []\n",
    "\n",
    "print(\"Start Fitting..\")\n",
    "for _ in tqdm(range(data.shape[0] - (train_volum + 1))) :\n",
    "    temp_train_x = data.loc[train_start_idx:train_end_idx,:]\n",
    "    temp_train_y = c_target_num.loc[train_start_idx:train_end_idx]\n",
    "    temp_test_x = data.loc[test_start_idx:test_start_idx,:]\n",
    "    temp_test_y = c_target_num.loc[test_start_idx]\n",
    "\n",
    "    # append sample\n",
    "    temp_train_x = temp_train_x.append(temp_train_x.loc[(train_end_idx - sample_days):])\n",
    "    temp_train_y = temp_train_y.append(temp_train_y.loc[(train_end_idx - sample_days):])\n",
    "\n",
    "    # fitting\n",
    "    model.fit(temp_train_x,temp_train_y)\n",
    "    # predict\n",
    "    predict_value = model.predict(temp_test_x)\n",
    "    whole_proba.append(model.predict_proba(temp_test_x)[0])\n",
    "\n",
    "    # save acc\n",
    "    pred_dict[stock_df.date[test_start_idx]] = predict_value[0]\n",
    "    whole_predict.append(predict_value[0])\n",
    "    whole_truth.append(temp_test_y.iloc[0])\n",
    "\n",
    "    train_start_idx += 1\n",
    "    train_end_idx = train_start_idx + train_volum\n",
    "    test_start_idx = train_end_idx + 1\n",
    "\n",
    "print(\"Finish\")"
   ]
  },
  {
   "cell_type": "code",
   "execution_count": null,
   "id": "6186fa78-dda6-49c7-a343-8d217c4d0494",
   "metadata": {},
   "outputs": [],
   "source": []
  },
  {
   "cell_type": "markdown",
   "id": "0bf35da2-9ccc-4556-8e56-f7c486370c92",
   "metadata": {},
   "source": [
    "* catboost performance"
   ]
  },
  {
   "cell_type": "code",
   "execution_count": null,
   "id": "fbd6a069-bdd6-42e6-af5b-83319449e50e",
   "metadata": {},
   "outputs": [],
   "source": [
    "accuracy_score(whole_truth, whole_predict)"
   ]
  },
  {
   "cell_type": "code",
   "execution_count": null,
   "id": "f395a07d-94fe-4bdf-bd1b-7d03a17e94db",
   "metadata": {},
   "outputs": [],
   "source": [
    "precision_score(whole_truth, whole_predict)"
   ]
  },
  {
   "cell_type": "code",
   "execution_count": null,
   "id": "b165f2ba-fa65-4b83-b36e-6976605b87f7",
   "metadata": {},
   "outputs": [],
   "source": [
    "recall_score(whole_truth, whole_predict)"
   ]
  },
  {
   "cell_type": "code",
   "execution_count": null,
   "id": "303d3f3d-3ca1-4241-b33a-f2f1d8b98407",
   "metadata": {},
   "outputs": [],
   "source": [
    "f1_score(whole_truth, whole_predict)"
   ]
  },
  {
   "cell_type": "code",
   "execution_count": null,
   "id": "871cd9b2-214f-4405-aede-9025c3da3af8",
   "metadata": {},
   "outputs": [],
   "source": [
    "cohen_kappa_score(whole_truth, whole_predict)"
   ]
  },
  {
   "cell_type": "code",
   "execution_count": null,
   "id": "fc5e4e74-9493-4d0f-9b4e-14f636214d9e",
   "metadata": {},
   "outputs": [],
   "source": [
    "# proba check\n",
    "\n",
    "zero_prob = [x[0] for x in whole_proba]\n",
    "one_prob = [x[1] for x in whole_proba]\n",
    "\n",
    "tr = 0.9\n",
    "\n",
    "zero_idx = np.where(np.array(zero_prob) > tr)[0]\n",
    "one_idx = np.where(np.array(one_prob) > tr)[0]"
   ]
  },
  {
   "cell_type": "code",
   "execution_count": null,
   "id": "7d755e7b-6786-4b20-971d-1f9c5ee03965",
   "metadata": {},
   "outputs": [],
   "source": [
    "1 - np.mean(np.array(whole_truth)[zero_idx])"
   ]
  },
  {
   "cell_type": "code",
   "execution_count": null,
   "id": "22e30620-5982-4f79-b18a-5ee7a67a3640",
   "metadata": {},
   "outputs": [],
   "source": [
    "np.mean(np.array(whole_truth)[one_idx])"
   ]
  },
  {
   "cell_type": "code",
   "execution_count": null,
   "id": "6b98c128-7818-4fff-b3fa-86b4809d9a53",
   "metadata": {},
   "outputs": [],
   "source": []
  },
  {
   "cell_type": "markdown",
   "id": "7c3a00aa-d7fa-454e-a53d-94c63ce18fb7",
   "metadata": {},
   "source": [
    "* xgboost performance"
   ]
  },
  {
   "cell_type": "code",
   "execution_count": 20,
   "id": "51a41b4d-fb8a-4feb-846e-bf34d722668e",
   "metadata": {},
   "outputs": [
    {
     "data": {
      "text/plain": [
       "0.5574738755111313"
      ]
     },
     "execution_count": 20,
     "metadata": {},
     "output_type": "execute_result"
    }
   ],
   "source": [
    "accuracy_score(whole_truth, whole_predict)"
   ]
  },
  {
   "cell_type": "code",
   "execution_count": 21,
   "id": "d22d5b92-3dd4-4c22-8a12-a052b8bce508",
   "metadata": {},
   "outputs": [
    {
     "data": {
      "text/plain": [
       "0.5817427385892117"
      ]
     },
     "execution_count": 21,
     "metadata": {},
     "output_type": "execute_result"
    }
   ],
   "source": [
    "precision_score(whole_truth, whole_predict)"
   ]
  },
  {
   "cell_type": "code",
   "execution_count": 22,
   "id": "db745f9b-3e0c-4a22-8b9c-95ef339aa366",
   "metadata": {},
   "outputs": [
    {
     "data": {
      "text/plain": [
       "0.5986336464560205"
      ]
     },
     "execution_count": 22,
     "metadata": {},
     "output_type": "execute_result"
    }
   ],
   "source": [
    "recall_score(whole_truth, whole_predict)"
   ]
  },
  {
   "cell_type": "code",
   "execution_count": 23,
   "id": "db382680-2464-4ab6-948f-a044d65117d4",
   "metadata": {},
   "outputs": [
    {
     "data": {
      "text/plain": [
       "0.5900673400673402"
      ]
     },
     "execution_count": 23,
     "metadata": {},
     "output_type": "execute_result"
    }
   ],
   "source": [
    "f1_score(whole_truth, whole_predict)"
   ]
  },
  {
   "cell_type": "code",
   "execution_count": 24,
   "id": "bcd11b37-0564-464e-bfc3-afb84371e5bb",
   "metadata": {},
   "outputs": [
    {
     "name": "stderr",
     "output_type": "stream",
     "text": [
      "C:\\Users\\PC0\\anaconda3\\lib\\site-packages\\sklearn\\metrics\\_classification.py:608: DeprecationWarning: `np.int` is a deprecated alias for the builtin `int`. To silence this warning, use `int` by itself. Doing this will not modify any behavior and is safe. When replacing `np.int`, you may wish to use e.g. `np.int64` or `np.int32` to specify the precision. If you wish to review your current use, check the release note link for additional information.\n",
      "Deprecated in NumPy 1.20; for more details and guidance: https://numpy.org/devdocs/release/1.20.0-notes.html#deprecations\n",
      "  w_mat = np.ones([n_classes, n_classes], dtype=np.int)\n"
     ]
    },
    {
     "data": {
      "text/plain": [
       "0.10953093418557103"
      ]
     },
     "execution_count": 24,
     "metadata": {},
     "output_type": "execute_result"
    }
   ],
   "source": [
    "cohen_kappa_score(whole_truth, whole_predict)"
   ]
  },
  {
   "cell_type": "code",
   "execution_count": 27,
   "id": "a9e8808f-ba05-4a56-9dae-febf8cdaf181",
   "metadata": {},
   "outputs": [],
   "source": [
    "# proba check\n",
    "\n",
    "zero_prob = [x[0] for x in whole_proba]\n",
    "one_prob = [x[1] for x in whole_proba]\n",
    "\n",
    "tr = 0.9\n",
    "\n",
    "zero_idx = np.where(np.array(zero_prob) > tr)[0]\n",
    "one_idx = np.where(np.array(one_prob) > tr)[0]"
   ]
  },
  {
   "cell_type": "code",
   "execution_count": 28,
   "id": "f5c00340-ddec-42df-b61d-78f75b3474c3",
   "metadata": {},
   "outputs": [
    {
     "data": {
      "text/plain": [
       "0.6126984126984127"
      ]
     },
     "execution_count": 28,
     "metadata": {},
     "output_type": "execute_result"
    }
   ],
   "source": [
    "1 - np.mean(np.array(whole_truth)[zero_idx])"
   ]
  },
  {
   "cell_type": "code",
   "execution_count": 29,
   "id": "5e2de083-ade5-4d60-a8bf-1e79ae28c446",
   "metadata": {},
   "outputs": [
    {
     "data": {
      "text/plain": [
       "0.6202290076335878"
      ]
     },
     "execution_count": 29,
     "metadata": {},
     "output_type": "execute_result"
    }
   ],
   "source": [
    "np.mean(np.array(whole_truth)[one_idx])"
   ]
  },
  {
   "cell_type": "code",
   "execution_count": null,
   "id": "149c3ba1-d7f7-4b40-9f26-30ad914340a7",
   "metadata": {},
   "outputs": [],
   "source": []
  },
  {
   "cell_type": "markdown",
   "id": "019f6530-9ad2-4844-848c-f36d5eb0ce7e",
   "metadata": {},
   "source": [
    "* ligtgbm performance"
   ]
  },
  {
   "cell_type": "code",
   "execution_count": 93,
   "id": "9fcd8957-9683-4563-829f-3275557a1197",
   "metadata": {},
   "outputs": [
    {
     "data": {
      "text/plain": [
       "0.5712429623213512"
      ]
     },
     "execution_count": 93,
     "metadata": {},
     "output_type": "execute_result"
    }
   ],
   "source": [
    "accuracy_score(whole_truth, whole_predict)"
   ]
  },
  {
   "cell_type": "code",
   "execution_count": 94,
   "id": "29942d88-317a-45e8-94eb-ef7facaa17e4",
   "metadata": {},
   "outputs": [
    {
     "data": {
      "text/plain": [
       "0.5900233826968043"
      ]
     },
     "execution_count": 94,
     "metadata": {},
     "output_type": "execute_result"
    }
   ],
   "source": [
    "precision_score(whole_truth, whole_predict)"
   ]
  },
  {
   "cell_type": "code",
   "execution_count": 95,
   "id": "ff5fdc63-8ae9-4eed-96f0-117b1ba131f9",
   "metadata": {},
   "outputs": [
    {
     "data": {
      "text/plain": [
       "0.61998361998362"
      ]
     },
     "execution_count": 95,
     "metadata": {},
     "output_type": "execute_result"
    }
   ],
   "source": [
    "recall_score(whole_truth, whole_predict)"
   ]
  },
  {
   "cell_type": "code",
   "execution_count": 96,
   "id": "7636e6e6-0670-4036-8049-538c4f0c4a72",
   "metadata": {},
   "outputs": [
    {
     "data": {
      "text/plain": [
       "0.6046325878594249"
      ]
     },
     "execution_count": 96,
     "metadata": {},
     "output_type": "execute_result"
    }
   ],
   "source": [
    "f1_score(whole_truth, whole_predict)"
   ]
  },
  {
   "cell_type": "code",
   "execution_count": 97,
   "id": "d33700a9-c0cb-4908-b7e5-8d52113bf5e7",
   "metadata": {},
   "outputs": [
    {
     "data": {
      "text/plain": [
       "0.13695278726898608"
      ]
     },
     "execution_count": 97,
     "metadata": {},
     "output_type": "execute_result"
    }
   ],
   "source": [
    "cohen_kappa_score(whole_truth, whole_predict)"
   ]
  },
  {
   "cell_type": "code",
   "execution_count": 149,
   "id": "b3a8a5b5-e90f-462c-984b-3ce9520a4c60",
   "metadata": {},
   "outputs": [],
   "source": [
    "# proba check\n",
    "\n",
    "zero_prob = [x[0] for x in whole_proba]\n",
    "one_prob = [x[1] for x in whole_proba]\n",
    "\n",
    "tr = 0.9\n",
    "\n",
    "zero_idx = np.where(np.array(zero_prob) > tr)[0]\n",
    "one_idx = np.where(np.array(one_prob) > tr)[0]"
   ]
  },
  {
   "cell_type": "code",
   "execution_count": 150,
   "id": "db02df2c-18d8-43af-b324-d899ba3a9163",
   "metadata": {},
   "outputs": [
    {
     "data": {
      "text/plain": [
       "0.6079136690647482"
      ]
     },
     "execution_count": 150,
     "metadata": {},
     "output_type": "execute_result"
    }
   ],
   "source": [
    "1 - np.mean(np.array(whole_truth)[zero_idx])"
   ]
  },
  {
   "cell_type": "code",
   "execution_count": 151,
   "id": "f865c4cc-5b53-4596-a2b6-0bd813fc3511",
   "metadata": {},
   "outputs": [
    {
     "data": {
      "text/plain": [
       "0.6206896551724138"
      ]
     },
     "execution_count": 151,
     "metadata": {},
     "output_type": "execute_result"
    }
   ],
   "source": [
    "np.mean(np.array(whole_truth)[one_idx])"
   ]
  },
  {
   "cell_type": "code",
   "execution_count": null,
   "id": "8af75b7f-2a3c-4f8f-b05e-f0a15ee2a531",
   "metadata": {},
   "outputs": [],
   "source": []
  },
  {
   "cell_type": "code",
   "execution_count": 98,
   "id": "a0dc8708-949e-4aa0-9107-dbcad29d2228",
   "metadata": {},
   "outputs": [],
   "source": [
    "from collections import Counter"
   ]
  },
  {
   "cell_type": "code",
   "execution_count": 99,
   "id": "967b2368-3459-4ffa-a5ed-5b9615a8c254",
   "metadata": {},
   "outputs": [
    {
     "data": {
      "text/plain": [
       "Counter({0: 1088, 1: 1221})"
      ]
     },
     "execution_count": 99,
     "metadata": {},
     "output_type": "execute_result"
    }
   ],
   "source": [
    "Counter(whole_truth)"
   ]
  },
  {
   "cell_type": "code",
   "execution_count": 101,
   "id": "2456159e-4bc8-49cc-b252-8188a83ec391",
   "metadata": {},
   "outputs": [
    {
     "data": {
      "text/plain": [
       "0.5288003464703335"
      ]
     },
     "execution_count": 101,
     "metadata": {},
     "output_type": "execute_result"
    }
   ],
   "source": [
    "1221/(1088+1221)"
   ]
  },
  {
   "cell_type": "code",
   "execution_count": null,
   "id": "e0508faf-88aa-4a15-ba2a-956cc41a3697",
   "metadata": {},
   "outputs": [],
   "source": []
  }
 ],
 "metadata": {
  "kernelspec": {
   "display_name": "Python 3",
   "language": "python",
   "name": "python3"
  },
  "language_info": {
   "codemirror_mode": {
    "name": "ipython",
    "version": 3
   },
   "file_extension": ".py",
   "mimetype": "text/x-python",
   "name": "python",
   "nbconvert_exporter": "python",
   "pygments_lexer": "ipython3",
   "version": "3.8.8"
  }
 },
 "nbformat": 4,
 "nbformat_minor": 5
}
