{
 "cells": [
  {
   "cell_type": "markdown",
   "id": "1b0e539c-c802-4396-a1c5-faf502a1feec",
   "metadata": {},
   "source": [
    "## Import"
   ]
  },
  {
   "cell_type": "code",
   "execution_count": 1,
   "id": "94556c6e-df9a-4c88-af24-eaf46e1aaa75",
   "metadata": {},
   "outputs": [],
   "source": [
    "from bs4 import BeautifulSoup\n",
    "from selenium import webdriver\n",
    "from selenium.common.exceptions import NoSuchElementException\n",
    "from selenium.webdriver.common.keys import Keys\n",
    "from tqdm import tqdm\n",
    "from functools import reduce\n",
    "\n",
    "import numpy as np\n",
    "import pandas as pd\n",
    "import re, time\n",
    "import requests\n",
    "import pickle\n",
    "import warnings\n",
    "\n",
    "warnings.filterwarnings(action='ignore')"
   ]
  },
  {
   "cell_type": "code",
   "execution_count": 2,
   "id": "7c4b1376-aa2e-4326-888b-31dc9406ead7",
   "metadata": {},
   "outputs": [
    {
     "data": {
      "text/plain": [
       "'C:\\\\Users\\\\PC0\\\\Documents\\\\GitHub\\\\Stock-price-prediction\\\\ipynb\\\\crawling-code'"
      ]
     },
     "execution_count": 2,
     "metadata": {},
     "output_type": "execute_result"
    }
   ],
   "source": [
    "import os\n",
    "os.getcwd()"
   ]
  },
  {
   "cell_type": "code",
   "execution_count": 3,
   "id": "1cd7fd75-cc35-4f4a-bf0e-a1dbcf590b00",
   "metadata": {},
   "outputs": [],
   "source": [
    "out_data_path = 'C:\\\\Users\\\\PC0\\\\Documents\\\\datasets\\\\stock_price\\\\'\n",
    "data_path = 'C:\\\\Users\\\\PC0\\\\Documents\\\\GitHub\\\\Stock-price-prediction\\\\datasets\\\\'"
   ]
  },
  {
   "cell_type": "code",
   "execution_count": null,
   "id": "8b65d2bc-92fe-4864-9495-ef1834a64ec8",
   "metadata": {},
   "outputs": [],
   "source": []
  },
  {
   "cell_type": "markdown",
   "id": "0651d7a0-8f11-43b4-9467-9fcc234d6e7f",
   "metadata": {},
   "source": [
    "* crawling"
   ]
  },
  {
   "cell_type": "code",
   "execution_count": 4,
   "id": "34aefcca-30e6-44c0-bf58-45437d66f633",
   "metadata": {},
   "outputs": [],
   "source": [
    "options = webdriver.ChromeOptions()\n",
    "\n",
    "options.add_argument(\"--disable-blink-features=AutomationControlled\")\n",
    "options.add_argument(\"user-agent=Mozilla/5.0 (Windows NT 10.0; Win64; x64) AppleWebKit/537.36 (KHTML, like Gecko) Chrome/98.0.4758.82 Safari/537.36\")\n",
    "\n",
    "driver = webdriver.Chrome(\"C:\\\\Users\\\\PC0\\\\Desktop\\\\chromedriver.exe\", options=options)"
   ]
  },
  {
   "cell_type": "code",
   "execution_count": null,
   "id": "379acdb9-a331-4dc2-87a1-a74f795ca205",
   "metadata": {},
   "outputs": [],
   "source": []
  },
  {
   "cell_type": "markdown",
   "id": "2c8b26f8-1950-43fb-8319-6e3cad5ea919",
   "metadata": {},
   "source": [
    "* agricultural "
   ]
  },
  {
   "cell_type": "code",
   "execution_count": 5,
   "id": "5c302a63-9429-4cd9-815e-7910cbb26cbf",
   "metadata": {},
   "outputs": [],
   "source": [
    "start_day = \"2012/01/01\""
   ]
  },
  {
   "cell_type": "code",
   "execution_count": 6,
   "id": "ca24207f-e475-40c2-ab33-49c81ca4cecb",
   "metadata": {},
   "outputs": [],
   "source": [
    "cont = ['germany', 'u.s.', 'brazil', 'switzerland', 'uk', 'italy', 'japan',\n",
    "       'china', 'canada', 'france', 'south-korea', 'australia']"
   ]
  },
  {
   "cell_type": "code",
   "execution_count": 7,
   "id": "6eacd386-3a60-4196-838f-e31f387af29a",
   "metadata": {},
   "outputs": [],
   "source": [
    "urls = ['https://kr.investing.com/rates-bonds/{}-1-year-bond-yield-historical-data'.format(x) for x in cont]\n",
    "urls.extend(['https://kr.investing.com/rates-bonds/{}-10-year-bond-yield-historical-data'.format(x) for x in cont])"
   ]
  },
  {
   "cell_type": "code",
   "execution_count": 8,
   "id": "7f2cfd52-1beb-46ac-bb98-6a767f0fa9be",
   "metadata": {},
   "outputs": [],
   "source": [
    "names = [(x.split(\"/\")[-1]).split(\"-year\")[0] + \"_bond\" for x in urls]\n",
    "names = [x.split(\"_bond\")[0] for x in names]"
   ]
  },
  {
   "cell_type": "code",
   "execution_count": 9,
   "id": "7341237e-9ad1-4720-8011-d8e547f588e2",
   "metadata": {},
   "outputs": [],
   "source": [
    "start_idx = 0"
   ]
  },
  {
   "cell_type": "code",
   "execution_count": 10,
   "id": "8fa855ad-8915-48a1-a119-ba3f68a757f4",
   "metadata": {},
   "outputs": [
    {
     "name": "stderr",
     "output_type": "stream",
     "text": [
      "24it [09:18, 23.27s/it]\n"
     ]
    }
   ],
   "source": [
    "# inner loop\n",
    "index_list = []\n",
    "\n",
    "for idx, url in tqdm(enumerate(urls[start_idx:])):\n",
    "    driver.get(url)\n",
    "    time.sleep(5)\n",
    "\n",
    "    # 날짜 입력란\n",
    "    tmp_date = driver.find_element_by_css_selector(\"div#widgetFieldDateRange\")\n",
    "    tmp_date.click()\n",
    "    driver.implicitly_wait(3)\n",
    "\n",
    "    tmp_input = driver.find_element_by_css_selector(\"input#startDate\")\n",
    "    time.sleep(0.5)\n",
    "\n",
    "    # 기존 날짜 지우기\n",
    "    for _ in range(11) :\n",
    "        tmp_input.send_keys(Keys.BACKSPACE)\n",
    "        tmp_input = driver.find_element_by_css_selector(\"input#startDate\")\n",
    "        time.sleep(0.5)\n",
    "\n",
    "    tmp_input.send_keys(start_day)\n",
    "\n",
    "    # 요청 버튼\n",
    "    request_btn = driver.find_element_by_css_selector(\"a#applyBtn\")\n",
    "    request_btn.click()\n",
    "    time.sleep(5)\n",
    "\n",
    "    tables = driver.find_elements_by_css_selector(\"table#curr_table\")\n",
    "\n",
    "    values = tables[0].text.split(\"\\n\")[1:]\n",
    "\n",
    "    values = [re.sub(\"[^0-9a-zA-Z.\\\\- ]\",\"\",x) for x in values]\n",
    "\n",
    "    name = names[idx]\n",
    "\n",
    "    index_dict = {\"date\":[],\n",
    "                 \"{}_close\".format(name):[],\n",
    "                 \"{}_var\".format(name):[]}\n",
    "\n",
    "    for val in values:\n",
    "        try :\n",
    "            year, month, day, close, _, _, _, variation= val.split(\" \")\n",
    "        except ValueError:\n",
    "            year, month, day, close, _, _, _, vol, variation= val.split(\" \")\n",
    "\n",
    "        date = \"-\".join([year, month, day])\n",
    "        index_dict['date'].append(date)\n",
    "        index_dict['{}_close'.format(name)].append(close)\n",
    "        index_dict['{}_var'.format(name)].append(variation)\n",
    "\n",
    "    index_list.append(pd.DataFrame.from_dict(index_dict, orient = \"index\").T)\n",
    "    start_idx += 1\n",
    "\n",
    "index_df = reduce(lambda  left,right: pd.merge(left,right,on=['date'], how='outer'), index_list)"
   ]
  },
  {
   "cell_type": "code",
   "execution_count": 11,
   "id": "baf7ae06-3755-4659-8451-554bf1f7e390",
   "metadata": {},
   "outputs": [],
   "source": [
    "index_df = index_df.sort_values(\"date\", ascending = False)"
   ]
  },
  {
   "cell_type": "code",
   "execution_count": 12,
   "id": "eb723fe7-efb1-48bf-b7dc-54dbd4e30075",
   "metadata": {},
   "outputs": [
    {
     "data": {
      "text/html": [
       "<div>\n",
       "<style scoped>\n",
       "    .dataframe tbody tr th:only-of-type {\n",
       "        vertical-align: middle;\n",
       "    }\n",
       "\n",
       "    .dataframe tbody tr th {\n",
       "        vertical-align: top;\n",
       "    }\n",
       "\n",
       "    .dataframe thead th {\n",
       "        text-align: right;\n",
       "    }\n",
       "</style>\n",
       "<table border=\"1\" class=\"dataframe\">\n",
       "  <thead>\n",
       "    <tr style=\"text-align: right;\">\n",
       "      <th></th>\n",
       "      <th>date</th>\n",
       "      <th>germany-1_close</th>\n",
       "      <th>germany-1_var</th>\n",
       "      <th>u.s.-1_close</th>\n",
       "      <th>u.s.-1_var</th>\n",
       "      <th>brazil-1_close</th>\n",
       "      <th>brazil-1_var</th>\n",
       "      <th>switzerland-1_close</th>\n",
       "      <th>switzerland-1_var</th>\n",
       "      <th>uk-1_close</th>\n",
       "      <th>...</th>\n",
       "      <th>china-10_close</th>\n",
       "      <th>china-10_var</th>\n",
       "      <th>canada-10_close</th>\n",
       "      <th>canada-10_var</th>\n",
       "      <th>france-10_close</th>\n",
       "      <th>france-10_var</th>\n",
       "      <th>south-korea-10_close</th>\n",
       "      <th>south-korea-10_var</th>\n",
       "      <th>australia-10_close</th>\n",
       "      <th>australia-10_var</th>\n",
       "    </tr>\n",
       "  </thead>\n",
       "  <tbody>\n",
       "    <tr>\n",
       "      <th>2890</th>\n",
       "      <td>2012-01-05</td>\n",
       "      <td>-0.068</td>\n",
       "      <td>21.43</td>\n",
       "      <td>0.1010</td>\n",
       "      <td>-1.94</td>\n",
       "      <td>10.202</td>\n",
       "      <td>0.13</td>\n",
       "      <td>0.250</td>\n",
       "      <td>25.00</td>\n",
       "      <td>0.4030</td>\n",
       "      <td>...</td>\n",
       "      <td>3.450</td>\n",
       "      <td>-1.43</td>\n",
       "      <td>1.972</td>\n",
       "      <td>-1.15</td>\n",
       "      <td>3.384</td>\n",
       "      <td>2.05</td>\n",
       "      <td>3.780</td>\n",
       "      <td>-0.26</td>\n",
       "      <td>3.902</td>\n",
       "      <td>-0.20</td>\n",
       "    </tr>\n",
       "    <tr>\n",
       "      <th>2891</th>\n",
       "      <td>2012-01-04</td>\n",
       "      <td>-0.056</td>\n",
       "      <td>229.41</td>\n",
       "      <td>0.1030</td>\n",
       "      <td>-2.83</td>\n",
       "      <td>10.189</td>\n",
       "      <td>0.69</td>\n",
       "      <td>0.200</td>\n",
       "      <td>-83.05</td>\n",
       "      <td>0.3730</td>\n",
       "      <td>...</td>\n",
       "      <td>3.500</td>\n",
       "      <td>-1.41</td>\n",
       "      <td>1.995</td>\n",
       "      <td>0.10</td>\n",
       "      <td>3.316</td>\n",
       "      <td>1.47</td>\n",
       "      <td>3.790</td>\n",
       "      <td>0.00</td>\n",
       "      <td>3.910</td>\n",
       "      <td>-1.09</td>\n",
       "    </tr>\n",
       "    <tr>\n",
       "      <th>2892</th>\n",
       "      <td>2012-01-03</td>\n",
       "      <td>-0.017</td>\n",
       "      <td>-76.71</td>\n",
       "      <td>0.1060</td>\n",
       "      <td>-1.85</td>\n",
       "      <td>10.119</td>\n",
       "      <td>0.20</td>\n",
       "      <td>1.180</td>\n",
       "      <td>-4.84</td>\n",
       "      <td>0.3340</td>\n",
       "      <td>...</td>\n",
       "      <td>NaN</td>\n",
       "      <td>NaN</td>\n",
       "      <td>1.993</td>\n",
       "      <td>2.52</td>\n",
       "      <td>3.268</td>\n",
       "      <td>0.93</td>\n",
       "      <td>3.790</td>\n",
       "      <td>0.26</td>\n",
       "      <td>3.953</td>\n",
       "      <td>4.03</td>\n",
       "    </tr>\n",
       "    <tr>\n",
       "      <th>2893</th>\n",
       "      <td>2012-01-02</td>\n",
       "      <td>-0.073</td>\n",
       "      <td>-16.09</td>\n",
       "      <td>NaN</td>\n",
       "      <td>NaN</td>\n",
       "      <td>10.099</td>\n",
       "      <td>3.26</td>\n",
       "      <td>NaN</td>\n",
       "      <td>NaN</td>\n",
       "      <td>NaN</td>\n",
       "      <td>...</td>\n",
       "      <td>NaN</td>\n",
       "      <td>NaN</td>\n",
       "      <td>NaN</td>\n",
       "      <td>NaN</td>\n",
       "      <td>3.238</td>\n",
       "      <td>2.73</td>\n",
       "      <td>3.780</td>\n",
       "      <td>0.27</td>\n",
       "      <td>NaN</td>\n",
       "      <td>NaN</td>\n",
       "    </tr>\n",
       "    <tr>\n",
       "      <th>3656</th>\n",
       "      <td>2012-01-01</td>\n",
       "      <td>NaN</td>\n",
       "      <td>NaN</td>\n",
       "      <td>NaN</td>\n",
       "      <td>NaN</td>\n",
       "      <td>NaN</td>\n",
       "      <td>NaN</td>\n",
       "      <td>NaN</td>\n",
       "      <td>NaN</td>\n",
       "      <td>NaN</td>\n",
       "      <td>...</td>\n",
       "      <td>NaN</td>\n",
       "      <td>NaN</td>\n",
       "      <td>NaN</td>\n",
       "      <td>NaN</td>\n",
       "      <td>NaN</td>\n",
       "      <td>NaN</td>\n",
       "      <td>NaN</td>\n",
       "      <td>NaN</td>\n",
       "      <td>NaN</td>\n",
       "      <td>NaN</td>\n",
       "    </tr>\n",
       "  </tbody>\n",
       "</table>\n",
       "<p>5 rows × 49 columns</p>\n",
       "</div>"
      ],
      "text/plain": [
       "            date germany-1_close germany-1_var u.s.-1_close u.s.-1_var  \\\n",
       "2890  2012-01-05          -0.068         21.43       0.1010      -1.94   \n",
       "2891  2012-01-04          -0.056        229.41       0.1030      -2.83   \n",
       "2892  2012-01-03          -0.017        -76.71       0.1060      -1.85   \n",
       "2893  2012-01-02          -0.073        -16.09          NaN        NaN   \n",
       "3656  2012-01-01             NaN           NaN          NaN        NaN   \n",
       "\n",
       "     brazil-1_close brazil-1_var switzerland-1_close switzerland-1_var  \\\n",
       "2890         10.202         0.13               0.250             25.00   \n",
       "2891         10.189         0.69               0.200            -83.05   \n",
       "2892         10.119         0.20               1.180             -4.84   \n",
       "2893         10.099         3.26                 NaN               NaN   \n",
       "3656            NaN          NaN                 NaN               NaN   \n",
       "\n",
       "     uk-1_close  ... china-10_close china-10_var canada-10_close  \\\n",
       "2890     0.4030  ...          3.450        -1.43           1.972   \n",
       "2891     0.3730  ...          3.500        -1.41           1.995   \n",
       "2892     0.3340  ...            NaN          NaN           1.993   \n",
       "2893        NaN  ...            NaN          NaN             NaN   \n",
       "3656        NaN  ...            NaN          NaN             NaN   \n",
       "\n",
       "     canada-10_var france-10_close france-10_var south-korea-10_close  \\\n",
       "2890         -1.15           3.384          2.05                3.780   \n",
       "2891          0.10           3.316          1.47                3.790   \n",
       "2892          2.52           3.268          0.93                3.790   \n",
       "2893           NaN           3.238          2.73                3.780   \n",
       "3656           NaN             NaN           NaN                  NaN   \n",
       "\n",
       "     south-korea-10_var australia-10_close australia-10_var  \n",
       "2890              -0.26              3.902            -0.20  \n",
       "2891               0.00              3.910            -1.09  \n",
       "2892               0.26              3.953             4.03  \n",
       "2893               0.27                NaN              NaN  \n",
       "3656                NaN                NaN              NaN  \n",
       "\n",
       "[5 rows x 49 columns]"
      ]
     },
     "execution_count": 12,
     "metadata": {},
     "output_type": "execute_result"
    }
   ],
   "source": [
    "index_df.tail()"
   ]
  },
  {
   "cell_type": "code",
   "execution_count": 13,
   "id": "12790421-b831-4df7-a9a8-cc105fa5b07e",
   "metadata": {},
   "outputs": [
    {
     "data": {
      "text/plain": [
       "(3717, 49)"
      ]
     },
     "execution_count": 13,
     "metadata": {},
     "output_type": "execute_result"
    }
   ],
   "source": [
    "index_df.shape"
   ]
  },
  {
   "cell_type": "code",
   "execution_count": 14,
   "id": "9bb16f23-b4cf-41c3-906d-488c70a778a8",
   "metadata": {},
   "outputs": [],
   "source": [
    "index_df.to_csv(data_path + \"bond_df.csv\", index = False)"
   ]
  },
  {
   "cell_type": "code",
   "execution_count": null,
   "id": "3d1d1d47-e439-4857-aae6-688fd093ec55",
   "metadata": {},
   "outputs": [],
   "source": []
  }
 ],
 "metadata": {
  "kernelspec": {
   "display_name": "Python 3",
   "language": "python",
   "name": "python3"
  },
  "language_info": {
   "codemirror_mode": {
    "name": "ipython",
    "version": 3
   },
   "file_extension": ".py",
   "mimetype": "text/x-python",
   "name": "python",
   "nbconvert_exporter": "python",
   "pygments_lexer": "ipython3",
   "version": "3.8.8"
  }
 },
 "nbformat": 4,
 "nbformat_minor": 5
}
