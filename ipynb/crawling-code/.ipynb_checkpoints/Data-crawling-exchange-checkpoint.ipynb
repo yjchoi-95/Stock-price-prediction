{
 "cells": [
  {
   "cell_type": "markdown",
   "id": "1b0e539c-c802-4396-a1c5-faf502a1feec",
   "metadata": {},
   "source": [
    "## Import"
   ]
  },
  {
   "cell_type": "code",
   "execution_count": 1,
   "id": "94556c6e-df9a-4c88-af24-eaf46e1aaa75",
   "metadata": {},
   "outputs": [],
   "source": [
    "from bs4 import BeautifulSoup\n",
    "from selenium import webdriver\n",
    "from selenium.common.exceptions import NoSuchElementException\n",
    "from selenium.webdriver.common.keys import Keys\n",
    "from tqdm import tqdm\n",
    "from functools import reduce\n",
    "\n",
    "import numpy as np\n",
    "import pandas as pd\n",
    "import re, time\n",
    "import requests\n",
    "import pickle\n",
    "import warnings\n",
    "\n",
    "warnings.filterwarnings(action='ignore')"
   ]
  },
  {
   "cell_type": "code",
   "execution_count": 2,
   "id": "7c4b1376-aa2e-4326-888b-31dc9406ead7",
   "metadata": {},
   "outputs": [
    {
     "data": {
      "text/plain": [
       "'C:\\\\Users\\\\PC0\\\\Documents\\\\GitHub\\\\Stock-price-prediction\\\\ipynb\\\\crawling-code'"
      ]
     },
     "execution_count": 2,
     "metadata": {},
     "output_type": "execute_result"
    }
   ],
   "source": [
    "import os\n",
    "os.getcwd()"
   ]
  },
  {
   "cell_type": "code",
   "execution_count": 3,
   "id": "1cd7fd75-cc35-4f4a-bf0e-a1dbcf590b00",
   "metadata": {},
   "outputs": [],
   "source": [
    "out_data_path = 'C:\\\\Users\\\\PC0\\\\Documents\\\\datasets\\\\stock_price\\\\'\n",
    "data_path = 'C:\\\\Users\\\\PC0\\\\Documents\\\\GitHub\\\\Stock-price-prediction\\\\datasets\\\\'"
   ]
  },
  {
   "cell_type": "code",
   "execution_count": null,
   "id": "8b65d2bc-92fe-4864-9495-ef1834a64ec8",
   "metadata": {},
   "outputs": [],
   "source": []
  },
  {
   "cell_type": "markdown",
   "id": "0651d7a0-8f11-43b4-9467-9fcc234d6e7f",
   "metadata": {},
   "source": [
    "* crawling"
   ]
  },
  {
   "cell_type": "code",
   "execution_count": 4,
   "id": "34aefcca-30e6-44c0-bf58-45437d66f633",
   "metadata": {},
   "outputs": [],
   "source": [
    "options = webdriver.ChromeOptions()\n",
    "\n",
    "options.add_argument(\"--disable-blink-features=AutomationControlled\")\n",
    "options.add_argument(\"user-agent=Mozilla/5.0 (Windows NT 10.0; Win64; x64) AppleWebKit/537.36 (KHTML, like Gecko) Chrome/98.0.4758.82 Safari/537.36\")\n",
    "\n",
    "driver = webdriver.Chrome(\"C:\\\\Users\\\\PC0\\\\Desktop\\\\chromedriver.exe\", options=options)"
   ]
  },
  {
   "cell_type": "code",
   "execution_count": null,
   "id": "379acdb9-a331-4dc2-87a1-a74f795ca205",
   "metadata": {},
   "outputs": [],
   "source": []
  },
  {
   "cell_type": "markdown",
   "id": "2c8b26f8-1950-43fb-8319-6e3cad5ea919",
   "metadata": {},
   "source": [
    "* agricultural "
   ]
  },
  {
   "cell_type": "code",
   "execution_count": 5,
   "id": "5c302a63-9429-4cd9-815e-7910cbb26cbf",
   "metadata": {},
   "outputs": [],
   "source": [
    "start_day = \"2012/01/01\""
   ]
  },
  {
   "cell_type": "code",
   "execution_count": 6,
   "id": "afba9e54-6784-429f-9599-f42ca37fea30",
   "metadata": {},
   "outputs": [],
   "source": [
    "urls = ['https://kr.investing.com/currencies/streaming-forex-rates-majors',\n",
    "       'https://kr.investing.com/currencies/eur-krw',\n",
    "       'https://kr.investing.com/currencies/jpy-krw',\n",
    "       'https://kr.investing.com/currencies/usd-krw',\n",
    "       'https://kr.investing.com/currencies/gbp-krw']"
   ]
  },
  {
   "cell_type": "code",
   "execution_count": 7,
   "id": "7341237e-9ad1-4720-8011-d8e547f588e2",
   "metadata": {},
   "outputs": [],
   "source": [
    "start_idx = 0"
   ]
  },
  {
   "cell_type": "code",
   "execution_count": 8,
   "id": "c66188a4-ab65-46e3-bf6e-2fe4d6cff591",
   "metadata": {
    "tags": []
   },
   "outputs": [
    {
     "name": "stderr",
     "output_type": "stream",
     "text": [
      "41it [15:12, 22.25s/it]\n",
      "0it [00:00, ?it/s]\n",
      "0it [00:00, ?it/s]\n",
      "0it [00:00, ?it/s]\n",
      "0it [00:00, ?it/s]\n"
     ]
    }
   ],
   "source": [
    "for idx_1, url in enumerate(urls):\n",
    "    driver.get(url)\n",
    "    time.sleep(3)\n",
    "    \n",
    "    temp_names = driver.find_elements_by_css_selector(\"table#cr1 tbody tr td.bold.left.noWrap.elp.plusIconTd a\")\n",
    "    names = [re.sub(\" \",\"_\",x.text) for x in temp_names]\n",
    "    urls = [x.get_attribute(\"href\") + \"-historical-data\" for x in temp_names]\n",
    "    index_names = [(x.split(\"/\")[-1]).split(\"-historical\")[0] for x in urls]\n",
    "\n",
    "    if idx_1 == 0:\n",
    "        symbol_df = pd.DataFrame({\"symbol\":index_names,\n",
    "                                 \"name\":names,\n",
    "                                 \"url\":urls})\n",
    "    else:\n",
    "        temp_df = pd.DataFrame({\"symbol\":index_names,\n",
    "                                 \"name\":names,\n",
    "                                 \"url\":urls})\n",
    "        symbol_df = symbol_df.append(temp_df)\n",
    "        \n",
    "    # inner loop\n",
    "    index_list = []\n",
    "\n",
    "    for idx, url in tqdm(enumerate(urls[start_idx:])):\n",
    "        driver.get(url)\n",
    "        time.sleep(5)\n",
    "\n",
    "        # 날짜 입력란\n",
    "        tmp_date = driver.find_element_by_css_selector(\"div#widgetFieldDateRange\")\n",
    "        tmp_date.click()\n",
    "        driver.implicitly_wait(3)\n",
    "\n",
    "        tmp_input = driver.find_element_by_css_selector(\"input#startDate\")\n",
    "        time.sleep(0.5)\n",
    "\n",
    "        # 기존 날짜 지우기\n",
    "        for _ in range(11) :\n",
    "            tmp_input.send_keys(Keys.BACKSPACE)\n",
    "            tmp_input = driver.find_element_by_css_selector(\"input#startDate\")\n",
    "            time.sleep(0.5)\n",
    "\n",
    "        tmp_input.send_keys(start_day)\n",
    "\n",
    "        # 요청 버튼\n",
    "        request_btn = driver.find_element_by_css_selector(\"a#applyBtn\")\n",
    "        request_btn.click()\n",
    "        time.sleep(5)\n",
    "\n",
    "        tables = driver.find_elements_by_css_selector(\"table#curr_table\")\n",
    "\n",
    "        values = tables[0].text.split(\"\\n\")[1:]\n",
    "\n",
    "        values = [re.sub(\"[^0-9a-zA-Z.\\\\- ]\",\"\",x) for x in values]\n",
    "\n",
    "        name = names[idx]\n",
    "\n",
    "        index_dict = {\"date\":[],\n",
    "                     \"{}_close\".format(name):[],\n",
    "                     \"{}_var\".format(name):[]}\n",
    "\n",
    "        for val in values:\n",
    "            try :\n",
    "                year, month, day, close, _, _, _, variation= val.split(\" \")\n",
    "            except ValueError:\n",
    "                year, month, day, close, _, _, _, vol, variation= val.split(\" \")\n",
    "\n",
    "            date = \"-\".join([year, month, day])\n",
    "            index_dict['date'].append(date)\n",
    "            index_dict['{}_close'.format(name)].append(close)\n",
    "            index_dict['{}_var'.format(name)].append(variation)\n",
    "\n",
    "        index_list.append(pd.DataFrame.from_dict(index_dict, orient = \"index\").T)\n",
    "        start_idx += 1\n",
    "                \n",
    "        if idx_1 == 0:\n",
    "            index_df = reduce(lambda  left,right: pd.merge(left,right,on=['date'], how='outer'), index_list)\n",
    "        else :\n",
    "            temp_df = reduce(lambda  left,right: pd.merge(left,right,on=['date'], how='outer'), index_list)\n",
    "            index_df = pd.merge(index_df, temp_df, on = \"date\", how = \"outer\")"
   ]
  },
  {
   "cell_type": "code",
   "execution_count": 13,
   "id": "51cd4c19-22b9-4a18-9d4b-2e8f007f2508",
   "metadata": {},
   "outputs": [],
   "source": [
    "index_df = index_df.sort_values(\"date\", ascending = False)"
   ]
  },
  {
   "cell_type": "code",
   "execution_count": 14,
   "id": "bd0b1d15-c2d2-4ac9-b898-809b89082b26",
   "metadata": {},
   "outputs": [
    {
     "data": {
      "text/plain": [
       "(3711, 83)"
      ]
     },
     "execution_count": 14,
     "metadata": {},
     "output_type": "execute_result"
    }
   ],
   "source": [
    "index_df.shape"
   ]
  },
  {
   "cell_type": "code",
   "execution_count": 15,
   "id": "238dc990-3185-4e07-b962-5bf19fc89238",
   "metadata": {},
   "outputs": [
    {
     "data": {
      "text/html": [
       "<div>\n",
       "<style scoped>\n",
       "    .dataframe tbody tr th:only-of-type {\n",
       "        vertical-align: middle;\n",
       "    }\n",
       "\n",
       "    .dataframe tbody tr th {\n",
       "        vertical-align: top;\n",
       "    }\n",
       "\n",
       "    .dataframe thead th {\n",
       "        text-align: right;\n",
       "    }\n",
       "</style>\n",
       "<table border=\"1\" class=\"dataframe\">\n",
       "  <thead>\n",
       "    <tr style=\"text-align: right;\">\n",
       "      <th></th>\n",
       "      <th>date</th>\n",
       "      <th>유로/달러_close</th>\n",
       "      <th>유로/달러_var</th>\n",
       "      <th>달러/엔_close</th>\n",
       "      <th>달러/엔_var</th>\n",
       "      <th>파운드/달러_close</th>\n",
       "      <th>파운드/달러_var</th>\n",
       "      <th>달러/터키_리라_close</th>\n",
       "      <th>달러/터키_리라_var</th>\n",
       "      <th>달러/스위스_프랑_close</th>\n",
       "      <th>...</th>\n",
       "      <th>뉴질랜드_달러/캐나다_달러_close</th>\n",
       "      <th>뉴질랜드_달러/캐나다_달러_var</th>\n",
       "      <th>뉴질랜드_달러/스위스_프랑_close</th>\n",
       "      <th>뉴질랜드_달러/스위스_프랑_var</th>\n",
       "      <th>비트코인/달러_close</th>\n",
       "      <th>비트코인/달러_var</th>\n",
       "      <th>비트코인/유로_close</th>\n",
       "      <th>비트코인/유로_var</th>\n",
       "      <th>이더리움/달러_close</th>\n",
       "      <th>이더리움/달러_var</th>\n",
       "    </tr>\n",
       "  </thead>\n",
       "  <tbody>\n",
       "    <tr>\n",
       "      <th>2653</th>\n",
       "      <td>2012-01-06</td>\n",
       "      <td>1.2721</td>\n",
       "      <td>-0.46</td>\n",
       "      <td>76.96</td>\n",
       "      <td>-0.27</td>\n",
       "      <td>1.5434</td>\n",
       "      <td>-0.32</td>\n",
       "      <td>1.8776</td>\n",
       "      <td>-0.29</td>\n",
       "      <td>0.9552</td>\n",
       "      <td>...</td>\n",
       "      <td>0.8027</td>\n",
       "      <td>0.83</td>\n",
       "      <td>0.7457</td>\n",
       "      <td>0.20</td>\n",
       "      <td>NaN</td>\n",
       "      <td>NaN</td>\n",
       "      <td>NaN</td>\n",
       "      <td>NaN</td>\n",
       "      <td>NaN</td>\n",
       "      <td>NaN</td>\n",
       "    </tr>\n",
       "    <tr>\n",
       "      <th>2654</th>\n",
       "      <td>2012-01-05</td>\n",
       "      <td>1.2780</td>\n",
       "      <td>-1.25</td>\n",
       "      <td>77.17</td>\n",
       "      <td>0.58</td>\n",
       "      <td>1.5484</td>\n",
       "      <td>-0.85</td>\n",
       "      <td>1.8830</td>\n",
       "      <td>0.24</td>\n",
       "      <td>0.9524</td>\n",
       "      <td>...</td>\n",
       "      <td>0.7961</td>\n",
       "      <td>-0.14</td>\n",
       "      <td>0.7442</td>\n",
       "      <td>0.34</td>\n",
       "      <td>NaN</td>\n",
       "      <td>NaN</td>\n",
       "      <td>NaN</td>\n",
       "      <td>NaN</td>\n",
       "      <td>NaN</td>\n",
       "      <td>NaN</td>\n",
       "    </tr>\n",
       "    <tr>\n",
       "      <th>2655</th>\n",
       "      <td>2012-01-04</td>\n",
       "      <td>1.2942</td>\n",
       "      <td>-0.84</td>\n",
       "      <td>76.72</td>\n",
       "      <td>-0.02</td>\n",
       "      <td>1.5616</td>\n",
       "      <td>-0.20</td>\n",
       "      <td>1.8785</td>\n",
       "      <td>0.29</td>\n",
       "      <td>0.9423</td>\n",
       "      <td>...</td>\n",
       "      <td>0.7972</td>\n",
       "      <td>-0.18</td>\n",
       "      <td>0.7417</td>\n",
       "      <td>0.71</td>\n",
       "      <td>NaN</td>\n",
       "      <td>NaN</td>\n",
       "      <td>NaN</td>\n",
       "      <td>NaN</td>\n",
       "      <td>NaN</td>\n",
       "      <td>NaN</td>\n",
       "    </tr>\n",
       "    <tr>\n",
       "      <th>2656</th>\n",
       "      <td>2012-01-03</td>\n",
       "      <td>1.3051</td>\n",
       "      <td>0.94</td>\n",
       "      <td>76.74</td>\n",
       "      <td>-0.28</td>\n",
       "      <td>1.5647</td>\n",
       "      <td>0.93</td>\n",
       "      <td>1.8730</td>\n",
       "      <td>-1.19</td>\n",
       "      <td>0.9320</td>\n",
       "      <td>...</td>\n",
       "      <td>0.7986</td>\n",
       "      <td>0.68</td>\n",
       "      <td>0.7365</td>\n",
       "      <td>0.68</td>\n",
       "      <td>NaN</td>\n",
       "      <td>NaN</td>\n",
       "      <td>NaN</td>\n",
       "      <td>NaN</td>\n",
       "      <td>NaN</td>\n",
       "      <td>NaN</td>\n",
       "    </tr>\n",
       "    <tr>\n",
       "      <th>2657</th>\n",
       "      <td>2012-01-02</td>\n",
       "      <td>1.2929</td>\n",
       "      <td>-0.15</td>\n",
       "      <td>76.95</td>\n",
       "      <td>0.08</td>\n",
       "      <td>1.5503</td>\n",
       "      <td>-0.22</td>\n",
       "      <td>1.8955</td>\n",
       "      <td>0.56</td>\n",
       "      <td>0.9397</td>\n",
       "      <td>...</td>\n",
       "      <td>0.7932</td>\n",
       "      <td>-0.03</td>\n",
       "      <td>0.7315</td>\n",
       "      <td>0.22</td>\n",
       "      <td>NaN</td>\n",
       "      <td>NaN</td>\n",
       "      <td>NaN</td>\n",
       "      <td>NaN</td>\n",
       "      <td>NaN</td>\n",
       "      <td>NaN</td>\n",
       "    </tr>\n",
       "  </tbody>\n",
       "</table>\n",
       "<p>5 rows × 83 columns</p>\n",
       "</div>"
      ],
      "text/plain": [
       "            date 유로/달러_close 유로/달러_var 달러/엔_close 달러/엔_var 파운드/달러_close  \\\n",
       "2653  2012-01-06      1.2721     -0.46      76.96    -0.27       1.5434   \n",
       "2654  2012-01-05      1.2780     -1.25      77.17     0.58       1.5484   \n",
       "2655  2012-01-04      1.2942     -0.84      76.72    -0.02       1.5616   \n",
       "2656  2012-01-03      1.3051      0.94      76.74    -0.28       1.5647   \n",
       "2657  2012-01-02      1.2929     -0.15      76.95     0.08       1.5503   \n",
       "\n",
       "     파운드/달러_var 달러/터키_리라_close 달러/터키_리라_var 달러/스위스_프랑_close  ...  \\\n",
       "2653      -0.32         1.8776        -0.29          0.9552  ...   \n",
       "2654      -0.85         1.8830         0.24          0.9524  ...   \n",
       "2655      -0.20         1.8785         0.29          0.9423  ...   \n",
       "2656       0.93         1.8730        -1.19          0.9320  ...   \n",
       "2657      -0.22         1.8955         0.56          0.9397  ...   \n",
       "\n",
       "     뉴질랜드_달러/캐나다_달러_close 뉴질랜드_달러/캐나다_달러_var 뉴질랜드_달러/스위스_프랑_close  \\\n",
       "2653               0.8027               0.83               0.7457   \n",
       "2654               0.7961              -0.14               0.7442   \n",
       "2655               0.7972              -0.18               0.7417   \n",
       "2656               0.7986               0.68               0.7365   \n",
       "2657               0.7932              -0.03               0.7315   \n",
       "\n",
       "     뉴질랜드_달러/스위스_프랑_var 비트코인/달러_close 비트코인/달러_var 비트코인/유로_close 비트코인/유로_var  \\\n",
       "2653               0.20           NaN         NaN           NaN         NaN   \n",
       "2654               0.34           NaN         NaN           NaN         NaN   \n",
       "2655               0.71           NaN         NaN           NaN         NaN   \n",
       "2656               0.68           NaN         NaN           NaN         NaN   \n",
       "2657               0.22           NaN         NaN           NaN         NaN   \n",
       "\n",
       "     이더리움/달러_close 이더리움/달러_var  \n",
       "2653           NaN         NaN  \n",
       "2654           NaN         NaN  \n",
       "2655           NaN         NaN  \n",
       "2656           NaN         NaN  \n",
       "2657           NaN         NaN  \n",
       "\n",
       "[5 rows x 83 columns]"
      ]
     },
     "execution_count": 15,
     "metadata": {},
     "output_type": "execute_result"
    }
   ],
   "source": [
    "index_df.tail()"
   ]
  },
  {
   "cell_type": "code",
   "execution_count": 16,
   "id": "9bb16f23-b4cf-41c3-906d-488c70a778a8",
   "metadata": {},
   "outputs": [],
   "source": [
    "symbol_df.to_csv(data_path + \"exchange_symbol_df.csv\", index = False)\n",
    "index_df.to_csv(data_path + \"exchange_df.csv\", index = False)"
   ]
  },
  {
   "cell_type": "code",
   "execution_count": null,
   "id": "45d8a233-c349-406b-a32c-1c4d10991ec2",
   "metadata": {},
   "outputs": [],
   "source": []
  }
 ],
 "metadata": {
  "kernelspec": {
   "display_name": "Python 3",
   "language": "python",
   "name": "python3"
  },
  "language_info": {
   "codemirror_mode": {
    "name": "ipython",
    "version": 3
   },
   "file_extension": ".py",
   "mimetype": "text/x-python",
   "name": "python",
   "nbconvert_exporter": "python",
   "pygments_lexer": "ipython3",
   "version": "3.8.8"
  }
 },
 "nbformat": 4,
 "nbformat_minor": 5
}
