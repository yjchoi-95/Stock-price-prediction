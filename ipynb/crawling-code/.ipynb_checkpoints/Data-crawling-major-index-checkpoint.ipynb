{
 "cells": [
  {
   "cell_type": "markdown",
   "id": "1b0e539c-c802-4396-a1c5-faf502a1feec",
   "metadata": {},
   "source": [
    "## Import"
   ]
  },
  {
   "cell_type": "code",
   "execution_count": 2,
   "id": "94556c6e-df9a-4c88-af24-eaf46e1aaa75",
   "metadata": {},
   "outputs": [],
   "source": [
    "from bs4 import BeautifulSoup\n",
    "from selenium import webdriver\n",
    "from selenium.common.exceptions import NoSuchElementException\n",
    "from selenium.webdriver.common.keys import Keys\n",
    "from tqdm import tqdm\n",
    "from functools import reduce\n",
    "\n",
    "import numpy as np\n",
    "import pandas as pd\n",
    "import re, time\n",
    "import requests\n",
    "import pickle\n",
    "import warnings\n",
    "\n",
    "warnings.filterwarnings(action='ignore')"
   ]
  },
  {
   "cell_type": "code",
   "execution_count": 3,
   "id": "7c4b1376-aa2e-4326-888b-31dc9406ead7",
   "metadata": {},
   "outputs": [
    {
     "data": {
      "text/plain": [
       "'C:\\\\Users\\\\PC0\\\\Documents\\\\GitHub\\\\Stock-price-prediction\\\\ipynb\\\\crawling-code'"
      ]
     },
     "execution_count": 3,
     "metadata": {},
     "output_type": "execute_result"
    }
   ],
   "source": [
    "import os\n",
    "os.getcwd()"
   ]
  },
  {
   "cell_type": "code",
   "execution_count": 4,
   "id": "1cd7fd75-cc35-4f4a-bf0e-a1dbcf590b00",
   "metadata": {},
   "outputs": [],
   "source": [
    "out_data_path = 'C:\\\\Users\\\\PC0\\\\Documents\\\\datasets\\\\stock_price\\\\'\n",
    "data_path = 'C:\\\\Users\\\\PC0\\\\Documents\\\\GitHub\\\\Stock-price-prediction\\\\datasets\\\\'"
   ]
  },
  {
   "cell_type": "code",
   "execution_count": null,
   "id": "8b65d2bc-92fe-4864-9495-ef1834a64ec8",
   "metadata": {},
   "outputs": [],
   "source": []
  },
  {
   "cell_type": "markdown",
   "id": "0651d7a0-8f11-43b4-9467-9fcc234d6e7f",
   "metadata": {},
   "source": [
    "* crawling"
   ]
  },
  {
   "cell_type": "code",
   "execution_count": 5,
   "id": "34aefcca-30e6-44c0-bf58-45437d66f633",
   "metadata": {},
   "outputs": [],
   "source": [
    "options = webdriver.ChromeOptions()\n",
    "\n",
    "options.add_argument(\"--disable-blink-features=AutomationControlled\")\n",
    "options.add_argument(\"user-agent=Mozilla/5.0 (Windows NT 10.0; Win64; x64) AppleWebKit/537.36 (KHTML, like Gecko) Chrome/98.0.4758.82 Safari/537.36\")\n",
    "\n",
    "driver = webdriver.Chrome(\"C:\\\\Users\\\\PC0\\\\Desktop\\\\chromedriver.exe\", options=options)"
   ]
  },
  {
   "cell_type": "code",
   "execution_count": null,
   "id": "379acdb9-a331-4dc2-87a1-a74f795ca205",
   "metadata": {},
   "outputs": [],
   "source": []
  },
  {
   "cell_type": "markdown",
   "id": "2c8b26f8-1950-43fb-8319-6e3cad5ea919",
   "metadata": {},
   "source": [
    "* index - major"
   ]
  },
  {
   "cell_type": "code",
   "execution_count": 6,
   "id": "5c302a63-9429-4cd9-815e-7910cbb26cbf",
   "metadata": {},
   "outputs": [],
   "source": [
    "start_day = \"2012/01/01\""
   ]
  },
  {
   "cell_type": "code",
   "execution_count": 7,
   "id": "62558a22-5e4c-4f07-873b-bfab6c6ae3c2",
   "metadata": {},
   "outputs": [],
   "source": [
    "index = \"https://kr.investing.com/indices/major-indices\""
   ]
  },
  {
   "cell_type": "code",
   "execution_count": 8,
   "id": "ac52b420-33da-40d1-864b-0f998b52a2cf",
   "metadata": {},
   "outputs": [],
   "source": [
    "url = index"
   ]
  },
  {
   "cell_type": "code",
   "execution_count": 9,
   "id": "ad507114-664b-4b55-a217-0f5690915ae7",
   "metadata": {},
   "outputs": [],
   "source": [
    "driver.get(url)\n",
    "time.sleep(3)"
   ]
  },
  {
   "cell_type": "code",
   "execution_count": 19,
   "id": "6230efb3-ed21-48ab-98a2-aa6222606536",
   "metadata": {},
   "outputs": [],
   "source": [
    "temp_names = driver.find_elements_by_css_selector(\".table-browser_table-browser-wrapper__2ynbE table tbody a.inv-link.bold.datatable_cell--name__link__1XAxP\")[2:]"
   ]
  },
  {
   "cell_type": "code",
   "execution_count": 23,
   "id": "f52cd481-6fe6-40f8-b710-6ee32833bd0c",
   "metadata": {},
   "outputs": [],
   "source": [
    "kor_names = [x.text for x in temp_names]\n",
    "index_url = [x.get_attribute(\"href\") + \"-historical-data\" for x in temp_names]\n",
    "index_url.append('https://kr.investing.com/indices/kospi-200-historical-data')\n",
    "index_names = [x.split(\"-historical-data\")[0].split(\"/\")[-1] for x in index_url]\n",
    "kor_names.append(\"KOSPI200\")"
   ]
  },
  {
   "cell_type": "code",
   "execution_count": 24,
   "id": "4039065f-1784-4f64-933b-805a0941d4ee",
   "metadata": {},
   "outputs": [],
   "source": [
    "major_df = pd.DataFrame({\"symbol\":index_names,\n",
    "                         \"name\":kor_names,\n",
    "                         \"url\":index_url})"
   ]
  },
  {
   "cell_type": "code",
   "execution_count": 25,
   "id": "d8c6dce8-64db-478f-9850-d0c08e8eee24",
   "metadata": {},
   "outputs": [],
   "source": [
    "# major_df.to_csv(data_path + \"index_symbol_df.csv\", index = False)"
   ]
  },
  {
   "cell_type": "code",
   "execution_count": null,
   "id": "ff999fc2-ba22-4c8a-8dfc-d2ae7943878c",
   "metadata": {},
   "outputs": [],
   "source": []
  },
  {
   "cell_type": "markdown",
   "id": "463cb7b3-5000-4e73-bd57-9a795e5ccabd",
   "metadata": {},
   "source": [
    "* loop crawling"
   ]
  },
  {
   "cell_type": "code",
   "execution_count": 26,
   "id": "f9742825-73c1-48e9-bf8b-8f99c60854fe",
   "metadata": {},
   "outputs": [],
   "source": [
    "index_list = []\n",
    "start_idx = 0"
   ]
  },
  {
   "cell_type": "code",
   "execution_count": 27,
   "id": "700dfb2b-73d9-475d-9015-aa99c4a22d74",
   "metadata": {
    "tags": []
   },
   "outputs": [
    {
     "name": "stderr",
     "output_type": "stream",
     "text": [
      "42it [15:54, 22.72s/it]\n"
     ]
    }
   ],
   "source": [
    "for idx, url in tqdm(enumerate(index_url[start_idx:])):\n",
    "    driver.get(url)\n",
    "    time.sleep(5)\n",
    "\n",
    "    # 날짜 입력란\n",
    "    tmp_date = driver.find_element_by_css_selector(\"div#widgetFieldDateRange\")\n",
    "    tmp_date.click()\n",
    "    driver.implicitly_wait(3)\n",
    "\n",
    "    tmp_input = driver.find_element_by_css_selector(\"input#startDate\")\n",
    "    time.sleep(0.5)\n",
    "\n",
    "    # 기존 날짜 지우기\n",
    "    for _ in range(11) :\n",
    "        tmp_input.send_keys(Keys.BACKSPACE)\n",
    "        tmp_input = driver.find_element_by_css_selector(\"input#startDate\")\n",
    "        time.sleep(0.5)\n",
    "        \n",
    "    tmp_input.send_keys(start_day)\n",
    "\n",
    "    # 요청 버튼\n",
    "    request_btn = driver.find_element_by_css_selector(\"a#applyBtn\")\n",
    "    request_btn.click()\n",
    "    time.sleep(5)\n",
    "    \n",
    "    tables = driver.find_elements_by_css_selector(\"table#curr_table\")\n",
    "\n",
    "    values = tables[0].text.split(\"\\n\")[1:]\n",
    "\n",
    "    values = [re.sub(\"[^0-9a-zA-Z.\\\\- ]\",\"\",x) for x in values]\n",
    "\n",
    "    name = index_names[idx]\n",
    "    \n",
    "    index_dict = {\"date\":[],\n",
    "                 \"{}_close\".format(name):[],\n",
    "                 \"{}_vol\".format(name):[],\n",
    "                 \"{}_var\".format(name):[]}\n",
    "\n",
    "    for val in values:\n",
    "        year, month, day, close, _, _, _, volume, variation= val.split(\" \")\n",
    "        date = \"-\".join([year, month, day])\n",
    "        index_dict['date'].append(date)\n",
    "        index_dict['{}_close'.format(name)].append(close)\n",
    "        index_dict['{}_vol'.format(name)].append(volume)\n",
    "        index_dict['{}_var'.format(name)].append(variation)\n",
    "        \n",
    "    index_list.append(pd.DataFrame.from_dict(index_dict, orient = \"index\").T)\n",
    "    start_idx += 1"
   ]
  },
  {
   "cell_type": "code",
   "execution_count": 28,
   "id": "503aebd5-99d5-4141-9df1-f739511d1e40",
   "metadata": {},
   "outputs": [],
   "source": [
    "index_df = reduce(lambda  left,right: pd.merge(left,right,on=['date'], how='outer'), index_list)\n",
    "index_df = index_df.sort_values(\"date\", ascending = False)"
   ]
  },
  {
   "cell_type": "code",
   "execution_count": 31,
   "id": "18260530-2429-4181-af8b-60d07678ec69",
   "metadata": {},
   "outputs": [
    {
     "data": {
      "text/html": [
       "<div>\n",
       "<style scoped>\n",
       "    .dataframe tbody tr th:only-of-type {\n",
       "        vertical-align: middle;\n",
       "    }\n",
       "\n",
       "    .dataframe tbody tr th {\n",
       "        vertical-align: top;\n",
       "    }\n",
       "\n",
       "    .dataframe thead th {\n",
       "        text-align: right;\n",
       "    }\n",
       "</style>\n",
       "<table border=\"1\" class=\"dataframe\">\n",
       "  <thead>\n",
       "    <tr style=\"text-align: right;\">\n",
       "      <th></th>\n",
       "      <th>date</th>\n",
       "      <th>kosdaq_close</th>\n",
       "      <th>kosdaq_vol</th>\n",
       "      <th>kosdaq_var</th>\n",
       "      <th>us-30_close</th>\n",
       "      <th>us-30_vol</th>\n",
       "      <th>us-30_var</th>\n",
       "      <th>us-spx-500_close</th>\n",
       "      <th>us-spx-500_vol</th>\n",
       "      <th>us-spx-500_var</th>\n",
       "      <th>...</th>\n",
       "      <th>s-p-cnx-nifty_var</th>\n",
       "      <th>sensex_close</th>\n",
       "      <th>sensex_vol</th>\n",
       "      <th>sensex_var</th>\n",
       "      <th>vn-30_close</th>\n",
       "      <th>vn-30_vol</th>\n",
       "      <th>vn-30_var</th>\n",
       "      <th>kospi-200_close</th>\n",
       "      <th>kospi-200_vol</th>\n",
       "      <th>kospi-200_var</th>\n",
       "    </tr>\n",
       "  </thead>\n",
       "  <tbody>\n",
       "    <tr>\n",
       "      <th>2504</th>\n",
       "      <td>2012-01-05</td>\n",
       "      <td>521.96</td>\n",
       "      <td>654.30K</td>\n",
       "      <td>1.10</td>\n",
       "      <td>12415.70</td>\n",
       "      <td>158.44M</td>\n",
       "      <td>-0.02</td>\n",
       "      <td>1281.06</td>\n",
       "      <td>-</td>\n",
       "      <td>0.29</td>\n",
       "      <td>...</td>\n",
       "      <td>0.01</td>\n",
       "      <td>15857.08</td>\n",
       "      <td>21.12K</td>\n",
       "      <td>-0.16</td>\n",
       "      <td>376.97</td>\n",
       "      <td>-</td>\n",
       "      <td>-2.19</td>\n",
       "      <td>243.56</td>\n",
       "      <td>90.10K</td>\n",
       "      <td>-0.28</td>\n",
       "    </tr>\n",
       "    <tr>\n",
       "      <th>2505</th>\n",
       "      <td>2012-01-04</td>\n",
       "      <td>516.30</td>\n",
       "      <td>652.09K</td>\n",
       "      <td>0.48</td>\n",
       "      <td>12418.42</td>\n",
       "      <td>145.13M</td>\n",
       "      <td>0.17</td>\n",
       "      <td>1277.30</td>\n",
       "      <td>-</td>\n",
       "      <td>0.02</td>\n",
       "      <td>...</td>\n",
       "      <td>-0.33</td>\n",
       "      <td>15882.64</td>\n",
       "      <td>17.80K</td>\n",
       "      <td>-0.36</td>\n",
       "      <td>385.42</td>\n",
       "      <td>-</td>\n",
       "      <td>0.04</td>\n",
       "      <td>244.24</td>\n",
       "      <td>97.16K</td>\n",
       "      <td>-0.64</td>\n",
       "    </tr>\n",
       "    <tr>\n",
       "      <th>2506</th>\n",
       "      <td>2012-01-03</td>\n",
       "      <td>513.83</td>\n",
       "      <td>590.99K</td>\n",
       "      <td>1.39</td>\n",
       "      <td>12397.38</td>\n",
       "      <td>152.56M</td>\n",
       "      <td>1.47</td>\n",
       "      <td>1277.06</td>\n",
       "      <td>-</td>\n",
       "      <td>1.55</td>\n",
       "      <td>...</td>\n",
       "      <td>2.77</td>\n",
       "      <td>15939.36</td>\n",
       "      <td>16.16K</td>\n",
       "      <td>2.72</td>\n",
       "      <td>385.28</td>\n",
       "      <td>-</td>\n",
       "      <td>-0.85</td>\n",
       "      <td>245.82</td>\n",
       "      <td>91.37K</td>\n",
       "      <td>2.98</td>\n",
       "    </tr>\n",
       "    <tr>\n",
       "      <th>2507</th>\n",
       "      <td>2012-01-02</td>\n",
       "      <td>506.79</td>\n",
       "      <td>433.45K</td>\n",
       "      <td>1.32</td>\n",
       "      <td>NaN</td>\n",
       "      <td>NaN</td>\n",
       "      <td>NaN</td>\n",
       "      <td>NaN</td>\n",
       "      <td>NaN</td>\n",
       "      <td>NaN</td>\n",
       "      <td>...</td>\n",
       "      <td>0.27</td>\n",
       "      <td>15517.92</td>\n",
       "      <td>14.23K</td>\n",
       "      <td>0.41</td>\n",
       "      <td>NaN</td>\n",
       "      <td>NaN</td>\n",
       "      <td>NaN</td>\n",
       "      <td>238.70</td>\n",
       "      <td>67.45K</td>\n",
       "      <td>0.26</td>\n",
       "    </tr>\n",
       "    <tr>\n",
       "      <th>2660</th>\n",
       "      <td>2012-01-01</td>\n",
       "      <td>NaN</td>\n",
       "      <td>NaN</td>\n",
       "      <td>NaN</td>\n",
       "      <td>NaN</td>\n",
       "      <td>NaN</td>\n",
       "      <td>NaN</td>\n",
       "      <td>NaN</td>\n",
       "      <td>NaN</td>\n",
       "      <td>NaN</td>\n",
       "      <td>...</td>\n",
       "      <td>NaN</td>\n",
       "      <td>NaN</td>\n",
       "      <td>NaN</td>\n",
       "      <td>NaN</td>\n",
       "      <td>NaN</td>\n",
       "      <td>NaN</td>\n",
       "      <td>NaN</td>\n",
       "      <td>NaN</td>\n",
       "      <td>NaN</td>\n",
       "      <td>NaN</td>\n",
       "    </tr>\n",
       "  </tbody>\n",
       "</table>\n",
       "<p>5 rows × 127 columns</p>\n",
       "</div>"
      ],
      "text/plain": [
       "            date kosdaq_close kosdaq_vol kosdaq_var us-30_close us-30_vol  \\\n",
       "2504  2012-01-05       521.96    654.30K       1.10    12415.70   158.44M   \n",
       "2505  2012-01-04       516.30    652.09K       0.48    12418.42   145.13M   \n",
       "2506  2012-01-03       513.83    590.99K       1.39    12397.38   152.56M   \n",
       "2507  2012-01-02       506.79    433.45K       1.32         NaN       NaN   \n",
       "2660  2012-01-01          NaN        NaN        NaN         NaN       NaN   \n",
       "\n",
       "     us-30_var us-spx-500_close us-spx-500_vol us-spx-500_var  ...  \\\n",
       "2504     -0.02          1281.06              -           0.29  ...   \n",
       "2505      0.17          1277.30              -           0.02  ...   \n",
       "2506      1.47          1277.06              -           1.55  ...   \n",
       "2507       NaN              NaN            NaN            NaN  ...   \n",
       "2660       NaN              NaN            NaN            NaN  ...   \n",
       "\n",
       "     s-p-cnx-nifty_var sensex_close sensex_vol sensex_var vn-30_close  \\\n",
       "2504              0.01     15857.08     21.12K      -0.16      376.97   \n",
       "2505             -0.33     15882.64     17.80K      -0.36      385.42   \n",
       "2506              2.77     15939.36     16.16K       2.72      385.28   \n",
       "2507              0.27     15517.92     14.23K       0.41         NaN   \n",
       "2660               NaN          NaN        NaN        NaN         NaN   \n",
       "\n",
       "     vn-30_vol vn-30_var kospi-200_close kospi-200_vol kospi-200_var  \n",
       "2504         -     -2.19          243.56        90.10K         -0.28  \n",
       "2505         -      0.04          244.24        97.16K         -0.64  \n",
       "2506         -     -0.85          245.82        91.37K          2.98  \n",
       "2507       NaN       NaN          238.70        67.45K          0.26  \n",
       "2660       NaN       NaN             NaN           NaN           NaN  \n",
       "\n",
       "[5 rows x 127 columns]"
      ]
     },
     "execution_count": 31,
     "metadata": {},
     "output_type": "execute_result"
    }
   ],
   "source": [
    "index_df.tail()"
   ]
  },
  {
   "cell_type": "code",
   "execution_count": 32,
   "id": "f44e11ad-d2f5-4fca-bce7-89fc799ced97",
   "metadata": {},
   "outputs": [],
   "source": [
    "index_df.to_csv(data_path + \"index_df.csv\", index = False)"
   ]
  },
  {
   "cell_type": "code",
   "execution_count": null,
   "id": "07423de7-5e23-4c85-966a-5f834aaaecaa",
   "metadata": {},
   "outputs": [],
   "source": []
  }
 ],
 "metadata": {
  "kernelspec": {
   "display_name": "Python 3",
   "language": "python",
   "name": "python3"
  },
  "language_info": {
   "codemirror_mode": {
    "name": "ipython",
    "version": 3
   },
   "file_extension": ".py",
   "mimetype": "text/x-python",
   "name": "python",
   "nbconvert_exporter": "python",
   "pygments_lexer": "ipython3",
   "version": "3.8.8"
  }
 },
 "nbformat": 4,
 "nbformat_minor": 5
}
