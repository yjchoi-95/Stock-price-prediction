{
 "cells": [
  {
   "cell_type": "markdown",
   "id": "1b0e539c-c802-4396-a1c5-faf502a1feec",
   "metadata": {},
   "source": [
    "## Import"
   ]
  },
  {
   "cell_type": "code",
   "execution_count": 8,
   "id": "94556c6e-df9a-4c88-af24-eaf46e1aaa75",
   "metadata": {},
   "outputs": [],
   "source": [
    "from bs4 import BeautifulSoup\n",
    "from selenium import webdriver\n",
    "from selenium.common.exceptions import NoSuchElementException\n",
    "from selenium.webdriver.common.keys import Keys\n",
    "from tqdm import tqdm\n",
    "from functools import reduce\n",
    "\n",
    "import numpy as np\n",
    "import pandas as pd\n",
    "import re, time\n",
    "import requests\n",
    "import pickle\n",
    "import warnings\n",
    "\n",
    "warnings.filterwarnings(action='ignore')"
   ]
  },
  {
   "cell_type": "code",
   "execution_count": 9,
   "id": "7c4b1376-aa2e-4326-888b-31dc9406ead7",
   "metadata": {},
   "outputs": [
    {
     "data": {
      "text/plain": [
       "'C:\\\\Users\\\\PC0\\\\Documents\\\\GitHub\\\\Stock-price-prediction\\\\ipynb\\\\crawling-code'"
      ]
     },
     "execution_count": 9,
     "metadata": {},
     "output_type": "execute_result"
    }
   ],
   "source": [
    "import os\n",
    "os.getcwd()"
   ]
  },
  {
   "cell_type": "code",
   "execution_count": 10,
   "id": "1cd7fd75-cc35-4f4a-bf0e-a1dbcf590b00",
   "metadata": {},
   "outputs": [],
   "source": [
    "out_data_path = 'C:\\\\Users\\\\PC0\\\\Documents\\\\datasets\\\\stock_price\\\\'\n",
    "data_path = 'C:\\\\Users\\\\PC0\\\\Documents\\\\GitHub\\\\Stock-price-prediction\\\\datasets\\\\'"
   ]
  },
  {
   "cell_type": "code",
   "execution_count": null,
   "id": "8b65d2bc-92fe-4864-9495-ef1834a64ec8",
   "metadata": {},
   "outputs": [],
   "source": []
  },
  {
   "cell_type": "markdown",
   "id": "0651d7a0-8f11-43b4-9467-9fcc234d6e7f",
   "metadata": {},
   "source": [
    "* crawling"
   ]
  },
  {
   "cell_type": "code",
   "execution_count": 11,
   "id": "34aefcca-30e6-44c0-bf58-45437d66f633",
   "metadata": {},
   "outputs": [],
   "source": [
    "options = webdriver.ChromeOptions()\n",
    "\n",
    "options.add_argument(\"--disable-blink-features=AutomationControlled\")\n",
    "options.add_argument(\"user-agent=Mozilla/5.0 (Windows NT 10.0; Win64; x64) AppleWebKit/537.36 (KHTML, like Gecko) Chrome/98.0.4758.82 Safari/537.36\")\n",
    "\n",
    "driver = webdriver.Chrome(\"C:\\\\Users\\\\PC0\\\\Desktop\\\\chromedriver.exe\", options=options)"
   ]
  },
  {
   "cell_type": "code",
   "execution_count": null,
   "id": "379acdb9-a331-4dc2-87a1-a74f795ca205",
   "metadata": {},
   "outputs": [],
   "source": []
  },
  {
   "cell_type": "markdown",
   "id": "2c8b26f8-1950-43fb-8319-6e3cad5ea919",
   "metadata": {},
   "source": [
    "* agricultural "
   ]
  },
  {
   "cell_type": "code",
   "execution_count": 12,
   "id": "5c302a63-9429-4cd9-815e-7910cbb26cbf",
   "metadata": {},
   "outputs": [],
   "source": [
    "start_day = \"2012/01/01\""
   ]
  },
  {
   "cell_type": "code",
   "execution_count": 13,
   "id": "afba9e54-6784-429f-9599-f42ca37fea30",
   "metadata": {},
   "outputs": [],
   "source": [
    "urls = ['https://kr.investing.com/commodities/softs',\n",
    "       'https://kr.investing.com/commodities/energy']"
   ]
  },
  {
   "cell_type": "code",
   "execution_count": 14,
   "id": "669b685b-c3d3-4458-90a5-95e3894f2dc9",
   "metadata": {},
   "outputs": [
    {
     "name": "stderr",
     "output_type": "stream",
     "text": [
      "9it [03:34, 23.87s/it]\n",
      "7it [02:42, 23.21s/it]\n"
     ]
    }
   ],
   "source": [
    "for idx_1, url in enumerate(urls):\n",
    "    driver.get(url)\n",
    "    time.sleep(3)\n",
    "    \n",
    "    temp_names = driver.find_elements_by_css_selector(\"table#cross_rate_1 tbody tr td.bold.left.noWrap.elp.plusIconTd a\")\n",
    "    names = [re.sub(\" \",\"_\",x.text) for x in temp_names]\n",
    "    urls = [x.get_attribute(\"href\") + \"-historical-data\" for x in temp_names]\n",
    "    index_names = [(x.split(\"/\")[-1]).split(\"-historical\")[0] for x in urls]\n",
    "    \n",
    "    if idx_1 == 0:\n",
    "        symbol_df = pd.DataFrame({\"symbol\":index_names,\n",
    "                                 \"name\":names,\n",
    "                                 \"url\":urls})\n",
    "    else:\n",
    "        temp_df = pd.DataFrame({\"symbol\":index_names,\n",
    "                                 \"name\":names,\n",
    "                                 \"url\":urls})\n",
    "        symbol_df = symbol_df.append(temp_df)\n",
    "        \n",
    "    \n",
    "    # inner loop\n",
    "    index_list = []\n",
    "    start_idx = 0\n",
    "\n",
    "    for idx, url in tqdm(enumerate(urls[start_idx:])):\n",
    "        driver.get(url)\n",
    "        time.sleep(5)\n",
    "\n",
    "        # 날짜 입력란\n",
    "        tmp_date = driver.find_element_by_css_selector(\"div#widgetFieldDateRange\")\n",
    "        tmp_date.click()\n",
    "        driver.implicitly_wait(3)\n",
    "\n",
    "        tmp_input = driver.find_element_by_css_selector(\"input#startDate\")\n",
    "        time.sleep(0.5)\n",
    "\n",
    "        # 기존 날짜 지우기\n",
    "        for _ in range(11) :\n",
    "            tmp_input.send_keys(Keys.BACKSPACE)\n",
    "            tmp_input = driver.find_element_by_css_selector(\"input#startDate\")\n",
    "            time.sleep(0.5)\n",
    "\n",
    "        tmp_input.send_keys(start_day)\n",
    "\n",
    "        # 요청 버튼\n",
    "        request_btn = driver.find_element_by_css_selector(\"a#applyBtn\")\n",
    "        request_btn.click()\n",
    "        time.sleep(5)\n",
    "\n",
    "        tables = driver.find_elements_by_css_selector(\"table#curr_table\")\n",
    "\n",
    "        values = tables[0].text.split(\"\\n\")[1:]\n",
    "\n",
    "        values = [re.sub(\"[^0-9a-zA-Z.\\\\- ]\",\"\",x) for x in values]\n",
    "\n",
    "        name = names[idx]\n",
    "\n",
    "        index_dict = {\"date\":[],\n",
    "                     \"{}_close\".format(name):[],\n",
    "                     \"{}_vol\".format(name):[],\n",
    "                     \"{}_var\".format(name):[]}\n",
    "\n",
    "        for val in values:\n",
    "            year, month, day, close, _, _, _, volume, variation= val.split(\" \")\n",
    "            date = \"-\".join([year, month, day])\n",
    "            index_dict['date'].append(date)\n",
    "            index_dict['{}_close'.format(name)].append(close)\n",
    "            index_dict['{}_vol'.format(name)].append(volume)\n",
    "            index_dict['{}_var'.format(name)].append(variation)\n",
    "\n",
    "        index_list.append(pd.DataFrame.from_dict(index_dict, orient = \"index\").T)\n",
    "        start_idx += 1\n",
    "        \n",
    "        if idx_1 == 0:\n",
    "            index_df = reduce(lambda  left,right: pd.merge(left,right,on=['date'], how='outer'), index_list)\n",
    "        else :\n",
    "            temp_df = reduce(lambda  left,right: pd.merge(left,right,on=['date'], how='outer'), index_list)\n",
    "            index_df = pd.merge(index_df, temp_df, on = \"date\", how = \"outer\")"
   ]
  },
  {
   "cell_type": "code",
   "execution_count": 15,
   "id": "8675dcb3-235d-417f-9675-8fa0f0e09986",
   "metadata": {},
   "outputs": [],
   "source": [
    "index_df = index_df.sort_values(\"date\", ascending = False)"
   ]
  },
  {
   "cell_type": "code",
   "execution_count": 16,
   "id": "1d8aa115-4fc7-45f3-b466-895943c17a3c",
   "metadata": {},
   "outputs": [
    {
     "data": {
      "text/plain": [
       "(3010, 112)"
      ]
     },
     "execution_count": 16,
     "metadata": {},
     "output_type": "execute_result"
    }
   ],
   "source": [
    "index_df.shape"
   ]
  },
  {
   "cell_type": "code",
   "execution_count": 17,
   "id": "e1bd99e2-0fdb-493e-8a89-d3850df33be2",
   "metadata": {},
   "outputs": [
    {
     "data": {
      "text/html": [
       "<div>\n",
       "<style scoped>\n",
       "    .dataframe tbody tr th:only-of-type {\n",
       "        vertical-align: middle;\n",
       "    }\n",
       "\n",
       "    .dataframe tbody tr th {\n",
       "        vertical-align: top;\n",
       "    }\n",
       "\n",
       "    .dataframe thead th {\n",
       "        text-align: right;\n",
       "    }\n",
       "</style>\n",
       "<table border=\"1\" class=\"dataframe\">\n",
       "  <thead>\n",
       "    <tr style=\"text-align: right;\">\n",
       "      <th></th>\n",
       "      <th>date</th>\n",
       "      <th>런던_설탕_close</th>\n",
       "      <th>런던_설탕_vol</th>\n",
       "      <th>런던_설탕_var</th>\n",
       "      <th>런던_커피_close</th>\n",
       "      <th>런던_커피_vol</th>\n",
       "      <th>런던_커피_var</th>\n",
       "      <th>런던_코코아_close</th>\n",
       "      <th>런던_코코아_vol</th>\n",
       "      <th>런던_코코아_var</th>\n",
       "      <th>...</th>\n",
       "      <th>런던_가스_오일_var_y</th>\n",
       "      <th>브렌트유_close</th>\n",
       "      <th>브렌트유_vol</th>\n",
       "      <th>브렌트유_var</th>\n",
       "      <th>천연가스_close_y</th>\n",
       "      <th>천연가스_vol_y</th>\n",
       "      <th>천연가스_var_y</th>\n",
       "      <th>탄소배출권_close</th>\n",
       "      <th>탄소배출권_vol</th>\n",
       "      <th>탄소배출권_var</th>\n",
       "    </tr>\n",
       "  </thead>\n",
       "  <tbody>\n",
       "    <tr>\n",
       "      <th>2589</th>\n",
       "      <td>2012-01-06</td>\n",
       "      <td>604.00</td>\n",
       "      <td>3.60K</td>\n",
       "      <td>0.08</td>\n",
       "      <td>1704.00</td>\n",
       "      <td>0.26K</td>\n",
       "      <td>-3.07</td>\n",
       "      <td>1335.00</td>\n",
       "      <td>7.80K</td>\n",
       "      <td>0.23</td>\n",
       "      <td>...</td>\n",
       "      <td>-0.59</td>\n",
       "      <td>113.06</td>\n",
       "      <td>190.83K</td>\n",
       "      <td>0.28</td>\n",
       "      <td>3.062</td>\n",
       "      <td>115.52K</td>\n",
       "      <td>2.75</td>\n",
       "      <td>6.30</td>\n",
       "      <td>0.66K</td>\n",
       "      <td>-2.02</td>\n",
       "    </tr>\n",
       "    <tr>\n",
       "      <th>2590</th>\n",
       "      <td>2012-01-05</td>\n",
       "      <td>603.50</td>\n",
       "      <td>5.16K</td>\n",
       "      <td>-4.54</td>\n",
       "      <td>1758.00</td>\n",
       "      <td>0.10K</td>\n",
       "      <td>-2.12</td>\n",
       "      <td>1332.00</td>\n",
       "      <td>7.37K</td>\n",
       "      <td>-0.97</td>\n",
       "      <td>...</td>\n",
       "      <td>0.18</td>\n",
       "      <td>112.74</td>\n",
       "      <td>205.41K</td>\n",
       "      <td>-0.84</td>\n",
       "      <td>2.980</td>\n",
       "      <td>163.14K</td>\n",
       "      <td>-3.75</td>\n",
       "      <td>6.43</td>\n",
       "      <td>0.30K</td>\n",
       "      <td>2.55</td>\n",
       "    </tr>\n",
       "    <tr>\n",
       "      <th>2591</th>\n",
       "      <td>2012-01-04</td>\n",
       "      <td>632.20</td>\n",
       "      <td>3.97K</td>\n",
       "      <td>0.40</td>\n",
       "      <td>1796.00</td>\n",
       "      <td>0.08K</td>\n",
       "      <td>-0.22</td>\n",
       "      <td>1345.00</td>\n",
       "      <td>5.30K</td>\n",
       "      <td>-1.47</td>\n",
       "      <td>...</td>\n",
       "      <td>1.18</td>\n",
       "      <td>113.70</td>\n",
       "      <td>221.27K</td>\n",
       "      <td>1.40</td>\n",
       "      <td>3.096</td>\n",
       "      <td>133.51K</td>\n",
       "      <td>3.44</td>\n",
       "      <td>6.27</td>\n",
       "      <td>2.20K</td>\n",
       "      <td>-0.16</td>\n",
       "    </tr>\n",
       "    <tr>\n",
       "      <th>2592</th>\n",
       "      <td>2012-01-03</td>\n",
       "      <td>629.70</td>\n",
       "      <td>6.41K</td>\n",
       "      <td>4.69</td>\n",
       "      <td>1800.00</td>\n",
       "      <td>1.00K</td>\n",
       "      <td>-0.55</td>\n",
       "      <td>1365.00</td>\n",
       "      <td>5.99K</td>\n",
       "      <td>-1.23</td>\n",
       "      <td>...</td>\n",
       "      <td>2.90</td>\n",
       "      <td>112.13</td>\n",
       "      <td>178.62K</td>\n",
       "      <td>4.42</td>\n",
       "      <td>2.993</td>\n",
       "      <td>106.19K</td>\n",
       "      <td>0.13</td>\n",
       "      <td>6.28</td>\n",
       "      <td>0.31K</td>\n",
       "      <td>-12.11</td>\n",
       "    </tr>\n",
       "    <tr>\n",
       "      <th>2593</th>\n",
       "      <td>2012-01-02</td>\n",
       "      <td>601.50</td>\n",
       "      <td>-</td>\n",
       "      <td>-0.08</td>\n",
       "      <td>1810.00</td>\n",
       "      <td>-</td>\n",
       "      <td>2.49</td>\n",
       "      <td>1382.00</td>\n",
       "      <td>-</td>\n",
       "      <td>0.14</td>\n",
       "      <td>...</td>\n",
       "      <td>0.28</td>\n",
       "      <td>NaN</td>\n",
       "      <td>NaN</td>\n",
       "      <td>NaN</td>\n",
       "      <td>NaN</td>\n",
       "      <td>NaN</td>\n",
       "      <td>NaN</td>\n",
       "      <td>7.14</td>\n",
       "      <td>-</td>\n",
       "      <td>2.51</td>\n",
       "    </tr>\n",
       "  </tbody>\n",
       "</table>\n",
       "<p>5 rows × 112 columns</p>\n",
       "</div>"
      ],
      "text/plain": [
       "            date 런던_설탕_close 런던_설탕_vol 런던_설탕_var 런던_커피_close 런던_커피_vol  \\\n",
       "2589  2012-01-06      604.00     3.60K      0.08     1704.00     0.26K   \n",
       "2590  2012-01-05      603.50     5.16K     -4.54     1758.00     0.10K   \n",
       "2591  2012-01-04      632.20     3.97K      0.40     1796.00     0.08K   \n",
       "2592  2012-01-03      629.70     6.41K      4.69     1800.00     1.00K   \n",
       "2593  2012-01-02      601.50         -     -0.08     1810.00         -   \n",
       "\n",
       "     런던_커피_var 런던_코코아_close 런던_코코아_vol 런던_코코아_var  ... 런던_가스_오일_var_y  \\\n",
       "2589     -3.07      1335.00      7.80K       0.23  ...          -0.59   \n",
       "2590     -2.12      1332.00      7.37K      -0.97  ...           0.18   \n",
       "2591     -0.22      1345.00      5.30K      -1.47  ...           1.18   \n",
       "2592     -0.55      1365.00      5.99K      -1.23  ...           2.90   \n",
       "2593      2.49      1382.00          -       0.14  ...           0.28   \n",
       "\n",
       "     브렌트유_close 브렌트유_vol 브렌트유_var 천연가스_close_y 천연가스_vol_y 천연가스_var_y  \\\n",
       "2589     113.06  190.83K     0.28        3.062    115.52K       2.75   \n",
       "2590     112.74  205.41K    -0.84        2.980    163.14K      -3.75   \n",
       "2591     113.70  221.27K     1.40        3.096    133.51K       3.44   \n",
       "2592     112.13  178.62K     4.42        2.993    106.19K       0.13   \n",
       "2593        NaN      NaN      NaN          NaN        NaN        NaN   \n",
       "\n",
       "     탄소배출권_close 탄소배출권_vol 탄소배출권_var  \n",
       "2589        6.30     0.66K     -2.02  \n",
       "2590        6.43     0.30K      2.55  \n",
       "2591        6.27     2.20K     -0.16  \n",
       "2592        6.28     0.31K    -12.11  \n",
       "2593        7.14         -      2.51  \n",
       "\n",
       "[5 rows x 112 columns]"
      ]
     },
     "execution_count": 17,
     "metadata": {},
     "output_type": "execute_result"
    }
   ],
   "source": [
    "index_df.tail()"
   ]
  },
  {
   "cell_type": "code",
   "execution_count": 18,
   "id": "d8c6dce8-64db-478f-9850-d0c08e8eee24",
   "metadata": {},
   "outputs": [],
   "source": [
    "symbol_df.to_csv(data_path + \"materials_symbol_df.csv\", index = False)\n",
    "index_df.to_csv(data_path + \"materials_df.csv\", index = False)"
   ]
  },
  {
   "cell_type": "code",
   "execution_count": null,
   "id": "1e023b6a-ad7b-497c-86e0-daf1daf0893a",
   "metadata": {},
   "outputs": [],
   "source": []
  }
 ],
 "metadata": {
  "kernelspec": {
   "display_name": "Python 3",
   "language": "python",
   "name": "python3"
  },
  "language_info": {
   "codemirror_mode": {
    "name": "ipython",
    "version": 3
   },
   "file_extension": ".py",
   "mimetype": "text/x-python",
   "name": "python",
   "nbconvert_exporter": "python",
   "pygments_lexer": "ipython3",
   "version": "3.8.8"
  }
 },
 "nbformat": 4,
 "nbformat_minor": 5
}
