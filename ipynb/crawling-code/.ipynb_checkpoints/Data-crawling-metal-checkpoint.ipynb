{
 "cells": [
  {
   "cell_type": "markdown",
   "id": "1b0e539c-c802-4396-a1c5-faf502a1feec",
   "metadata": {},
   "source": [
    "## Import"
   ]
  },
  {
   "cell_type": "code",
   "execution_count": 1,
   "id": "94556c6e-df9a-4c88-af24-eaf46e1aaa75",
   "metadata": {},
   "outputs": [],
   "source": [
    "from bs4 import BeautifulSoup\n",
    "from selenium import webdriver\n",
    "from selenium.common.exceptions import NoSuchElementException\n",
    "from selenium.webdriver.common.keys import Keys\n",
    "from tqdm import tqdm\n",
    "from functools import reduce\n",
    "\n",
    "import numpy as np\n",
    "import pandas as pd\n",
    "import re, time\n",
    "import requests\n",
    "import pickle\n",
    "import warnings\n",
    "\n",
    "warnings.filterwarnings(action='ignore')"
   ]
  },
  {
   "cell_type": "code",
   "execution_count": 2,
   "id": "7c4b1376-aa2e-4326-888b-31dc9406ead7",
   "metadata": {},
   "outputs": [
    {
     "data": {
      "text/plain": [
       "'C:\\\\Users\\\\PC0\\\\Documents\\\\GitHub\\\\Stock-price-prediction\\\\ipynb\\\\crawling-code'"
      ]
     },
     "execution_count": 2,
     "metadata": {},
     "output_type": "execute_result"
    }
   ],
   "source": [
    "import os\n",
    "os.getcwd()"
   ]
  },
  {
   "cell_type": "code",
   "execution_count": 3,
   "id": "1cd7fd75-cc35-4f4a-bf0e-a1dbcf590b00",
   "metadata": {},
   "outputs": [],
   "source": [
    "out_data_path = 'C:\\\\Users\\\\PC0\\\\Documents\\\\datasets\\\\stock_price\\\\'\n",
    "data_path = 'C:\\\\Users\\\\PC0\\\\Documents\\\\GitHub\\\\Stock-price-prediction\\\\datasets\\\\'"
   ]
  },
  {
   "cell_type": "code",
   "execution_count": null,
   "id": "8b65d2bc-92fe-4864-9495-ef1834a64ec8",
   "metadata": {},
   "outputs": [],
   "source": []
  },
  {
   "cell_type": "markdown",
   "id": "0651d7a0-8f11-43b4-9467-9fcc234d6e7f",
   "metadata": {},
   "source": [
    "* crawling"
   ]
  },
  {
   "cell_type": "code",
   "execution_count": 4,
   "id": "34aefcca-30e6-44c0-bf58-45437d66f633",
   "metadata": {},
   "outputs": [],
   "source": [
    "options = webdriver.ChromeOptions()\n",
    "\n",
    "options.add_argument(\"--disable-blink-features=AutomationControlled\")\n",
    "options.add_argument(\"user-agent=Mozilla/5.0 (Windows NT 10.0; Win64; x64) AppleWebKit/537.36 (KHTML, like Gecko) Chrome/98.0.4758.82 Safari/537.36\")\n",
    "\n",
    "driver = webdriver.Chrome(\"C:\\\\Users\\\\PC0\\\\Desktop\\\\chromedriver.exe\", options=options)"
   ]
  },
  {
   "cell_type": "code",
   "execution_count": null,
   "id": "379acdb9-a331-4dc2-87a1-a74f795ca205",
   "metadata": {},
   "outputs": [],
   "source": []
  },
  {
   "cell_type": "markdown",
   "id": "2c8b26f8-1950-43fb-8319-6e3cad5ea919",
   "metadata": {},
   "source": [
    "* metal"
   ]
  },
  {
   "cell_type": "code",
   "execution_count": 5,
   "id": "5c302a63-9429-4cd9-815e-7910cbb26cbf",
   "metadata": {},
   "outputs": [],
   "source": [
    "start_day = \"2012/01/01\""
   ]
  },
  {
   "cell_type": "code",
   "execution_count": 6,
   "id": "afba9e54-6784-429f-9599-f42ca37fea30",
   "metadata": {},
   "outputs": [],
   "source": [
    "urls = ['https://kr.investing.com/commodities/metals']"
   ]
  },
  {
   "cell_type": "code",
   "execution_count": 7,
   "id": "ac52b420-33da-40d1-864b-0f998b52a2cf",
   "metadata": {},
   "outputs": [],
   "source": [
    "url = urls[0]"
   ]
  },
  {
   "cell_type": "code",
   "execution_count": 8,
   "id": "ad507114-664b-4b55-a217-0f5690915ae7",
   "metadata": {},
   "outputs": [],
   "source": [
    "driver.get(url)\n",
    "time.sleep(3)"
   ]
  },
  {
   "cell_type": "code",
   "execution_count": 9,
   "id": "6230efb3-ed21-48ab-98a2-aa6222606536",
   "metadata": {},
   "outputs": [],
   "source": [
    "temp_names = driver.find_elements_by_css_selector(\"table#cross_rate_1 tbody tr td.bold.left.noWrap.elp.plusIconTd a\")\n",
    "temp_flag = driver.find_elements_by_css_selector(\"table#cross_rate_1 tbody tr td.flag span\")"
   ]
  },
  {
   "cell_type": "code",
   "execution_count": 10,
   "id": "c630509a-9f4d-4430-b4f1-0738fd65bfa8",
   "metadata": {},
   "outputs": [],
   "source": [
    "flags = [x.get_attribute(\"title\") for x in temp_flag]"
   ]
  },
  {
   "cell_type": "code",
   "execution_count": 11,
   "id": "d7faa595-d762-4c2f-aa78-4200166c174d",
   "metadata": {},
   "outputs": [],
   "source": [
    "names = [x + \"_\" + y.text if len(x) != 0 else y.text for x,y in zip(flags, temp_names)]"
   ]
  },
  {
   "cell_type": "code",
   "execution_count": 12,
   "id": "47c6ee61-b9ed-44e6-bc9e-49bd219bd4da",
   "metadata": {},
   "outputs": [],
   "source": [
    "urls = [x.get_attribute(\"href\") for x in temp_names]"
   ]
  },
  {
   "cell_type": "code",
   "execution_count": 13,
   "id": "f52cd481-6fe6-40f8-b710-6ee32833bd0c",
   "metadata": {},
   "outputs": [],
   "source": [
    "index_url = [x + \"-historical-data\" if \"?\" not in x else x.split(\"?\")[0] + \"-historical-data?\" + x.split(\"?\")[1]for x in urls]\n",
    "index_names = [x.split(\"-historical-data\")[0].split(\"/\")[-1] for x in index_url]"
   ]
  },
  {
   "cell_type": "code",
   "execution_count": 14,
   "id": "4039065f-1784-4f64-933b-805a0941d4ee",
   "metadata": {},
   "outputs": [],
   "source": [
    "metal_df = pd.DataFrame({\"symbol\":index_names,\n",
    "                         \"name\":names,\n",
    "                         \"url\":index_url})"
   ]
  },
  {
   "cell_type": "code",
   "execution_count": 15,
   "id": "d8c6dce8-64db-478f-9850-d0c08e8eee24",
   "metadata": {},
   "outputs": [],
   "source": [
    "metal_df.to_csv(data_path + \"metal_symbol_df.csv\", index = False)"
   ]
  },
  {
   "cell_type": "code",
   "execution_count": null,
   "id": "a1ea35d0-323d-496e-909e-09c9f6f2a67f",
   "metadata": {},
   "outputs": [],
   "source": []
  },
  {
   "cell_type": "markdown",
   "id": "463cb7b3-5000-4e73-bd57-9a795e5ccabd",
   "metadata": {},
   "source": [
    "* loop crawling"
   ]
  },
  {
   "cell_type": "code",
   "execution_count": 16,
   "id": "6c28ffa1-a833-4c5c-8f72-6d0236983407",
   "metadata": {},
   "outputs": [],
   "source": [
    "index_list = []"
   ]
  },
  {
   "cell_type": "code",
   "execution_count": 17,
   "id": "458661e9-6927-465b-bb01-57c7e39e0e98",
   "metadata": {},
   "outputs": [],
   "source": [
    "start_idx = 0"
   ]
  },
  {
   "cell_type": "code",
   "execution_count": 18,
   "id": "700dfb2b-73d9-475d-9015-aa99c4a22d74",
   "metadata": {
    "tags": []
   },
   "outputs": [
    {
     "name": "stderr",
     "output_type": "stream",
     "text": [
      "11it [04:13, 23.01s/it]\n"
     ]
    }
   ],
   "source": [
    "for idx, url in tqdm(enumerate(index_url[start_idx:])):\n",
    "    driver.get(url)\n",
    "    time.sleep(5)\n",
    "\n",
    "    # 날짜 입력란\n",
    "    tmp_date = driver.find_element_by_css_selector(\"div#widgetFieldDateRange\")\n",
    "    tmp_date.click()\n",
    "    driver.implicitly_wait(3)\n",
    "\n",
    "    tmp_input = driver.find_element_by_css_selector(\"input#startDate\")\n",
    "    time.sleep(0.5)\n",
    "\n",
    "    # 기존 날짜 지우기\n",
    "    for _ in range(11) :\n",
    "        tmp_input.send_keys(Keys.BACKSPACE)\n",
    "        tmp_input = driver.find_element_by_css_selector(\"input#startDate\")\n",
    "        time.sleep(0.5)\n",
    "        \n",
    "    tmp_input.send_keys(start_day)\n",
    "\n",
    "    # 요청 버튼\n",
    "    request_btn = driver.find_element_by_css_selector(\"a#applyBtn\")\n",
    "    request_btn.click()\n",
    "    time.sleep(5)\n",
    "    \n",
    "    tables = driver.find_elements_by_css_selector(\"table#curr_table\")\n",
    "\n",
    "    values = tables[0].text.split(\"\\n\")[1:]\n",
    "\n",
    "    values = [re.sub(\"[^0-9a-zA-Z.\\\\- ]\",\"\",x) for x in values]\n",
    "\n",
    "    name = names[idx]\n",
    "    \n",
    "    index_dict = {\"date\":[],\n",
    "                 \"{}_close\".format(name):[],\n",
    "                 \"{}_vol\".format(name):[],\n",
    "                 \"{}_var\".format(name):[]}\n",
    "\n",
    "    for val in values:\n",
    "        year, month, day, close, _, _, _, volume, variation= val.split(\" \")\n",
    "        date = \"-\".join([year, month, day])\n",
    "        index_dict['date'].append(date)\n",
    "        index_dict['{}_close'.format(name)].append(close)\n",
    "        index_dict['{}_vol'.format(name)].append(volume)\n",
    "        index_dict['{}_var'.format(name)].append(variation)\n",
    "        \n",
    "    index_list.append(pd.DataFrame.from_dict(index_dict, orient = \"index\").T)\n",
    "    start_idx += 1"
   ]
  },
  {
   "cell_type": "code",
   "execution_count": 19,
   "id": "81678f87-3c9f-49f6-985e-8f0aa62a8a18",
   "metadata": {},
   "outputs": [],
   "source": [
    "index_df = reduce(lambda  left,right: pd.merge(left,right,on=['date'], how='outer'), index_list)"
   ]
  },
  {
   "cell_type": "code",
   "execution_count": 20,
   "id": "ad0a86e8-d080-496d-86ef-fa96b466abb4",
   "metadata": {},
   "outputs": [],
   "source": [
    "index_df = index_df.sort_values(\"date\", ascending = False)"
   ]
  },
  {
   "cell_type": "code",
   "execution_count": 21,
   "id": "207e799a-6d57-49bc-893c-f051f303257a",
   "metadata": {},
   "outputs": [
    {
     "data": {
      "text/html": [
       "<div>\n",
       "<style scoped>\n",
       "    .dataframe tbody tr th:only-of-type {\n",
       "        vertical-align: middle;\n",
       "    }\n",
       "\n",
       "    .dataframe tbody tr th {\n",
       "        vertical-align: top;\n",
       "    }\n",
       "\n",
       "    .dataframe thead th {\n",
       "        text-align: right;\n",
       "    }\n",
       "</style>\n",
       "<table border=\"1\" class=\"dataframe\">\n",
       "  <thead>\n",
       "    <tr style=\"text-align: right;\">\n",
       "      <th></th>\n",
       "      <th>date</th>\n",
       "      <th>미국_구리_close</th>\n",
       "      <th>미국_구리_vol</th>\n",
       "      <th>미국_구리_var</th>\n",
       "      <th>영국_구리_close</th>\n",
       "      <th>영국_구리_vol</th>\n",
       "      <th>영국_구리_var</th>\n",
       "      <th>금_close</th>\n",
       "      <th>금_vol</th>\n",
       "      <th>금_var</th>\n",
       "      <th>...</th>\n",
       "      <th>영국_알루미늄_var</th>\n",
       "      <th>은_close</th>\n",
       "      <th>은_vol</th>\n",
       "      <th>은_var</th>\n",
       "      <th>영국_주석_close</th>\n",
       "      <th>영국_주석_vol</th>\n",
       "      <th>영국_주석_var</th>\n",
       "      <th>미국_팔라듐_close</th>\n",
       "      <th>미국_팔라듐_vol</th>\n",
       "      <th>미국_팔라듐_var</th>\n",
       "    </tr>\n",
       "  </thead>\n",
       "  <tbody>\n",
       "    <tr>\n",
       "      <th>2611</th>\n",
       "      <td>2012-01-06</td>\n",
       "      <td>3.4310</td>\n",
       "      <td>0.11K</td>\n",
       "      <td>0.26</td>\n",
       "      <td>7568.75</td>\n",
       "      <td>13.58K</td>\n",
       "      <td>0.53</td>\n",
       "      <td>1616.10</td>\n",
       "      <td>0.02K</td>\n",
       "      <td>-0.20</td>\n",
       "      <td>...</td>\n",
       "      <td>NaN</td>\n",
       "      <td>28.653</td>\n",
       "      <td>0.08K</td>\n",
       "      <td>-2.09</td>\n",
       "      <td>19807.00</td>\n",
       "      <td>0.83K</td>\n",
       "      <td>-0.04</td>\n",
       "      <td>616.10</td>\n",
       "      <td>-</td>\n",
       "      <td>-3.79</td>\n",
       "    </tr>\n",
       "    <tr>\n",
       "      <th>2612</th>\n",
       "      <td>2012-01-05</td>\n",
       "      <td>3.4220</td>\n",
       "      <td>0.18K</td>\n",
       "      <td>-0.20</td>\n",
       "      <td>7529.00</td>\n",
       "      <td>13.32K</td>\n",
       "      <td>-0.03</td>\n",
       "      <td>1619.40</td>\n",
       "      <td>0.36K</td>\n",
       "      <td>0.47</td>\n",
       "      <td>...</td>\n",
       "      <td>NaN</td>\n",
       "      <td>29.265</td>\n",
       "      <td>0.03K</td>\n",
       "      <td>0.70</td>\n",
       "      <td>19814.00</td>\n",
       "      <td>1.79K</td>\n",
       "      <td>1.32</td>\n",
       "      <td>640.40</td>\n",
       "      <td>-</td>\n",
       "      <td>-1.46</td>\n",
       "    </tr>\n",
       "    <tr>\n",
       "      <th>2613</th>\n",
       "      <td>2012-01-04</td>\n",
       "      <td>3.4290</td>\n",
       "      <td>0.15K</td>\n",
       "      <td>-2.72</td>\n",
       "      <td>7531.25</td>\n",
       "      <td>14.55K</td>\n",
       "      <td>-3.23</td>\n",
       "      <td>1611.90</td>\n",
       "      <td>0.17K</td>\n",
       "      <td>0.76</td>\n",
       "      <td>...</td>\n",
       "      <td>NaN</td>\n",
       "      <td>29.063</td>\n",
       "      <td>0.07K</td>\n",
       "      <td>-1.59</td>\n",
       "      <td>19555.00</td>\n",
       "      <td>1.25K</td>\n",
       "      <td>-1.98</td>\n",
       "      <td>649.90</td>\n",
       "      <td>-</td>\n",
       "      <td>-2.24</td>\n",
       "    </tr>\n",
       "    <tr>\n",
       "      <th>2614</th>\n",
       "      <td>2012-01-03</td>\n",
       "      <td>3.5250</td>\n",
       "      <td>0.25K</td>\n",
       "      <td>2.71</td>\n",
       "      <td>7782.25</td>\n",
       "      <td>8.57K</td>\n",
       "      <td>2.47</td>\n",
       "      <td>1599.70</td>\n",
       "      <td>0.23K</td>\n",
       "      <td>2.17</td>\n",
       "      <td>...</td>\n",
       "      <td>NaN</td>\n",
       "      <td>29.533</td>\n",
       "      <td>0.14K</td>\n",
       "      <td>4.88</td>\n",
       "      <td>19949.00</td>\n",
       "      <td>0.47K</td>\n",
       "      <td>4.13</td>\n",
       "      <td>664.80</td>\n",
       "      <td>-</td>\n",
       "      <td>1.42</td>\n",
       "    </tr>\n",
       "    <tr>\n",
       "      <th>3173</th>\n",
       "      <td>2012-01-02</td>\n",
       "      <td>NaN</td>\n",
       "      <td>NaN</td>\n",
       "      <td>NaN</td>\n",
       "      <td>NaN</td>\n",
       "      <td>NaN</td>\n",
       "      <td>NaN</td>\n",
       "      <td>NaN</td>\n",
       "      <td>NaN</td>\n",
       "      <td>NaN</td>\n",
       "      <td>...</td>\n",
       "      <td>NaN</td>\n",
       "      <td>28.160</td>\n",
       "      <td>-</td>\n",
       "      <td>1.02</td>\n",
       "      <td>NaN</td>\n",
       "      <td>NaN</td>\n",
       "      <td>NaN</td>\n",
       "      <td>655.50</td>\n",
       "      <td>-</td>\n",
       "      <td>-0.12</td>\n",
       "    </tr>\n",
       "  </tbody>\n",
       "</table>\n",
       "<p>5 rows × 34 columns</p>\n",
       "</div>"
      ],
      "text/plain": [
       "            date 미국_구리_close 미국_구리_vol 미국_구리_var 영국_구리_close 영국_구리_vol  \\\n",
       "2611  2012-01-06      3.4310     0.11K      0.26     7568.75    13.58K   \n",
       "2612  2012-01-05      3.4220     0.18K     -0.20     7529.00    13.32K   \n",
       "2613  2012-01-04      3.4290     0.15K     -2.72     7531.25    14.55K   \n",
       "2614  2012-01-03      3.5250     0.25K      2.71     7782.25     8.57K   \n",
       "3173  2012-01-02         NaN       NaN       NaN         NaN       NaN   \n",
       "\n",
       "     영국_구리_var  금_close  금_vol  금_var  ... 영국_알루미늄_var 은_close  은_vol  은_var  \\\n",
       "2611      0.53  1616.10  0.02K  -0.20  ...         NaN  28.653  0.08K  -2.09   \n",
       "2612     -0.03  1619.40  0.36K   0.47  ...         NaN  29.265  0.03K   0.70   \n",
       "2613     -3.23  1611.90  0.17K   0.76  ...         NaN  29.063  0.07K  -1.59   \n",
       "2614      2.47  1599.70  0.23K   2.17  ...         NaN  29.533  0.14K   4.88   \n",
       "3173       NaN      NaN    NaN    NaN  ...         NaN  28.160      -   1.02   \n",
       "\n",
       "     영국_주석_close 영국_주석_vol 영국_주석_var 미국_팔라듐_close 미국_팔라듐_vol 미국_팔라듐_var  \n",
       "2611    19807.00     0.83K     -0.04       616.10          -      -3.79  \n",
       "2612    19814.00     1.79K      1.32       640.40          -      -1.46  \n",
       "2613    19555.00     1.25K     -1.98       649.90          -      -2.24  \n",
       "2614    19949.00     0.47K      4.13       664.80          -       1.42  \n",
       "3173         NaN       NaN       NaN       655.50          -      -0.12  \n",
       "\n",
       "[5 rows x 34 columns]"
      ]
     },
     "execution_count": 21,
     "metadata": {},
     "output_type": "execute_result"
    }
   ],
   "source": [
    "index_df.tail()"
   ]
  },
  {
   "cell_type": "code",
   "execution_count": 22,
   "id": "28bfcf10-6136-4a69-a3b3-49436929befe",
   "metadata": {},
   "outputs": [
    {
     "data": {
      "text/plain": [
       "(3176, 34)"
      ]
     },
     "execution_count": 22,
     "metadata": {},
     "output_type": "execute_result"
    }
   ],
   "source": [
    "index_df.shape"
   ]
  },
  {
   "cell_type": "code",
   "execution_count": 23,
   "id": "f44e11ad-d2f5-4fca-bce7-89fc799ced97",
   "metadata": {},
   "outputs": [],
   "source": [
    "index_df.to_csv(data_path + \"metal_df.csv\", index = False)"
   ]
  },
  {
   "cell_type": "code",
   "execution_count": null,
   "id": "07423de7-5e23-4c85-966a-5f834aaaecaa",
   "metadata": {},
   "outputs": [],
   "source": []
  }
 ],
 "metadata": {
  "kernelspec": {
   "display_name": "Python 3",
   "language": "python",
   "name": "python3"
  },
  "language_info": {
   "codemirror_mode": {
    "name": "ipython",
    "version": 3
   },
   "file_extension": ".py",
   "mimetype": "text/x-python",
   "name": "python",
   "nbconvert_exporter": "python",
   "pygments_lexer": "ipython3",
   "version": "3.8.8"
  }
 },
 "nbformat": 4,
 "nbformat_minor": 5
}
