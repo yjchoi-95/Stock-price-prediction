{
 "cells": [
  {
   "cell_type": "markdown",
   "id": "1b0e539c-c802-4396-a1c5-faf502a1feec",
   "metadata": {},
   "source": [
    "## Import"
   ]
  },
  {
   "cell_type": "code",
   "execution_count": 1,
   "id": "94556c6e-df9a-4c88-af24-eaf46e1aaa75",
   "metadata": {},
   "outputs": [],
   "source": [
    "from bs4 import BeautifulSoup\n",
    "from selenium import webdriver\n",
    "from selenium.common.exceptions import NoSuchElementException\n",
    "from selenium.webdriver.common.keys import Keys\n",
    "from tqdm import tqdm\n",
    "from functools import reduce\n",
    "\n",
    "import numpy as np\n",
    "import pandas as pd\n",
    "import re, time\n",
    "import requests\n",
    "import pickle\n",
    "import warnings\n",
    "\n",
    "warnings.filterwarnings(action='ignore')"
   ]
  },
  {
   "cell_type": "code",
   "execution_count": 2,
   "id": "7c4b1376-aa2e-4326-888b-31dc9406ead7",
   "metadata": {},
   "outputs": [
    {
     "data": {
      "text/plain": [
       "'C:\\\\Users\\\\PC0\\\\Documents\\\\GitHub\\\\Stock-price-prediction\\\\ipynb\\\\crawling-code'"
      ]
     },
     "execution_count": 2,
     "metadata": {},
     "output_type": "execute_result"
    }
   ],
   "source": [
    "import os\n",
    "os.getcwd()"
   ]
  },
  {
   "cell_type": "code",
   "execution_count": 3,
   "id": "1cd7fd75-cc35-4f4a-bf0e-a1dbcf590b00",
   "metadata": {},
   "outputs": [],
   "source": [
    "out_data_path = 'C:\\\\Users\\\\PC0\\\\Documents\\\\datasets\\\\stock_price\\\\'\n",
    "data_path = 'C:\\\\Users\\\\PC0\\\\Documents\\\\GitHub\\\\Stock-price-prediction\\\\datasets\\\\'"
   ]
  },
  {
   "cell_type": "code",
   "execution_count": null,
   "id": "8b65d2bc-92fe-4864-9495-ef1834a64ec8",
   "metadata": {},
   "outputs": [],
   "source": []
  },
  {
   "cell_type": "markdown",
   "id": "0651d7a0-8f11-43b4-9467-9fcc234d6e7f",
   "metadata": {},
   "source": [
    "* crawling"
   ]
  },
  {
   "cell_type": "code",
   "execution_count": 10,
   "id": "34aefcca-30e6-44c0-bf58-45437d66f633",
   "metadata": {},
   "outputs": [],
   "source": [
    "options = webdriver.ChromeOptions()\n",
    "\n",
    "options.add_argument(\"--disable-blink-features=AutomationControlled\")\n",
    "options.add_argument(\"user-agent=Mozilla/5.0 (Windows NT 10.0; Win64; x64) AppleWebKit/537.36 (KHTML, like Gecko) Chrome/98.0.4758.82 Safari/537.36\")\n",
    "\n",
    "driver = webdriver.Chrome(\"C:\\\\Users\\\\PC0\\\\Desktop\\\\chromedriver.exe\", options=options)"
   ]
  },
  {
   "cell_type": "code",
   "execution_count": null,
   "id": "379acdb9-a331-4dc2-87a1-a74f795ca205",
   "metadata": {},
   "outputs": [],
   "source": []
  },
  {
   "cell_type": "markdown",
   "id": "2c8b26f8-1950-43fb-8319-6e3cad5ea919",
   "metadata": {},
   "source": [
    "* agricultural "
   ]
  },
  {
   "cell_type": "code",
   "execution_count": 11,
   "id": "5c302a63-9429-4cd9-815e-7910cbb26cbf",
   "metadata": {},
   "outputs": [],
   "source": [
    "start_day = \"2012/01/01\""
   ]
  },
  {
   "cell_type": "code",
   "execution_count": 12,
   "id": "ca24207f-e475-40c2-ab33-49c81ca4cecb",
   "metadata": {},
   "outputs": [],
   "source": [
    "cont = ['germany', 'u.s.', 'brazil', 'switzerland', 'uk', 'italy', 'japan',\n",
    "       'china', 'canada', 'france', 'south-korea', 'australia']"
   ]
  },
  {
   "cell_type": "code",
   "execution_count": 13,
   "id": "6eacd386-3a60-4196-838f-e31f387af29a",
   "metadata": {},
   "outputs": [],
   "source": [
    "urls = ['https://kr.investing.com/rates-bonds/{}-1-year-bond-yield-historical-data'.format(x) for x in cont]\n",
    "urls.extend(['https://kr.investing.com/rates-bonds/{}-10-year-bond-yield-historical-data'.format(x) for x in cont])"
   ]
  },
  {
   "cell_type": "code",
   "execution_count": 14,
   "id": "7f2cfd52-1beb-46ac-bb98-6a767f0fa9be",
   "metadata": {},
   "outputs": [],
   "source": [
    "names = [(x.split(\"/\")[-1]).split(\"-year\")[0] + \"_bond\" for x in urls]\n",
    "names = [x.split(\"_bond\")[0] for x in names]"
   ]
  },
  {
   "cell_type": "code",
   "execution_count": 15,
   "id": "7341237e-9ad1-4720-8011-d8e547f588e2",
   "metadata": {},
   "outputs": [],
   "source": [
    "start_idx = 0"
   ]
  },
  {
   "cell_type": "code",
   "execution_count": 17,
   "id": "8fa855ad-8915-48a1-a119-ba3f68a757f4",
   "metadata": {},
   "outputs": [
    {
     "name": "stderr",
     "output_type": "stream",
     "text": [
      "2it [01:11, 35.66s/it]\n"
     ]
    },
    {
     "ename": "ElementClickInterceptedException",
     "evalue": "Message: element click intercepted: Element <a href=\"javascript:void(0)\" id=\"applyBtn\" class=\"newBtn Arrow LightGray float_lang_base_2\" data-handler=\"hide\" data-event=\"click\">...</a> is not clickable at point (937, 638). Other element would receive the click: <div class=\"right\">...</div>\n  (Session info: chrome=98.0.4758.102)\nStacktrace:\nBacktrace:\n\tOrdinal0 [0x00D2A0A3+2597027]\n\tOrdinal0 [0x00CBBA61+2144865]\n\tOrdinal0 [0x00BB3C58+1064024]\n\tOrdinal0 [0x00BE663F+1271359]\n\tOrdinal0 [0x00BE4887+1263751]\n\tOrdinal0 [0x00BE24DB+1254619]\n\tOrdinal0 [0x00BE12C9+1249993]\n\tOrdinal0 [0x00BD6EA3+1207971]\n\tOrdinal0 [0x00BF87AC+1345452]\n\tOrdinal0 [0x00BD6874+1206388]\n\tOrdinal0 [0x00BF8904+1345796]\n\tOrdinal0 [0x00C08B1A+1411866]\n\tOrdinal0 [0x00BF85C6+1344966]\n\tOrdinal0 [0x00BD54C6+1201350]\n\tOrdinal0 [0x00BD63B6+1205174]\n\tGetHandleVerifier [0x00ED10A2+1681842]\n\tGetHandleVerifier [0x00F83B0C+2413596]\n\tGetHandleVerifier [0x00DC1221+568113]\n\tGetHandleVerifier [0x00DBFFA3+563379]\n\tOrdinal0 [0x00CC174E+2168654]\n\tOrdinal0 [0x00CC6538+2188600]\n\tOrdinal0 [0x00CC6680+2188928]\n\tOrdinal0 [0x00CD030C+2229004]\n\tBaseThreadInitThunk [0x7612FA29+25]\n\tRtlGetAppContainerNamedObjectPath [0x77827A9E+286]\n\tRtlGetAppContainerNamedObjectPath [0x77827A6E+238]\n",
     "output_type": "error",
     "traceback": [
      "\u001b[1;31m---------------------------------------------------------------------------\u001b[0m",
      "\u001b[1;31mElementClickInterceptedException\u001b[0m          Traceback (most recent call last)",
      "\u001b[1;32m<ipython-input-17-1d8147afe658>\u001b[0m in \u001b[0;36m<module>\u001b[1;34m\u001b[0m\n\u001b[0;32m     24\u001b[0m     \u001b[1;31m# 요청 버튼\u001b[0m\u001b[1;33m\u001b[0m\u001b[1;33m\u001b[0m\u001b[1;33m\u001b[0m\u001b[0m\n\u001b[0;32m     25\u001b[0m     \u001b[0mrequest_btn\u001b[0m \u001b[1;33m=\u001b[0m \u001b[0mdriver\u001b[0m\u001b[1;33m.\u001b[0m\u001b[0mfind_element_by_css_selector\u001b[0m\u001b[1;33m(\u001b[0m\u001b[1;34m\"a#applyBtn\"\u001b[0m\u001b[1;33m)\u001b[0m\u001b[1;33m\u001b[0m\u001b[1;33m\u001b[0m\u001b[0m\n\u001b[1;32m---> 26\u001b[1;33m     \u001b[0mrequest_btn\u001b[0m\u001b[1;33m.\u001b[0m\u001b[0mclick\u001b[0m\u001b[1;33m(\u001b[0m\u001b[1;33m)\u001b[0m\u001b[1;33m\u001b[0m\u001b[1;33m\u001b[0m\u001b[0m\n\u001b[0m\u001b[0;32m     27\u001b[0m     \u001b[0mtime\u001b[0m\u001b[1;33m.\u001b[0m\u001b[0msleep\u001b[0m\u001b[1;33m(\u001b[0m\u001b[1;36m5\u001b[0m\u001b[1;33m)\u001b[0m\u001b[1;33m\u001b[0m\u001b[1;33m\u001b[0m\u001b[0m\n\u001b[0;32m     28\u001b[0m \u001b[1;33m\u001b[0m\u001b[0m\n",
      "\u001b[1;32m~\\anaconda3\\lib\\site-packages\\selenium\\webdriver\\remote\\webelement.py\u001b[0m in \u001b[0;36mclick\u001b[1;34m(self)\u001b[0m\n\u001b[0;32m     79\u001b[0m     \u001b[1;32mdef\u001b[0m \u001b[0mclick\u001b[0m\u001b[1;33m(\u001b[0m\u001b[0mself\u001b[0m\u001b[1;33m)\u001b[0m \u001b[1;33m->\u001b[0m \u001b[1;32mNone\u001b[0m\u001b[1;33m:\u001b[0m\u001b[1;33m\u001b[0m\u001b[1;33m\u001b[0m\u001b[0m\n\u001b[0;32m     80\u001b[0m         \u001b[1;34m\"\"\"Clicks the element.\"\"\"\u001b[0m\u001b[1;33m\u001b[0m\u001b[1;33m\u001b[0m\u001b[0m\n\u001b[1;32m---> 81\u001b[1;33m         \u001b[0mself\u001b[0m\u001b[1;33m.\u001b[0m\u001b[0m_execute\u001b[0m\u001b[1;33m(\u001b[0m\u001b[0mCommand\u001b[0m\u001b[1;33m.\u001b[0m\u001b[0mCLICK_ELEMENT\u001b[0m\u001b[1;33m)\u001b[0m\u001b[1;33m\u001b[0m\u001b[1;33m\u001b[0m\u001b[0m\n\u001b[0m\u001b[0;32m     82\u001b[0m \u001b[1;33m\u001b[0m\u001b[0m\n\u001b[0;32m     83\u001b[0m     \u001b[1;32mdef\u001b[0m \u001b[0msubmit\u001b[0m\u001b[1;33m(\u001b[0m\u001b[0mself\u001b[0m\u001b[1;33m)\u001b[0m\u001b[1;33m:\u001b[0m\u001b[1;33m\u001b[0m\u001b[1;33m\u001b[0m\u001b[0m\n",
      "\u001b[1;32m~\\anaconda3\\lib\\site-packages\\selenium\\webdriver\\remote\\webelement.py\u001b[0m in \u001b[0;36m_execute\u001b[1;34m(self, command, params)\u001b[0m\n\u001b[0;32m    708\u001b[0m             \u001b[0mparams\u001b[0m \u001b[1;33m=\u001b[0m \u001b[1;33m{\u001b[0m\u001b[1;33m}\u001b[0m\u001b[1;33m\u001b[0m\u001b[1;33m\u001b[0m\u001b[0m\n\u001b[0;32m    709\u001b[0m         \u001b[0mparams\u001b[0m\u001b[1;33m[\u001b[0m\u001b[1;34m'id'\u001b[0m\u001b[1;33m]\u001b[0m \u001b[1;33m=\u001b[0m \u001b[0mself\u001b[0m\u001b[1;33m.\u001b[0m\u001b[0m_id\u001b[0m\u001b[1;33m\u001b[0m\u001b[1;33m\u001b[0m\u001b[0m\n\u001b[1;32m--> 710\u001b[1;33m         \u001b[1;32mreturn\u001b[0m \u001b[0mself\u001b[0m\u001b[1;33m.\u001b[0m\u001b[0m_parent\u001b[0m\u001b[1;33m.\u001b[0m\u001b[0mexecute\u001b[0m\u001b[1;33m(\u001b[0m\u001b[0mcommand\u001b[0m\u001b[1;33m,\u001b[0m \u001b[0mparams\u001b[0m\u001b[1;33m)\u001b[0m\u001b[1;33m\u001b[0m\u001b[1;33m\u001b[0m\u001b[0m\n\u001b[0m\u001b[0;32m    711\u001b[0m \u001b[1;33m\u001b[0m\u001b[0m\n\u001b[0;32m    712\u001b[0m     \u001b[1;32mdef\u001b[0m \u001b[0mfind_element\u001b[0m\u001b[1;33m(\u001b[0m\u001b[0mself\u001b[0m\u001b[1;33m,\u001b[0m \u001b[0mby\u001b[0m\u001b[1;33m=\u001b[0m\u001b[0mBy\u001b[0m\u001b[1;33m.\u001b[0m\u001b[0mID\u001b[0m\u001b[1;33m,\u001b[0m \u001b[0mvalue\u001b[0m\u001b[1;33m=\u001b[0m\u001b[1;32mNone\u001b[0m\u001b[1;33m)\u001b[0m\u001b[1;33m:\u001b[0m\u001b[1;33m\u001b[0m\u001b[1;33m\u001b[0m\u001b[0m\n",
      "\u001b[1;32m~\\anaconda3\\lib\\site-packages\\selenium\\webdriver\\remote\\webdriver.py\u001b[0m in \u001b[0;36mexecute\u001b[1;34m(self, driver_command, params)\u001b[0m\n\u001b[0;32m    422\u001b[0m         \u001b[0mresponse\u001b[0m \u001b[1;33m=\u001b[0m \u001b[0mself\u001b[0m\u001b[1;33m.\u001b[0m\u001b[0mcommand_executor\u001b[0m\u001b[1;33m.\u001b[0m\u001b[0mexecute\u001b[0m\u001b[1;33m(\u001b[0m\u001b[0mdriver_command\u001b[0m\u001b[1;33m,\u001b[0m \u001b[0mparams\u001b[0m\u001b[1;33m)\u001b[0m\u001b[1;33m\u001b[0m\u001b[1;33m\u001b[0m\u001b[0m\n\u001b[0;32m    423\u001b[0m         \u001b[1;32mif\u001b[0m \u001b[0mresponse\u001b[0m\u001b[1;33m:\u001b[0m\u001b[1;33m\u001b[0m\u001b[1;33m\u001b[0m\u001b[0m\n\u001b[1;32m--> 424\u001b[1;33m             \u001b[0mself\u001b[0m\u001b[1;33m.\u001b[0m\u001b[0merror_handler\u001b[0m\u001b[1;33m.\u001b[0m\u001b[0mcheck_response\u001b[0m\u001b[1;33m(\u001b[0m\u001b[0mresponse\u001b[0m\u001b[1;33m)\u001b[0m\u001b[1;33m\u001b[0m\u001b[1;33m\u001b[0m\u001b[0m\n\u001b[0m\u001b[0;32m    425\u001b[0m             response['value'] = self._unwrap_value(\n\u001b[0;32m    426\u001b[0m                 response.get('value', None))\n",
      "\u001b[1;32m~\\anaconda3\\lib\\site-packages\\selenium\\webdriver\\remote\\errorhandler.py\u001b[0m in \u001b[0;36mcheck_response\u001b[1;34m(self, response)\u001b[0m\n\u001b[0;32m    245\u001b[0m                 \u001b[0malert_text\u001b[0m \u001b[1;33m=\u001b[0m \u001b[0mvalue\u001b[0m\u001b[1;33m[\u001b[0m\u001b[1;34m'alert'\u001b[0m\u001b[1;33m]\u001b[0m\u001b[1;33m.\u001b[0m\u001b[0mget\u001b[0m\u001b[1;33m(\u001b[0m\u001b[1;34m'text'\u001b[0m\u001b[1;33m)\u001b[0m\u001b[1;33m\u001b[0m\u001b[1;33m\u001b[0m\u001b[0m\n\u001b[0;32m    246\u001b[0m             \u001b[1;32mraise\u001b[0m \u001b[0mexception_class\u001b[0m\u001b[1;33m(\u001b[0m\u001b[0mmessage\u001b[0m\u001b[1;33m,\u001b[0m \u001b[0mscreen\u001b[0m\u001b[1;33m,\u001b[0m \u001b[0mstacktrace\u001b[0m\u001b[1;33m,\u001b[0m \u001b[0malert_text\u001b[0m\u001b[1;33m)\u001b[0m  \u001b[1;31m# type: ignore[call-arg]  # mypy is not smart enough here\u001b[0m\u001b[1;33m\u001b[0m\u001b[1;33m\u001b[0m\u001b[0m\n\u001b[1;32m--> 247\u001b[1;33m         \u001b[1;32mraise\u001b[0m \u001b[0mexception_class\u001b[0m\u001b[1;33m(\u001b[0m\u001b[0mmessage\u001b[0m\u001b[1;33m,\u001b[0m \u001b[0mscreen\u001b[0m\u001b[1;33m,\u001b[0m \u001b[0mstacktrace\u001b[0m\u001b[1;33m)\u001b[0m\u001b[1;33m\u001b[0m\u001b[1;33m\u001b[0m\u001b[0m\n\u001b[0m\u001b[0;32m    248\u001b[0m \u001b[1;33m\u001b[0m\u001b[0m\n\u001b[0;32m    249\u001b[0m     \u001b[1;32mdef\u001b[0m \u001b[0m_value_or_default\u001b[0m\u001b[1;33m(\u001b[0m\u001b[0mself\u001b[0m\u001b[1;33m,\u001b[0m \u001b[0mobj\u001b[0m\u001b[1;33m:\u001b[0m \u001b[0mMapping\u001b[0m\u001b[1;33m[\u001b[0m\u001b[0m_KT\u001b[0m\u001b[1;33m,\u001b[0m \u001b[0m_VT\u001b[0m\u001b[1;33m]\u001b[0m\u001b[1;33m,\u001b[0m \u001b[0mkey\u001b[0m\u001b[1;33m:\u001b[0m \u001b[0m_KT\u001b[0m\u001b[1;33m,\u001b[0m \u001b[0mdefault\u001b[0m\u001b[1;33m:\u001b[0m \u001b[0m_VT\u001b[0m\u001b[1;33m)\u001b[0m \u001b[1;33m->\u001b[0m \u001b[0m_VT\u001b[0m\u001b[1;33m:\u001b[0m\u001b[1;33m\u001b[0m\u001b[1;33m\u001b[0m\u001b[0m\n",
      "\u001b[1;31mElementClickInterceptedException\u001b[0m: Message: element click intercepted: Element <a href=\"javascript:void(0)\" id=\"applyBtn\" class=\"newBtn Arrow LightGray float_lang_base_2\" data-handler=\"hide\" data-event=\"click\">...</a> is not clickable at point (937, 638). Other element would receive the click: <div class=\"right\">...</div>\n  (Session info: chrome=98.0.4758.102)\nStacktrace:\nBacktrace:\n\tOrdinal0 [0x00D2A0A3+2597027]\n\tOrdinal0 [0x00CBBA61+2144865]\n\tOrdinal0 [0x00BB3C58+1064024]\n\tOrdinal0 [0x00BE663F+1271359]\n\tOrdinal0 [0x00BE4887+1263751]\n\tOrdinal0 [0x00BE24DB+1254619]\n\tOrdinal0 [0x00BE12C9+1249993]\n\tOrdinal0 [0x00BD6EA3+1207971]\n\tOrdinal0 [0x00BF87AC+1345452]\n\tOrdinal0 [0x00BD6874+1206388]\n\tOrdinal0 [0x00BF8904+1345796]\n\tOrdinal0 [0x00C08B1A+1411866]\n\tOrdinal0 [0x00BF85C6+1344966]\n\tOrdinal0 [0x00BD54C6+1201350]\n\tOrdinal0 [0x00BD63B6+1205174]\n\tGetHandleVerifier [0x00ED10A2+1681842]\n\tGetHandleVerifier [0x00F83B0C+2413596]\n\tGetHandleVerifier [0x00DC1221+568113]\n\tGetHandleVerifier [0x00DBFFA3+563379]\n\tOrdinal0 [0x00CC174E+2168654]\n\tOrdinal0 [0x00CC6538+2188600]\n\tOrdinal0 [0x00CC6680+2188928]\n\tOrdinal0 [0x00CD030C+2229004]\n\tBaseThreadInitThunk [0x7612FA29+25]\n\tRtlGetAppContainerNamedObjectPath [0x77827A9E+286]\n\tRtlGetAppContainerNamedObjectPath [0x77827A6E+238]\n"
     ]
    }
   ],
   "source": [
    "# inner loop\n",
    "index_list = []\n",
    "\n",
    "for idx, url in tqdm(enumerate(urls[start_idx:])):\n",
    "    driver.get(url)\n",
    "    time.sleep(5)\n",
    "\n",
    "    # 날짜 입력란\n",
    "    tmp_date = driver.find_element_by_css_selector(\"div#widgetFieldDateRange\")\n",
    "    tmp_date.click()\n",
    "    driver.implicitly_wait(3)\n",
    "\n",
    "    tmp_input = driver.find_element_by_css_selector(\"input#startDate\")\n",
    "    time.sleep(0.5)\n",
    "\n",
    "    # 기존 날짜 지우기\n",
    "    for _ in range(11) :\n",
    "        tmp_input.send_keys(Keys.BACKSPACE)\n",
    "        tmp_input = driver.find_element_by_css_selector(\"input#startDate\")\n",
    "        time.sleep(0.5)\n",
    "\n",
    "    tmp_input.send_keys(start_day)\n",
    "\n",
    "    # 요청 버튼\n",
    "    request_btn = driver.find_element_by_css_selector(\"a#applyBtn\")\n",
    "    request_btn.click()\n",
    "    time.sleep(5)\n",
    "\n",
    "    tables = driver.find_elements_by_css_selector(\"table#curr_table\")\n",
    "\n",
    "    values = tables[0].text.split(\"\\n\")[1:]\n",
    "\n",
    "    values = [re.sub(\"[^0-9a-zA-Z.\\\\- ]\",\"\",x) for x in values]\n",
    "\n",
    "    name = names[idx]\n",
    "\n",
    "    index_dict = {\"date\":[],\n",
    "                 \"{}_close\".format(name):[],\n",
    "                 \"{}_var\".format(name):[]}\n",
    "\n",
    "    for val in values:\n",
    "        try :\n",
    "            year, month, day, close, _, _, _, variation= val.split(\" \")\n",
    "        except ValueError:\n",
    "            year, month, day, close, _, _, _, vol, variation= val.split(\" \")\n",
    "\n",
    "        date = \"-\".join([year, month, day])\n",
    "        index_dict['date'].append(date)\n",
    "        index_dict['{}_close'.format(name)].append(close)\n",
    "        index_dict['{}_var'.format(name)].append(variation)\n",
    "\n",
    "    index_list.append(pd.DataFrame.from_dict(index_dict, orient = \"index\").T)\n",
    "    start_idx += 1\n",
    "\n",
    "index_df = reduce(lambda  left,right: pd.merge(left,right,on=['date'], how='outer'), index_list)"
   ]
  },
  {
   "cell_type": "code",
   "execution_count": null,
   "id": "baf7ae06-3755-4659-8451-554bf1f7e390",
   "metadata": {},
   "outputs": [],
   "source": [
    "index_df = index_df.sort_values(\"date\", ascending = False)"
   ]
  },
  {
   "cell_type": "code",
   "execution_count": null,
   "id": "eb723fe7-efb1-48bf-b7dc-54dbd4e30075",
   "metadata": {},
   "outputs": [],
   "source": [
    "index_df.tail()"
   ]
  },
  {
   "cell_type": "code",
   "execution_count": 60,
   "id": "9bb16f23-b4cf-41c3-906d-488c70a778a8",
   "metadata": {},
   "outputs": [],
   "source": [
    "index_df.to_csv(data_path + \"bond_df.csv\", index = False)"
   ]
  },
  {
   "cell_type": "code",
   "execution_count": null,
   "id": "3d1d1d47-e439-4857-aae6-688fd093ec55",
   "metadata": {},
   "outputs": [],
   "source": []
  }
 ],
 "metadata": {
  "kernelspec": {
   "display_name": "Python 3",
   "language": "python",
   "name": "python3"
  },
  "language_info": {
   "codemirror_mode": {
    "name": "ipython",
    "version": 3
   },
   "file_extension": ".py",
   "mimetype": "text/x-python",
   "name": "python",
   "nbconvert_exporter": "python",
   "pygments_lexer": "ipython3",
   "version": "3.8.8"
  }
 },
 "nbformat": 4,
 "nbformat_minor": 5
}
