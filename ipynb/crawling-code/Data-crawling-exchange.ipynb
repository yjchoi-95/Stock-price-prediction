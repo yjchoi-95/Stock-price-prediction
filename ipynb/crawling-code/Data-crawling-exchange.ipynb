{
 "cells": [
  {
   "cell_type": "markdown",
   "id": "1b0e539c-c802-4396-a1c5-faf502a1feec",
   "metadata": {},
   "source": [
    "## Import"
   ]
  },
  {
   "cell_type": "code",
   "execution_count": 1,
   "id": "94556c6e-df9a-4c88-af24-eaf46e1aaa75",
   "metadata": {},
   "outputs": [],
   "source": [
    "from bs4 import BeautifulSoup\n",
    "from selenium import webdriver\n",
    "from selenium.common.exceptions import NoSuchElementException\n",
    "from selenium.webdriver.common.keys import Keys\n",
    "from tqdm import tqdm\n",
    "from functools import reduce\n",
    "\n",
    "import numpy as np\n",
    "import pandas as pd\n",
    "import re, time\n",
    "import requests\n",
    "import pickle\n",
    "import warnings\n",
    "\n",
    "warnings.filterwarnings(action='ignore')"
   ]
  },
  {
   "cell_type": "code",
   "execution_count": 2,
   "id": "7c4b1376-aa2e-4326-888b-31dc9406ead7",
   "metadata": {},
   "outputs": [
    {
     "data": {
      "text/plain": [
       "'C:\\\\Users\\\\PC0\\\\Documents\\\\GitHub\\\\Stock-price-prediction\\\\ipynb'"
      ]
     },
     "execution_count": 2,
     "metadata": {},
     "output_type": "execute_result"
    }
   ],
   "source": [
    "import os\n",
    "os.getcwd()"
   ]
  },
  {
   "cell_type": "code",
   "execution_count": 3,
   "id": "1cd7fd75-cc35-4f4a-bf0e-a1dbcf590b00",
   "metadata": {},
   "outputs": [],
   "source": [
    "out_data_path = 'C:\\\\Users\\\\PC0\\\\Documents\\\\datasets\\\\stock_price\\\\'\n",
    "data_path = 'C:\\\\Users\\\\PC0\\\\Documents\\\\GitHub\\\\Stock-price-prediction\\\\datasets\\\\'"
   ]
  },
  {
   "cell_type": "code",
   "execution_count": null,
   "id": "8b65d2bc-92fe-4864-9495-ef1834a64ec8",
   "metadata": {},
   "outputs": [],
   "source": []
  },
  {
   "cell_type": "markdown",
   "id": "0651d7a0-8f11-43b4-9467-9fcc234d6e7f",
   "metadata": {},
   "source": [
    "* crawling"
   ]
  },
  {
   "cell_type": "code",
   "execution_count": 4,
   "id": "34aefcca-30e6-44c0-bf58-45437d66f633",
   "metadata": {},
   "outputs": [],
   "source": [
    "options = webdriver.ChromeOptions()\n",
    "\n",
    "options.add_argument(\"--disable-blink-features=AutomationControlled\")\n",
    "options.add_argument(\"user-agent=Mozilla/5.0 (Windows NT 10.0; Win64; x64) AppleWebKit/537.36 (KHTML, like Gecko) Chrome/98.0.4758.82 Safari/537.36\")\n",
    "\n",
    "driver = webdriver.Chrome(\"C:\\\\Users\\\\PC0\\\\Desktop\\\\chromedriver.exe\", options=options)"
   ]
  },
  {
   "cell_type": "code",
   "execution_count": null,
   "id": "379acdb9-a331-4dc2-87a1-a74f795ca205",
   "metadata": {},
   "outputs": [],
   "source": []
  },
  {
   "cell_type": "markdown",
   "id": "2c8b26f8-1950-43fb-8319-6e3cad5ea919",
   "metadata": {},
   "source": [
    "* agricultural "
   ]
  },
  {
   "cell_type": "code",
   "execution_count": 5,
   "id": "5c302a63-9429-4cd9-815e-7910cbb26cbf",
   "metadata": {},
   "outputs": [],
   "source": [
    "start_day = \"2012/01/01\""
   ]
  },
  {
   "cell_type": "code",
   "execution_count": 22,
   "id": "afba9e54-6784-429f-9599-f42ca37fea30",
   "metadata": {},
   "outputs": [],
   "source": [
    "urls = ['https://kr.investing.com/currencies/streaming-forex-rates-majors',\n",
    "       'https://kr.investing.com/currencies/eur-krw',\n",
    "       'https://kr.investing.com/currencies/jpy-krw',\n",
    "       'https://kr.investing.com/currencies/usd-krw',\n",
    "       'https://kr.investing.com/currencies/gbp-krw']"
   ]
  },
  {
   "cell_type": "code",
   "execution_count": 28,
   "id": "7341237e-9ad1-4720-8011-d8e547f588e2",
   "metadata": {},
   "outputs": [],
   "source": [
    "start_idx = 0"
   ]
  },
  {
   "cell_type": "code",
   "execution_count": 29,
   "id": "c66188a4-ab65-46e3-bf6e-2fe4d6cff591",
   "metadata": {},
   "outputs": [
    {
     "name": "stderr",
     "output_type": "stream",
     "text": [
      "41it [15:09, 22.18s/it]\n",
      "0it [00:00, ?it/s]\n",
      "0it [00:00, ?it/s]\n",
      "0it [00:00, ?it/s]\n",
      "0it [00:00, ?it/s]\n"
     ]
    }
   ],
   "source": [
    "for idx_1, url in enumerate(urls):\n",
    "    driver.get(url)\n",
    "    time.sleep(3)\n",
    "    \n",
    "    temp_names = driver.find_elements_by_css_selector(\"table#cr1 tbody tr td.bold.left.noWrap.elp.plusIconTd a\")\n",
    "    names = [re.sub(\" \",\"_\",x.text) for x in temp_names]\n",
    "    urls = [x.get_attribute(\"href\") + \"-historical-data\" for x in temp_names]\n",
    "    index_names = [(x.split(\"/\")[-1]).split(\"-historical\")[0] for x in urls]\n",
    "\n",
    "    if idx_1 == 0:\n",
    "        symbol_df = pd.DataFrame({\"symbol\":index_names,\n",
    "                                 \"name\":names,\n",
    "                                 \"url\":urls})\n",
    "    else:\n",
    "        temp_df = pd.DataFrame({\"symbol\":index_names,\n",
    "                                 \"name\":names,\n",
    "                                 \"url\":urls})\n",
    "        symbol_df = symbol_df.append(temp_df)\n",
    "        \n",
    "    # inner loop\n",
    "    index_list = []\n",
    "\n",
    "    for idx, url in tqdm(enumerate(urls[start_idx:])):\n",
    "        driver.get(url)\n",
    "        time.sleep(5)\n",
    "\n",
    "        # 날짜 입력란\n",
    "        tmp_date = driver.find_element_by_css_selector(\"div#widgetFieldDateRange\")\n",
    "        tmp_date.click()\n",
    "        driver.implicitly_wait(3)\n",
    "\n",
    "        tmp_input = driver.find_element_by_css_selector(\"input#startDate\")\n",
    "        time.sleep(0.5)\n",
    "\n",
    "        # 기존 날짜 지우기\n",
    "        for _ in range(11) :\n",
    "            tmp_input.send_keys(Keys.BACKSPACE)\n",
    "            tmp_input = driver.find_element_by_css_selector(\"input#startDate\")\n",
    "            time.sleep(0.5)\n",
    "\n",
    "        tmp_input.send_keys(start_day)\n",
    "\n",
    "        # 요청 버튼\n",
    "        request_btn = driver.find_element_by_css_selector(\"a#applyBtn\")\n",
    "        request_btn.click()\n",
    "        time.sleep(5)\n",
    "\n",
    "        tables = driver.find_elements_by_css_selector(\"table#curr_table\")\n",
    "\n",
    "        values = tables[0].text.split(\"\\n\")[1:]\n",
    "\n",
    "        values = [re.sub(\"[^0-9a-zA-Z.\\\\- ]\",\"\",x) for x in values]\n",
    "\n",
    "        name = names[idx]\n",
    "\n",
    "        index_dict = {\"date\":[],\n",
    "                     \"{}_close\".format(name):[],\n",
    "                     \"{}_var\".format(name):[]}\n",
    "\n",
    "        for val in values:\n",
    "            try :\n",
    "                year, month, day, close, _, _, _, variation= val.split(\" \")\n",
    "            except ValueError:\n",
    "                year, month, day, close, _, _, _, vol, variation= val.split(\" \")\n",
    "\n",
    "            date = \"-\".join([year, month, day])\n",
    "            index_dict['date'].append(date)\n",
    "            index_dict['{}_close'.format(name)].append(close)\n",
    "            index_dict['{}_var'.format(name)].append(variation)\n",
    "\n",
    "        index_list.append(pd.DataFrame.from_dict(index_dict, orient = \"index\").T)\n",
    "        start_idx += 1\n",
    "                \n",
    "        if idx_1 == 0:\n",
    "            index_df = reduce(lambda  left,right: pd.merge(left,right,on=['date'], how='inner'), index_list)\n",
    "        else :\n",
    "            temp_df = reduce(lambda  left,right: pd.merge(left,right,on=['date'], how='inner'), index_list)\n",
    "            index_df = pd.merge(index_df, temp_df, on = \"date\", how = \"inner\")"
   ]
  },
  {
   "cell_type": "code",
   "execution_count": 39,
   "id": "9bb16f23-b4cf-41c3-906d-488c70a778a8",
   "metadata": {},
   "outputs": [],
   "source": [
    "symbol_df.to_csv(data_path + \"exchange_symbol_df.csv\", index = False)\n",
    "index_df.to_csv(data_path + \"exchange_df.csv\", index = False)"
   ]
  },
  {
   "cell_type": "code",
   "execution_count": null,
   "id": "45d8a233-c349-406b-a32c-1c4d10991ec2",
   "metadata": {},
   "outputs": [],
   "source": []
  }
 ],
 "metadata": {
  "kernelspec": {
   "display_name": "Python 3",
   "language": "python",
   "name": "python3"
  },
  "language_info": {
   "codemirror_mode": {
    "name": "ipython",
    "version": 3
   },
   "file_extension": ".py",
   "mimetype": "text/x-python",
   "name": "python",
   "nbconvert_exporter": "python",
   "pygments_lexer": "ipython3",
   "version": "3.8.8"
  }
 },
 "nbformat": 4,
 "nbformat_minor": 5
}
